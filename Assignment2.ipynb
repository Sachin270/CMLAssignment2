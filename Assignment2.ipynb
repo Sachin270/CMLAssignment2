{
  "nbformat": 4,
  "nbformat_minor": 0,
  "metadata": {
    "kernelspec": {
      "display_name": "Python 3",
      "language": "python",
      "name": "python3"
    },
    "colab": {
      "name": "Copy of Assignment2.ipynb",
      "provenance": [],
      "collapsed_sections": [],
      "include_colab_link": true
    },
    "accelerator": "GPU"
  },
  "cells": [
    {
      "cell_type": "markdown",
      "metadata": {
        "id": "view-in-github",
        "colab_type": "text"
      },
      "source": [
        "<a href=\"https://colab.research.google.com/github/Sachin270/CMLAssignment2/blob/main/Assignment2.ipynb\" target=\"_parent\"><img src=\"https://colab.research.google.com/assets/colab-badge.svg\" alt=\"Open In Colab\"/></a>"
      ]
    },
    {
      "cell_type": "markdown",
      "metadata": {
        "id": "XNZqky0x6ulk"
      },
      "source": [
        "Connecting over user google drive"
      ]
    },
    {
      "cell_type": "code",
      "metadata": {
        "id": "z1qAHC3MjyS6",
        "colab": {
          "base_uri": "https://localhost:8080/"
        },
        "outputId": "3c622a0d-3664-4b4e-c1ad-0fe17c1cc4ae"
      },
      "source": [
        "from google.colab import drive\n",
        "drive.mount('/content/drive/')"
      ],
      "execution_count": 34,
      "outputs": [
        {
          "output_type": "stream",
          "text": [
            "Drive already mounted at /content/drive/; to attempt to forcibly remount, call drive.mount(\"/content/drive/\", force_remount=True).\n"
          ],
          "name": "stdout"
        }
      ]
    },
    {
      "cell_type": "code",
      "metadata": {
        "id": "6nd7cdo3k-vl",
        "colab": {
          "base_uri": "https://localhost:8080/"
        },
        "outputId": "9d2196a6-2768-4b82-e2fa-0f75a1d80e8e"
      },
      "source": [
        "!ls /content/drive/'MyDrive'/'Colab Notebooks'/"
      ],
      "execution_count": 35,
      "outputs": [
        {
          "output_type": "stream",
          "text": [
            "'Copy of Assignment2 (1).ipynb'   Image_classification_data.zip\n",
            "'Copy of Assignment2.ipynb'\t  model_VGG_3\n",
            "'Copy of Untitled8 (1).ipynb'\t  Untitled0.ipynb\n",
            "'Copy of Untitled8.ipynb'\n"
          ],
          "name": "stdout"
        }
      ]
    },
    {
      "cell_type": "code",
      "metadata": {
        "id": "0bMKIqgLlnuO"
      },
      "source": [
        "!cp /content/drive/'MyDrive'/'Colab Notebooks'/'Image_classification_data.zip' .\n",
        "!unzip -q -o 'Image_classification_data.zip'\n",
        "!rm 'Image_classification_data.zip'\n",
        "!ls"
      ],
      "execution_count": null,
      "outputs": []
    },
    {
      "cell_type": "markdown",
      "metadata": {
        "id": "NLO4YtFC9rhM"
      },
      "source": [
        "# **Importing the required dependencies**"
      ]
    },
    {
      "cell_type": "code",
      "metadata": {
        "id": "2jT94zbI8AFj"
      },
      "source": [
        "import numpy as np\n",
        "from sklearn.model_selection import train_test_split\n",
        "import pandas as pd\n",
        "from tensorflow.keras.preprocessing.image import ImageDataGenerator\n",
        "import seaborn as sns\n",
        "from tensorflow.keras.layers import Dense\n",
        "import tensorflow as tf\n",
        "from sklearn.utils import class_weight\n",
        "import matplotlib.pyplot as plt\n",
        "from tensorflow import keras\n",
        "from sklearn.metrics import classification_report\n",
        "from sklearn.metrics import confusion_matrix, accuracy_score, f1_score\n",
        "import matplotlib.patches as mpatches"
      ],
      "execution_count": 37,
      "outputs": []
    },
    {
      "cell_type": "markdown",
      "metadata": {
        "id": "_64-tpPX9zxQ"
      },
      "source": [
        "# **Importing Data**"
      ]
    },
    {
      "cell_type": "code",
      "metadata": {
        "colab": {
          "base_uri": "https://localhost:8080/"
        },
        "id": "G9jD8i0R8EdU",
        "outputId": "e10cf306-6545-4c2b-b0a9-25c67f8b6f48"
      },
      "source": [
        "data = pd.read_csv('./data_labels_mainData.csv')\n",
        "OUTPUT_CLASSES = 4\n",
        "data.columns"
      ],
      "execution_count": 38,
      "outputs": [
        {
          "output_type": "execute_result",
          "data": {
            "text/plain": [
              "Index(['InstanceID', 'patientID', 'ImageName', 'cellTypeName', 'cellType',\n",
              "       'isCancerous'],\n",
              "      dtype='object')"
            ]
          },
          "metadata": {
            "tags": []
          },
          "execution_count": 38
        }
      ]
    },
    {
      "cell_type": "markdown",
      "metadata": {
        "id": "XygRzTaD96pq"
      },
      "source": [
        "# **Exploratory Data Analysis**"
      ]
    },
    {
      "cell_type": "code",
      "metadata": {
        "colab": {
          "base_uri": "https://localhost:8080/",
          "height": 204
        },
        "id": "a8lGZ9ey8haF",
        "outputId": "a0706652-970c-46f7-b74c-cf52545be0f3"
      },
      "source": [
        "data.groupby('cellTypeName').agg('count')"
      ],
      "execution_count": 39,
      "outputs": [
        {
          "output_type": "execute_result",
          "data": {
            "text/html": [
              "<div>\n",
              "<style scoped>\n",
              "    .dataframe tbody tr th:only-of-type {\n",
              "        vertical-align: middle;\n",
              "    }\n",
              "\n",
              "    .dataframe tbody tr th {\n",
              "        vertical-align: top;\n",
              "    }\n",
              "\n",
              "    .dataframe thead th {\n",
              "        text-align: right;\n",
              "    }\n",
              "</style>\n",
              "<table border=\"1\" class=\"dataframe\">\n",
              "  <thead>\n",
              "    <tr style=\"text-align: right;\">\n",
              "      <th></th>\n",
              "      <th>InstanceID</th>\n",
              "      <th>patientID</th>\n",
              "      <th>ImageName</th>\n",
              "      <th>cellType</th>\n",
              "      <th>isCancerous</th>\n",
              "    </tr>\n",
              "    <tr>\n",
              "      <th>cellTypeName</th>\n",
              "      <th></th>\n",
              "      <th></th>\n",
              "      <th></th>\n",
              "      <th></th>\n",
              "      <th></th>\n",
              "    </tr>\n",
              "  </thead>\n",
              "  <tbody>\n",
              "    <tr>\n",
              "      <th>epithelial</th>\n",
              "      <td>4079</td>\n",
              "      <td>4079</td>\n",
              "      <td>4079</td>\n",
              "      <td>4079</td>\n",
              "      <td>4079</td>\n",
              "    </tr>\n",
              "    <tr>\n",
              "      <th>fibroblast</th>\n",
              "      <td>1888</td>\n",
              "      <td>1888</td>\n",
              "      <td>1888</td>\n",
              "      <td>1888</td>\n",
              "      <td>1888</td>\n",
              "    </tr>\n",
              "    <tr>\n",
              "      <th>inflammatory</th>\n",
              "      <td>2543</td>\n",
              "      <td>2543</td>\n",
              "      <td>2543</td>\n",
              "      <td>2543</td>\n",
              "      <td>2543</td>\n",
              "    </tr>\n",
              "    <tr>\n",
              "      <th>others</th>\n",
              "      <td>1386</td>\n",
              "      <td>1386</td>\n",
              "      <td>1386</td>\n",
              "      <td>1386</td>\n",
              "      <td>1386</td>\n",
              "    </tr>\n",
              "  </tbody>\n",
              "</table>\n",
              "</div>"
            ],
            "text/plain": [
              "              InstanceID  patientID  ImageName  cellType  isCancerous\n",
              "cellTypeName                                                         \n",
              "epithelial          4079       4079       4079      4079         4079\n",
              "fibroblast          1888       1888       1888      1888         1888\n",
              "inflammatory        2543       2543       2543      2543         2543\n",
              "others              1386       1386       1386      1386         1386"
            ]
          },
          "metadata": {
            "tags": []
          },
          "execution_count": 39
        }
      ]
    },
    {
      "cell_type": "code",
      "metadata": {
        "colab": {
          "base_uri": "https://localhost:8080/",
          "height": 295
        },
        "id": "vOdXFD1V-Pdh",
        "outputId": "031fffea-d637-4367-eaf3-b16dbcfe9b38"
      },
      "source": [
        "sns.barplot(x=data.groupby('cellTypeName').agg('count').index, \n",
        "            y='cellType',\n",
        "            data=data.groupby('cellTypeName').agg('count'))\n",
        "plt.title(\"Number of observations for each class\")\n",
        "plt.xlabel(\"Cell Type Name\")\n",
        "plt.ylabel(\"Frequency\")\n",
        "plt.show()"
      ],
      "execution_count": 40,
      "outputs": [
        {
          "output_type": "display_data",
          "data": {
            "image/png": "[encoded data removed]",
            "text/plain": [
              "<Figure size 432x288 with 1 Axes>"
            ]
          },
          "metadata": {
            "tags": [],
            "needs_background": "light"
          }
        }
      ]
    },
    {
      "cell_type": "code",
      "metadata": {
        "colab": {
          "base_uri": "https://localhost:8080/",
          "height": 142
        },
        "id": "lAaRLxjf-PaV",
        "outputId": "d0d44726-da5a-4a66-defe-a0e086c71845"
      },
      "source": [
        "data.groupby('isCancerous').agg('count')"
      ],
      "execution_count": 41,
      "outputs": [
        {
          "output_type": "execute_result",
          "data": {
            "text/html": [
              "<div>\n",
              "<style scoped>\n",
              "    .dataframe tbody tr th:only-of-type {\n",
              "        vertical-align: middle;\n",
              "    }\n",
              "\n",
              "    .dataframe tbody tr th {\n",
              "        vertical-align: top;\n",
              "    }\n",
              "\n",
              "    .dataframe thead th {\n",
              "        text-align: right;\n",
              "    }\n",
              "</style>\n",
              "<table border=\"1\" class=\"dataframe\">\n",
              "  <thead>\n",
              "    <tr style=\"text-align: right;\">\n",
              "      <th></th>\n",
              "      <th>InstanceID</th>\n",
              "      <th>patientID</th>\n",
              "      <th>ImageName</th>\n",
              "      <th>cellTypeName</th>\n",
              "      <th>cellType</th>\n",
              "    </tr>\n",
              "    <tr>\n",
              "      <th>isCancerous</th>\n",
              "      <th></th>\n",
              "      <th></th>\n",
              "      <th></th>\n",
              "      <th></th>\n",
              "      <th></th>\n",
              "    </tr>\n",
              "  </thead>\n",
              "  <tbody>\n",
              "    <tr>\n",
              "      <th>0</th>\n",
              "      <td>5817</td>\n",
              "      <td>5817</td>\n",
              "      <td>5817</td>\n",
              "      <td>5817</td>\n",
              "      <td>5817</td>\n",
              "    </tr>\n",
              "    <tr>\n",
              "      <th>1</th>\n",
              "      <td>4079</td>\n",
              "      <td>4079</td>\n",
              "      <td>4079</td>\n",
              "      <td>4079</td>\n",
              "      <td>4079</td>\n",
              "    </tr>\n",
              "  </tbody>\n",
              "</table>\n",
              "</div>"
            ],
            "text/plain": [
              "             InstanceID  patientID  ImageName  cellTypeName  cellType\n",
              "isCancerous                                                          \n",
              "0                  5817       5817       5817          5817      5817\n",
              "1                  4079       4079       4079          4079      4079"
            ]
          },
          "metadata": {
            "tags": []
          },
          "execution_count": 41
        }
      ]
    },
    {
      "cell_type": "code",
      "metadata": {
        "colab": {
          "base_uri": "https://localhost:8080/",
          "height": 204
        },
        "id": "btxrc-2R-PTV",
        "outputId": "f351fca0-46c9-48a3-eee7-5b36c54e1833"
      },
      "source": [
        "data.groupby(['cellTypeName', 'isCancerous']).agg('count')"
      ],
      "execution_count": 42,
      "outputs": [
        {
          "output_type": "execute_result",
          "data": {
            "text/html": [
              "<div>\n",
              "<style scoped>\n",
              "    .dataframe tbody tr th:only-of-type {\n",
              "        vertical-align: middle;\n",
              "    }\n",
              "\n",
              "    .dataframe tbody tr th {\n",
              "        vertical-align: top;\n",
              "    }\n",
              "\n",
              "    .dataframe thead th {\n",
              "        text-align: right;\n",
              "    }\n",
              "</style>\n",
              "<table border=\"1\" class=\"dataframe\">\n",
              "  <thead>\n",
              "    <tr style=\"text-align: right;\">\n",
              "      <th></th>\n",
              "      <th></th>\n",
              "      <th>InstanceID</th>\n",
              "      <th>patientID</th>\n",
              "      <th>ImageName</th>\n",
              "      <th>cellType</th>\n",
              "    </tr>\n",
              "    <tr>\n",
              "      <th>cellTypeName</th>\n",
              "      <th>isCancerous</th>\n",
              "      <th></th>\n",
              "      <th></th>\n",
              "      <th></th>\n",
              "      <th></th>\n",
              "    </tr>\n",
              "  </thead>\n",
              "  <tbody>\n",
              "    <tr>\n",
              "      <th>epithelial</th>\n",
              "      <th>1</th>\n",
              "      <td>4079</td>\n",
              "      <td>4079</td>\n",
              "      <td>4079</td>\n",
              "      <td>4079</td>\n",
              "    </tr>\n",
              "    <tr>\n",
              "      <th>fibroblast</th>\n",
              "      <th>0</th>\n",
              "      <td>1888</td>\n",
              "      <td>1888</td>\n",
              "      <td>1888</td>\n",
              "      <td>1888</td>\n",
              "    </tr>\n",
              "    <tr>\n",
              "      <th>inflammatory</th>\n",
              "      <th>0</th>\n",
              "      <td>2543</td>\n",
              "      <td>2543</td>\n",
              "      <td>2543</td>\n",
              "      <td>2543</td>\n",
              "    </tr>\n",
              "    <tr>\n",
              "      <th>others</th>\n",
              "      <th>0</th>\n",
              "      <td>1386</td>\n",
              "      <td>1386</td>\n",
              "      <td>1386</td>\n",
              "      <td>1386</td>\n",
              "    </tr>\n",
              "  </tbody>\n",
              "</table>\n",
              "</div>"
            ],
            "text/plain": [
              "                          InstanceID  patientID  ImageName  cellType\n",
              "cellTypeName isCancerous                                            \n",
              "epithelial   1                  4079       4079       4079      4079\n",
              "fibroblast   0                  1888       1888       1888      1888\n",
              "inflammatory 0                  2543       2543       2543      2543\n",
              "others       0                  1386       1386       1386      1386"
            ]
          },
          "metadata": {
            "tags": []
          },
          "execution_count": 42
        }
      ]
    },
    {
      "cell_type": "code",
      "metadata": {
        "colab": {
          "base_uri": "https://localhost:8080/",
          "height": 264
        },
        "id": "InvRylbg-PQJ",
        "outputId": "f2dc255c-4b7b-416b-e1f7-73f43c919a9c"
      },
      "source": [
        "data.groupby('cellTypeName').agg('count').cellType.plot.pie(autopct=\"%.1f%%\")\n",
        "plt.title(\"Percentage of each class in the dataset\")\n",
        "plt.ylabel(\"\")\n",
        "plt.show()"
      ],
      "execution_count": 43,
      "outputs": [
        {
          "output_type": "display_data",
          "data": {
            "image/png": "[encoded data removed]",
            "text/plain": [
              "<Figure size 432x288 with 1 Axes>"
            ]
          },
          "metadata": {
            "tags": []
          }
        }
      ]
    },
    {
      "cell_type": "code",
      "metadata": {
        "colab": {
          "base_uri": "https://localhost:8080/"
        },
        "id": "RR_UOYjt-Ork",
        "outputId": "ca842065-5ab8-4e9c-b5ec-94e651649121"
      },
      "source": [
        "extraData = pd.read_csv('data_labels_extraData.csv')\n",
        "extraData.columns"
      ],
      "execution_count": 44,
      "outputs": [
        {
          "output_type": "execute_result",
          "data": {
            "text/plain": [
              "Index(['InstanceID', 'patientID', 'ImageName', 'isCancerous'], dtype='object')"
            ]
          },
          "metadata": {
            "tags": []
          },
          "execution_count": 44
        }
      ]
    },
    {
      "cell_type": "code",
      "metadata": {
        "id": "IwROVETCD4Ke"
      },
      "source": [
        "mergedData = pd.concat([data[[\"InstanceID\", \"patientID\", \"ImageName\", \"isCancerous\"]], extraData])"
      ],
      "execution_count": 45,
      "outputs": []
    },
    {
      "cell_type": "code",
      "metadata": {
        "colab": {
          "base_uri": "https://localhost:8080/",
          "height": 142
        },
        "id": "3jVuoMkSaozQ",
        "outputId": "eb53b974-a3ca-41a0-e16d-2f31931aea70"
      },
      "source": [
        "mergedData.groupby('isCancerous').agg('count')"
      ],
      "execution_count": 46,
      "outputs": [
        {
          "output_type": "execute_result",
          "data": {
            "text/html": [
              "<div>\n",
              "<style scoped>\n",
              "    .dataframe tbody tr th:only-of-type {\n",
              "        vertical-align: middle;\n",
              "    }\n",
              "\n",
              "    .dataframe tbody tr th {\n",
              "        vertical-align: top;\n",
              "    }\n",
              "\n",
              "    .dataframe thead th {\n",
              "        text-align: right;\n",
              "    }\n",
              "</style>\n",
              "<table border=\"1\" class=\"dataframe\">\n",
              "  <thead>\n",
              "    <tr style=\"text-align: right;\">\n",
              "      <th></th>\n",
              "      <th>InstanceID</th>\n",
              "      <th>patientID</th>\n",
              "      <th>ImageName</th>\n",
              "    </tr>\n",
              "    <tr>\n",
              "      <th>isCancerous</th>\n",
              "      <th></th>\n",
              "      <th></th>\n",
              "      <th></th>\n",
              "    </tr>\n",
              "  </thead>\n",
              "  <tbody>\n",
              "    <tr>\n",
              "      <th>0</th>\n",
              "      <td>13211</td>\n",
              "      <td>13211</td>\n",
              "      <td>13211</td>\n",
              "    </tr>\n",
              "    <tr>\n",
              "      <th>1</th>\n",
              "      <td>7069</td>\n",
              "      <td>7069</td>\n",
              "      <td>7069</td>\n",
              "    </tr>\n",
              "  </tbody>\n",
              "</table>\n",
              "</div>"
            ],
            "text/plain": [
              "             InstanceID  patientID  ImageName\n",
              "isCancerous                                  \n",
              "0                 13211      13211      13211\n",
              "1                  7069       7069       7069"
            ]
          },
          "metadata": {
            "tags": []
          },
          "execution_count": 46
        }
      ]
    },
    {
      "cell_type": "code",
      "metadata": {
        "colab": {
          "base_uri": "https://localhost:8080/",
          "height": 295
        },
        "id": "jwlrWYmlao3D",
        "outputId": "dd68bfc1-dede-4408-9040-73c83d77c116"
      },
      "source": [
        "sns.barplot(x=mergedData.groupby('isCancerous').agg('count').index, \n",
        "            y='ImageName', \n",
        "            data=mergedData.groupby('isCancerous').agg('count'))\n",
        "plt.title(\"Number of observations for each class for cancer\")\n",
        "plt.xlabel(\"Is the cell is cancerous?\")\n",
        "plt.ylabel(\"Frequency\")\n",
        "red_patch = mpatches.Patch(color='#3274a1', label='Not cancerous')\n",
        "blue_patch = mpatches.Patch(color='#e1812c', label='is cancerous')\n",
        "plt.legend(handles=[red_patch, blue_patch])\n",
        "plt.show()"
      ],
      "execution_count": 47,
      "outputs": [
        {
          "output_type": "display_data",
          "data": {
            "image/png": "[encoded data removed]",
            "text/plain": [
              "<Figure size 432x288 with 1 Axes>"
            ]
          },
          "metadata": {
            "tags": [],
            "needs_background": "light"
          }
        }
      ]
    },
    {
      "cell_type": "code",
      "metadata": {
        "colab": {
          "base_uri": "https://localhost:8080/",
          "height": 264
        },
        "id": "Sgo0vKwFavkK",
        "outputId": "356b271c-80a3-4c14-abfb-f099570fc5ee"
      },
      "source": [
        "mergedData.groupby('isCancerous').agg('count').ImageName.plot.pie(autopct=\"%.1f%%\")\n",
        "plt.title(\"Percentage of each class for cancerous in the dataset\")\n",
        "red_patch = mpatches.Patch(color='#3274a1', label='Not cancerous')\n",
        "blue_patch = mpatches.Patch(color='#e1812c', label='is cancerous')\n",
        "plt.legend(handles=[red_patch, blue_patch])\n",
        "plt.ylabel(\"\")\n",
        "plt.show()"
      ],
      "execution_count": 48,
      "outputs": [
        {
          "output_type": "display_data",
          "data": {
            "image/png": "[encoded data removed]",
            "text/plain": [
              "<Figure size 432x288 with 1 Axes>"
            ]
          },
          "metadata": {
            "tags": []
          }
        }
      ]
    },
    {
      "cell_type": "markdown",
      "metadata": {
        "id": "gxaqT7-9-ERZ"
      },
      "source": [
        "# **Train Test Split**\n",
        "* Classification model to predict wether cell is cancerous or not.\n",
        "\n",
        "* As we have two classes i.e 1 and 0, so `OUTPUT_CLASSES` is set to `2`.\n",
        "\n",
        "* Main data was merged with extra data to help make the model to predict Cancerous cells and to use transfer learning to predict cellType which is discussed later. \n",
        "\n",
        "* On the merged data, Train test split was performed for training the model 80% (12168 observations) data was used and 20% (4056 observations) data was kept for testing and 25% (4056 observations) for validation in predicting Cancerous cells. \n",
        "\n",
        "* Similar splitting was used for the model to predict `CellType`. "
      ]
    },
    {
      "cell_type": "code",
      "metadata": {
        "id": "9hZlKcaMFnfg",
        "colab": {
          "base_uri": "https://localhost:8080/"
        },
        "outputId": "2fc3e3b1-703e-4c93-d97d-fe2b741abe19"
      },
      "source": [
        "OUTPUT_CLASSES = 2\n",
        "\n",
        "train_data, test_data = train_test_split(mergedData, test_size=0.2, random_state=42)\n",
        "train_data, val_data = train_test_split(train_data, test_size=0.25, random_state=42)\n",
        "\n",
        "print(\"Train data : {}, Val Data: {}, Test Data: {}\".format(train_data.shape[0], val_data.shape[0], test_data.shape[0]))\n",
        "\n",
        "train_data['Class'] = train_data['isCancerous'].astype('str')\n",
        "val_data['Class'] = val_data['isCancerous'].astype('str')"
      ],
      "execution_count": 49,
      "outputs": [
        {
          "output_type": "stream",
          "text": [
            "Train data : 12168, Val Data: 4056, Test Data: 4056\n"
          ],
          "name": "stdout"
        }
      ]
    },
    {
      "cell_type": "markdown",
      "metadata": {
        "id": "3qQ6V68ZNgYg"
      },
      "source": [
        "# **Data Preprocessing**\n",
        "\n",
        "* Data augmentation was performed to increase the model’s accuracy because we do not have enough data for Neural Networks. \n",
        "\n",
        "* We have augmented the data by:\n",
        "\n",
        "  1.   Rescaling the image which multiplies every pixel in the preprocessing image.\n",
        "  2.   Setting the data format to channels_last mode which means that the images should have shape (samples, channels, height, width).\n",
        "  3. Rotation range to 15 that randomly rotate the image to train NN to identify the class even if the image is rotated to different angles.\n",
        "  4. Width shift range to 0.2 which shifts the image to left or right.\n",
        "  5. Height shift range to 0.2 which shifts the image vertically up or down.\n",
        "  6. brightness range to 0.5 - 1.5 which shifts the brightness of the image on the given scale.\n",
        "\n"
      ]
    },
    {
      "cell_type": "code",
      "metadata": {
        "id": "bz0rL4fVFnjI",
        "colab": {
          "base_uri": "https://localhost:8080/"
        },
        "outputId": "9d614ab2-13e6-4bb2-e48c-d0f5674a025a"
      },
      "source": [
        "train_datagen = ImageDataGenerator(rescale=1./255, data_format='channels_last',\n",
        "                                   rotation_range=15, width_shift_range=0.2,\n",
        "                                   height_shift_range=0.2, brightness_range=[0.5,1.5])\n",
        "val_datagen = ImageDataGenerator(rescale=1./255, data_format='channels_last')\n",
        "\n",
        "batch_size = 27\n",
        "\n",
        "train_generator = train_datagen.flow_from_dataframe(\n",
        "        dataframe=train_data,\n",
        "        directory='./patch_images',\n",
        "        x_col=\"ImageName\",\n",
        "        y_col=\"Class\",\n",
        "        target_size=(27, 27),\n",
        "        batch_size=batch_size,\n",
        "        class_mode='categorical')\n",
        "\n",
        "validation_generator = val_datagen.flow_from_dataframe(\n",
        "        dataframe=val_data,\n",
        "        directory='./patch_images',\n",
        "        x_col=\"ImageName\",\n",
        "        y_col=\"Class\",\n",
        "        target_size=(27, 27),\n",
        "        batch_size=batch_size,\n",
        "        class_mode='categorical')\n",
        "\n",
        "test_data['Class'] = test_data['isCancerous'].astype('str')\n",
        "\n",
        "test_datagen = ImageDataGenerator(rescale=1./255, data_format='channels_last')\n",
        "\n",
        "batch_size = 1\n",
        "\n",
        "test_generator = test_datagen.flow_from_dataframe(\n",
        "        dataframe=test_data,\n",
        "        directory='./patch_images',\n",
        "        x_col=\"ImageName\",\n",
        "        y_col=\"Class\",\n",
        "        target_size=(27, 27),\n",
        "        batch_size=batch_size,\n",
        "        class_mode='sparse')"
      ],
      "execution_count": 50,
      "outputs": [
        {
          "output_type": "stream",
          "text": [
            "Found 12168 validated image filenames belonging to 2 classes.\n",
            "Found 4056 validated image filenames belonging to 2 classes.\n",
            "Found 4056 validated image filenames belonging to 2 classes.\n"
          ],
          "name": "stdout"
        },
        {
          "output_type": "stream",
          "text": [
            "/usr/local/lib/python3.7/dist-packages/ipykernel_launcher.py:26: SettingWithCopyWarning: \n",
            "A value is trying to be set on a copy of a slice from a DataFrame.\n",
            "Try using .loc[row_indexer,col_indexer] = value instead\n",
            "\n",
            "See the caveats in the documentation: https://pandas.pydata.org/pandas-docs/stable/user_guide/indexing.html#returning-a-view-versus-a-copy\n"
          ],
          "name": "stderr"
        }
      ]
    },
    {
      "cell_type": "markdown",
      "metadata": {
        "id": "b3VhfkaWOnQD"
      },
      "source": [
        "# **Data Modelling**\n",
        "\n",
        "* Lamda is tested with value of 0.0001 regularization.\n",
        "* Built neural network using keras sequential.\n",
        "* Activation function is set to `relu`.\n",
        "* As the dataset have images in 27x27 RGB grid matrix so the `input_shape` is set to 27, 27, 3.\n",
        "* We have created neural network with one hidden layer, one input layer and one output layer.\n",
        "* The output layer activation function is set to `softmax`.\n",
        "* Neurons of hidden layer is set to 54.\n",
        "* Dropout rate is set to 0.2 that helps during back propogation."
      ]
    },
    {
      "cell_type": "code",
      "metadata": {
        "id": "mfNxeHBdFnnM"
      },
      "source": [
        "reg_lambda = 0.0001\n",
        "modelCancerous = tf.keras.Sequential([\n",
        "    #VGG block 1\n",
        "    tf.keras.layers.Conv2D(27, (3, 3), activation='relu', padding='same', \n",
        "                           kernel_regularizer=tf.keras.regularizers.l2(reg_lambda), input_shape=(27, 27, 3)),\n",
        "    tf.keras.layers.Conv2D(27, (3, 3), activation='relu', padding='same', \n",
        "                           kernel_regularizer=tf.keras.regularizers.l2(reg_lambda)),\n",
        "    tf.keras.layers.MaxPooling2D((2, 2)),\n",
        "    \n",
        "    #VGG block 2\n",
        "    tf.keras.layers.Conv2D(54, (3, 3), activation='relu', padding='same', \n",
        "                           kernel_regularizer=tf.keras.regularizers.l2(reg_lambda)),\n",
        "    tf.keras.layers.Conv2D(54, (3, 3), activation='relu', padding='same', \n",
        "                           kernel_regularizer=tf.keras.regularizers.l2(reg_lambda)),\n",
        "    tf.keras.layers.MaxPooling2D((2, 2)),\n",
        "    \n",
        "    #VGG block 3\n",
        "    tf.keras.layers.Conv2D(108, (3, 3), activation='relu', padding='same', \n",
        "                           kernel_regularizer=tf.keras.regularizers.l2(reg_lambda)),\n",
        "    tf.keras.layers.Conv2D(108, (3, 3), activation='relu', padding='same', \n",
        "                           kernel_regularizer=tf.keras.regularizers.l2(reg_lambda)),\n",
        "    tf.keras.layers.MaxPooling2D((2, 2)),\n",
        "    \n",
        "    tf.keras.layers.Flatten(),\n",
        "    tf.keras.layers.Dense(54, activation='relu'),\n",
        "    tf.keras.layers.Dropout(.2),\n",
        "    tf.keras.layers.Dense(OUTPUT_CLASSES,activation='softmax'),\n",
        "])"
      ],
      "execution_count": 51,
      "outputs": []
    },
    {
      "cell_type": "code",
      "metadata": {
        "id": "PCOddIG2P-H1"
      },
      "source": [
        "def plot_learning_curve(train_loss, val_loss, train_metric, val_metric, metric_name='Accuracy'):\n",
        "    plt.figure(figsize=(10,5))\n",
        "    \n",
        "    plt.subplot(1,2,1)\n",
        "    plt.plot(train_loss, 'r--')\n",
        "    plt.plot(val_loss, 'b--')\n",
        "    plt.xlabel(\"epochs\")\n",
        "    plt.ylabel(\"Loss\")\n",
        "    plt.legend(['train', 'val'], loc='upper left')\n",
        "    plt.ylim([0, 1])\n",
        "    plt.subplot(1,2,2)\n",
        "    plt.plot(train_metric, 'r--')\n",
        "    plt.plot(val_metric, 'b--')\n",
        "    plt.xlabel(\"epochs\")                                                  \n",
        "    plt.ylabel(metric_name)\n",
        "    plt.legend(['train', 'val'], loc='upper left')\n",
        "    plt.ylim([0, 1])\n",
        "    plt.show()"
      ],
      "execution_count": 52,
      "outputs": []
    },
    {
      "cell_type": "markdown",
      "metadata": {
        "id": "4A6YCAFERQaY"
      },
      "source": [
        "Early stopping is defined to save computation power if the model stop learning after several epochs so it will wait for 20 epochs to see if the model performance imporoved or not."
      ]
    },
    {
      "cell_type": "code",
      "metadata": {
        "id": "KkZfoX0suj4x"
      },
      "source": [
        "early_stopping = tf.keras.callbacks.EarlyStopping(\n",
        " monitor='val_categorical_accuracy', \n",
        " verbose=1,\n",
        " patience=20,\n",
        " mode='max',\n",
        " restore_best_weights=True)"
      ],
      "execution_count": 53,
      "outputs": []
    },
    {
      "cell_type": "markdown",
      "metadata": {
        "id": "QFhQawOWRzaS"
      },
      "source": [
        "`Adam` is used as an optimizer."
      ]
    },
    {
      "cell_type": "code",
      "metadata": {
        "id": "ytSUWFEIJCQj"
      },
      "source": [
        "modelCancerous.compile(tf.keras.optimizers.Adam(learning_rate=0.0001,name=\"Adam\"),\n",
        "              loss=tf.keras.losses.CategoricalCrossentropy(from_logits=False),\n",
        "              metrics=['categorical_accuracy'])"
      ],
      "execution_count": 54,
      "outputs": []
    },
    {
      "cell_type": "markdown",
      "metadata": {
        "id": "577uga_7R7vD"
      },
      "source": [
        "Model is fitted to the data and epochs is set to 50, based on the observation that gernerally for our problem statment model stoped improving after 50 epochs."
      ]
    },
    {
      "cell_type": "code",
      "metadata": {
        "id": "6EnYCWycJCS7",
        "colab": {
          "base_uri": "https://localhost:8080/"
        },
        "outputId": "b6ff5de9-1f36-4360-b26b-8315acca3621"
      },
      "source": [
        "historyCancerous = modelCancerous.fit(train_generator, validation_data = validation_generator,callbacks= [early_stopping], epochs=50)"
      ],
      "execution_count": 55,
      "outputs": [
        {
          "output_type": "stream",
          "text": [
            "Epoch 1/50\n",
            "451/451 [==============================] - 48s 40ms/step - loss: 0.5351 - categorical_accuracy: 0.7551 - val_loss: 0.4356 - val_categorical_accuracy: 0.8003\n",
            "Epoch 2/50\n",
            "451/451 [==============================] - 17s 39ms/step - loss: 0.4518 - categorical_accuracy: 0.8047 - val_loss: 0.4283 - val_categorical_accuracy: 0.8274\n",
            "Epoch 3/50\n",
            "451/451 [==============================] - 17s 38ms/step - loss: 0.4135 - categorical_accuracy: 0.8244 - val_loss: 0.3702 - val_categorical_accuracy: 0.8425\n",
            "Epoch 4/50\n",
            "451/451 [==============================] - 17s 39ms/step - loss: 0.4003 - categorical_accuracy: 0.8347 - val_loss: 0.3848 - val_categorical_accuracy: 0.8503\n",
            "Epoch 5/50\n",
            "451/451 [==============================] - 17s 38ms/step - loss: 0.3823 - categorical_accuracy: 0.8409 - val_loss: 0.3497 - val_categorical_accuracy: 0.8602\n",
            "Epoch 6/50\n",
            "451/451 [==============================] - 17s 38ms/step - loss: 0.3824 - categorical_accuracy: 0.8448 - val_loss: 0.3671 - val_categorical_accuracy: 0.8503\n",
            "Epoch 7/50\n",
            "451/451 [==============================] - 17s 37ms/step - loss: 0.3691 - categorical_accuracy: 0.8533 - val_loss: 0.3494 - val_categorical_accuracy: 0.8550\n",
            "Epoch 8/50\n",
            "451/451 [==============================] - 17s 37ms/step - loss: 0.3696 - categorical_accuracy: 0.8505 - val_loss: 0.3370 - val_categorical_accuracy: 0.8669\n",
            "Epoch 9/50\n",
            "451/451 [==============================] - 17s 37ms/step - loss: 0.3503 - categorical_accuracy: 0.8623 - val_loss: 0.3390 - val_categorical_accuracy: 0.8595\n",
            "Epoch 10/50\n",
            "451/451 [==============================] - 17s 38ms/step - loss: 0.3445 - categorical_accuracy: 0.8613 - val_loss: 0.3368 - val_categorical_accuracy: 0.8629\n",
            "Epoch 11/50\n",
            "451/451 [==============================] - 16s 36ms/step - loss: 0.3402 - categorical_accuracy: 0.8643 - val_loss: 0.3418 - val_categorical_accuracy: 0.8624\n",
            "Epoch 12/50\n",
            "451/451 [==============================] - 17s 37ms/step - loss: 0.3338 - categorical_accuracy: 0.8681 - val_loss: 0.3994 - val_categorical_accuracy: 0.8220\n",
            "Epoch 13/50\n",
            "451/451 [==============================] - 17s 38ms/step - loss: 0.3330 - categorical_accuracy: 0.8712 - val_loss: 0.3371 - val_categorical_accuracy: 0.8644\n",
            "Epoch 14/50\n",
            "451/451 [==============================] - 17s 37ms/step - loss: 0.3237 - categorical_accuracy: 0.8719 - val_loss: 0.3418 - val_categorical_accuracy: 0.8644\n",
            "Epoch 15/50\n",
            "451/451 [==============================] - 18s 39ms/step - loss: 0.3209 - categorical_accuracy: 0.8744 - val_loss: 0.3379 - val_categorical_accuracy: 0.8632\n",
            "Epoch 16/50\n",
            "451/451 [==============================] - 17s 39ms/step - loss: 0.3204 - categorical_accuracy: 0.8738 - val_loss: 0.3482 - val_categorical_accuracy: 0.8545\n",
            "Epoch 17/50\n",
            "451/451 [==============================] - 17s 39ms/step - loss: 0.3170 - categorical_accuracy: 0.8769 - val_loss: 0.3331 - val_categorical_accuracy: 0.8683\n",
            "Epoch 18/50\n",
            "451/451 [==============================] - 18s 39ms/step - loss: 0.3124 - categorical_accuracy: 0.8800 - val_loss: 0.3541 - val_categorical_accuracy: 0.8592\n",
            "Epoch 19/50\n",
            "451/451 [==============================] - 18s 39ms/step - loss: 0.3024 - categorical_accuracy: 0.8858 - val_loss: 0.3395 - val_categorical_accuracy: 0.8671\n",
            "Epoch 20/50\n",
            "451/451 [==============================] - 16s 36ms/step - loss: 0.3063 - categorical_accuracy: 0.8817 - val_loss: 0.3627 - val_categorical_accuracy: 0.8513\n",
            "Epoch 21/50\n",
            "451/451 [==============================] - 17s 37ms/step - loss: 0.3035 - categorical_accuracy: 0.8823 - val_loss: 0.3408 - val_categorical_accuracy: 0.8629\n",
            "Epoch 22/50\n",
            "451/451 [==============================] - 16s 36ms/step - loss: 0.2913 - categorical_accuracy: 0.8901 - val_loss: 0.3142 - val_categorical_accuracy: 0.8740\n",
            "Epoch 23/50\n",
            "451/451 [==============================] - 16s 36ms/step - loss: 0.2953 - categorical_accuracy: 0.8878 - val_loss: 0.3175 - val_categorical_accuracy: 0.8752\n",
            "Epoch 24/50\n",
            "451/451 [==============================] - 16s 36ms/step - loss: 0.2874 - categorical_accuracy: 0.8903 - val_loss: 0.3771 - val_categorical_accuracy: 0.8410\n",
            "Epoch 25/50\n",
            "451/451 [==============================] - 17s 37ms/step - loss: 0.2918 - categorical_accuracy: 0.8883 - val_loss: 0.3311 - val_categorical_accuracy: 0.8649\n",
            "Epoch 26/50\n",
            "451/451 [==============================] - 16s 36ms/step - loss: 0.2891 - categorical_accuracy: 0.8872 - val_loss: 0.3138 - val_categorical_accuracy: 0.8738\n",
            "Epoch 27/50\n",
            "451/451 [==============================] - 17s 37ms/step - loss: 0.2812 - categorical_accuracy: 0.8930 - val_loss: 0.3025 - val_categorical_accuracy: 0.8792\n",
            "Epoch 28/50\n",
            "451/451 [==============================] - 17s 37ms/step - loss: 0.2843 - categorical_accuracy: 0.8933 - val_loss: 0.3031 - val_categorical_accuracy: 0.8799\n",
            "Epoch 29/50\n",
            "451/451 [==============================] - 16s 36ms/step - loss: 0.2813 - categorical_accuracy: 0.8957 - val_loss: 0.2949 - val_categorical_accuracy: 0.8802\n",
            "Epoch 30/50\n",
            "451/451 [==============================] - 16s 36ms/step - loss: 0.2834 - categorical_accuracy: 0.8929 - val_loss: 0.3179 - val_categorical_accuracy: 0.8715\n",
            "Epoch 31/50\n",
            "451/451 [==============================] - 16s 36ms/step - loss: 0.2736 - categorical_accuracy: 0.8980 - val_loss: 0.3584 - val_categorical_accuracy: 0.8503\n",
            "Epoch 32/50\n",
            "451/451 [==============================] - 17s 37ms/step - loss: 0.2719 - categorical_accuracy: 0.8982 - val_loss: 0.3276 - val_categorical_accuracy: 0.8639\n",
            "Epoch 33/50\n",
            "451/451 [==============================] - 17s 37ms/step - loss: 0.2753 - categorical_accuracy: 0.8960 - val_loss: 0.3097 - val_categorical_accuracy: 0.8743\n",
            "Epoch 34/50\n",
            "451/451 [==============================] - 16s 37ms/step - loss: 0.2640 - categorical_accuracy: 0.9011 - val_loss: 0.2884 - val_categorical_accuracy: 0.8841\n",
            "Epoch 35/50\n",
            "451/451 [==============================] - 16s 36ms/step - loss: 0.2646 - categorical_accuracy: 0.9027 - val_loss: 0.3271 - val_categorical_accuracy: 0.8683\n",
            "Epoch 36/50\n",
            "451/451 [==============================] - 17s 37ms/step - loss: 0.2708 - categorical_accuracy: 0.8973 - val_loss: 0.2928 - val_categorical_accuracy: 0.8836\n",
            "Epoch 37/50\n",
            "451/451 [==============================] - 17s 37ms/step - loss: 0.2644 - categorical_accuracy: 0.9029 - val_loss: 0.3319 - val_categorical_accuracy: 0.8649\n",
            "Epoch 38/50\n",
            "451/451 [==============================] - 17s 37ms/step - loss: 0.2655 - categorical_accuracy: 0.9034 - val_loss: 0.2949 - val_categorical_accuracy: 0.8854\n",
            "Epoch 39/50\n",
            "451/451 [==============================] - 17s 37ms/step - loss: 0.2641 - categorical_accuracy: 0.9008 - val_loss: 0.3052 - val_categorical_accuracy: 0.8752\n",
            "Epoch 40/50\n",
            "451/451 [==============================] - 17s 37ms/step - loss: 0.2589 - categorical_accuracy: 0.9026 - val_loss: 0.3327 - val_categorical_accuracy: 0.8624\n",
            "Epoch 41/50\n",
            "451/451 [==============================] - 17s 37ms/step - loss: 0.2588 - categorical_accuracy: 0.9045 - val_loss: 0.3230 - val_categorical_accuracy: 0.8701\n",
            "Epoch 42/50\n",
            "451/451 [==============================] - 17s 37ms/step - loss: 0.2598 - categorical_accuracy: 0.9043 - val_loss: 0.2985 - val_categorical_accuracy: 0.8770\n",
            "Epoch 43/50\n",
            "451/451 [==============================] - 17s 37ms/step - loss: 0.2544 - categorical_accuracy: 0.9098 - val_loss: 0.2938 - val_categorical_accuracy: 0.8802\n",
            "Epoch 44/50\n",
            "451/451 [==============================] - 17s 37ms/step - loss: 0.2544 - categorical_accuracy: 0.9088 - val_loss: 0.3244 - val_categorical_accuracy: 0.8642\n",
            "Epoch 45/50\n",
            "451/451 [==============================] - 16s 36ms/step - loss: 0.2579 - categorical_accuracy: 0.9075 - val_loss: 0.2998 - val_categorical_accuracy: 0.8775\n",
            "Epoch 46/50\n",
            "451/451 [==============================] - 17s 37ms/step - loss: 0.2488 - categorical_accuracy: 0.9081 - val_loss: 0.2882 - val_categorical_accuracy: 0.8861\n",
            "Epoch 47/50\n",
            "451/451 [==============================] - 16s 36ms/step - loss: 0.2487 - categorical_accuracy: 0.9089 - val_loss: 0.2994 - val_categorical_accuracy: 0.8809\n",
            "Epoch 48/50\n",
            "451/451 [==============================] - 17s 37ms/step - loss: 0.2531 - categorical_accuracy: 0.9075 - val_loss: 0.2995 - val_categorical_accuracy: 0.8799\n",
            "Epoch 49/50\n",
            "451/451 [==============================] - 17s 37ms/step - loss: 0.2479 - categorical_accuracy: 0.9111 - val_loss: 0.2800 - val_categorical_accuracy: 0.8918\n",
            "Epoch 50/50\n",
            "451/451 [==============================] - 17s 37ms/step - loss: 0.2492 - categorical_accuracy: 0.9093 - val_loss: 0.3246 - val_categorical_accuracy: 0.8656\n"
          ],
          "name": "stdout"
        }
      ]
    },
    {
      "cell_type": "code",
      "metadata": {
        "id": "zwZlqzBJJCWr",
        "colab": {
          "base_uri": "https://localhost:8080/",
          "height": 338
        },
        "outputId": "ce3ea53f-3a76-4c63-ad9b-ea14c9d81fdf"
      },
      "source": [
        "plot_learning_curve(historyCancerous.history['loss'], historyCancerous.history['val_loss'], \n",
        "                    historyCancerous.history['categorical_accuracy'], historyCancerous.history['val_categorical_accuracy'], \n",
        "                    metric_name='Accuracy')"
      ],
      "execution_count": 56,
      "outputs": [
        {
          "output_type": "display_data",
          "data": {
            "image/png": "[encoded data removed]",
            "text/plain": [
              "<Figure size 720x360 with 2 Axes>"
            ]
          },
          "metadata": {
            "tags": [],
            "needs_background": "light"
          }
        }
      ]
    },
    {
      "cell_type": "markdown",
      "metadata": {
        "id": "gqZQnonATBZm"
      },
      "source": [
        "# **Data Modelling**\n",
        "\n",
        "* Lamda is tested with value of 0.00001 regularization.\n",
        "* Built neural network using keras sequential.\n",
        "* Activation function is set to `relu`.\n",
        "* As the dataset have images in 27x27 RGB grid matrix so the `input_shape` is set to 27, 27, 3.\n",
        "* We have created neural network with one hidden layer, one input layer and one output layer.\n",
        "* The output layer activation function is set to `softmax`.\n",
        "* Neurons of hidden layer is set to 54.\n",
        "* Dropout rate is set to 0.2 that helps during back propogation."
      ]
    },
    {
      "cell_type": "code",
      "metadata": {
        "id": "m8Ijzn0hmxEf"
      },
      "source": [
        "reg_lambda = 0.00001\n",
        "\n",
        "modelCancerous = tf.keras.Sequential([\n",
        "    #VGG block 1\n",
        "    tf.keras.layers.Conv2D(27, (3, 3), activation='relu', padding='same', \n",
        "                           kernel_regularizer=tf.keras.regularizers.l2(reg_lambda), input_shape=(27, 27, 3)),\n",
        "    tf.keras.layers.Conv2D(27, (3, 3), activation='relu', padding='same', \n",
        "                           kernel_regularizer=tf.keras.regularizers.l2(reg_lambda)),\n",
        "    tf.keras.layers.MaxPooling2D((2, 2)),\n",
        "    \n",
        "    #VGG block 2\n",
        "    tf.keras.layers.Conv2D(54, (3, 3), activation='relu', padding='same', \n",
        "                           kernel_regularizer=tf.keras.regularizers.l2(reg_lambda)),\n",
        "    tf.keras.layers.Conv2D(54, (3, 3), activation='relu', padding='same',  \n",
        "                           kernel_regularizer=tf.keras.regularizers.l2(reg_lambda)),\n",
        "    tf.keras.layers.MaxPooling2D((2, 2)),\n",
        "    \n",
        "    #VGG block 3\n",
        "    tf.keras.layers.Conv2D(108, (3, 3), activation='relu', padding='same', \n",
        "                           kernel_regularizer=tf.keras.regularizers.l2(reg_lambda)),\n",
        "    tf.keras.layers.Conv2D(108, (3, 3), activation='relu', padding='same', \n",
        "                           kernel_regularizer=tf.keras.regularizers.l2(reg_lambda)),\n",
        "    tf.keras.layers.MaxPooling2D((2, 2)),\n",
        "    \n",
        "    tf.keras.layers.Flatten(),\n",
        "    tf.keras.layers.Dense(108, activation='relu'),\n",
        "    tf.keras.layers.Dropout(.2),\n",
        "    tf.keras.layers.Dense(OUTPUT_CLASSES,activation='softmax'),\n",
        "])"
      ],
      "execution_count": 57,
      "outputs": []
    },
    {
      "cell_type": "markdown",
      "metadata": {
        "id": "Cfn7U7DMTIHJ"
      },
      "source": [
        "Class weight is set to `balance`."
      ]
    },
    {
      "cell_type": "code",
      "metadata": {
        "id": "ewsXp828bwM9"
      },
      "source": [
        "class_weights = class_weight.compute_class_weight('balanced',\n",
        "                                                 np.unique(train_generator.classes),\n",
        "                                                 train_generator.classes)\n",
        "class_weights = dict(enumerate(class_weights))"
      ],
      "execution_count": 58,
      "outputs": []
    },
    {
      "cell_type": "code",
      "metadata": {
        "id": "Av7bAXpUmxHQ"
      },
      "source": [
        "modelCancerous.compile(tf.keras.optimizers.Adam(learning_rate=0.00001,name=\"Adam\"),\n",
        "              loss=tf.keras.losses.CategoricalCrossentropy(from_logits=False),\n",
        "              metrics=['categorical_accuracy'])"
      ],
      "execution_count": 61,
      "outputs": []
    },
    {
      "cell_type": "code",
      "metadata": {
        "colab": {
          "base_uri": "https://localhost:8080/"
        },
        "id": "rCToP-M3iguI",
        "outputId": "f8b72dba-b5bc-4b03-a3ef-27664191e274"
      },
      "source": [
        "historyCancerous = modelCancerous.fit(train_generator, validation_data = validation_generator,callbacks=[early_stopping], epochs=50)"
      ],
      "execution_count": 62,
      "outputs": [
        {
          "output_type": "stream",
          "text": [
            "Epoch 1/50\n",
            "451/451 [==============================] - 18s 38ms/step - loss: 0.6457 - categorical_accuracy: 0.6458 - val_loss: 0.6186 - val_categorical_accuracy: 0.6573\n",
            "Epoch 2/50\n",
            "451/451 [==============================] - 17s 39ms/step - loss: 0.5778 - categorical_accuracy: 0.6998 - val_loss: 0.5785 - val_categorical_accuracy: 0.6839\n",
            "Epoch 3/50\n",
            "451/451 [==============================] - 17s 38ms/step - loss: 0.4892 - categorical_accuracy: 0.7778 - val_loss: 0.6067 - val_categorical_accuracy: 0.7054\n",
            "Epoch 4/50\n",
            "451/451 [==============================] - 17s 38ms/step - loss: 0.4581 - categorical_accuracy: 0.7888 - val_loss: 0.4652 - val_categorical_accuracy: 0.7650\n",
            "Epoch 5/50\n",
            "451/451 [==============================] - 17s 37ms/step - loss: 0.4425 - categorical_accuracy: 0.7940 - val_loss: 0.4812 - val_categorical_accuracy: 0.7591\n",
            "Epoch 6/50\n",
            "451/451 [==============================] - 17s 38ms/step - loss: 0.4310 - categorical_accuracy: 0.7990 - val_loss: 0.4240 - val_categorical_accuracy: 0.7929\n",
            "Epoch 7/50\n",
            "451/451 [==============================] - 17s 37ms/step - loss: 0.4257 - categorical_accuracy: 0.8085 - val_loss: 0.4198 - val_categorical_accuracy: 0.7968\n",
            "Epoch 8/50\n",
            "451/451 [==============================] - 17s 38ms/step - loss: 0.4187 - categorical_accuracy: 0.8040 - val_loss: 0.4095 - val_categorical_accuracy: 0.8057\n",
            "Epoch 9/50\n",
            "451/451 [==============================] - 17s 37ms/step - loss: 0.4136 - categorical_accuracy: 0.8117 - val_loss: 0.3964 - val_categorical_accuracy: 0.8153\n",
            "Epoch 10/50\n",
            "451/451 [==============================] - 17s 37ms/step - loss: 0.4014 - categorical_accuracy: 0.8177 - val_loss: 0.4135 - val_categorical_accuracy: 0.8057\n",
            "Epoch 11/50\n",
            "451/451 [==============================] - 17s 38ms/step - loss: 0.4085 - categorical_accuracy: 0.8158 - val_loss: 0.4226 - val_categorical_accuracy: 0.8005\n",
            "Epoch 12/50\n",
            "451/451 [==============================] - 17s 37ms/step - loss: 0.3960 - categorical_accuracy: 0.8223 - val_loss: 0.3748 - val_categorical_accuracy: 0.8279\n",
            "Epoch 13/50\n",
            "451/451 [==============================] - 17s 38ms/step - loss: 0.3960 - categorical_accuracy: 0.8199 - val_loss: 0.3762 - val_categorical_accuracy: 0.8254\n",
            "Epoch 14/50\n",
            "451/451 [==============================] - 16s 37ms/step - loss: 0.3950 - categorical_accuracy: 0.8226 - val_loss: 0.4027 - val_categorical_accuracy: 0.8134\n",
            "Epoch 15/50\n",
            "451/451 [==============================] - 17s 37ms/step - loss: 0.3900 - categorical_accuracy: 0.8272 - val_loss: 0.3621 - val_categorical_accuracy: 0.8351\n",
            "Epoch 16/50\n",
            "451/451 [==============================] - 17s 37ms/step - loss: 0.3855 - categorical_accuracy: 0.8308 - val_loss: 0.3593 - val_categorical_accuracy: 0.8378\n",
            "Epoch 17/50\n",
            "451/451 [==============================] - 17s 38ms/step - loss: 0.3876 - categorical_accuracy: 0.8287 - val_loss: 0.3628 - val_categorical_accuracy: 0.8365\n",
            "Epoch 18/50\n",
            "451/451 [==============================] - 18s 40ms/step - loss: 0.3823 - categorical_accuracy: 0.8299 - val_loss: 0.3554 - val_categorical_accuracy: 0.8388\n",
            "Epoch 19/50\n",
            "451/451 [==============================] - 17s 38ms/step - loss: 0.3797 - categorical_accuracy: 0.8335 - val_loss: 0.3737 - val_categorical_accuracy: 0.8321\n",
            "Epoch 20/50\n",
            "451/451 [==============================] - 17s 38ms/step - loss: 0.3785 - categorical_accuracy: 0.8329 - val_loss: 0.3566 - val_categorical_accuracy: 0.8390\n",
            "Epoch 21/50\n",
            "451/451 [==============================] - 17s 38ms/step - loss: 0.3805 - categorical_accuracy: 0.8341 - val_loss: 0.3548 - val_categorical_accuracy: 0.8393\n",
            "Epoch 22/50\n",
            "451/451 [==============================] - 17s 38ms/step - loss: 0.3763 - categorical_accuracy: 0.8352 - val_loss: 0.3639 - val_categorical_accuracy: 0.8380\n",
            "Epoch 23/50\n",
            "451/451 [==============================] - 17s 37ms/step - loss: 0.3734 - categorical_accuracy: 0.8393 - val_loss: 0.3730 - val_categorical_accuracy: 0.8343\n",
            "Epoch 24/50\n",
            "451/451 [==============================] - 17s 37ms/step - loss: 0.3761 - categorical_accuracy: 0.8365 - val_loss: 0.3490 - val_categorical_accuracy: 0.8481\n",
            "Epoch 25/50\n",
            "451/451 [==============================] - 17s 38ms/step - loss: 0.3707 - categorical_accuracy: 0.8420 - val_loss: 0.3553 - val_categorical_accuracy: 0.8395\n",
            "Epoch 26/50\n",
            "451/451 [==============================] - 17s 38ms/step - loss: 0.3701 - categorical_accuracy: 0.8383 - val_loss: 0.3654 - val_categorical_accuracy: 0.8365\n",
            "Epoch 27/50\n",
            "451/451 [==============================] - 17s 38ms/step - loss: 0.3695 - categorical_accuracy: 0.8374 - val_loss: 0.3633 - val_categorical_accuracy: 0.8388\n",
            "Epoch 28/50\n",
            "451/451 [==============================] - 18s 39ms/step - loss: 0.3710 - categorical_accuracy: 0.8365 - val_loss: 0.3422 - val_categorical_accuracy: 0.8511\n",
            "Epoch 29/50\n",
            "451/451 [==============================] - 18s 39ms/step - loss: 0.3722 - categorical_accuracy: 0.8389 - val_loss: 0.3679 - val_categorical_accuracy: 0.8338\n",
            "Epoch 30/50\n",
            "451/451 [==============================] - 18s 39ms/step - loss: 0.3681 - categorical_accuracy: 0.8405 - val_loss: 0.3513 - val_categorical_accuracy: 0.8437\n",
            "Epoch 31/50\n",
            "451/451 [==============================] - 18s 40ms/step - loss: 0.3651 - categorical_accuracy: 0.8399 - val_loss: 0.3453 - val_categorical_accuracy: 0.8474\n",
            "Epoch 32/50\n",
            "451/451 [==============================] - 17s 38ms/step - loss: 0.3684 - categorical_accuracy: 0.8410 - val_loss: 0.3412 - val_categorical_accuracy: 0.8499\n",
            "Epoch 33/50\n",
            "451/451 [==============================] - 17s 37ms/step - loss: 0.3637 - categorical_accuracy: 0.8416 - val_loss: 0.3406 - val_categorical_accuracy: 0.8516\n",
            "Epoch 34/50\n",
            "451/451 [==============================] - 17s 38ms/step - loss: 0.3673 - categorical_accuracy: 0.8450 - val_loss: 0.3407 - val_categorical_accuracy: 0.8513\n",
            "Epoch 35/50\n",
            "451/451 [==============================] - 17s 37ms/step - loss: 0.3589 - categorical_accuracy: 0.8478 - val_loss: 0.3414 - val_categorical_accuracy: 0.8481\n",
            "Epoch 36/50\n",
            "451/451 [==============================] - 17s 38ms/step - loss: 0.3606 - categorical_accuracy: 0.8456 - val_loss: 0.3399 - val_categorical_accuracy: 0.8526\n",
            "Epoch 37/50\n",
            "451/451 [==============================] - 17s 37ms/step - loss: 0.3600 - categorical_accuracy: 0.8440 - val_loss: 0.3820 - val_categorical_accuracy: 0.8284\n",
            "Epoch 38/50\n",
            "451/451 [==============================] - 17s 38ms/step - loss: 0.3534 - categorical_accuracy: 0.8470 - val_loss: 0.3486 - val_categorical_accuracy: 0.8462\n",
            "Epoch 39/50\n",
            "451/451 [==============================] - 17s 39ms/step - loss: 0.3595 - categorical_accuracy: 0.8466 - val_loss: 0.3416 - val_categorical_accuracy: 0.8476\n",
            "Epoch 40/50\n",
            "451/451 [==============================] - 17s 37ms/step - loss: 0.3573 - categorical_accuracy: 0.8482 - val_loss: 0.3370 - val_categorical_accuracy: 0.8526\n",
            "Epoch 41/50\n",
            "451/451 [==============================] - 17s 38ms/step - loss: 0.3582 - categorical_accuracy: 0.8492 - val_loss: 0.3470 - val_categorical_accuracy: 0.8474\n",
            "Epoch 42/50\n",
            "451/451 [==============================] - 17s 37ms/step - loss: 0.3523 - categorical_accuracy: 0.8514 - val_loss: 0.3344 - val_categorical_accuracy: 0.8540\n",
            "Epoch 43/50\n",
            "451/451 [==============================] - 17s 38ms/step - loss: 0.3518 - categorical_accuracy: 0.8505 - val_loss: 0.3336 - val_categorical_accuracy: 0.8555\n",
            "Epoch 44/50\n",
            "451/451 [==============================] - 17s 37ms/step - loss: 0.3517 - categorical_accuracy: 0.8468 - val_loss: 0.3420 - val_categorical_accuracy: 0.8501\n",
            "Epoch 45/50\n",
            "451/451 [==============================] - 17s 37ms/step - loss: 0.3545 - categorical_accuracy: 0.8441 - val_loss: 0.3466 - val_categorical_accuracy: 0.8454\n",
            "Epoch 46/50\n",
            "451/451 [==============================] - 17s 37ms/step - loss: 0.3504 - categorical_accuracy: 0.8503 - val_loss: 0.3379 - val_categorical_accuracy: 0.8531\n",
            "Epoch 47/50\n",
            "451/451 [==============================] - 17s 37ms/step - loss: 0.3466 - categorical_accuracy: 0.8534 - val_loss: 0.3379 - val_categorical_accuracy: 0.8521\n",
            "Epoch 48/50\n",
            "451/451 [==============================] - 17s 37ms/step - loss: 0.3501 - categorical_accuracy: 0.8512 - val_loss: 0.3594 - val_categorical_accuracy: 0.8363\n",
            "Epoch 49/50\n",
            "451/451 [==============================] - 17s 37ms/step - loss: 0.3463 - categorical_accuracy: 0.8522 - val_loss: 0.3329 - val_categorical_accuracy: 0.8540\n",
            "Epoch 50/50\n",
            "451/451 [==============================] - 17s 38ms/step - loss: 0.3502 - categorical_accuracy: 0.8480 - val_loss: 0.3331 - val_categorical_accuracy: 0.8548\n"
          ],
          "name": "stdout"
        }
      ]
    },
    {
      "cell_type": "code",
      "metadata": {
        "id": "5fujbSd9zvhy"
      },
      "source": [
        "modelCancerous.optimizer.get_config()"
      ],
      "execution_count": null,
      "outputs": []
    },
    {
      "cell_type": "code",
      "metadata": {
        "colab": {
          "base_uri": "https://localhost:8080/",
          "height": 338
        },
        "id": "MDBULvK2rzY_",
        "outputId": "2d773c6d-5b2f-4cdf-8e40-95ab40a8b011"
      },
      "source": [
        "plot_learning_curve(historyCancerous.history['loss'], historyCancerous.history['val_loss'], \n",
        "                    historyCancerous.history['categorical_accuracy'], historyCancerous.history['val_categorical_accuracy'], \n",
        "                    metric_name='Accuracy')"
      ],
      "execution_count": 63,
      "outputs": [
        {
          "output_type": "display_data",
          "data": {
            "image/png": "[encoded data removed]",
            "text/plain": [
              "<Figure size 720x360 with 2 Axes>"
            ]
          },
          "metadata": {
            "tags": [],
            "needs_background": "light"
          }
        }
      ]
    },
    {
      "cell_type": "code",
      "metadata": {
        "id": "Ovt2wG7DJqCa",
        "colab": {
          "base_uri": "https://localhost:8080/"
        },
        "outputId": "9ce93d29-e8dd-4f39-9ff9-df3af2998b60"
      },
      "source": [
        "# setup data some placeholders\n",
        "batch_size_ = 1\n",
        "y_hat_all = list()\n",
        "y_all = list()\n",
        "filenames = test_generator.filenames\n",
        "N_images = len(filenames)\n",
        "batches = 1\n",
        "                                                                       \n",
        "for x,y in test_generator:\n",
        "        y_hat = modelCancerous.predict(x, verbose=0)\n",
        "        y_hat = np.argmax(y_hat, axis = 1)\n",
        "        # y = np.argmax(y, axis = 1)\n",
        "        y_hat_all = y_hat_all + y_hat.tolist()\n",
        "        y_all = y_all + y.tolist()\n",
        "\n",
        "        batches += 1\n",
        "        if batches >= N_images / batch_size_:\n",
        "            break\n",
        "\n",
        "print(\"Accuracy score: \", accuracy_score(y_all, y_hat_all))\n",
        "print(\"F1 score: \", f1_score(y_all, y_hat_all, average='macro'))\n",
        "cf = confusion_matrix(y_all, y_hat_all)\n",
        "# print(\"Confusion Matrix \", confusion_matrix(y_all, y_hat_all))\n",
        "print(\"Classification Report\")\n",
        "print(classification_report(y_all, y_hat_all))"
      ],
      "execution_count": 64,
      "outputs": [
        {
          "output_type": "stream",
          "text": [
            "Accuracy score:  0.855980271270037\n",
            "F1 score:  0.838881305082384\n",
            "Classification Report\n",
            "              precision    recall  f1-score   support\n",
            "\n",
            "         0.0       0.87      0.91      0.89      2624\n",
            "         1.0       0.83      0.75      0.79      1431\n",
            "\n",
            "    accuracy                           0.86      4055\n",
            "   macro avg       0.85      0.83      0.84      4055\n",
            "weighted avg       0.85      0.86      0.85      4055\n",
            "\n"
          ],
          "name": "stdout"
        }
      ]
    },
    {
      "cell_type": "code",
      "metadata": {
        "id": "acv85RTaZjy_",
        "colab": {
          "base_uri": "https://localhost:8080/",
          "height": 282
        },
        "outputId": "b275fafc-58e3-49ea-f494-a6f0aaef4a0a"
      },
      "source": [
        "sns.heatmap(cf, annot=True,fmt='g')"
      ],
      "execution_count": 65,
      "outputs": [
        {
          "output_type": "execute_result",
          "data": {
            "text/plain": [
              "<matplotlib.axes._subplots.AxesSubplot at 0x7f30a2325890>"
            ]
          },
          "metadata": {
            "tags": []
          },
          "execution_count": 65
        },
        {
          "output_type": "display_data",
          "data": {
            "image/png": "[encoded data removed]",
            "text/plain": [
              "<Figure size 432x288 with 2 Axes>"
            ]
          },
          "metadata": {
            "tags": [],
            "needs_background": "light"
          }
        }
      ]
    },
    {
      "cell_type": "code",
      "metadata": {
        "id": "2rl6d_KmJqFU",
        "colab": {
          "base_uri": "https://localhost:8080/"
        },
        "outputId": "f38ee213-7b54-409d-a48e-36e467236e03"
      },
      "source": [
        "modelCancerous.save(\"modelCancerous\")"
      ],
      "execution_count": 66,
      "outputs": [
        {
          "output_type": "stream",
          "text": [
            "INFO:tensorflow:Assets written to: modelCancerous/assets\n"
          ],
          "name": "stdout"
        }
      ]
    },
    {
      "cell_type": "code",
      "metadata": {
        "colab": {
          "base_uri": "https://localhost:8080/"
        },
        "id": "m29uk7yhAaAC",
        "outputId": "abb039a2-9b21-4a7c-b671-a51041121a2b"
      },
      "source": [
        "## Only on colab\n",
        "# Change according to your directory structure\n",
        "!cp -R ./modelCancerous/content/drive/'My Drive'/'Colab Notebooks'      "
      ],
      "execution_count": 67,
      "outputs": [
        {
          "output_type": "stream",
          "text": [
            "cp: missing destination file operand after './modelCancerous/content/drive/My Drive/Colab Notebooks'\n",
            "Try 'cp --help' for more information.\n"
          ],
          "name": "stdout"
        }
      ]
    },
    {
      "cell_type": "code",
      "metadata": {
        "id": "CPza7BWjQq4P",
        "colab": {
          "base_uri": "https://localhost:8080/"
        },
        "outputId": "85bcb708-e803-4275-83a9-b5bedb0c0114"
      },
      "source": [
        "modelCancerous.summary()"
      ],
      "execution_count": 68,
      "outputs": [
        {
          "output_type": "stream",
          "text": [
            "Model: \"sequential_1\"\n",
            "_________________________________________________________________\n",
            "Layer (type)                 Output Shape              Param #   \n",
            "=================================================================\n",
            "conv2d_6 (Conv2D)            (None, 27, 27, 27)        756       \n",
            "_________________________________________________________________\n",
            "conv2d_7 (Conv2D)            (None, 27, 27, 27)        6588      \n",
            "_________________________________________________________________\n",
            "max_pooling2d_3 (MaxPooling2 (None, 13, 13, 27)        0         \n",
            "_________________________________________________________________\n",
            "conv2d_8 (Conv2D)            (None, 13, 13, 54)        13176     \n",
            "_________________________________________________________________\n",
            "conv2d_9 (Conv2D)            (None, 13, 13, 54)        26298     \n",
            "_________________________________________________________________\n",
            "max_pooling2d_4 (MaxPooling2 (None, 6, 6, 54)          0         \n",
            "_________________________________________________________________\n",
            "conv2d_10 (Conv2D)           (None, 6, 6, 108)         52596     \n",
            "_________________________________________________________________\n",
            "conv2d_11 (Conv2D)           (None, 6, 6, 108)         105084    \n",
            "_________________________________________________________________\n",
            "max_pooling2d_5 (MaxPooling2 (None, 3, 3, 108)         0         \n",
            "_________________________________________________________________\n",
            "flatten_1 (Flatten)          (None, 972)               0         \n",
            "_________________________________________________________________\n",
            "dense_2 (Dense)              (None, 108)               105084    \n",
            "_________________________________________________________________\n",
            "dropout_1 (Dropout)          (None, 108)               0         \n",
            "_________________________________________________________________\n",
            "dense_3 (Dense)              (None, 2)                 218       \n",
            "=================================================================\n",
            "Total params: 309,800\n",
            "Trainable params: 309,800\n",
            "Non-trainable params: 0\n",
            "_________________________________________________________________\n"
          ],
          "name": "stdout"
        }
      ]
    },
    {
      "cell_type": "code",
      "metadata": {
        "id": "6s8u_WaRQmr7"
      },
      "source": [
        "modelCelltype = keras.models.load_model('/content/modelCancerous')"
      ],
      "execution_count": 69,
      "outputs": []
    },
    {
      "cell_type": "code",
      "metadata": {
        "id": "fzGbK8liQq4v",
        "colab": {
          "base_uri": "https://localhost:8080/"
        },
        "outputId": "8e493e8f-e8e9-4b46-c786-538f5f24544f"
      },
      "source": [
        "modelCelltype.summary()"
      ],
      "execution_count": 70,
      "outputs": [
        {
          "output_type": "stream",
          "text": [
            "Model: \"sequential_1\"\n",
            "_________________________________________________________________\n",
            "Layer (type)                 Output Shape              Param #   \n",
            "=================================================================\n",
            "conv2d_6 (Conv2D)            (None, 27, 27, 27)        756       \n",
            "_________________________________________________________________\n",
            "conv2d_7 (Conv2D)            (None, 27, 27, 27)        6588      \n",
            "_________________________________________________________________\n",
            "max_pooling2d_3 (MaxPooling2 (None, 13, 13, 27)        0         \n",
            "_________________________________________________________________\n",
            "conv2d_8 (Conv2D)            (None, 13, 13, 54)        13176     \n",
            "_________________________________________________________________\n",
            "conv2d_9 (Conv2D)            (None, 13, 13, 54)        26298     \n",
            "_________________________________________________________________\n",
            "max_pooling2d_4 (MaxPooling2 (None, 6, 6, 54)          0         \n",
            "_________________________________________________________________\n",
            "conv2d_10 (Conv2D)           (None, 6, 6, 108)         52596     \n",
            "_________________________________________________________________\n",
            "conv2d_11 (Conv2D)           (None, 6, 6, 108)         105084    \n",
            "_________________________________________________________________\n",
            "max_pooling2d_5 (MaxPooling2 (None, 3, 3, 108)         0         \n",
            "_________________________________________________________________\n",
            "flatten_1 (Flatten)          (None, 972)               0         \n",
            "_________________________________________________________________\n",
            "dense_2 (Dense)              (None, 108)               105084    \n",
            "_________________________________________________________________\n",
            "dropout_1 (Dropout)          (None, 108)               0         \n",
            "_________________________________________________________________\n",
            "dense_3 (Dense)              (None, 2)                 218       \n",
            "=================================================================\n",
            "Total params: 309,800\n",
            "Trainable params: 309,800\n",
            "Non-trainable params: 0\n",
            "_________________________________________________________________\n"
          ],
          "name": "stdout"
        }
      ]
    },
    {
      "cell_type": "code",
      "metadata": {
        "id": "HoSG0D9tQq4u"
      },
      "source": [
        "modelCelltype.pop()"
      ],
      "execution_count": 71,
      "outputs": []
    },
    {
      "cell_type": "code",
      "metadata": {
        "id": "zYpe4hdfQq4w"
      },
      "source": [
        "modelCelltype.add(Dense(4, activation='softmax'))"
      ],
      "execution_count": 72,
      "outputs": []
    },
    {
      "cell_type": "code",
      "metadata": {
        "id": "BF8n3USiDYRQ",
        "colab": {
          "base_uri": "https://localhost:8080/"
        },
        "outputId": "3c53f4a5-60d4-4d5a-92bf-d3215f89f997"
      },
      "source": [
        "modelCelltype.summary()"
      ],
      "execution_count": 73,
      "outputs": [
        {
          "output_type": "stream",
          "text": [
            "Model: \"sequential_1\"\n",
            "_________________________________________________________________\n",
            "Layer (type)                 Output Shape              Param #   \n",
            "=================================================================\n",
            "conv2d_6 (Conv2D)            (None, 27, 27, 27)        756       \n",
            "_________________________________________________________________\n",
            "conv2d_7 (Conv2D)            (None, 27, 27, 27)        6588      \n",
            "_________________________________________________________________\n",
            "max_pooling2d_3 (MaxPooling2 (None, 13, 13, 27)        0         \n",
            "_________________________________________________________________\n",
            "conv2d_8 (Conv2D)            (None, 13, 13, 54)        13176     \n",
            "_________________________________________________________________\n",
            "conv2d_9 (Conv2D)            (None, 13, 13, 54)        26298     \n",
            "_________________________________________________________________\n",
            "max_pooling2d_4 (MaxPooling2 (None, 6, 6, 54)          0         \n",
            "_________________________________________________________________\n",
            "conv2d_10 (Conv2D)           (None, 6, 6, 108)         52596     \n",
            "_________________________________________________________________\n",
            "conv2d_11 (Conv2D)           (None, 6, 6, 108)         105084    \n",
            "_________________________________________________________________\n",
            "max_pooling2d_5 (MaxPooling2 (None, 3, 3, 108)         0         \n",
            "_________________________________________________________________\n",
            "flatten_1 (Flatten)          (None, 972)               0         \n",
            "_________________________________________________________________\n",
            "dense_2 (Dense)              (None, 108)               105084    \n",
            "_________________________________________________________________\n",
            "dropout_1 (Dropout)          (None, 108)               0         \n",
            "_________________________________________________________________\n",
            "dense_4 (Dense)              (None, 4)                 436       \n",
            "=================================================================\n",
            "Total params: 310,018\n",
            "Trainable params: 310,018\n",
            "Non-trainable params: 0\n",
            "_________________________________________________________________\n"
          ],
          "name": "stdout"
        }
      ]
    },
    {
      "cell_type": "code",
      "metadata": {
        "id": "6_Vd3tlBQBdE",
        "colab": {
          "base_uri": "https://localhost:8080/"
        },
        "outputId": "1a37f071-f25f-45c9-b1d1-f257dd512517"
      },
      "source": [
        "data = pd.read_csv('./data_labels_mainData.csv')\n",
        "\n",
        "OUTPUT_CLASSES = 4\n",
        "\n",
        "train_data, test_data = train_test_split(data, test_size=0.2, random_state=42)\n",
        "train_data, val_data = train_test_split(train_data, test_size=0.25, random_state=42)\n",
        "\n",
        "print(\"Train data : {}, Val Data: {}, Test Data: {}\".format(train_data.shape[0], val_data.shape[0], test_data.shape[0]))"
      ],
      "execution_count": 74,
      "outputs": [
        {
          "output_type": "stream",
          "text": [
            "Train data : 5937, Val Data: 1979, Test Data: 1980\n"
          ],
          "name": "stdout"
        }
      ]
    },
    {
      "cell_type": "code",
      "metadata": {
        "id": "4niIpiRbQBgB",
        "colab": {
          "base_uri": "https://localhost:8080/"
        },
        "outputId": "e17452ee-9d84-44f9-abc1-141fcbda277e"
      },
      "source": [
        "train_data['Class'] = train_data['cellType'].astype('str')\n",
        "val_data['Class'] = val_data['cellType'].astype('str')\n",
        "train_datagen = ImageDataGenerator(rescale=1./255, data_format='channels_last',\n",
        "                                   rotation_range=15, width_shift_range=0.2,\n",
        "                                   height_shift_range=0.2, brightness_range=[0.5,1.5])\n",
        "val_datagen = ImageDataGenerator(rescale=1./255, data_format='channels_last')\n",
        "\n",
        "batch_size = 27\n",
        "\n",
        "train_generator = train_datagen.flow_from_dataframe(\n",
        "        dataframe=train_data,\n",
        "        directory='./patch_images',\n",
        "        x_col=\"ImageName\",\n",
        "        y_col=\"Class\",\n",
        "        target_size=(27, 27),\n",
        "        batch_size=batch_size,\n",
        "        class_mode='sparse')\n",
        "\n",
        "validation_generator = val_datagen.flow_from_dataframe(\n",
        "        dataframe=val_data,\n",
        "        directory='./patch_images',\n",
        "        x_col=\"ImageName\",\n",
        "        y_col=\"Class\",\n",
        "        target_size=(27, 27),\n",
        "        batch_size=batch_size,\n",
        "        class_mode='sparse')\n",
        "test_data['Class'] = test_data['cellType'].astype('str')\n",
        "test_datagen = ImageDataGenerator(rescale=1./255, data_format='channels_last')\n",
        "\n",
        "batch_size = 1\n",
        "\n",
        "test_generator = test_datagen.flow_from_dataframe(\n",
        "        dataframe=test_data,\n",
        "        directory='./patch_images',\n",
        "        x_col=\"ImageName\",\n",
        "        y_col=\"Class\",\n",
        "        target_size=(27, 27),\n",
        "        batch_size=batch_size,\n",
        "        class_mode='sparse')"
      ],
      "execution_count": 75,
      "outputs": [
        {
          "output_type": "stream",
          "text": [
            "Found 5937 validated image filenames belonging to 4 classes.\n",
            "Found 1979 validated image filenames belonging to 4 classes.\n",
            "Found 1980 validated image filenames belonging to 4 classes.\n"
          ],
          "name": "stdout"
        },
        {
          "output_type": "stream",
          "text": [
            "/usr/local/lib/python3.7/dist-packages/ipykernel_launcher.py:27: SettingWithCopyWarning: \n",
            "A value is trying to be set on a copy of a slice from a DataFrame.\n",
            "Try using .loc[row_indexer,col_indexer] = value instead\n",
            "\n",
            "See the caveats in the documentation: https://pandas.pydata.org/pandas-docs/stable/user_guide/indexing.html#returning-a-view-versus-a-copy\n"
          ],
          "name": "stderr"
        }
      ]
    },
    {
      "cell_type": "code",
      "metadata": {
        "id": "xlnDf2ZtRuX4"
      },
      "source": [
        "modelCelltype.compile(tf.keras.optimizers.Adam(learning_rate=0.0001,name=\"adam\"),\n",
        "              loss=tf.keras.losses.SparseCategoricalCrossentropy(from_logits=False),\n",
        "              metrics=['sparse_categorical_accuracy'])"
      ],
      "execution_count": 76,
      "outputs": []
    },
    {
      "cell_type": "code",
      "metadata": {
        "id": "Li5iCvJ44w13"
      },
      "source": [
        "early_stopping = tf.keras.callbacks.EarlyStopping(\n",
        " monitor='val_sparse_categorical_accuracy', \n",
        " verbose=1,\n",
        " patience=20,\n",
        " mode='max',\n",
        " restore_best_weights=True)"
      ],
      "execution_count": 77,
      "outputs": []
    },
    {
      "cell_type": "code",
      "metadata": {
        "id": "UD_9KEWZ6A2R"
      },
      "source": [
        "class_weight = {0: 1.,1: 2.,2: 2., 3: 1.}"
      ],
      "execution_count": 78,
      "outputs": []
    },
    {
      "cell_type": "code",
      "metadata": {
        "id": "8w5us5sxtowZ",
        "colab": {
          "base_uri": "https://localhost:8080/",
          "height": 215
        },
        "outputId": "8602d1f5-5bf9-47a7-a69e-70ad8ca04b16"
      },
      "source": [
        "#class_weights = class_weight.compute_class_weight(\n",
        "               'balanced',\n",
        "                np.unique(train_generator.classes), \n",
        "                train_generator.classes)"
      ],
      "execution_count": 80,
      "outputs": [
        {
          "output_type": "error",
          "ename": "AttributeError",
          "evalue": "ignored",
          "traceback": [
            "\u001b[0;31m---------------------------------------------------------------------------\u001b[0m",
            "\u001b[0;31mAttributeError\u001b[0m                            Traceback (most recent call last)",
            "\u001b[0;32m<ipython-input-80-a62631ca147f>\u001b[0m in \u001b[0;36m<module>\u001b[0;34m()\u001b[0m\n\u001b[0;32m----> 1\u001b[0;31m class_weights = class_weight.compute_class_weight(\n\u001b[0m\u001b[1;32m      2\u001b[0m                \u001b[0;34m'balanced'\u001b[0m\u001b[0;34m,\u001b[0m\u001b[0;34m\u001b[0m\u001b[0;34m\u001b[0m\u001b[0m\n\u001b[1;32m      3\u001b[0m                 \u001b[0mnp\u001b[0m\u001b[0;34m.\u001b[0m\u001b[0munique\u001b[0m\u001b[0;34m(\u001b[0m\u001b[0mtrain_generator\u001b[0m\u001b[0;34m.\u001b[0m\u001b[0mclasses\u001b[0m\u001b[0;34m)\u001b[0m\u001b[0;34m,\u001b[0m\u001b[0;34m\u001b[0m\u001b[0;34m\u001b[0m\u001b[0m\n\u001b[1;32m      4\u001b[0m                 train_generator.classes)\n",
            "\u001b[0;31mAttributeError\u001b[0m: 'dict' object has no attribute 'compute_class_weight'"
          ]
        }
      ]
    },
    {
      "cell_type": "code",
      "metadata": {
        "id": "W_yG6b_wPJ34",
        "colab": {
          "base_uri": "https://localhost:8080/"
        },
        "outputId": "219f13ed-bc1c-41c7-a2d1-9a0cfa776c35"
      },
      "source": [
        "modelCelltype.optimizer.get_config()"
      ],
      "execution_count": 81,
      "outputs": [
        {
          "output_type": "execute_result",
          "data": {
            "text/plain": [
              "{'amsgrad': False,\n",
              " 'beta_1': 0.9,\n",
              " 'beta_2': 0.999,\n",
              " 'decay': 0.0,\n",
              " 'epsilon': 1e-07,\n",
              " 'learning_rate': 0.0001,\n",
              " 'name': 'adam'}"
            ]
          },
          "metadata": {
            "tags": []
          },
          "execution_count": 81
        }
      ]
    },
    {
      "cell_type": "code",
      "metadata": {
        "id": "h3JMOY6ZK4HV",
        "colab": {
          "base_uri": "https://localhost:8080/"
        },
        "outputId": "85322e3d-796f-43bb-bff2-26d9875e875a"
      },
      "source": [
        "historyCancerous = modelCelltype.fit(train_generator, validation_data = validation_generator, callbacks=[early_stopping], epochs=50)"
      ],
      "execution_count": 82,
      "outputs": [
        {
          "output_type": "stream",
          "text": [
            "Epoch 1/50\n",
            "220/220 [==============================] - 9s 39ms/step - loss: 1.0110 - sparse_categorical_accuracy: 0.5752 - val_loss: 0.9151 - val_sparse_categorical_accuracy: 0.6427\n",
            "Epoch 2/50\n",
            "220/220 [==============================] - 8s 37ms/step - loss: 0.9063 - sparse_categorical_accuracy: 0.6473 - val_loss: 0.8703 - val_sparse_categorical_accuracy: 0.6246\n",
            "Epoch 3/50\n",
            "220/220 [==============================] - 8s 37ms/step - loss: 0.8428 - sparse_categorical_accuracy: 0.6712 - val_loss: 0.8778 - val_sparse_categorical_accuracy: 0.6331\n",
            "Epoch 4/50\n",
            "220/220 [==============================] - 8s 37ms/step - loss: 0.8187 - sparse_categorical_accuracy: 0.6889 - val_loss: 1.0181 - val_sparse_categorical_accuracy: 0.5760\n",
            "Epoch 5/50\n",
            "220/220 [==============================] - 8s 36ms/step - loss: 0.7991 - sparse_categorical_accuracy: 0.6918 - val_loss: 0.8106 - val_sparse_categorical_accuracy: 0.6705\n",
            "Epoch 6/50\n",
            "220/220 [==============================] - 8s 38ms/step - loss: 0.7724 - sparse_categorical_accuracy: 0.7047 - val_loss: 0.6911 - val_sparse_categorical_accuracy: 0.7221\n",
            "Epoch 7/50\n",
            "220/220 [==============================] - 8s 38ms/step - loss: 0.7694 - sparse_categorical_accuracy: 0.7027 - val_loss: 0.7496 - val_sparse_categorical_accuracy: 0.6953\n",
            "Epoch 8/50\n",
            "220/220 [==============================] - 8s 37ms/step - loss: 0.7662 - sparse_categorical_accuracy: 0.7078 - val_loss: 0.7678 - val_sparse_categorical_accuracy: 0.6953\n",
            "Epoch 9/50\n",
            "220/220 [==============================] - 8s 37ms/step - loss: 0.7507 - sparse_categorical_accuracy: 0.7138 - val_loss: 0.7573 - val_sparse_categorical_accuracy: 0.6963\n",
            "Epoch 10/50\n",
            "220/220 [==============================] - 8s 37ms/step - loss: 0.7439 - sparse_categorical_accuracy: 0.7174 - val_loss: 0.7012 - val_sparse_categorical_accuracy: 0.7276\n",
            "Epoch 11/50\n",
            "220/220 [==============================] - 8s 38ms/step - loss: 0.7455 - sparse_categorical_accuracy: 0.7130 - val_loss: 0.7739 - val_sparse_categorical_accuracy: 0.6817\n",
            "Epoch 12/50\n",
            "220/220 [==============================] - 8s 37ms/step - loss: 0.7421 - sparse_categorical_accuracy: 0.7194 - val_loss: 0.8296 - val_sparse_categorical_accuracy: 0.6675\n",
            "Epoch 13/50\n",
            "220/220 [==============================] - 8s 37ms/step - loss: 0.7370 - sparse_categorical_accuracy: 0.7206 - val_loss: 0.7979 - val_sparse_categorical_accuracy: 0.6781\n",
            "Epoch 14/50\n",
            "220/220 [==============================] - 8s 37ms/step - loss: 0.7211 - sparse_categorical_accuracy: 0.7288 - val_loss: 0.6581 - val_sparse_categorical_accuracy: 0.7524\n",
            "Epoch 15/50\n",
            "220/220 [==============================] - 8s 37ms/step - loss: 0.7262 - sparse_categorical_accuracy: 0.7216 - val_loss: 0.6989 - val_sparse_categorical_accuracy: 0.7251\n",
            "Epoch 16/50\n",
            "220/220 [==============================] - 9s 39ms/step - loss: 0.7214 - sparse_categorical_accuracy: 0.7300 - val_loss: 0.7121 - val_sparse_categorical_accuracy: 0.7191\n",
            "Epoch 17/50\n",
            "220/220 [==============================] - 8s 38ms/step - loss: 0.7160 - sparse_categorical_accuracy: 0.7300 - val_loss: 0.7703 - val_sparse_categorical_accuracy: 0.6902\n",
            "Epoch 18/50\n",
            "220/220 [==============================] - 8s 36ms/step - loss: 0.7058 - sparse_categorical_accuracy: 0.7315 - val_loss: 0.7785 - val_sparse_categorical_accuracy: 0.6796\n",
            "Epoch 19/50\n",
            "220/220 [==============================] - 8s 37ms/step - loss: 0.6996 - sparse_categorical_accuracy: 0.7334 - val_loss: 0.6636 - val_sparse_categorical_accuracy: 0.7408\n",
            "Epoch 20/50\n",
            "220/220 [==============================] - 8s 37ms/step - loss: 0.7084 - sparse_categorical_accuracy: 0.7271 - val_loss: 0.7189 - val_sparse_categorical_accuracy: 0.7084\n",
            "Epoch 21/50\n",
            "220/220 [==============================] - 8s 38ms/step - loss: 0.6970 - sparse_categorical_accuracy: 0.7352 - val_loss: 0.7581 - val_sparse_categorical_accuracy: 0.6897\n",
            "Epoch 22/50\n",
            "220/220 [==============================] - 8s 37ms/step - loss: 0.6838 - sparse_categorical_accuracy: 0.7413 - val_loss: 0.7551 - val_sparse_categorical_accuracy: 0.6953\n",
            "Epoch 23/50\n",
            "220/220 [==============================] - 8s 37ms/step - loss: 0.6793 - sparse_categorical_accuracy: 0.7443 - val_loss: 0.6769 - val_sparse_categorical_accuracy: 0.7342\n",
            "Epoch 24/50\n",
            "220/220 [==============================] - 8s 37ms/step - loss: 0.6837 - sparse_categorical_accuracy: 0.7383 - val_loss: 0.6460 - val_sparse_categorical_accuracy: 0.7479\n",
            "Epoch 25/50\n",
            "220/220 [==============================] - 8s 37ms/step - loss: 0.6832 - sparse_categorical_accuracy: 0.7374 - val_loss: 0.7274 - val_sparse_categorical_accuracy: 0.7105\n",
            "Epoch 26/50\n",
            "220/220 [==============================] - 8s 37ms/step - loss: 0.6912 - sparse_categorical_accuracy: 0.7339 - val_loss: 0.7425 - val_sparse_categorical_accuracy: 0.6988\n",
            "Epoch 27/50\n",
            "220/220 [==============================] - 8s 37ms/step - loss: 0.6729 - sparse_categorical_accuracy: 0.7408 - val_loss: 0.6914 - val_sparse_categorical_accuracy: 0.7287\n",
            "Epoch 28/50\n",
            "220/220 [==============================] - 8s 37ms/step - loss: 0.6754 - sparse_categorical_accuracy: 0.7416 - val_loss: 0.6520 - val_sparse_categorical_accuracy: 0.7448\n",
            "Epoch 29/50\n",
            "220/220 [==============================] - 8s 37ms/step - loss: 0.6728 - sparse_categorical_accuracy: 0.7430 - val_loss: 0.6747 - val_sparse_categorical_accuracy: 0.7332\n",
            "Epoch 30/50\n",
            "220/220 [==============================] - 8s 38ms/step - loss: 0.6720 - sparse_categorical_accuracy: 0.7371 - val_loss: 0.7210 - val_sparse_categorical_accuracy: 0.7105\n",
            "Epoch 31/50\n",
            "220/220 [==============================] - 9s 39ms/step - loss: 0.6717 - sparse_categorical_accuracy: 0.7445 - val_loss: 0.6645 - val_sparse_categorical_accuracy: 0.7408\n",
            "Epoch 32/50\n",
            "220/220 [==============================] - 9s 39ms/step - loss: 0.6645 - sparse_categorical_accuracy: 0.7453 - val_loss: 0.7506 - val_sparse_categorical_accuracy: 0.6913\n",
            "Epoch 33/50\n",
            "220/220 [==============================] - 9s 40ms/step - loss: 0.6547 - sparse_categorical_accuracy: 0.7467 - val_loss: 0.7107 - val_sparse_categorical_accuracy: 0.7165\n",
            "Epoch 34/50\n",
            "220/220 [==============================] - 9s 39ms/step - loss: 0.6623 - sparse_categorical_accuracy: 0.7453 - val_loss: 0.7927 - val_sparse_categorical_accuracy: 0.6812\n",
            "Restoring model weights from the end of the best epoch.\n",
            "Epoch 00034: early stopping\n"
          ],
          "name": "stdout"
        }
      ]
    },
    {
      "cell_type": "code",
      "metadata": {
        "id": "tUkDDpPTRpAo",
        "colab": {
          "base_uri": "https://localhost:8080/",
          "height": 338
        },
        "outputId": "e6fbef38-fac3-4d6e-fcdf-de719250a442"
      },
      "source": [
        "plot_learning_curve(historyCancerous.history['loss'], historyCancerous.history['val_loss'], \n",
        "                    historyCancerous.history['sparse_categorical_accuracy'], historyCancerous.history['val_sparse_categorical_accuracy'], \n",
        "                    metric_name='Accuracy')"
      ],
      "execution_count": 83,
      "outputs": [
        {
          "output_type": "display_data",
          "data": {
            "image/png": "[encoded data removed]",
            "text/plain": [
              "<Figure size 720x360 with 2 Axes>"
            ]
          },
          "metadata": {
            "tags": [],
            "needs_background": "light"
          }
        }
      ]
    },
    {
      "cell_type": "code",
      "metadata": {
        "id": "yDZnbtbZRpEC",
        "colab": {
          "base_uri": "https://localhost:8080/"
        },
        "outputId": "473621a4-7f4e-4c35-c456-142278914568"
      },
      "source": [
        "# setup data some placeholders\n",
        "batch_size_ = 1\n",
        "y_hat_all = list()\n",
        "y_all = list()\n",
        "filenames = test_generator.filenames\n",
        "N_images = len(filenames)\n",
        "batches = 1\n",
        "\n",
        "# iterate through the data generator and predict for each batch\n",
        "# hold the predictions and labels\n",
        "for x,y in test_generator:\n",
        "        y_hat = modelCelltype.predict(x, verbose=0)\n",
        "        y_hat = np.argmax(y_hat, axis = 1)\n",
        "        # y = np.argmax(y, axis = 1)\n",
        "        y_hat_all = y_hat_all + y_hat.tolist()\n",
        "        y_all = y_all + y.tolist()\n",
        "\n",
        "        batches += 1\n",
        "        if batches >= N_images / batch_size_:\n",
        "            break\n",
        "\n",
        "# now you have made the predictions you can use any performance metric\n",
        "# you wish: either in sklearn or some function you have written\n",
        "\n",
        "print(\"Accuracy score: \", accuracy_score(y_all, y_hat_all))\n",
        "print(\"F1 score: \", f1_score(y_all, y_hat_all, average='macro'))\n",
        "cf = confusion_matrix(y_all, y_hat_all)\n",
        "print(\"Classicification Report\")\n",
        "print(classification_report(y_all, y_hat_all))"
      ],
      "execution_count": 84,
      "outputs": [
        {
          "output_type": "stream",
          "text": [
            "Accuracy score:  0.7331985851440121\n",
            "F1 score:  0.66084335906588\n",
            "Classicification Report\n",
            "              precision    recall  f1-score   support\n",
            "\n",
            "         0.0       0.65      0.71      0.68       391\n",
            "         1.0       0.67      0.77      0.72       496\n",
            "         2.0       0.86      0.89      0.88       790\n",
            "         3.0       0.52      0.28      0.37       302\n",
            "\n",
            "    accuracy                           0.73      1979\n",
            "   macro avg       0.68      0.66      0.66      1979\n",
            "weighted avg       0.72      0.73      0.72      1979\n",
            "\n"
          ],
          "name": "stdout"
        }
      ]
    },
    {
      "cell_type": "code",
      "metadata": {
        "colab": {
          "base_uri": "https://localhost:8080/",
          "height": 285
        },
        "id": "WkfIiDYOU6nQ",
        "outputId": "bb72ddd1-d62c-4c4c-9aef-4f136d080107"
      },
      "source": [
        "sns.heatmap(cf, annot=True,fmt='g')"
      ],
      "execution_count": 85,
      "outputs": [
        {
          "output_type": "execute_result",
          "data": {
            "text/plain": [
              "<matplotlib.axes._subplots.AxesSubplot at 0x7f308aff89d0>"
            ]
          },
          "metadata": {
            "tags": []
          },
          "execution_count": 85
        },
        {
          "output_type": "display_data",
          "data": {
            "image/png": "[encoded data removed]",
            "text/plain": [
              "<Figure size 432x288 with 2 Axes>"
            ]
          },
          "metadata": {
            "tags": [],
            "needs_background": "light"
          }
        }
      ]
    }
  ]
}