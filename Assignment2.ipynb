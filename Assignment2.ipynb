{
  "nbformat": 4,
  "nbformat_minor": 0,
  "metadata": {
    "kernelspec": {
      "display_name": "Python 3",
      "language": "python",
      "name": "python3"
    },
    "colab": {
      "name": "Untitled8.ipynb",
      "provenance": [],
      "collapsed_sections": [],
      "include_colab_link": true
    },
    "accelerator": "GPU"
  },
  "cells": [
    {
      "cell_type": "markdown",
      "metadata": {
        "id": "view-in-github",
        "colab_type": "text"
      },
      "source": [
        "<a href=\"https://colab.research.google.com/github/Sachin270/CMLAssignment2/blob/main/Assignment2.ipynb\" target=\"_parent\"><img src=\"https://colab.research.google.com/assets/colab-badge.svg\" alt=\"Open In Colab\"/></a>"
      ]
    },
    {
      "cell_type": "code",
      "metadata": {
        "id": "z1qAHC3MjyS6",
        "colab": {
          "base_uri": "https://localhost:8080/"
        },
        "outputId": "a525c08b-6950-422f-cc1e-2bb9be900c4e"
      },
      "source": [
        "from google.colab import drive\n",
        "drive.mount('/content/drive/')"
      ],
      "execution_count": 1,
      "outputs": [
        {
          "output_type": "stream",
          "text": [
            "Mounted at /content/drive/\n"
          ],
          "name": "stdout"
        }
      ]
    },
    {
      "cell_type": "code",
      "metadata": {
        "id": "qajKqQH2XQXj"
      },
      "source": [
        "while True:pass"
      ],
      "execution_count": null,
      "outputs": []
    },
    {
      "cell_type": "code",
      "metadata": {
        "id": "6nd7cdo3k-vl",
        "colab": {
          "base_uri": "https://localhost:8080/"
        },
        "outputId": "9a08c252-7012-45d2-db0b-4bdc31c6ccfa"
      },
      "source": [
        "!ls /content/drive/'MyDrive'/'Colab Notebooks'/"
      ],
      "execution_count": 2,
      "outputs": [
        {
          "output_type": "stream",
          "text": [
            " data_labels_extraData.csv\t      patch_images      Untitled1.ipynb\n",
            " data_labels_mainData.csv\t      Untitled\t       'Untitled8 (1).ipynb'\n",
            "'Image_classification_data (1).zip'   Untitled0.ipynb   Untitled8.ipynb\n"
          ],
          "name": "stdout"
        }
      ]
    },
    {
      "cell_type": "code",
      "metadata": {
        "colab": {
          "base_uri": "https://localhost:8080/"
        },
        "id": "0bMKIqgLlnuO",
        "outputId": "66aca8cf-947a-4ee7-e2a2-eca8d9a37343"
      },
      "source": [
        "!cp /content/drive/'MyDrive'/'Colab Notebooks'/'Image_classification_data (1).zip' .\n",
        "!unzip -q -o 'Image_classification_data (1).zip'\n",
        "!rm 'Image_classification_data (1).zip'\n",
        "!ls"
      ],
      "execution_count": 3,
      "outputs": [
        {
          "output_type": "stream",
          "text": [
            "data_labels_extraData.csv  drive     patch_images\n",
            "data_labels_mainData.csv   __MACOSX  sample_data\n"
          ],
          "name": "stdout"
        }
      ]
    },
    {
      "cell_type": "code",
      "metadata": {
        "colab": {
          "base_uri": "https://localhost:8080/"
        },
        "id": "-Et8H9SabmzV",
        "outputId": "ff49efd3-f86f-4ecf-fef6-8079bd943793"
      },
      "source": [
        "#Uncomment if on loca machine or AWS\n",
        "# import zipfile\n",
        "# with zipfile.ZipFile('./Image_classification_data (1).zip', 'r') as zip_ref:\n",
        "#     zip_ref.extractall('./')\n",
        "import numpy as np\n",
        "from sklearn.model_selection import train_test_split\n",
        "import pandas as pd\n",
        "\n",
        "data = pd.read_csv('./data_labels_mainData.csv')\n",
        "\n",
        "OUTPUT_CLASSES = 4\n",
        "\n",
        "\n",
        "# Uncomment the following line to do two class classification with\n",
        "# a subset of data\n",
        "# data = data[(data['Class'] == 3) | (data['Class'] == 5)]\n",
        "# OUTPUT_CLASSES = 2\n",
        "\n",
        "train_data, test_data = train_test_split(data, test_size=0.2, random_state=42)\n",
        "train_data, val_data = train_test_split(train_data, test_size=0.25, random_state=42)\n",
        "\n",
        "print(\"Train data : {}, Val Data: {}, Test Data: {}\".format(train_data.shape[0], val_data.shape[0], test_data.shape[0]))"
      ],
      "execution_count": 4,
      "outputs": [
        {
          "output_type": "stream",
          "text": [
            "Train data : 5937, Val Data: 1979, Test Data: 1980\n"
          ],
          "name": "stdout"
        }
      ]
    },
    {
      "cell_type": "code",
      "metadata": {
        "colab": {
          "base_uri": "https://localhost:8080/"
        },
        "id": "o0B93O-sbmzZ",
        "outputId": "0b19cd07-efc2-42bf-87c6-a4f3a5733aab"
      },
      "source": [
        "train_data['Class'] = train_data['cellType'].astype('str')\n",
        "val_data['Class'] = val_data['cellType'].astype('str')\n",
        "\n",
        "from tensorflow.keras.preprocessing.image import ImageDataGenerator\n",
        "\n",
        "train_datagen = ImageDataGenerator(rescale=1./255, data_format='channels_last')\n",
        "val_datagen = ImageDataGenerator(rescale=1./255, data_format='channels_last')\n",
        "\n",
        "batch_size = 50\n",
        "\n",
        "train_generator = train_datagen.flow_from_dataframe(\n",
        "        dataframe=train_data,\n",
        "        directory='./patch_images',\n",
        "        x_col=\"ImageName\",\n",
        "        y_col=\"Class\",\n",
        "        target_size=(27, 27),\n",
        "        batch_size=batch_size,\n",
        "        class_mode='sparse')\n",
        "\n",
        "validation_generator = val_datagen.flow_from_dataframe(\n",
        "        dataframe=val_data,\n",
        "        directory='./patch_images',\n",
        "        x_col=\"ImageName\",\n",
        "        y_col=\"Class\",\n",
        "        target_size=(27, 27),\n",
        "        batch_size=batch_size,\n",
        "        class_mode='sparse')"
      ],
      "execution_count": null,
      "outputs": [
        {
          "output_type": "stream",
          "text": [
            "Found 5937 validated image filenames belonging to 4 classes.\n",
            "Found 1979 validated image filenames belonging to 4 classes.\n"
          ],
          "name": "stdout"
        }
      ]
    },
    {
      "cell_type": "code",
      "metadata": {
        "id": "T7XgoneObmza"
      },
      "source": [
        "import matplotlib.pyplot as plt\n",
        "def plot_learning_curve(train_loss, val_loss, train_metric, val_metric, metric_name='Accuracy'):\n",
        "    plt.figure(figsize=(10,5))\n",
        "    \n",
        "    plt.subplot(1,2,1)\n",
        "    plt.plot(train_loss, 'r--')\n",
        "    plt.plot(val_loss, 'b--')\n",
        "    plt.xlabel(\"epochs\")\n",
        "    plt.ylabel(\"Loss\")\n",
        "    plt.legend(['train', 'val'], loc='upper left')\n",
        "\n",
        "    plt.subplot(1,2,2)\n",
        "    plt.plot(train_metric, 'r--')\n",
        "    plt.plot(val_metric, 'b--')\n",
        "    plt.xlabel(\"epochs\")\n",
        "    plt.ylabel(metric_name)\n",
        "    plt.legend(['train', 'val'], loc='upper left')\n",
        "\n",
        "    plt.show()"
      ],
      "execution_count": 5,
      "outputs": []
    },
    {
      "cell_type": "code",
      "metadata": {
        "id": "BOnJT90Jbmzb"
      },
      "source": [
        "import tensorflow as tf\n",
        "\n",
        "\n",
        "model_VGG_1 = tf.keras.Sequential([\n",
        "    #VGG block 1\n",
        "    tf.keras.layers.Conv2D(32, (3, 3), activation='relu', padding='same', input_shape=(27, 27, 3)),\n",
        "    tf.keras.layers.Conv2D(32, (3, 3), activation='relu', padding='same'),\n",
        "    tf.keras.layers.MaxPooling2D((2, 2)),\n",
        "    \n",
        "    #VGG block 2\n",
        "    tf.keras.layers.Conv2D(64, (3, 3), activation='relu', padding='same'),\n",
        "    tf.keras.layers.Conv2D(64, (3, 3), activation='relu', padding='same'),\n",
        "    tf.keras.layers.MaxPooling2D((2, 2)),\n",
        "    \n",
        "    #VGG block 3\n",
        "    tf.keras.layers.Conv2D(128, (3, 3), activation='relu', padding='same'),\n",
        "    tf.keras.layers.Conv2D(128, (3, 3), activation='relu', padding='same'),\n",
        "    tf.keras.layers.MaxPooling2D((2, 2)),\n",
        "    \n",
        "    tf.keras.layers.Flatten(),\n",
        "    tf.keras.layers.Dense(128, activation='relu'),\n",
        "    tf.keras.layers.Dense(OUTPUT_CLASSES),\n",
        "])"
      ],
      "execution_count": null,
      "outputs": []
    },
    {
      "cell_type": "code",
      "metadata": {
        "id": "eMl6xplCGpGq"
      },
      "source": [
        "from tensorflow.python.keras.metrics import Metric"
      ],
      "execution_count": null,
      "outputs": []
    },
    {
      "cell_type": "code",
      "metadata": {
        "id": "5rV_w1JDbmzc"
      },
      "source": [
        "model_VGG_1.compile(optimizer='adam',\n",
        "              loss=tf.keras.losses.SparseCategoricalCrossentropy(from_logits=True),\n",
        "              metrics=['sparse_categorical_accuracy',get_f1])"
      ],
      "execution_count": null,
      "outputs": []
    },
    {
      "cell_type": "code",
      "metadata": {
        "collapsed": true,
        "colab": {
          "base_uri": "https://localhost:8080/"
        },
        "id": "i-LJPz5ebmzd",
        "outputId": "f3cb8de6-49c1-4bd6-fe48-3ac57104d089"
      },
      "source": [
        "history_VGG_1 = model_VGG_1.fit(train_generator, validation_data = validation_generator, epochs=25)"
      ],
      "execution_count": null,
      "outputs": [
        {
          "output_type": "stream",
          "text": [
            "119/119 [==============================] - 34s 35ms/step - loss: 1.1581 - sparse_categorical_accuracy: 0.4886 - get_f1: 1.2176 - val_loss: 0.9793 - val_sparse_categorical_accuracy: 0.5766 - val_get_f1: 1.1997\n",
            "Epoch 2/25\n",
            "119/119 [==============================] - 4s 29ms/step - loss: 0.8393 - sparse_categorical_accuracy: 0.6742 - get_f1: 1.1341 - val_loss: 0.8086 - val_sparse_categorical_accuracy: 0.6842 - val_get_f1: 1.1500\n",
            "Epoch 3/25\n",
            "119/119 [==============================] - 4s 30ms/step - loss: 0.7652 - sparse_categorical_accuracy: 0.7014 - get_f1: 1.1659 - val_loss: 0.7491 - val_sparse_categorical_accuracy: 0.6993 - val_get_f1: 1.0959\n",
            "Epoch 4/25\n",
            "119/119 [==============================] - 4s 30ms/step - loss: 0.7293 - sparse_categorical_accuracy: 0.7118 - get_f1: 1.1488 - val_loss: 0.8516 - val_sparse_categorical_accuracy: 0.6478 - val_get_f1: 1.2007\n",
            "Epoch 5/25\n",
            "119/119 [==============================] - 4s 30ms/step - loss: 0.7017 - sparse_categorical_accuracy: 0.7229 - get_f1: 1.1615 - val_loss: 0.6832 - val_sparse_categorical_accuracy: 0.7266 - val_get_f1: 1.1074\n",
            "Epoch 6/25\n",
            "119/119 [==============================] - 4s 30ms/step - loss: 0.6716 - sparse_categorical_accuracy: 0.7369 - get_f1: 1.1461 - val_loss: 0.6470 - val_sparse_categorical_accuracy: 0.7468 - val_get_f1: 1.1636\n",
            "Epoch 7/25\n",
            "119/119 [==============================] - 4s 31ms/step - loss: 0.6466 - sparse_categorical_accuracy: 0.7561 - get_f1: 1.1507 - val_loss: 0.6546 - val_sparse_categorical_accuracy: 0.7499 - val_get_f1: 1.1236\n",
            "Epoch 8/25\n",
            "119/119 [==============================] - 4s 31ms/step - loss: 0.6369 - sparse_categorical_accuracy: 0.7504 - get_f1: 1.1402 - val_loss: 0.6742 - val_sparse_categorical_accuracy: 0.7362 - val_get_f1: 1.1059\n",
            "Epoch 9/25\n",
            "119/119 [==============================] - 4s 30ms/step - loss: 0.5989 - sparse_categorical_accuracy: 0.7706 - get_f1: 1.1418 - val_loss: 0.6775 - val_sparse_categorical_accuracy: 0.7191 - val_get_f1: 1.1104\n",
            "Epoch 10/25\n",
            "119/119 [==============================] - 4s 30ms/step - loss: 0.5604 - sparse_categorical_accuracy: 0.7863 - get_f1: 1.1348 - val_loss: 0.6382 - val_sparse_categorical_accuracy: 0.7544 - val_get_f1: 1.1083\n",
            "Epoch 11/25\n",
            "119/119 [==============================] - 4s 30ms/step - loss: 0.5548 - sparse_categorical_accuracy: 0.7861 - get_f1: 1.1220 - val_loss: 0.6355 - val_sparse_categorical_accuracy: 0.7479 - val_get_f1: 1.1206\n",
            "Epoch 12/25\n",
            "119/119 [==============================] - 4s 30ms/step - loss: 0.5156 - sparse_categorical_accuracy: 0.7991 - get_f1: 1.1184 - val_loss: 0.7348 - val_sparse_categorical_accuracy: 0.7393 - val_get_f1: 1.1171\n",
            "Epoch 13/25\n",
            "119/119 [==============================] - 4s 30ms/step - loss: 0.4697 - sparse_categorical_accuracy: 0.8253 - get_f1: 1.1269 - val_loss: 0.7057 - val_sparse_categorical_accuracy: 0.7458 - val_get_f1: 1.1062\n",
            "Epoch 14/25\n",
            "119/119 [==============================] - 4s 30ms/step - loss: 0.4259 - sparse_categorical_accuracy: 0.8393 - get_f1: 1.1201 - val_loss: 0.7934 - val_sparse_categorical_accuracy: 0.7317 - val_get_f1: 1.0853\n",
            "Epoch 15/25\n",
            "119/119 [==============================] - 4s 30ms/step - loss: 0.3885 - sparse_categorical_accuracy: 0.8541 - get_f1: 1.1070 - val_loss: 0.6750 - val_sparse_categorical_accuracy: 0.7494 - val_get_f1: 1.1203\n",
            "Epoch 16/25\n",
            "119/119 [==============================] - 4s 30ms/step - loss: 0.3471 - sparse_categorical_accuracy: 0.8705 - get_f1: 1.1153 - val_loss: 0.7312 - val_sparse_categorical_accuracy: 0.7676 - val_get_f1: 1.1177\n",
            "Epoch 17/25\n",
            "119/119 [==============================] - 4s 30ms/step - loss: 0.3072 - sparse_categorical_accuracy: 0.8892 - get_f1: 1.1112 - val_loss: 0.8013 - val_sparse_categorical_accuracy: 0.7665 - val_get_f1: 1.0994\n",
            "Epoch 18/25\n",
            "119/119 [==============================] - 4s 30ms/step - loss: 0.2503 - sparse_categorical_accuracy: 0.9070 - get_f1: 1.1047 - val_loss: 0.8663 - val_sparse_categorical_accuracy: 0.7297 - val_get_f1: 1.1327\n",
            "Epoch 19/25\n",
            "119/119 [==============================] - 4s 30ms/step - loss: 0.2198 - sparse_categorical_accuracy: 0.9197 - get_f1: 1.1023 - val_loss: 0.9658 - val_sparse_categorical_accuracy: 0.7408 - val_get_f1: 1.1498\n",
            "Epoch 20/25\n",
            "119/119 [==============================] - 4s 30ms/step - loss: 0.2062 - sparse_categorical_accuracy: 0.9252 - get_f1: 1.1056 - val_loss: 0.8381 - val_sparse_categorical_accuracy: 0.7539 - val_get_f1: 1.1286\n",
            "Epoch 21/25\n",
            "119/119 [==============================] - 4s 30ms/step - loss: 0.1389 - sparse_categorical_accuracy: 0.9498 - get_f1: 1.0884 - val_loss: 1.0688 - val_sparse_categorical_accuracy: 0.7337 - val_get_f1: 1.1195\n",
            "Epoch 22/25\n",
            "119/119 [==============================] - 4s 30ms/step - loss: 0.1436 - sparse_categorical_accuracy: 0.9483 - get_f1: 1.0783 - val_loss: 0.9860 - val_sparse_categorical_accuracy: 0.7423 - val_get_f1: 1.1176\n",
            "Epoch 23/25\n",
            "119/119 [==============================] - 4s 31ms/step - loss: 0.1687 - sparse_categorical_accuracy: 0.9390 - get_f1: 1.0803 - val_loss: 1.1848 - val_sparse_categorical_accuracy: 0.7226 - val_get_f1: 1.1233\n",
            "Epoch 24/25\n",
            "119/119 [==============================] - 4s 31ms/step - loss: 0.0898 - sparse_categorical_accuracy: 0.9682 - get_f1: 1.0776 - val_loss: 1.4304 - val_sparse_categorical_accuracy: 0.7110 - val_get_f1: 1.1050\n",
            "Epoch 25/25\n",
            "119/119 [==============================] - 4s 29ms/step - loss: 0.0664 - sparse_categorical_accuracy: 0.9771 - get_f1: 1.0716 - val_loss: 1.3895 - val_sparse_categorical_accuracy: 0.7372 - val_get_f1: 1.1196\n"
          ],
          "name": "stdout"
        }
      ]
    },
    {
      "cell_type": "code",
      "metadata": {
        "collapsed": true,
        "colab": {
          "base_uri": "https://localhost:8080/",
          "height": 337
        },
        "id": "lqSSl9nqbmzd",
        "outputId": "7c8ff8eb-faab-4846-db71-b183a5e3666a"
      },
      "source": [
        "plot_learning_curve(history_VGG_1.history['loss'], history_VGG_1.history['val_loss'], \n",
        "                    history_VGG_1.history['sparse_categorical_accuracy'], history_VGG_1.history['val_sparse_categorical_accuracy'], \n",
        "                    metric_name='Accuracy')"
      ],
      "execution_count": null,
      "outputs": [
        {
          "output_type": "display_data",
          "data": {
            "image/png": "[encoded data removed]",
            "text/plain": [
              "<Figure size 720x360 with 2 Axes>"
            ]
          },
          "metadata": {
            "tags": [],
            "needs_background": "light"
          }
        }
      ]
    },
    {
      "cell_type": "code",
      "metadata": {
        "id": "rpzgYttJbmzf"
      },
      "source": [
        "reg_lambda = 0.001\n",
        "\n",
        "model_VGG_2 = tf.keras.Sequential([\n",
        "    #VGG block 1\n",
        "    tf.keras.layers.Conv2D(27, (3, 3), activation='relu', padding='same', \n",
        "                           kernel_regularizer=tf.keras.regularizers.l2(reg_lambda), input_shape=(27, 27, 3)),\n",
        "    tf.keras.layers.Conv2D(27, (3, 3), activation='relu', padding='same', \n",
        "                           kernel_regularizer=tf.keras.regularizers.l2(reg_lambda)),\n",
        "    tf.keras.layers.MaxPooling2D((2, 2)),\n",
        "    \n",
        "    #VGG block 2\n",
        "    tf.keras.layers.Conv2D(54, (3, 3), activation='relu', padding='same', \n",
        "                           kernel_regularizer=tf.keras.regularizers.l2(reg_lambda)),\n",
        "    tf.keras.layers.Conv2D(54, (3, 3), activation='relu', padding='same', \n",
        "                           kernel_regularizer=tf.keras.regularizers.l2(reg_lambda)),\n",
        "    tf.keras.layers.MaxPooling2D((2, 2)),\n",
        "    \n",
        "    #VGG block 3\n",
        "    tf.keras.layers.Conv2D(108, (3, 3), activation='relu', padding='same', \n",
        "                           kernel_regularizer=tf.keras.regularizers.l2(reg_lambda)),\n",
        "    tf.keras.layers.Conv2D(108, (3, 3), activation='relu', padding='same', \n",
        "                           kernel_regularizer=tf.keras.regularizers.l2(reg_lambda)),\n",
        "    tf.keras.layers.MaxPooling2D((2, 2)),\n",
        "    \n",
        "    tf.keras.layers.Flatten(),\n",
        "    tf.keras.layers.Dense(108, activation='relu'),\n",
        "    tf.keras.layers.Dropout(.2),\n",
        "    tf.keras.layers.Dense(OUTPUT_CLASSES,activation='softmax'),\n",
        "])"
      ],
      "execution_count": null,
      "outputs": []
    },
    {
      "cell_type": "code",
      "metadata": {
        "id": "o9Rpr8Rhbmzg"
      },
      "source": [
        "model_VGG_2.compile(optimizer='adam',\n",
        "              loss=tf.keras.losses.SparseCategoricalCrossentropy(from_logits=True),\n",
        "              metrics=['sparse_categorical_accuracy'])"
      ],
      "execution_count": null,
      "outputs": []
    },
    {
      "cell_type": "code",
      "metadata": {
        "id": "sBLx_289bmzh"
      },
      "source": [
        "history_VGG_2 = model_VGG_2.fit(train_generator, validation_data = validation_generator, epochs=100)\n",
        "plot_learning_curve(history_VGG_2.history['loss'], history_VGG_2.history['val_loss'], \n",
        "                    history_VGG_2.history['sparse_categorical_accuracy'], history_VGG_2.history['val_sparse_categorical_accuracy'], \n",
        "                    metric_name='Accuracy')"
      ],
      "execution_count": null,
      "outputs": []
    },
    {
      "cell_type": "code",
      "metadata": {
        "colab": {
          "base_uri": "https://localhost:8080/"
        },
        "id": "e7jcn5E_bmzi",
        "outputId": "644e7bd1-b5dc-4204-a03b-7a1a028b2caf"
      },
      "source": [
        "model_VGG_2.evaluate(validation_generator)"
      ],
      "execution_count": null,
      "outputs": [
        {
          "output_type": "stream",
          "text": [
            "40/40 [==============================] - 1s 19ms/step - loss: 1.4398 - sparse_categorical_accuracy: 0.7458\n"
          ],
          "name": "stdout"
        },
        {
          "output_type": "execute_result",
          "data": {
            "text/plain": [
              "[1.4398329257965088, 0.7458312511444092]"
            ]
          },
          "metadata": {
            "tags": []
          },
          "execution_count": 18
        }
      ]
    },
    {
      "cell_type": "code",
      "metadata": {
        "colab": {
          "base_uri": "https://localhost:8080/"
        },
        "id": "yUy1w9iubmzi",
        "outputId": "06b9a933-a9ff-43c4-e789-a3029fa5e186"
      },
      "source": [
        "test_data['Class'] = test_data['cellType'].astype('str')\n",
        "\n",
        "test_datagen = ImageDataGenerator(rescale=1./255, data_format='channels_last')\n",
        "\n",
        "batch_size = 1\n",
        "\n",
        "test_generator = test_datagen.flow_from_dataframe(\n",
        "        dataframe=test_data,\n",
        "        directory='./patch_images',\n",
        "        x_col=\"ImageName\",\n",
        "        y_col=\"Class\",\n",
        "        target_size=(27, 27),\n",
        "        batch_size=batch_size,\n",
        "        class_mode='sparse')"
      ],
      "execution_count": 45,
      "outputs": [
        {
          "output_type": "stream",
          "text": [
            "Found 1980 validated image filenames belonging to 4 classes.\n"
          ],
          "name": "stdout"
        },
        {
          "output_type": "stream",
          "text": [
            "/usr/local/lib/python3.7/dist-packages/ipykernel_launcher.py:1: SettingWithCopyWarning: \n",
            "A value is trying to be set on a copy of a slice from a DataFrame.\n",
            "Try using .loc[row_indexer,col_indexer] = value instead\n",
            "\n",
            "See the caveats in the documentation: https://pandas.pydata.org/pandas-docs/stable/user_guide/indexing.html#returning-a-view-versus-a-copy\n",
            "  \"\"\"Entry point for launching an IPython kernel.\n"
          ],
          "name": "stderr"
        }
      ]
    },
    {
      "cell_type": "code",
      "metadata": {
        "colab": {
          "base_uri": "https://localhost:8080/"
        },
        "id": "jskuJCJcbmzj",
        "outputId": "0504b8f6-e103-4a33-d926-f0ecf51c417e"
      },
      "source": [
        "model_VGG_2.evaluate(test_generator)"
      ],
      "execution_count": null,
      "outputs": [
        {
          "output_type": "stream",
          "text": [
            "1980/1980 [==============================] - 9s 4ms/step - loss: 1.5789 - sparse_categorical_accuracy: 0.7283\n"
          ],
          "name": "stdout"
        },
        {
          "output_type": "execute_result",
          "data": {
            "text/plain": [
              "[1.578864574432373, 0.7282828092575073]"
            ]
          },
          "metadata": {
            "tags": []
          },
          "execution_count": 20
        }
      ]
    },
    {
      "cell_type": "code",
      "metadata": {
        "colab": {
          "base_uri": "https://localhost:8080/"
        },
        "id": "G2T24Helbmzj",
        "outputId": "c73af03f-7047-4a97-b839-d87d3f82dbcb"
      },
      "source": [
        "train_data['Class'] = train_data['cellType'].astype('str')\n",
        "val_data['Class'] = val_data['cellType'].astype('str')\n",
        "\n",
        "from tensorflow.keras.preprocessing.image import ImageDataGenerator\n",
        "\n",
        "train_datagen = ImageDataGenerator(rescale=1./255, data_format='channels_last',\n",
        "                                   rotation_range=15, width_shift_range=0.2,\n",
        "                                   height_shift_range=0.2, brightness_range=[0.5,1.5])\n",
        "val_datagen = ImageDataGenerator(rescale=1./255, data_format='channels_last')\n",
        "\n",
        "batch_size = 27\n",
        "\n",
        "train_generator = train_datagen.flow_from_dataframe(\n",
        "        dataframe=train_data,\n",
        "        directory='./patch_images',\n",
        "        x_col=\"ImageName\",\n",
        "        y_col=\"Class\",\n",
        "        target_size=(27, 27),\n",
        "        batch_size=batch_size,\n",
        "        class_mode='sparse')\n",
        "\n",
        "validation_generator = val_datagen.flow_from_dataframe(\n",
        "        dataframe=val_data,\n",
        "        directory='./patch_images',\n",
        "        x_col=\"ImageName\",\n",
        "        y_col=\"Class\",\n",
        "        target_size=(27, 27),\n",
        "        batch_size=batch_size,\n",
        "        class_mode='sparse')"
      ],
      "execution_count": 6,
      "outputs": [
        {
          "output_type": "stream",
          "text": [
            "Found 5937 validated image filenames belonging to 4 classes.\n",
            "Found 1979 validated image filenames belonging to 4 classes.\n"
          ],
          "name": "stdout"
        }
      ]
    },
    {
      "cell_type": "code",
      "metadata": {
        "id": "XQiA8cP6zqSd"
      },
      "source": [
        "import tensorflow as tf\n",
        "reg_lambda = 0.00001\n",
        "\n",
        "model_VGG_3 = tf.keras.Sequential([\n",
        "    #VGG block 1\n",
        "    tf.keras.layers.Conv2D(27, (3, 3), activation='relu', padding='same', \n",
        "                           kernel_regularizer=tf.keras.regularizers.l2(reg_lambda), input_shape=(27, 27, 3)),\n",
        "    tf.keras.layers.Conv2D(27, (3, 3), activation='relu', padding='same', \n",
        "                           kernel_regularizer=tf.keras.regularizers.l2(reg_lambda)),\n",
        "    tf.keras.layers.MaxPooling2D((2, 2)),\n",
        "    \n",
        "    #VGG block 2\n",
        "    tf.keras.layers.Conv2D(54, (3, 3), activation='relu', padding='same', \n",
        "                           kernel_regularizer=tf.keras.regularizers.l2(reg_lambda)),\n",
        "    tf.keras.layers.Conv2D(54, (3, 3), activation='relu', padding='same', \n",
        "                           kernel_regularizer=tf.keras.regularizers.l2(reg_lambda)),\n",
        "    tf.keras.layers.MaxPooling2D((2, 2)),\n",
        "    \n",
        "    #VGG block 3\n",
        "    tf.keras.layers.Conv2D(108, (3, 3), activation='relu', padding='same', \n",
        "                           kernel_regularizer=tf.keras.regularizers.l2(reg_lambda)),\n",
        "    tf.keras.layers.Conv2D(108, (3, 3), activation='relu', padding='same', \n",
        "                           kernel_regularizer=tf.keras.regularizers.l2(reg_lambda)),\n",
        "    tf.keras.layers.MaxPooling2D((2, 2)),\n",
        "    \n",
        "    tf.keras.layers.Flatten(),\n",
        "    tf.keras.layers.Dense(54, activation='relu'),\n",
        "    tf.keras.layers.Dropout(.2),\n",
        "    tf.keras.layers.Dense(OUTPUT_CLASSES,activation='softmax'),\n",
        "])"
      ],
      "execution_count": 7,
      "outputs": []
    },
    {
      "cell_type": "code",
      "metadata": {
        "id": "roIOfBW-zqU3"
      },
      "source": [
        "\n",
        "model_VGG_3.compile(tf.keras.optimizers.Adam(learning_rate=0.00001,name=\"Adam\"),\n",
        "              loss=tf.keras.losses.SparseCategoricalCrossentropy(from_logits=False),\n",
        "              metrics=['sparse_categorical_accuracy'])"
      ],
      "execution_count": 8,
      "outputs": []
    },
    {
      "cell_type": "code",
      "metadata": {
        "id": "qiDRcWMlxnrY"
      },
      "source": [
        "model_VGG_3.optimizer.get_config()"
      ],
      "execution_count": null,
      "outputs": []
    },
    {
      "cell_type": "code",
      "metadata": {
        "colab": {
          "base_uri": "https://localhost:8080/",
          "height": 1000
        },
        "id": "2A00fC7izqYv",
        "outputId": "e18f459d-39d7-4e42-ed6f-0a9f13e347d1"
      },
      "source": [
        "history_VGG_3 = model_VGG_3.fit(train_generator, validation_data = validation_generator, epochs=100)\n",
        "\n",
        "plot_learning_curve(history_VGG_3.history['loss'], history_VGG_3.history['val_loss'], \n",
        "                    history_VGG_3.history['sparse_categorical_accuracy'], history_VGG_3.history['val_sparse_categorical_accuracy'], \n",
        "                    metric_name='Accuracy')"
      ],
      "execution_count": 10,
      "outputs": [
        {
          "output_type": "stream",
          "text": [
            "Epoch 1/100\n",
            "220/220 [==============================] - 9s 41ms/step - loss: 0.7679 - sparse_categorical_accuracy: 0.7047 - val_loss: 0.7372 - val_sparse_categorical_accuracy: 0.7079\n",
            "Epoch 2/100\n",
            "220/220 [==============================] - 9s 40ms/step - loss: 0.7664 - sparse_categorical_accuracy: 0.7071 - val_loss: 0.7239 - val_sparse_categorical_accuracy: 0.7089\n",
            "Epoch 3/100\n",
            "220/220 [==============================] - 9s 40ms/step - loss: 0.7620 - sparse_categorical_accuracy: 0.7108 - val_loss: 0.7194 - val_sparse_categorical_accuracy: 0.7160\n",
            "Epoch 4/100\n",
            "220/220 [==============================] - 9s 40ms/step - loss: 0.7609 - sparse_categorical_accuracy: 0.7106 - val_loss: 0.7314 - val_sparse_categorical_accuracy: 0.7125\n",
            "Epoch 5/100\n",
            "220/220 [==============================] - 9s 40ms/step - loss: 0.7687 - sparse_categorical_accuracy: 0.7034 - val_loss: 0.7024 - val_sparse_categorical_accuracy: 0.7292\n",
            "Epoch 6/100\n",
            "220/220 [==============================] - 9s 41ms/step - loss: 0.7627 - sparse_categorical_accuracy: 0.7051 - val_loss: 0.7487 - val_sparse_categorical_accuracy: 0.6948\n",
            "Epoch 7/100\n",
            "220/220 [==============================] - 9s 40ms/step - loss: 0.7631 - sparse_categorical_accuracy: 0.7115 - val_loss: 0.7164 - val_sparse_categorical_accuracy: 0.7125\n",
            "Epoch 8/100\n",
            "220/220 [==============================] - 9s 40ms/step - loss: 0.7613 - sparse_categorical_accuracy: 0.7118 - val_loss: 0.7120 - val_sparse_categorical_accuracy: 0.7155\n",
            "Epoch 9/100\n",
            "220/220 [==============================] - 9s 41ms/step - loss: 0.7704 - sparse_categorical_accuracy: 0.7034 - val_loss: 0.7097 - val_sparse_categorical_accuracy: 0.7302\n",
            "Epoch 10/100\n",
            "220/220 [==============================] - 9s 41ms/step - loss: 0.7652 - sparse_categorical_accuracy: 0.7091 - val_loss: 0.7185 - val_sparse_categorical_accuracy: 0.7160\n",
            "Epoch 11/100\n",
            "220/220 [==============================] - 9s 41ms/step - loss: 0.7679 - sparse_categorical_accuracy: 0.7086 - val_loss: 0.7048 - val_sparse_categorical_accuracy: 0.7191\n",
            "Epoch 12/100\n",
            "220/220 [==============================] - 9s 41ms/step - loss: 0.7590 - sparse_categorical_accuracy: 0.7132 - val_loss: 0.7071 - val_sparse_categorical_accuracy: 0.7196\n",
            "Epoch 13/100\n",
            "220/220 [==============================] - 9s 41ms/step - loss: 0.7584 - sparse_categorical_accuracy: 0.7126 - val_loss: 0.6973 - val_sparse_categorical_accuracy: 0.7281\n",
            "Epoch 14/100\n",
            "220/220 [==============================] - 9s 40ms/step - loss: 0.7621 - sparse_categorical_accuracy: 0.7096 - val_loss: 0.6986 - val_sparse_categorical_accuracy: 0.7221\n",
            "Epoch 15/100\n",
            "220/220 [==============================] - 9s 40ms/step - loss: 0.7588 - sparse_categorical_accuracy: 0.7091 - val_loss: 0.7288 - val_sparse_categorical_accuracy: 0.7054\n",
            "Epoch 16/100\n",
            "220/220 [==============================] - 9s 40ms/step - loss: 0.7589 - sparse_categorical_accuracy: 0.7125 - val_loss: 0.7239 - val_sparse_categorical_accuracy: 0.7105\n",
            "Epoch 17/100\n",
            "220/220 [==============================] - 9s 40ms/step - loss: 0.7645 - sparse_categorical_accuracy: 0.7120 - val_loss: 0.7305 - val_sparse_categorical_accuracy: 0.7024\n",
            "Epoch 18/100\n",
            "220/220 [==============================] - 9s 40ms/step - loss: 0.7537 - sparse_categorical_accuracy: 0.7142 - val_loss: 0.7200 - val_sparse_categorical_accuracy: 0.7185\n",
            "Epoch 19/100\n",
            "220/220 [==============================] - 9s 40ms/step - loss: 0.7537 - sparse_categorical_accuracy: 0.7133 - val_loss: 0.7392 - val_sparse_categorical_accuracy: 0.7074\n",
            "Epoch 20/100\n",
            "220/220 [==============================] - 9s 40ms/step - loss: 0.7582 - sparse_categorical_accuracy: 0.7105 - val_loss: 0.7205 - val_sparse_categorical_accuracy: 0.7089\n",
            "Epoch 21/100\n",
            "220/220 [==============================] - 9s 41ms/step - loss: 0.7558 - sparse_categorical_accuracy: 0.7148 - val_loss: 0.7295 - val_sparse_categorical_accuracy: 0.7074\n",
            "Epoch 22/100\n",
            "220/220 [==============================] - 9s 40ms/step - loss: 0.7516 - sparse_categorical_accuracy: 0.7138 - val_loss: 0.7080 - val_sparse_categorical_accuracy: 0.7155\n",
            "Epoch 23/100\n",
            "220/220 [==============================] - 9s 40ms/step - loss: 0.7535 - sparse_categorical_accuracy: 0.7137 - val_loss: 0.6928 - val_sparse_categorical_accuracy: 0.7236\n",
            "Epoch 24/100\n",
            "220/220 [==============================] - 9s 41ms/step - loss: 0.7489 - sparse_categorical_accuracy: 0.7125 - val_loss: 0.7154 - val_sparse_categorical_accuracy: 0.7140\n",
            "Epoch 25/100\n",
            "220/220 [==============================] - 9s 40ms/step - loss: 0.7570 - sparse_categorical_accuracy: 0.7150 - val_loss: 0.6963 - val_sparse_categorical_accuracy: 0.7180\n",
            "Epoch 26/100\n",
            "220/220 [==============================] - 9s 40ms/step - loss: 0.7483 - sparse_categorical_accuracy: 0.7189 - val_loss: 0.7053 - val_sparse_categorical_accuracy: 0.7175\n",
            "Epoch 27/100\n",
            "220/220 [==============================] - 9s 40ms/step - loss: 0.7516 - sparse_categorical_accuracy: 0.7142 - val_loss: 0.7052 - val_sparse_categorical_accuracy: 0.7180\n",
            "Epoch 28/100\n",
            "220/220 [==============================] - 9s 41ms/step - loss: 0.7502 - sparse_categorical_accuracy: 0.7137 - val_loss: 0.7345 - val_sparse_categorical_accuracy: 0.7044\n",
            "Epoch 29/100\n",
            "220/220 [==============================] - 9s 41ms/step - loss: 0.7526 - sparse_categorical_accuracy: 0.7140 - val_loss: 0.7230 - val_sparse_categorical_accuracy: 0.7125\n",
            "Epoch 30/100\n",
            "220/220 [==============================] - 9s 40ms/step - loss: 0.7472 - sparse_categorical_accuracy: 0.7135 - val_loss: 0.7286 - val_sparse_categorical_accuracy: 0.7094\n",
            "Epoch 31/100\n",
            "220/220 [==============================] - 9s 40ms/step - loss: 0.7470 - sparse_categorical_accuracy: 0.7130 - val_loss: 0.7141 - val_sparse_categorical_accuracy: 0.7185\n",
            "Epoch 32/100\n",
            "220/220 [==============================] - 9s 41ms/step - loss: 0.7429 - sparse_categorical_accuracy: 0.7164 - val_loss: 0.7080 - val_sparse_categorical_accuracy: 0.7175\n",
            "Epoch 33/100\n",
            "220/220 [==============================] - 9s 40ms/step - loss: 0.7469 - sparse_categorical_accuracy: 0.7175 - val_loss: 0.6931 - val_sparse_categorical_accuracy: 0.7251\n",
            "Epoch 34/100\n",
            "220/220 [==============================] - 9s 40ms/step - loss: 0.7513 - sparse_categorical_accuracy: 0.7118 - val_loss: 0.6933 - val_sparse_categorical_accuracy: 0.7266\n",
            "Epoch 35/100\n",
            "220/220 [==============================] - 9s 41ms/step - loss: 0.7447 - sparse_categorical_accuracy: 0.7145 - val_loss: 0.7399 - val_sparse_categorical_accuracy: 0.7059\n",
            "Epoch 36/100\n",
            "220/220 [==============================] - 9s 40ms/step - loss: 0.7493 - sparse_categorical_accuracy: 0.7162 - val_loss: 0.7252 - val_sparse_categorical_accuracy: 0.7135\n",
            "Epoch 37/100\n",
            "220/220 [==============================] - 9s 40ms/step - loss: 0.7429 - sparse_categorical_accuracy: 0.7179 - val_loss: 0.7128 - val_sparse_categorical_accuracy: 0.7196\n",
            "Epoch 38/100\n",
            "220/220 [==============================] - 9s 41ms/step - loss: 0.7512 - sparse_categorical_accuracy: 0.7162 - val_loss: 0.7254 - val_sparse_categorical_accuracy: 0.7180\n",
            "Epoch 39/100\n",
            "220/220 [==============================] - 9s 41ms/step - loss: 0.7392 - sparse_categorical_accuracy: 0.7207 - val_loss: 0.7023 - val_sparse_categorical_accuracy: 0.7185\n",
            "Epoch 40/100\n",
            "220/220 [==============================] - 9s 41ms/step - loss: 0.7403 - sparse_categorical_accuracy: 0.7201 - val_loss: 0.6918 - val_sparse_categorical_accuracy: 0.7211\n",
            "Epoch 41/100\n",
            "220/220 [==============================] - 9s 41ms/step - loss: 0.7415 - sparse_categorical_accuracy: 0.7196 - val_loss: 0.7161 - val_sparse_categorical_accuracy: 0.7125\n",
            "Epoch 42/100\n",
            "220/220 [==============================] - 9s 41ms/step - loss: 0.7430 - sparse_categorical_accuracy: 0.7201 - val_loss: 0.7077 - val_sparse_categorical_accuracy: 0.7185\n",
            "Epoch 43/100\n",
            "220/220 [==============================] - 9s 41ms/step - loss: 0.7458 - sparse_categorical_accuracy: 0.7091 - val_loss: 0.7272 - val_sparse_categorical_accuracy: 0.7150\n",
            "Epoch 44/100\n",
            "220/220 [==============================] - 9s 41ms/step - loss: 0.7392 - sparse_categorical_accuracy: 0.7209 - val_loss: 0.7132 - val_sparse_categorical_accuracy: 0.7135\n",
            "Epoch 45/100\n",
            "220/220 [==============================] - 9s 40ms/step - loss: 0.7462 - sparse_categorical_accuracy: 0.7189 - val_loss: 0.7193 - val_sparse_categorical_accuracy: 0.7135\n",
            "Epoch 46/100\n",
            "220/220 [==============================] - 9s 40ms/step - loss: 0.7415 - sparse_categorical_accuracy: 0.7165 - val_loss: 0.7065 - val_sparse_categorical_accuracy: 0.7236\n",
            "Epoch 47/100\n",
            "220/220 [==============================] - 9s 40ms/step - loss: 0.7393 - sparse_categorical_accuracy: 0.7182 - val_loss: 0.7001 - val_sparse_categorical_accuracy: 0.7302\n",
            "Epoch 48/100\n",
            "220/220 [==============================] - 9s 40ms/step - loss: 0.7450 - sparse_categorical_accuracy: 0.7135 - val_loss: 0.6922 - val_sparse_categorical_accuracy: 0.7251\n",
            "Epoch 49/100\n",
            "220/220 [==============================] - 9s 40ms/step - loss: 0.7418 - sparse_categorical_accuracy: 0.7148 - val_loss: 0.7167 - val_sparse_categorical_accuracy: 0.7165\n",
            "Epoch 50/100\n",
            "220/220 [==============================] - 9s 41ms/step - loss: 0.7398 - sparse_categorical_accuracy: 0.7152 - val_loss: 0.6884 - val_sparse_categorical_accuracy: 0.7337\n",
            "Epoch 51/100\n",
            "220/220 [==============================] - 9s 40ms/step - loss: 0.7437 - sparse_categorical_accuracy: 0.7170 - val_loss: 0.7321 - val_sparse_categorical_accuracy: 0.7094\n",
            "Epoch 52/100\n",
            "220/220 [==============================] - 9s 41ms/step - loss: 0.7364 - sparse_categorical_accuracy: 0.7187 - val_loss: 0.7235 - val_sparse_categorical_accuracy: 0.7120\n",
            "Epoch 53/100\n",
            "220/220 [==============================] - 9s 40ms/step - loss: 0.7346 - sparse_categorical_accuracy: 0.7179 - val_loss: 0.7116 - val_sparse_categorical_accuracy: 0.7165\n",
            "Epoch 54/100\n",
            "220/220 [==============================] - 9s 41ms/step - loss: 0.7341 - sparse_categorical_accuracy: 0.7206 - val_loss: 0.6961 - val_sparse_categorical_accuracy: 0.7191\n",
            "Epoch 55/100\n",
            "220/220 [==============================] - 9s 40ms/step - loss: 0.7386 - sparse_categorical_accuracy: 0.7201 - val_loss: 0.7193 - val_sparse_categorical_accuracy: 0.7221\n",
            "Epoch 56/100\n",
            "220/220 [==============================] - 9s 41ms/step - loss: 0.7298 - sparse_categorical_accuracy: 0.7241 - val_loss: 0.6868 - val_sparse_categorical_accuracy: 0.7256\n",
            "Epoch 57/100\n",
            "220/220 [==============================] - 9s 40ms/step - loss: 0.7325 - sparse_categorical_accuracy: 0.7155 - val_loss: 0.7020 - val_sparse_categorical_accuracy: 0.7256\n",
            "Epoch 58/100\n",
            "220/220 [==============================] - 9s 41ms/step - loss: 0.7351 - sparse_categorical_accuracy: 0.7202 - val_loss: 0.7021 - val_sparse_categorical_accuracy: 0.7211\n",
            "Epoch 59/100\n",
            "220/220 [==============================] - 9s 41ms/step - loss: 0.7263 - sparse_categorical_accuracy: 0.7223 - val_loss: 0.7117 - val_sparse_categorical_accuracy: 0.7251\n",
            "Epoch 60/100\n",
            "220/220 [==============================] - 9s 40ms/step - loss: 0.7293 - sparse_categorical_accuracy: 0.7258 - val_loss: 0.6984 - val_sparse_categorical_accuracy: 0.7256\n",
            "Epoch 61/100\n",
            "220/220 [==============================] - 9s 41ms/step - loss: 0.7285 - sparse_categorical_accuracy: 0.7258 - val_loss: 0.7265 - val_sparse_categorical_accuracy: 0.7110\n",
            "Epoch 62/100\n",
            "220/220 [==============================] - 9s 41ms/step - loss: 0.7281 - sparse_categorical_accuracy: 0.7219 - val_loss: 0.7135 - val_sparse_categorical_accuracy: 0.7180\n",
            "Epoch 63/100\n",
            "220/220 [==============================] - 9s 41ms/step - loss: 0.7317 - sparse_categorical_accuracy: 0.7197 - val_loss: 0.7406 - val_sparse_categorical_accuracy: 0.7044\n",
            "Epoch 64/100\n",
            "220/220 [==============================] - 9s 41ms/step - loss: 0.7276 - sparse_categorical_accuracy: 0.7221 - val_loss: 0.6789 - val_sparse_categorical_accuracy: 0.7327\n",
            "Epoch 65/100\n",
            "220/220 [==============================] - 9s 41ms/step - loss: 0.7306 - sparse_categorical_accuracy: 0.7197 - val_loss: 0.6880 - val_sparse_categorical_accuracy: 0.7312\n",
            "Epoch 66/100\n",
            "220/220 [==============================] - 9s 41ms/step - loss: 0.7299 - sparse_categorical_accuracy: 0.7233 - val_loss: 0.6941 - val_sparse_categorical_accuracy: 0.7302\n",
            "Epoch 67/100\n",
            "220/220 [==============================] - 9s 41ms/step - loss: 0.7333 - sparse_categorical_accuracy: 0.7182 - val_loss: 0.7180 - val_sparse_categorical_accuracy: 0.7145\n",
            "Epoch 68/100\n",
            "220/220 [==============================] - 9s 41ms/step - loss: 0.7302 - sparse_categorical_accuracy: 0.7174 - val_loss: 0.6817 - val_sparse_categorical_accuracy: 0.7302\n",
            "Epoch 69/100\n",
            "220/220 [==============================] - 9s 41ms/step - loss: 0.7260 - sparse_categorical_accuracy: 0.7265 - val_loss: 0.6922 - val_sparse_categorical_accuracy: 0.7347\n",
            "Epoch 70/100\n",
            "220/220 [==============================] - 9s 40ms/step - loss: 0.7335 - sparse_categorical_accuracy: 0.7180 - val_loss: 0.7387 - val_sparse_categorical_accuracy: 0.7069\n",
            "Epoch 71/100\n",
            "220/220 [==============================] - 9s 41ms/step - loss: 0.7287 - sparse_categorical_accuracy: 0.7217 - val_loss: 0.7039 - val_sparse_categorical_accuracy: 0.7231\n",
            "Epoch 72/100\n",
            "220/220 [==============================] - 9s 41ms/step - loss: 0.7240 - sparse_categorical_accuracy: 0.7243 - val_loss: 0.6973 - val_sparse_categorical_accuracy: 0.7312\n",
            "Epoch 73/100\n",
            "220/220 [==============================] - 9s 41ms/step - loss: 0.7248 - sparse_categorical_accuracy: 0.7265 - val_loss: 0.7082 - val_sparse_categorical_accuracy: 0.7281\n",
            "Epoch 74/100\n",
            "220/220 [==============================] - 9s 41ms/step - loss: 0.7278 - sparse_categorical_accuracy: 0.7209 - val_loss: 0.6752 - val_sparse_categorical_accuracy: 0.7372\n",
            "Epoch 75/100\n",
            "220/220 [==============================] - 9s 41ms/step - loss: 0.7235 - sparse_categorical_accuracy: 0.7273 - val_loss: 0.6699 - val_sparse_categorical_accuracy: 0.7418\n",
            "Epoch 76/100\n",
            "220/220 [==============================] - 9s 41ms/step - loss: 0.7257 - sparse_categorical_accuracy: 0.7260 - val_loss: 0.6843 - val_sparse_categorical_accuracy: 0.7287\n",
            "Epoch 77/100\n",
            "220/220 [==============================] - 9s 41ms/step - loss: 0.7267 - sparse_categorical_accuracy: 0.7207 - val_loss: 0.7032 - val_sparse_categorical_accuracy: 0.7231\n",
            "Epoch 78/100\n",
            "220/220 [==============================] - 9s 41ms/step - loss: 0.7196 - sparse_categorical_accuracy: 0.7278 - val_loss: 0.7111 - val_sparse_categorical_accuracy: 0.7231\n",
            "Epoch 79/100\n",
            "220/220 [==============================] - 9s 42ms/step - loss: 0.7232 - sparse_categorical_accuracy: 0.7241 - val_loss: 0.6901 - val_sparse_categorical_accuracy: 0.7256\n",
            "Epoch 80/100\n",
            "220/220 [==============================] - 9s 42ms/step - loss: 0.7284 - sparse_categorical_accuracy: 0.7197 - val_loss: 0.6742 - val_sparse_categorical_accuracy: 0.7398\n",
            "Epoch 81/100\n",
            "220/220 [==============================] - 9s 41ms/step - loss: 0.7240 - sparse_categorical_accuracy: 0.7248 - val_loss: 0.6896 - val_sparse_categorical_accuracy: 0.7302\n",
            "Epoch 82/100\n",
            "220/220 [==============================] - 9s 41ms/step - loss: 0.7214 - sparse_categorical_accuracy: 0.7256 - val_loss: 0.7029 - val_sparse_categorical_accuracy: 0.7241\n",
            "Epoch 83/100\n",
            "220/220 [==============================] - 9s 41ms/step - loss: 0.7193 - sparse_categorical_accuracy: 0.7261 - val_loss: 0.6842 - val_sparse_categorical_accuracy: 0.7327\n",
            "Epoch 84/100\n",
            "220/220 [==============================] - 9s 41ms/step - loss: 0.7223 - sparse_categorical_accuracy: 0.7219 - val_loss: 0.6890 - val_sparse_categorical_accuracy: 0.7302\n",
            "Epoch 85/100\n",
            "220/220 [==============================] - 9s 41ms/step - loss: 0.7197 - sparse_categorical_accuracy: 0.7290 - val_loss: 0.6974 - val_sparse_categorical_accuracy: 0.7347\n",
            "Epoch 86/100\n",
            "220/220 [==============================] - 9s 41ms/step - loss: 0.7193 - sparse_categorical_accuracy: 0.7241 - val_loss: 0.7183 - val_sparse_categorical_accuracy: 0.7191\n",
            "Epoch 87/100\n",
            "220/220 [==============================] - 9s 41ms/step - loss: 0.7172 - sparse_categorical_accuracy: 0.7255 - val_loss: 0.6836 - val_sparse_categorical_accuracy: 0.7408\n",
            "Epoch 88/100\n",
            "220/220 [==============================] - 9s 41ms/step - loss: 0.7193 - sparse_categorical_accuracy: 0.7256 - val_loss: 0.6890 - val_sparse_categorical_accuracy: 0.7332\n",
            "Epoch 89/100\n",
            "220/220 [==============================] - 9s 41ms/step - loss: 0.7132 - sparse_categorical_accuracy: 0.7292 - val_loss: 0.6781 - val_sparse_categorical_accuracy: 0.7393\n",
            "Epoch 90/100\n",
            "220/220 [==============================] - 9s 41ms/step - loss: 0.7180 - sparse_categorical_accuracy: 0.7238 - val_loss: 0.7069 - val_sparse_categorical_accuracy: 0.7256\n",
            "Epoch 91/100\n",
            "220/220 [==============================] - 9s 41ms/step - loss: 0.7190 - sparse_categorical_accuracy: 0.7312 - val_loss: 0.6853 - val_sparse_categorical_accuracy: 0.7302\n",
            "Epoch 92/100\n",
            "220/220 [==============================] - 9s 41ms/step - loss: 0.7206 - sparse_categorical_accuracy: 0.7216 - val_loss: 0.6954 - val_sparse_categorical_accuracy: 0.7251\n",
            "Epoch 93/100\n",
            "220/220 [==============================] - 9s 42ms/step - loss: 0.7190 - sparse_categorical_accuracy: 0.7280 - val_loss: 0.6867 - val_sparse_categorical_accuracy: 0.7302\n",
            "Epoch 94/100\n",
            "220/220 [==============================] - 9s 42ms/step - loss: 0.7145 - sparse_categorical_accuracy: 0.7315 - val_loss: 0.6855 - val_sparse_categorical_accuracy: 0.7337\n",
            "Epoch 95/100\n",
            "220/220 [==============================] - 9s 43ms/step - loss: 0.7169 - sparse_categorical_accuracy: 0.7236 - val_loss: 0.7226 - val_sparse_categorical_accuracy: 0.7170\n",
            "Epoch 96/100\n",
            "220/220 [==============================] - 9s 42ms/step - loss: 0.7171 - sparse_categorical_accuracy: 0.7300 - val_loss: 0.6908 - val_sparse_categorical_accuracy: 0.7276\n",
            "Epoch 97/100\n",
            "220/220 [==============================] - 9s 43ms/step - loss: 0.7129 - sparse_categorical_accuracy: 0.7249 - val_loss: 0.6723 - val_sparse_categorical_accuracy: 0.7438\n",
            "Epoch 98/100\n",
            "220/220 [==============================] - 9s 43ms/step - loss: 0.7110 - sparse_categorical_accuracy: 0.7260 - val_loss: 0.6929 - val_sparse_categorical_accuracy: 0.7307\n",
            "Epoch 99/100\n",
            "220/220 [==============================] - 9s 43ms/step - loss: 0.7115 - sparse_categorical_accuracy: 0.7260 - val_loss: 0.6899 - val_sparse_categorical_accuracy: 0.7347\n",
            "Epoch 100/100\n",
            "220/220 [==============================] - 9s 43ms/step - loss: 0.7124 - sparse_categorical_accuracy: 0.7295 - val_loss: 0.6898 - val_sparse_categorical_accuracy: 0.7307\n"
          ],
          "name": "stdout"
        },
        {
          "output_type": "display_data",
          "data": {
            "image/png": "[encoded data removed]",
            "text/plain": [
              "<Figure size 720x360 with 2 Axes>"
            ]
          },
          "metadata": {
            "tags": [],
            "needs_background": "light"
          }
        }
      ]
    },
    {
      "cell_type": "code",
      "metadata": {
        "colab": {
          "base_uri": "https://localhost:8080/"
        },
        "id": "SzxwmN100DPt",
        "outputId": "18f49134-3eb2-458f-adfe-66455359ebae"
      },
      "source": [
        "model_VGG_3.evaluate(validation_generator)"
      ],
      "execution_count": null,
      "outputs": [
        {
          "output_type": "stream",
          "text": [
            "74/74 [==============================] - 1s 11ms/step - loss: 0.7381 - sparse_categorical_accuracy: 0.7433\n"
          ],
          "name": "stdout"
        },
        {
          "output_type": "execute_result",
          "data": {
            "text/plain": [
              "[0.7381166815757751, 0.7433046698570251]"
            ]
          },
          "metadata": {
            "tags": []
          },
          "execution_count": 36
        }
      ]
    },
    {
      "cell_type": "code",
      "metadata": {
        "id": "kfxFrORplQaW"
      },
      "source": [
        "pred= model_VGG_3.predict(train_generator)"
      ],
      "execution_count": 74,
      "outputs": []
    },
    {
      "cell_type": "code",
      "metadata": {
        "id": "XmFY3MxMc7jw"
      },
      "source": [
        "pred1= np.argmax(pred,axis=1)"
      ],
      "execution_count": 75,
      "outputs": []
    },
    {
      "cell_type": "code",
      "metadata": {
        "id": "j5QQv4Xdc7mD"
      },
      "source": [
        "test_generator.classes"
      ],
      "execution_count": null,
      "outputs": []
    },
    {
      "cell_type": "code",
      "metadata": {
        "colab": {
          "base_uri": "https://localhost:8080/"
        },
        "id": "OevkSBUEvLdu",
        "outputId": "d1a5cca0-01d5-4d15-db7e-12d1ead75752"
      },
      "source": [
        "pred1.shape"
      ],
      "execution_count": 67,
      "outputs": [
        {
          "output_type": "execute_result",
          "data": {
            "text/plain": [
              "(1980,)"
            ]
          },
          "metadata": {
            "tags": []
          },
          "execution_count": 67
        }
      ]
    },
    {
      "cell_type": "code",
      "metadata": {
        "id": "-jMWuA5ssGaO"
      },
      "source": [
        "target =['0','1','2','3']"
      ],
      "execution_count": 57,
      "outputs": []
    },
    {
      "cell_type": "code",
      "metadata": {
        "id": "FXchcRtAc7pg",
        "colab": {
          "base_uri": "https://localhost:8080/"
        },
        "outputId": "778a7ff3-05ac-413d-c9e2-decc28ea54d9"
      },
      "source": [
        "from sklearn.metrics import classification_report\n",
        "from sklearn.metrics import confusion_matrix, accuracy_score, f1_score\n",
        "\n",
        "print( accuracy_score(train_generator.classes, pred1 ))"
      ],
      "execution_count": 76,
      "outputs": [
        {
          "output_type": "stream",
          "text": [
            "0.3217113020043793\n"
          ],
          "name": "stdout"
        }
      ]
    },
    {
      "cell_type": "code",
      "metadata": {
        "colab": {
          "base_uri": "https://localhost:8080/"
        },
        "id": "IzYNE8BUxQIW",
        "outputId": "a444e82e-7df7-4f66-8271-8b64be58d530"
      },
      "source": [
        "# setup data some placeholders\n",
        "y_hat_all = list()\n",
        "y_all = list()\n",
        "filenames = validation_generator.filenames\n",
        "N_images = len(filenames)\n",
        "batches = 0\n",
        "\n",
        "# iterate through the data generator and predict for each batch\n",
        "# hold the predictions and labels\n",
        "for x,y in validation_generator:\n",
        "        y_hat = model_VGG_3.predict(x, verbose=0)\n",
        "        y_hat = np.argmax(y_hat, axis = 1)\n",
        "        # y = np.argmax(y, axis = 1)\n",
        "        y_hat_all = y_hat_all + y_hat.tolist()\n",
        "        y_all = y_all + y.tolist()\n",
        "\n",
        "        batches += 1\n",
        "        if batches >= N_images / batch_size_:\n",
        "            break\n",
        "\n",
        "# now you have made the predictions you can use any performance metric\n",
        "# you wish: either in sklearn or some function you have written\n",
        "\n",
        "from sklearn.metrics import classification_report\n",
        "from sklearn.metrics import confusion_matrix, accuracy_score, f1_score\n",
        "\n",
        "print(\"Accuracy score: \", accuracy_score(y_all, y_hat_all))\n",
        "print(\"F1 score: \", f1_score(y_all, y_hat_all, average='macro'))\n",
        "print(confusion_matrix(y_all, y_hat_all))"
      ],
      "execution_count": 88,
      "outputs": [
        {
          "output_type": "stream",
          "text": [
            "Accuracy score:  0.7703514739229025\n",
            "F1 score:  0.7089611032527133\n",
            "[[ 8881   716   425   213]\n",
            " [ 1365 11107   745   348]\n",
            " [ 2620   725 18295    26]\n",
            " [ 2144  2292   534  2484]]\n"
          ],
          "name": "stdout"
        }
      ]
    }
  ]
}