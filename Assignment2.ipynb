{
  "nbformat": 4,
  "nbformat_minor": 0,
  "metadata": {
    "kernelspec": {
      "display_name": "Python 3",
      "language": "python",
      "name": "python3"
    },
    "colab": {
      "name": "Assignment2.ipynb",
      "provenance": [],
      "collapsed_sections": [],
      "include_colab_link": true
    },
    "accelerator": "GPU"
  },
  "cells": [
    {
      "cell_type": "markdown",
      "metadata": {
        "id": "view-in-github",
        "colab_type": "text"
      },
      "source": [
        "<a href=\"https://colab.research.google.com/github/Sachin270/CMLAssignment2/blob/main/Assignment2.ipynb\" target=\"_parent\"><img src=\"https://colab.research.google.com/assets/colab-badge.svg\" alt=\"Open In Colab\"/></a>"
      ]
    },
    {
      "cell_type": "code",
      "metadata": {
        "id": "z1qAHC3MjyS6",
        "colab": {
          "base_uri": "https://localhost:8080/"
        },
        "outputId": "5204c845-71a4-4ab8-958d-80bdbb23380c"
      },
      "source": [
        "from google.colab import drive\n",
        "drive.mount('/content/drive/')"
      ],
      "execution_count": null,
      "outputs": [
        {
          "output_type": "stream",
          "text": [
            "Mounted at /content/drive/\n"
          ],
          "name": "stdout"
        }
      ]
    },
    {
      "cell_type": "code",
      "metadata": {
        "id": "6nd7cdo3k-vl",
        "colab": {
          "base_uri": "https://localhost:8080/"
        },
        "outputId": "6962d0e0-153a-4f7d-9f65-2c9d18f0494d"
      },
      "source": [
        "!ls /content/drive/'MyDrive'/'Colab Notebooks'/"
      ],
      "execution_count": null,
      "outputs": [
        {
          "output_type": "stream",
          "text": [
            "'Assignment2 (1).ipynb'       Image_classification_data.zip\n",
            " Assignment2.ipynb\t      patch_images\n",
            " Assignment2_s3714805.ipynb   Untitled0.ipynb\n",
            " CMLAssignment2-main.zip      Untitled2.ipynb\n",
            " data_labels_extraData.csv   'Untitled8 (1).ipynb'\n",
            " data_labels_mainData.csv     Untitled8.ipynb\n"
          ],
          "name": "stdout"
        }
      ]
    },
    {
      "cell_type": "code",
      "metadata": {
        "colab": {
          "base_uri": "https://localhost:8080/"
        },
        "id": "0bMKIqgLlnuO",
        "outputId": "2ebe0518-8ab0-4138-cdaa-53a9f9d6045a"
      },
      "source": [
        "!cp /content/drive/'MyDrive'/'Colab Notebooks'/'Image_classification_data.zip' .\n",
        "!unzip -q -o 'Image_classification_data.zip'\n",
        "!rm 'Image_classification_data.zip'\n",
        "!ls"
      ],
      "execution_count": null,
      "outputs": [
        {
          "output_type": "stream",
          "text": [
            "data_labels_extraData.csv  drive     patch_images\n",
            "data_labels_mainData.csv   __MACOSX  sample_data\n"
          ],
          "name": "stdout"
        }
      ]
    },
    {
      "cell_type": "code",
      "metadata": {
        "id": "2jT94zbI8AFj"
      },
      "source": [
        "import numpy as np\n",
        "from sklearn.model_selection import train_test_split\n",
        "import pandas as pd\n",
        "from tensorflow.keras.preprocessing.image import ImageDataGenerator\n",
        "import seaborn as sns\n",
        "from tensorflow.keras.layers import Dense\n",
        "import tensorflow as tf"
      ],
      "execution_count": null,
      "outputs": []
    },
    {
      "cell_type": "code",
      "metadata": {
        "colab": {
          "base_uri": "https://localhost:8080/"
        },
        "id": "G9jD8i0R8EdU",
        "outputId": "1d6a3a88-ea74-41d5-ef4a-c4a993da33f9"
      },
      "source": [
        "data = pd.read_csv('./data_labels_mainData.csv')\n",
        "OUTPUT_CLASSES = 4\n",
        "data.columns"
      ],
      "execution_count": null,
      "outputs": [
        {
          "output_type": "execute_result",
          "data": {
            "text/plain": [
              "Index(['InstanceID', 'patientID', 'ImageName', 'cellTypeName', 'cellType',\n",
              "       'isCancerous'],\n",
              "      dtype='object')"
            ]
          },
          "metadata": {
            "tags": []
          },
          "execution_count": 7
        }
      ]
    },
    {
      "cell_type": "markdown",
      "metadata": {
        "id": "DeB1swCGHROl"
      },
      "source": [
        "# New Section"
      ]
    },
    {
      "cell_type": "code",
      "metadata": {
        "colab": {
          "base_uri": "https://localhost:8080/",
          "height": 204
        },
        "id": "a8lGZ9ey8haF",
        "outputId": "fa64489e-48c0-41fc-de15-e3fe00ec2a14"
      },
      "source": [
        "data.groupby('cellTypeName').agg('count')"
      ],
      "execution_count": null,
      "outputs": [
        {
          "output_type": "execute_result",
          "data": {
            "text/html": [
              "<div>\n",
              "<style scoped>\n",
              "    .dataframe tbody tr th:only-of-type {\n",
              "        vertical-align: middle;\n",
              "    }\n",
              "\n",
              "    .dataframe tbody tr th {\n",
              "        vertical-align: top;\n",
              "    }\n",
              "\n",
              "    .dataframe thead th {\n",
              "        text-align: right;\n",
              "    }\n",
              "</style>\n",
              "<table border=\"1\" class=\"dataframe\">\n",
              "  <thead>\n",
              "    <tr style=\"text-align: right;\">\n",
              "      <th></th>\n",
              "      <th>InstanceID</th>\n",
              "      <th>patientID</th>\n",
              "      <th>ImageName</th>\n",
              "      <th>cellType</th>\n",
              "      <th>isCancerous</th>\n",
              "    </tr>\n",
              "    <tr>\n",
              "      <th>cellTypeName</th>\n",
              "      <th></th>\n",
              "      <th></th>\n",
              "      <th></th>\n",
              "      <th></th>\n",
              "      <th></th>\n",
              "    </tr>\n",
              "  </thead>\n",
              "  <tbody>\n",
              "    <tr>\n",
              "      <th>epithelial</th>\n",
              "      <td>4079</td>\n",
              "      <td>4079</td>\n",
              "      <td>4079</td>\n",
              "      <td>4079</td>\n",
              "      <td>4079</td>\n",
              "    </tr>\n",
              "    <tr>\n",
              "      <th>fibroblast</th>\n",
              "      <td>1888</td>\n",
              "      <td>1888</td>\n",
              "      <td>1888</td>\n",
              "      <td>1888</td>\n",
              "      <td>1888</td>\n",
              "    </tr>\n",
              "    <tr>\n",
              "      <th>inflammatory</th>\n",
              "      <td>2543</td>\n",
              "      <td>2543</td>\n",
              "      <td>2543</td>\n",
              "      <td>2543</td>\n",
              "      <td>2543</td>\n",
              "    </tr>\n",
              "    <tr>\n",
              "      <th>others</th>\n",
              "      <td>1386</td>\n",
              "      <td>1386</td>\n",
              "      <td>1386</td>\n",
              "      <td>1386</td>\n",
              "      <td>1386</td>\n",
              "    </tr>\n",
              "  </tbody>\n",
              "</table>\n",
              "</div>"
            ],
            "text/plain": [
              "              InstanceID  patientID  ImageName  cellType  isCancerous\n",
              "cellTypeName                                                         \n",
              "epithelial          4079       4079       4079      4079         4079\n",
              "fibroblast          1888       1888       1888      1888         1888\n",
              "inflammatory        2543       2543       2543      2543         2543\n",
              "others              1386       1386       1386      1386         1386"
            ]
          },
          "metadata": {
            "tags": []
          },
          "execution_count": 6
        }
      ]
    },
    {
      "cell_type": "code",
      "metadata": {
        "colab": {
          "base_uri": "https://localhost:8080/",
          "height": 296
        },
        "id": "vOdXFD1V-Pdh",
        "outputId": "491c2fe5-2fbf-4ed3-eeac-a2ca715dff52"
      },
      "source": [
        "sns.barplot(x=data.groupby('cellTypeName').agg('count').index, \n",
        "            y='cellType',\n",
        "            data=data.groupby('cellTypeName').agg('count'))"
      ],
      "execution_count": null,
      "outputs": [
        {
          "output_type": "execute_result",
          "data": {
            "text/plain": [
              "<matplotlib.axes._subplots.AxesSubplot at 0x7fc0784ac910>"
            ]
          },
          "metadata": {
            "tags": []
          },
          "execution_count": 7
        },
        {
          "output_type": "display_data",
          "data": {
            "image/png": "[encoded data removed]",
            "text/plain": [
              "<Figure size 432x288 with 1 Axes>"
            ]
          },
          "metadata": {
            "tags": [],
            "needs_background": "light"
          }
        }
      ]
    },
    {
      "cell_type": "code",
      "metadata": {
        "colab": {
          "base_uri": "https://localhost:8080/",
          "height": 142
        },
        "id": "lAaRLxjf-PaV",
        "outputId": "49e1308d-f88e-4fd0-a941-5f6e8cca543f"
      },
      "source": [
        "data.groupby('isCancerous').agg('count')"
      ],
      "execution_count": null,
      "outputs": [
        {
          "output_type": "execute_result",
          "data": {
            "text/html": [
              "<div>\n",
              "<style scoped>\n",
              "    .dataframe tbody tr th:only-of-type {\n",
              "        vertical-align: middle;\n",
              "    }\n",
              "\n",
              "    .dataframe tbody tr th {\n",
              "        vertical-align: top;\n",
              "    }\n",
              "\n",
              "    .dataframe thead th {\n",
              "        text-align: right;\n",
              "    }\n",
              "</style>\n",
              "<table border=\"1\" class=\"dataframe\">\n",
              "  <thead>\n",
              "    <tr style=\"text-align: right;\">\n",
              "      <th></th>\n",
              "      <th>InstanceID</th>\n",
              "      <th>patientID</th>\n",
              "      <th>ImageName</th>\n",
              "      <th>cellTypeName</th>\n",
              "      <th>cellType</th>\n",
              "    </tr>\n",
              "    <tr>\n",
              "      <th>isCancerous</th>\n",
              "      <th></th>\n",
              "      <th></th>\n",
              "      <th></th>\n",
              "      <th></th>\n",
              "      <th></th>\n",
              "    </tr>\n",
              "  </thead>\n",
              "  <tbody>\n",
              "    <tr>\n",
              "      <th>0</th>\n",
              "      <td>5817</td>\n",
              "      <td>5817</td>\n",
              "      <td>5817</td>\n",
              "      <td>5817</td>\n",
              "      <td>5817</td>\n",
              "    </tr>\n",
              "    <tr>\n",
              "      <th>1</th>\n",
              "      <td>4079</td>\n",
              "      <td>4079</td>\n",
              "      <td>4079</td>\n",
              "      <td>4079</td>\n",
              "      <td>4079</td>\n",
              "    </tr>\n",
              "  </tbody>\n",
              "</table>\n",
              "</div>"
            ],
            "text/plain": [
              "             InstanceID  patientID  ImageName  cellTypeName  cellType\n",
              "isCancerous                                                          \n",
              "0                  5817       5817       5817          5817      5817\n",
              "1                  4079       4079       4079          4079      4079"
            ]
          },
          "metadata": {
            "tags": []
          },
          "execution_count": 8
        }
      ]
    },
    {
      "cell_type": "code",
      "metadata": {
        "id": "PXfIxUHB-PXL"
      },
      "source": [
        "sns.barplot(x=mergeData.groupby('isCancerous').agg('count').index, \n",
        "            y='cellType', \n",
        "            data=data.groupby('isCancerous').agg('count'))"
      ],
      "execution_count": null,
      "outputs": []
    },
    {
      "cell_type": "code",
      "metadata": {
        "colab": {
          "base_uri": "https://localhost:8080/",
          "height": 204
        },
        "id": "btxrc-2R-PTV",
        "outputId": "41a51b7a-2cc2-4612-e88f-47451927832e"
      },
      "source": [
        "data.groupby(['cellTypeName', 'isCancerous']).agg('count')"
      ],
      "execution_count": null,
      "outputs": [
        {
          "output_type": "execute_result",
          "data": {
            "text/html": [
              "<div>\n",
              "<style scoped>\n",
              "    .dataframe tbody tr th:only-of-type {\n",
              "        vertical-align: middle;\n",
              "    }\n",
              "\n",
              "    .dataframe tbody tr th {\n",
              "        vertical-align: top;\n",
              "    }\n",
              "\n",
              "    .dataframe thead th {\n",
              "        text-align: right;\n",
              "    }\n",
              "</style>\n",
              "<table border=\"1\" class=\"dataframe\">\n",
              "  <thead>\n",
              "    <tr style=\"text-align: right;\">\n",
              "      <th></th>\n",
              "      <th></th>\n",
              "      <th>InstanceID</th>\n",
              "      <th>patientID</th>\n",
              "      <th>ImageName</th>\n",
              "      <th>cellType</th>\n",
              "    </tr>\n",
              "    <tr>\n",
              "      <th>cellTypeName</th>\n",
              "      <th>isCancerous</th>\n",
              "      <th></th>\n",
              "      <th></th>\n",
              "      <th></th>\n",
              "      <th></th>\n",
              "    </tr>\n",
              "  </thead>\n",
              "  <tbody>\n",
              "    <tr>\n",
              "      <th>epithelial</th>\n",
              "      <th>1</th>\n",
              "      <td>4079</td>\n",
              "      <td>4079</td>\n",
              "      <td>4079</td>\n",
              "      <td>4079</td>\n",
              "    </tr>\n",
              "    <tr>\n",
              "      <th>fibroblast</th>\n",
              "      <th>0</th>\n",
              "      <td>1888</td>\n",
              "      <td>1888</td>\n",
              "      <td>1888</td>\n",
              "      <td>1888</td>\n",
              "    </tr>\n",
              "    <tr>\n",
              "      <th>inflammatory</th>\n",
              "      <th>0</th>\n",
              "      <td>2543</td>\n",
              "      <td>2543</td>\n",
              "      <td>2543</td>\n",
              "      <td>2543</td>\n",
              "    </tr>\n",
              "    <tr>\n",
              "      <th>others</th>\n",
              "      <th>0</th>\n",
              "      <td>1386</td>\n",
              "      <td>1386</td>\n",
              "      <td>1386</td>\n",
              "      <td>1386</td>\n",
              "    </tr>\n",
              "  </tbody>\n",
              "</table>\n",
              "</div>"
            ],
            "text/plain": [
              "                          InstanceID  patientID  ImageName  cellType\n",
              "cellTypeName isCancerous                                            \n",
              "epithelial   1                  4079       4079       4079      4079\n",
              "fibroblast   0                  1888       1888       1888      1888\n",
              "inflammatory 0                  2543       2543       2543      2543\n",
              "others       0                  1386       1386       1386      1386"
            ]
          },
          "metadata": {
            "tags": []
          },
          "execution_count": 10
        }
      ]
    },
    {
      "cell_type": "code",
      "metadata": {
        "colab": {
          "base_uri": "https://localhost:8080/",
          "height": 265
        },
        "id": "InvRylbg-PQJ",
        "outputId": "68bcb953-49c8-47c7-a2c2-da48718f2c48"
      },
      "source": [
        "data.groupby('cellTypeName').agg('count').cellType.plot.pie(autopct=\"%.1f%%\")"
      ],
      "execution_count": null,
      "outputs": [
        {
          "output_type": "execute_result",
          "data": {
            "text/plain": [
              "<matplotlib.axes._subplots.AxesSubplot at 0x7fc07757cfd0>"
            ]
          },
          "metadata": {
            "tags": []
          },
          "execution_count": 11
        },
        {
          "output_type": "display_data",
          "data": {
            "image/png": "[encoded data removed]",
            "text/plain": [
              "<Figure size 432x288 with 1 Axes>"
            ]
          },
          "metadata": {
            "tags": []
          }
        }
      ]
    },
    {
      "cell_type": "code",
      "metadata": {
        "colab": {
          "base_uri": "https://localhost:8080/"
        },
        "id": "RR_UOYjt-Ork",
        "outputId": "f01a61f8-fc7b-4479-e3f0-6e48486de913"
      },
      "source": [
        "extraData = pd.read_csv('data_labels_extraData.csv')\n",
        "extraData.columns"
      ],
      "execution_count": null,
      "outputs": [
        {
          "output_type": "execute_result",
          "data": {
            "text/plain": [
              "Index(['InstanceID', 'patientID', 'ImageName', 'isCancerous'], dtype='object')"
            ]
          },
          "metadata": {
            "tags": []
          },
          "execution_count": 10
        }
      ]
    },
    {
      "cell_type": "code",
      "metadata": {
        "id": "IwROVETCD4Ke"
      },
      "source": [
        "mergedData = pd.concat([data[[\"InstanceID\", \"patientID\", \"ImageName\", \"isCancerous\"]], extraData])"
      ],
      "execution_count": null,
      "outputs": []
    },
    {
      "cell_type": "code",
      "metadata": {
        "id": "9hZlKcaMFnfg",
        "colab": {
          "base_uri": "https://localhost:8080/"
        },
        "outputId": "e1bf3977-e0dd-4d15-c10e-6b914b419474"
      },
      "source": [
        "OUTPUT_CLASSES = 2\n",
        "\n",
        "train_data, test_data = train_test_split(mergedData, test_size=0.2, random_state=42)\n",
        "train_data, val_data = train_test_split(train_data, test_size=0.25, random_state=42)\n",
        "\n",
        "print(\"Train data : {}, Val Data: {}, Test Data: {}\".format(train_data.shape[0], val_data.shape[0], test_data.shape[0]))"
      ],
      "execution_count": null,
      "outputs": [
        {
          "output_type": "stream",
          "text": [
            "Train data : 12168, Val Data: 4056, Test Data: 4056\n"
          ],
          "name": "stdout"
        }
      ]
    },
    {
      "cell_type": "code",
      "metadata": {
        "id": "bz0rL4fVFnjI",
        "colab": {
          "base_uri": "https://localhost:8080/"
        },
        "outputId": "1449b0c4-23b5-4e62-aa48-1ac0b65ccda0"
      },
      "source": [
        "train_data['Class'] = train_data['isCancerous'].astype('str')\n",
        "val_data['Class'] = val_data['isCancerous'].astype('str')\n",
        "\n",
        "from tensorflow.keras.preprocessing.image import ImageDataGenerator\n",
        "\n",
        "train_datagen = ImageDataGenerator(rescale=1./255, data_format='channels_last',\n",
        "                                   rotation_range=15, width_shift_range=0.2,\n",
        "                                   height_shift_range=0.2, brightness_range=[0.5,1.5])\n",
        "val_datagen = ImageDataGenerator(rescale=1./255, data_format='channels_last')\n",
        "\n",
        "batch_size = 27\n",
        "\n",
        "train_generator = train_datagen.flow_from_dataframe(\n",
        "        dataframe=train_data,\n",
        "        directory='./patch_images',\n",
        "        x_col=\"ImageName\",\n",
        "        y_col=\"Class\",\n",
        "        target_size=(27, 27),\n",
        "        batch_size=batch_size,\n",
        "        class_mode='categorical')\n",
        "\n",
        "validation_generator = val_datagen.flow_from_dataframe(\n",
        "        dataframe=val_data,\n",
        "        directory='./patch_images',\n",
        "        x_col=\"ImageName\",\n",
        "        y_col=\"Class\",\n",
        "        target_size=(27, 27),\n",
        "        batch_size=batch_size,\n",
        "        class_mode='categorical')"
      ],
      "execution_count": null,
      "outputs": [
        {
          "output_type": "stream",
          "text": [
            "Found 12168 validated image filenames belonging to 2 classes.\n",
            "Found 4056 validated image filenames belonging to 2 classes.\n"
          ],
          "name": "stdout"
        }
      ]
    },
    {
      "cell_type": "code",
      "metadata": {
        "id": "mfNxeHBdFnnM"
      },
      "source": [
        "\n",
        "reg_lambda = 0.0001\n",
        "modelCancerous = tf.keras.Sequential([\n",
        "    #VGG block 1\n",
        "    tf.keras.layers.Conv2D(27, (3, 3), activation='relu', padding='same', \n",
        "                           kernel_regularizer=tf.keras.regularizers.l2(reg_lambda), input_shape=(27, 27, 3)),\n",
        "    tf.keras.layers.Conv2D(27, (3, 3), activation='relu', padding='same', \n",
        "                           kernel_regularizer=tf.keras.regularizers.l2(reg_lambda)),\n",
        "    tf.keras.layers.MaxPooling2D((2, 2)),\n",
        "    \n",
        "    #VGG block 2\n",
        "    tf.keras.layers.Conv2D(54, (3, 3), activation='relu', padding='same', \n",
        "                           kernel_regularizer=tf.keras.regularizers.l2(reg_lambda)),\n",
        "    tf.keras.layers.Conv2D(54, (3, 3), activation='relu', padding='same', \n",
        "                           kernel_regularizer=tf.keras.regularizers.l2(reg_lambda)),\n",
        "    tf.keras.layers.MaxPooling2D((2, 2)),\n",
        "    \n",
        "    #VGG block 3\n",
        "    tf.keras.layers.Conv2D(108, (3, 3), activation='relu', padding='same', \n",
        "                           kernel_regularizer=tf.keras.regularizers.l2(reg_lambda)),\n",
        "    tf.keras.layers.Conv2D(108, (3, 3), activation='relu', padding='same', \n",
        "                           kernel_regularizer=tf.keras.regularizers.l2(reg_lambda)),\n",
        "    tf.keras.layers.MaxPooling2D((2, 2)),\n",
        "    \n",
        "    tf.keras.layers.Flatten(),\n",
        "    tf.keras.layers.Dense(54, activation='relu'),\n",
        "    tf.keras.layers.Dropout(.2),\n",
        "    tf.keras.layers.Dense(OUTPUT_CLASSES,activation='softmax'),\n",
        "])"
      ],
      "execution_count": null,
      "outputs": []
    },
    {
      "cell_type": "code",
      "metadata": {
        "id": "PCOddIG2P-H1"
      },
      "source": [
        "import matplotlib.pyplot as plt\n",
        "def plot_learning_curve(train_loss, val_loss, train_metric, val_metric, metric_name='Accuracy'):\n",
        "    plt.figure(figsize=(10,5))\n",
        "    \n",
        "    plt.subplot(1,2,1)\n",
        "    plt.plot(train_loss, 'r--')\n",
        "    plt.plot(val_loss, 'b--')\n",
        "    plt.xlabel(\"epochs\")\n",
        "    plt.ylabel(\"Loss\")\n",
        "    plt.legend(['train', 'val'], loc='upper left')\n",
        "    plt.ylim([0, 1])\n",
        "    plt.subplot(1,2,2)\n",
        "    plt.plot(train_metric, 'r--')\n",
        "    plt.plot(val_metric, 'b--')\n",
        "    plt.xlabel(\"epochs\")                                                  \n",
        "    plt.ylabel(metric_name)\n",
        "    plt.legend(['train', 'val'], loc='upper left')\n",
        "    plt.ylim([0, 1])\n",
        "    plt.show()"
      ],
      "execution_count": null,
      "outputs": []
    },
    {
      "cell_type": "code",
      "metadata": {
        "id": "KkZfoX0suj4x"
      },
      "source": [
        "early_stopping = tf.keras.callbacks.EarlyStopping(\n",
        " monitor='val_categorical_accuracy', \n",
        " verbose=1,\n",
        " patience=20,\n",
        " mode='max',\n",
        " restore_best_weights=True)"
      ],
      "execution_count": null,
      "outputs": []
    },
    {
      "cell_type": "code",
      "metadata": {
        "id": "ytSUWFEIJCQj"
      },
      "source": [
        "modelCancerous.compile(tf.keras.optimizers.Adam(learning_rate=0.0001,name=\"Adam\"),\n",
        "              loss=tf.keras.losses.CategoricalCrossentropy(from_logits=False),\n",
        "              metrics=['categorical_accuracy'])"
      ],
      "execution_count": null,
      "outputs": []
    },
    {
      "cell_type": "code",
      "metadata": {
        "id": "6EnYCWycJCS7"
      },
      "source": [
        "historyCancerous = modelCancerous.fit(train_generator, validation_data = validation_generator,callbacks= [early_stopping], epochs=50)"
      ],
      "execution_count": null,
      "outputs": []
    },
    {
      "cell_type": "code",
      "metadata": {
        "id": "zwZlqzBJJCWr",
        "colab": {
          "base_uri": "https://localhost:8080/",
          "height": 338
        },
        "outputId": "ef303a1e-190e-4e30-faad-7bcd9896aeef"
      },
      "source": [
        "plot_learning_curve(historyCancerous.history['loss'], historyCancerous.history['val_loss'], \n",
        "                    historyCancerous.history['categorical_accuracy'], historyCancerous.history['val_categorical_accuracy'], \n",
        "                    metric_name='Accuracy')"
      ],
      "execution_count": null,
      "outputs": [
        {
          "output_type": "display_data",
          "data": {
            "image/png": "[encoded data removed]",
            "text/plain": [
              "<Figure size 720x360 with 2 Axes>"
            ]
          },
          "metadata": {
            "tags": [],
            "needs_background": "light"
          }
        }
      ]
    },
    {
      "cell_type": "code",
      "metadata": {
        "id": "m8Ijzn0hmxEf"
      },
      "source": [
        "reg_lambda = 0.00001\n",
        "\n",
        "modelCancerous = tf.keras.Sequential([\n",
        "    #VGG block 1\n",
        "    tf.keras.layers.Conv2D(27, (3, 3), activation='relu', padding='same', \n",
        "                           kernel_regularizer=tf.keras.regularizers.l2(reg_lambda), input_shape=(27, 27, 3)),\n",
        "    tf.keras.layers.Conv2D(27, (3, 3), activation='relu', padding='same', \n",
        "                           kernel_regularizer=tf.keras.regularizers.l2(reg_lambda)),\n",
        "    tf.keras.layers.MaxPooling2D((2, 2)),\n",
        "    \n",
        "    #VGG block 2\n",
        "    tf.keras.layers.Conv2D(54, (3, 3), activation='relu', padding='same', \n",
        "                           kernel_regularizer=tf.keras.regularizers.l2(reg_lambda)),\n",
        "    tf.keras.layers.Conv2D(54, (3, 3), activation='relu', padding='same',  \n",
        "                           kernel_regularizer=tf.keras.regularizers.l2(reg_lambda)),\n",
        "    tf.keras.layers.MaxPooling2D((2, 2)),\n",
        "    \n",
        "    #VGG block 3\n",
        "    tf.keras.layers.Conv2D(108, (3, 3), activation='relu', padding='same', \n",
        "                           kernel_regularizer=tf.keras.regularizers.l2(reg_lambda)),\n",
        "    tf.keras.layers.Conv2D(108, (3, 3), activation='relu', padding='same', \n",
        "                           kernel_regularizer=tf.keras.regularizers.l2(reg_lambda)),\n",
        "    tf.keras.layers.MaxPooling2D((2, 2)),\n",
        "    \n",
        "    tf.keras.layers.Flatten(),\n",
        "    tf.keras.layers.Dense(108, activation='relu'),\n",
        "    tf.keras.layers.Dropout(.2),\n",
        "    tf.keras.layers.Dense(OUTPUT_CLASSES,activation='softmax'),\n",
        "])"
      ],
      "execution_count": null,
      "outputs": []
    },
    {
      "cell_type": "code",
      "metadata": {
        "id": "Av7bAXpUmxHQ"
      },
      "source": [
        "modelCancerous.compile(tf.keras.optimizers.Adam(learning_rate=0.00001,name=\"Adam\"),\n",
        "              loss=tf.keras.losses.CategoricalCrossentropy(from_logits=False),\n",
        "              metrics=['categorical_accuracy'])"
      ],
      "execution_count": null,
      "outputs": []
    },
    {
      "cell_type": "code",
      "metadata": {
        "colab": {
          "base_uri": "https://localhost:8080/"
        },
        "id": "wuW5BGcQmxKR",
        "outputId": "3705fab7-b5f6-4a93-ade8-53b1bea6ccad"
      },
      "source": [
        "historyCancerous = modelCancerous.fit(train_generator, validation_data = validation_generator,callbacks=[early_stopping], epochs=50)"
      ],
      "execution_count": null,
      "outputs": [
        {
          "output_type": "stream",
          "text": [
            "Epoch 1/50\n",
            "451/451 [==============================] - 44s 27ms/step - loss: 0.6289 - categorical_accuracy: 0.6519 - val_loss: 0.5840 - val_categorical_accuracy: 0.6575\n",
            "Epoch 2/50\n",
            "451/451 [==============================] - 12s 26ms/step - loss: 0.5120 - categorical_accuracy: 0.7688 - val_loss: 0.5105 - val_categorical_accuracy: 0.7424\n",
            "Epoch 3/50\n",
            "451/451 [==============================] - 12s 26ms/step - loss: 0.4634 - categorical_accuracy: 0.7888 - val_loss: 0.4844 - val_categorical_accuracy: 0.7616\n",
            "Epoch 4/50\n",
            "451/451 [==============================] - 12s 26ms/step - loss: 0.4565 - categorical_accuracy: 0.7881 - val_loss: 0.4975 - val_categorical_accuracy: 0.7562\n",
            "Epoch 5/50\n",
            "451/451 [==============================] - 12s 26ms/step - loss: 0.4455 - categorical_accuracy: 0.7923 - val_loss: 0.4401 - val_categorical_accuracy: 0.7843\n",
            "Epoch 6/50\n",
            "451/451 [==============================] - 12s 26ms/step - loss: 0.4368 - categorical_accuracy: 0.8010 - val_loss: 0.4326 - val_categorical_accuracy: 0.7899\n",
            "Epoch 7/50\n",
            "451/451 [==============================] - 12s 26ms/step - loss: 0.4349 - categorical_accuracy: 0.7982 - val_loss: 0.4780 - val_categorical_accuracy: 0.7650\n",
            "Epoch 8/50\n",
            "451/451 [==============================] - 12s 26ms/step - loss: 0.4265 - categorical_accuracy: 0.8033 - val_loss: 0.4549 - val_categorical_accuracy: 0.7818\n",
            "Epoch 9/50\n",
            "451/451 [==============================] - 12s 26ms/step - loss: 0.4247 - categorical_accuracy: 0.8079 - val_loss: 0.3943 - val_categorical_accuracy: 0.8134\n",
            "Epoch 10/50\n",
            "451/451 [==============================] - 12s 26ms/step - loss: 0.4159 - categorical_accuracy: 0.8094 - val_loss: 0.3891 - val_categorical_accuracy: 0.8168\n",
            "Epoch 11/50\n",
            "451/451 [==============================] - 12s 26ms/step - loss: 0.4161 - categorical_accuracy: 0.8122 - val_loss: 0.3825 - val_categorical_accuracy: 0.8227\n",
            "Epoch 12/50\n",
            "451/451 [==============================] - 12s 26ms/step - loss: 0.4114 - categorical_accuracy: 0.8151 - val_loss: 0.3872 - val_categorical_accuracy: 0.8185\n",
            "Epoch 13/50\n",
            "451/451 [==============================] - 12s 26ms/step - loss: 0.4009 - categorical_accuracy: 0.8227 - val_loss: 0.3885 - val_categorical_accuracy: 0.8195\n",
            "Epoch 14/50\n",
            "451/451 [==============================] - 12s 26ms/step - loss: 0.3999 - categorical_accuracy: 0.8206 - val_loss: 0.3785 - val_categorical_accuracy: 0.8235\n",
            "Epoch 15/50\n",
            "451/451 [==============================] - 12s 26ms/step - loss: 0.3995 - categorical_accuracy: 0.8192 - val_loss: 0.3684 - val_categorical_accuracy: 0.8397\n",
            "Epoch 16/50\n",
            "451/451 [==============================] - 12s 26ms/step - loss: 0.3948 - categorical_accuracy: 0.8242 - val_loss: 0.3871 - val_categorical_accuracy: 0.8195\n",
            "Epoch 17/50\n",
            "451/451 [==============================] - 12s 26ms/step - loss: 0.3886 - categorical_accuracy: 0.8274 - val_loss: 0.3620 - val_categorical_accuracy: 0.8351\n",
            "Epoch 18/50\n",
            "451/451 [==============================] - 12s 26ms/step - loss: 0.3843 - categorical_accuracy: 0.8284 - val_loss: 0.3581 - val_categorical_accuracy: 0.8400\n",
            "Epoch 19/50\n",
            "451/451 [==============================] - 12s 26ms/step - loss: 0.3875 - categorical_accuracy: 0.8309 - val_loss: 0.3835 - val_categorical_accuracy: 0.8220\n",
            "Epoch 20/50\n",
            "451/451 [==============================] - 12s 26ms/step - loss: 0.3799 - categorical_accuracy: 0.8349 - val_loss: 0.3564 - val_categorical_accuracy: 0.8439\n",
            "Epoch 21/50\n",
            "451/451 [==============================] - 12s 26ms/step - loss: 0.3860 - categorical_accuracy: 0.8300 - val_loss: 0.4149 - val_categorical_accuracy: 0.8057\n",
            "Epoch 22/50\n",
            "451/451 [==============================] - 12s 26ms/step - loss: 0.3803 - categorical_accuracy: 0.8332 - val_loss: 0.3516 - val_categorical_accuracy: 0.8434\n",
            "Epoch 23/50\n",
            "451/451 [==============================] - 12s 26ms/step - loss: 0.3743 - categorical_accuracy: 0.8359 - val_loss: 0.3742 - val_categorical_accuracy: 0.8301\n",
            "Epoch 24/50\n",
            "451/451 [==============================] - 12s 26ms/step - loss: 0.3723 - categorical_accuracy: 0.8401 - val_loss: 0.3522 - val_categorical_accuracy: 0.8400\n",
            "Epoch 25/50\n",
            "451/451 [==============================] - 12s 26ms/step - loss: 0.3723 - categorical_accuracy: 0.8374 - val_loss: 0.3550 - val_categorical_accuracy: 0.8393\n",
            "Epoch 26/50\n",
            "451/451 [==============================] - 12s 26ms/step - loss: 0.3650 - categorical_accuracy: 0.8381 - val_loss: 0.3451 - val_categorical_accuracy: 0.8499\n",
            "Epoch 27/50\n",
            "451/451 [==============================] - 12s 26ms/step - loss: 0.3622 - categorical_accuracy: 0.8446 - val_loss: 0.3445 - val_categorical_accuracy: 0.8432\n",
            "Epoch 28/50\n",
            "451/451 [==============================] - 12s 26ms/step - loss: 0.3627 - categorical_accuracy: 0.8415 - val_loss: 0.3733 - val_categorical_accuracy: 0.8356\n",
            "Epoch 29/50\n",
            "451/451 [==============================] - 12s 26ms/step - loss: 0.3614 - categorical_accuracy: 0.8456 - val_loss: 0.3427 - val_categorical_accuracy: 0.8471\n",
            "Epoch 30/50\n",
            "451/451 [==============================] - 12s 26ms/step - loss: 0.3602 - categorical_accuracy: 0.8442 - val_loss: 0.3428 - val_categorical_accuracy: 0.8486\n",
            "Epoch 31/50\n",
            "451/451 [==============================] - 12s 26ms/step - loss: 0.3618 - categorical_accuracy: 0.8456 - val_loss: 0.3417 - val_categorical_accuracy: 0.8469\n",
            "Epoch 32/50\n",
            "451/451 [==============================] - 12s 26ms/step - loss: 0.3573 - categorical_accuracy: 0.8458 - val_loss: 0.3392 - val_categorical_accuracy: 0.8511\n",
            "Epoch 33/50\n",
            "451/451 [==============================] - 12s 26ms/step - loss: 0.3591 - categorical_accuracy: 0.8485 - val_loss: 0.3417 - val_categorical_accuracy: 0.8518\n",
            "Epoch 34/50\n",
            "451/451 [==============================] - 12s 26ms/step - loss: 0.3564 - categorical_accuracy: 0.8459 - val_loss: 0.3491 - val_categorical_accuracy: 0.8417\n",
            "Epoch 35/50\n",
            "451/451 [==============================] - 12s 26ms/step - loss: 0.3543 - categorical_accuracy: 0.8515 - val_loss: 0.3579 - val_categorical_accuracy: 0.8373\n",
            "Epoch 36/50\n",
            "451/451 [==============================] - 12s 26ms/step - loss: 0.3516 - categorical_accuracy: 0.8520 - val_loss: 0.3421 - val_categorical_accuracy: 0.8523\n",
            "Epoch 37/50\n",
            "451/451 [==============================] - 12s 26ms/step - loss: 0.3464 - categorical_accuracy: 0.8561 - val_loss: 0.3397 - val_categorical_accuracy: 0.8518\n",
            "Epoch 38/50\n",
            "451/451 [==============================] - 12s 26ms/step - loss: 0.3489 - categorical_accuracy: 0.8518 - val_loss: 0.3356 - val_categorical_accuracy: 0.8528\n",
            "Epoch 39/50\n",
            "451/451 [==============================] - 12s 26ms/step - loss: 0.3530 - categorical_accuracy: 0.8480 - val_loss: 0.3413 - val_categorical_accuracy: 0.8474\n",
            "Epoch 40/50\n",
            "451/451 [==============================] - 12s 26ms/step - loss: 0.3452 - categorical_accuracy: 0.8547 - val_loss: 0.3493 - val_categorical_accuracy: 0.8471\n",
            "Epoch 41/50\n",
            "451/451 [==============================] - 12s 26ms/step - loss: 0.3512 - categorical_accuracy: 0.8508 - val_loss: 0.3493 - val_categorical_accuracy: 0.8422\n",
            "Epoch 42/50\n",
            "451/451 [==============================] - 12s 27ms/step - loss: 0.3526 - categorical_accuracy: 0.8522 - val_loss: 0.3597 - val_categorical_accuracy: 0.8439\n",
            "Epoch 43/50\n",
            "451/451 [==============================] - 12s 26ms/step - loss: 0.3468 - categorical_accuracy: 0.8527 - val_loss: 0.3330 - val_categorical_accuracy: 0.8523\n",
            "Epoch 44/50\n",
            "451/451 [==============================] - 12s 26ms/step - loss: 0.3430 - categorical_accuracy: 0.8543 - val_loss: 0.3469 - val_categorical_accuracy: 0.8489\n",
            "Epoch 45/50\n",
            "451/451 [==============================] - 12s 26ms/step - loss: 0.3403 - categorical_accuracy: 0.8587 - val_loss: 0.3495 - val_categorical_accuracy: 0.8484\n",
            "Epoch 46/50\n",
            "451/451 [==============================] - 12s 26ms/step - loss: 0.3463 - categorical_accuracy: 0.8528 - val_loss: 0.3355 - val_categorical_accuracy: 0.8513\n",
            "Epoch 47/50\n",
            "451/451 [==============================] - 12s 26ms/step - loss: 0.3425 - categorical_accuracy: 0.8529 - val_loss: 0.3434 - val_categorical_accuracy: 0.8531\n",
            "Epoch 48/50\n",
            "451/451 [==============================] - 12s 26ms/step - loss: 0.3404 - categorical_accuracy: 0.8559 - val_loss: 0.3356 - val_categorical_accuracy: 0.8563\n",
            "Epoch 49/50\n",
            "451/451 [==============================] - 12s 26ms/step - loss: 0.3388 - categorical_accuracy: 0.8582 - val_loss: 0.3342 - val_categorical_accuracy: 0.8560\n",
            "Epoch 50/50\n",
            "451/451 [==============================] - 12s 26ms/step - loss: 0.3400 - categorical_accuracy: 0.8571 - val_loss: 0.3323 - val_categorical_accuracy: 0.8550\n"
          ],
          "name": "stdout"
        }
      ]
    },
    {
      "cell_type": "code",
      "metadata": {
        "colab": {
          "base_uri": "https://localhost:8080/",
          "height": 338
        },
        "id": "MDBULvK2rzY_",
        "outputId": "c5289430-db10-40b7-c2bb-4d3b97e4eb04"
      },
      "source": [
        "plot_learning_curve(historyCancerous.history['loss'], historyCancerous.history['val_loss'], \n",
        "                    historyCancerous.history['categorical_accuracy'], historyCancerous.history['val_categorical_accuracy'], \n",
        "                    metric_name='Accuracy')"
      ],
      "execution_count": null,
      "outputs": [
        {
          "output_type": "display_data",
          "data": {
            "image/png": "[encoded data removed]",
            "text/plain": [
              "<Figure size 720x360 with 2 Axes>"
            ]
          },
          "metadata": {
            "tags": [],
            "needs_background": "light"
          }
        }
      ]
    },
    {
      "cell_type": "code",
      "metadata": {
        "id": "Ovt2wG7DJqCa",
        "colab": {
          "base_uri": "https://localhost:8080/"
        },
        "outputId": "a4b3300b-a957-4c6b-8a78-f4eed14b0cb9"
      },
      "source": [
        "# setup data some placeholders\n",
        "batch_size_ = 1\n",
        "y_hat_all = list()\n",
        "y_all = list()\n",
        "filenames = validation_generator.filenames\n",
        "N_images = len(filenames)\n",
        "batches = 1\n",
        "                                                                       \n",
        "# iterate through the data generator and predict for each batch\n",
        "# hold the predictions and labels\n",
        "for x,y in validation_generator:\n",
        "        y_hat = modelCancerous.predict(x, verbose=0)\n",
        "        y_hat = np.argmax(y_hat, axis = 1)\n",
        "        y = np.argmax(y, axis = 1)\n",
        "        y_hat_all = y_hat_all + y_hat.tolist()\n",
        "        y_all = y_all + y.tolist()\n",
        "\n",
        "        batches += 1\n",
        "        if batches >= N_images / batch_size_:\n",
        "            break\n",
        "\n",
        "# now you have made the predictions you can use any performance metric\n",
        "# you wish: either in sklearn or some function you have written\n",
        "\n",
        "from sklearn.metrics import classification_report\n",
        "from sklearn.metrics import confusion_matrix, accuracy_score, f1_score\n",
        "\n",
        "print(\"Accuracy score: \", accuracy_score(y_all, y_hat_all))\n",
        "print(\"F1 score: \", f1_score(y_all, y_hat_all, average='macro'))\n",
        "print(\"Confusion Matrix \", confusion_matrix(y_all, y_hat_all))"
      ],
      "execution_count": null,
      "outputs": [
        {
          "output_type": "stream",
          "text": [
            "Accuracy score:  0.8552859857351361\n",
            "F1 score:  0.8357058444039311\n",
            "[[65391  6238]\n",
            " [ 9527 27783]]\n"
          ],
          "name": "stdout"
        }
      ]
    },
    {
      "cell_type": "code",
      "metadata": {
        "id": "2rl6d_KmJqFU",
        "colab": {
          "base_uri": "https://localhost:8080/"
        },
        "outputId": "ebc0c1fa-ee8d-4dea-ccf4-ca0f07e09349"
      },
      "source": [
        "modelCancerous.save(\"modelCancerous\")"
      ],
      "execution_count": null,
      "outputs": [
        {
          "output_type": "stream",
          "text": [
            "INFO:tensorflow:Assets written to: modelCancerous/assets\n"
          ],
          "name": "stdout"
        }
      ]
    },
    {
      "cell_type": "code",
      "metadata": {
        "colab": {
          "base_uri": "https://localhost:8080/"
        },
        "id": "m29uk7yhAaAC",
        "outputId": "0220bcc0-a2d8-4e08-d115-04a13e93e39b"
      },
      "source": [
        "## Only on colab\n",
        "# Change according to your directory structure\n",
        "!cp -R ./modelCancerous/content/drive/'My Drive'/'Colab Notebooks'      "
      ],
      "execution_count": null,
      "outputs": [
        {
          "output_type": "stream",
          "text": [
            "cp: missing destination file operand after './modelCancerous/content/drive/My Drive/Colab Notebooks'\n",
            "Try 'cp --help' for more information.\n"
          ],
          "name": "stdout"
        }
      ]
    },
    {
      "cell_type": "code",
      "metadata": {
        "id": "CPza7BWjQq4P"
      },
      "source": [
        "modelCancerous.summary()"
      ],
      "execution_count": null,
      "outputs": []
    },
    {
      "cell_type": "code",
      "metadata": {
        "id": "6s8u_WaRQmr7"
      },
      "source": [
        "from tensorflow import keras\n",
        "modelCelltype = keras.models.load_model('/content/modelCancerous')"
      ],
      "execution_count": null,
      "outputs": []
    },
    {
      "cell_type": "code",
      "metadata": {
        "id": "fzGbK8liQq4v"
      },
      "source": [
        "modelCelltype.summary()"
      ],
      "execution_count": null,
      "outputs": []
    },
    {
      "cell_type": "code",
      "metadata": {
        "id": "HoSG0D9tQq4u"
      },
      "source": [
        "modelCelltype.pop()"
      ],
      "execution_count": null,
      "outputs": []
    },
    {
      "cell_type": "code",
      "metadata": {
        "id": "zYpe4hdfQq4w"
      },
      "source": [
        "modelCelltype.add(Dense(4, activation='softmax'))"
      ],
      "execution_count": null,
      "outputs": []
    },
    {
      "cell_type": "code",
      "metadata": {
        "id": "BF8n3USiDYRQ"
      },
      "source": [
        "modelCelltype.summary()"
      ],
      "execution_count": null,
      "outputs": []
    },
    {
      "cell_type": "code",
      "metadata": {
        "id": "IV0V_lsBlyq2"
      },
      "source": [
        "modelCelltype = modelCancerous"
      ],
      "execution_count": null,
      "outputs": []
    },
    {
      "cell_type": "code",
      "metadata": {
        "id": "6_Vd3tlBQBdE",
        "colab": {
          "base_uri": "https://localhost:8080/"
        },
        "outputId": "8b29e763-9b89-41cb-87d4-535d87a4fe2a"
      },
      "source": [
        "import numpy as np\n",
        "from sklearn.model_selection import train_test_split\n",
        "import pandas as pd\n",
        "\n",
        "data = pd.read_csv('./data_labels_mainData.csv')\n",
        "\n",
        "OUTPUT_CLASSES = 4\n",
        "\n",
        "train_data, test_data = train_test_split(data, test_size=0.2, random_state=42)\n",
        "train_data, val_data = train_test_split(train_data, test_size=0.25, random_state=42)\n",
        "\n",
        "print(\"Train data : {}, Val Data: {}, Test Data: {}\".format(train_data.shape[0], val_data.shape[0], test_data.shape[0]))"
      ],
      "execution_count": null,
      "outputs": [
        {
          "output_type": "stream",
          "text": [
            "Train data : 5937, Val Data: 1979, Test Data: 1980\n"
          ],
          "name": "stdout"
        }
      ]
    },
    {
      "cell_type": "code",
      "metadata": {
        "id": "4niIpiRbQBgB",
        "colab": {
          "base_uri": "https://localhost:8080/"
        },
        "outputId": "2787ec51-c6d2-4c39-950a-9f50c24a31de"
      },
      "source": [
        "train_data['Class'] = train_data['cellType'].astype('str')\n",
        "val_data['Class'] = val_data['cellType'].astype('str')\n",
        "from tensorflow.keras.preprocessing.image import ImageDataGenerator\n",
        "train_datagen = ImageDataGenerator(rescale=1./255, data_format='channels_last',\n",
        "                                   rotation_range=15, width_shift_range=0.2,\n",
        "                                   height_shift_range=0.2, brightness_range=[0.5,1.5])\n",
        "val_datagen = ImageDataGenerator(rescale=1./255, data_format='channels_last')\n",
        "\n",
        "batch_size = 27\n",
        "\n",
        "train_generator = train_datagen.flow_from_dataframe(\n",
        "        dataframe=train_data,\n",
        "        directory='./patch_images',\n",
        "        x_col=\"ImageName\",\n",
        "        y_col=\"Class\",\n",
        "        target_size=(27, 27),\n",
        "        batch_size=batch_size,\n",
        "        class_mode='sparse')\n",
        "\n",
        "validation_generator = val_datagen.flow_from_dataframe(\n",
        "        dataframe=val_data,\n",
        "        directory='./patch_images',\n",
        "        x_col=\"ImageName\",\n",
        "        y_col=\"Class\",\n",
        "        target_size=(27, 27),\n",
        "        batch_size=batch_size,\n",
        "        class_mode='sparse')"
      ],
      "execution_count": null,
      "outputs": [
        {
          "output_type": "stream",
          "text": [
            "Found 5937 validated image filenames belonging to 4 classes.\n",
            "Found 1979 validated image filenames belonging to 4 classes.\n"
          ],
          "name": "stdout"
        }
      ]
    },
    {
      "cell_type": "code",
      "metadata": {
        "id": "xlnDf2ZtRuX4"
      },
      "source": [
        "modelCelltype.compile(tf.keras.optimizers.Adam(learning_rate=0.0001,name=\"adam\"),\n",
        "              loss=tf.keras.losses.SparseCategoricalCrossentropy(from_logits=False),\n",
        "              metrics=['sparse_categorical_accuracy'])"
      ],
      "execution_count": null,
      "outputs": []
    },
    {
      "cell_type": "code",
      "metadata": {
        "id": "Li5iCvJ44w13"
      },
      "source": [
        "early_stopping = tf.keras.callbacks.EarlyStopping(\n",
        " monitor='val_sparse_categorical_accuracy', \n",
        " verbose=1,\n",
        " patience=20,\n",
        " mode='max',\n",
        " restore_best_weights=True)"
      ],
      "execution_count": null,
      "outputs": []
    },
    {
      "cell_type": "code",
      "metadata": {
        "id": "UD_9KEWZ6A2R"
      },
      "source": [
        "class_weight = {0: 1.,1: 2.,2: 2., 3: 1.}"
      ],
      "execution_count": null,
      "outputs": []
    },
    {
      "cell_type": "code",
      "metadata": {
        "id": "HSdDOBgk58XC"
      },
      "source": [
        "class_weights={\"class_1\": 1, \"class_2\": 10}"
      ],
      "execution_count": null,
      "outputs": []
    },
    {
      "cell_type": "code",
      "metadata": {
        "id": "KC7wpkiyt0Un"
      },
      "source": [
        "from sklearn.utils import class_weight"
      ],
      "execution_count": null,
      "outputs": []
    },
    {
      "cell_type": "code",
      "metadata": {
        "id": "8w5us5sxtowZ"
      },
      "source": [
        "class_weights = class_weight.compute_class_weight(\n",
        "               'balanced',\n",
        "                np.unique(train_generator.classes), \n",
        "                train_generator.classes)"
      ],
      "execution_count": null,
      "outputs": []
    },
    {
      "cell_type": "code",
      "metadata": {
        "id": "h3JMOY6ZK4HV"
      },
      "source": [
        "historyCancerous = modelCelltype.fit(train_generator, validation_data = validation_generator,class_weight=class_weights, callbacks=[early_stopping], epochs=50)"
      ],
      "execution_count": null,
      "outputs": []
    },
    {
      "cell_type": "code",
      "metadata": {
        "id": "tUkDDpPTRpAo",
        "colab": {
          "base_uri": "https://localhost:8080/",
          "height": 338
        },
        "outputId": "183faf19-da2a-452f-908f-9977aa8cad0c"
      },
      "source": [
        "plot_learning_curve(historyCancerous.history['loss'], historyCancerous.history['val_loss'], \n",
        "                    historyCancerous.history['sparse_categorical_accuracy'], historyCancerous.history['val_sparse_categorical_accuracy'], \n",
        "                    metric_name='Accuracy')"
      ],
      "execution_count": null,
      "outputs": [
        {
          "output_type": "display_data",
          "data": {
            "image/png": "[encoded data removed]",
            "text/plain": [
              "<Figure size 720x360 with 2 Axes>"
            ]
          },
          "metadata": {
            "tags": [],
            "needs_background": "light"
          }
        }
      ]
    },
    {
      "cell_type": "code",
      "metadata": {
        "id": "yDZnbtbZRpEC",
        "colab": {
          "base_uri": "https://localhost:8080/"
        },
        "outputId": "04ea6eb0-4224-4752-8f06-055a85d73396"
      },
      "source": [
        "# setup data some placeholders\n",
        "batch_size_ = 1\n",
        "y_hat_all = list()\n",
        "y_all = list()\n",
        "filenames = validation_generator.filenames\n",
        "N_images = len(filenames)\n",
        "batches = 1\n",
        "\n",
        "# iterate through the data generator and predict for each batch\n",
        "# hold the predictions and labels\n",
        "for x,y in validation_generator:\n",
        "        y_hat = modelCelltype.predict(x, verbose=0)\n",
        "        y_hat = np.argmax(y_hat, axis = 1)\n",
        "        # y = np.argmax(y, axis = 1)\n",
        "        y_hat_all = y_hat_all + y_hat.tolist()\n",
        "        y_all = y_all + y.tolist()\n",
        "\n",
        "        batches += 1\n",
        "        if batches >= N_images / batch_size_:\n",
        "            break\n",
        "\n",
        "# now you have made the predictions you can use any performance metric\n",
        "# you wish: either in sklearn or some function you have written\n",
        "\n",
        "from sklearn.metrics import classification_report\n",
        "from sklearn.metrics import confusion_matrix, accuracy_score, f1_score\n",
        "\n",
        "print(\"Accuracy score: \", accuracy_score(y_all, y_hat_all))\n",
        "print(\"F1 score: \", f1_score(y_all, y_hat_all, average='macro'))\n",
        "print(\"Confusion Matrix \")\n",
        "print(confusion_matrix(y_all, y_hat_all))\n",
        "print(classification_report(y_all, y_hat_all))"
      ],
      "execution_count": null,
      "outputs": [
        {
          "output_type": "stream",
          "text": [
            "Accuracy score:  0.7391706985182945\n",
            "F1 score:  0.6952053873997759\n",
            "Confusion Matrix \n",
            "[[ 7837   696   666  1014]\n",
            " [  691 10670   591  1633]\n",
            " [ 3204  1287 17125    27]\n",
            " [ 1204  2332   456  3479]]\n"
          ],
          "name": "stdout"
        }
      ]
    },
    {
      "cell_type": "code",
      "metadata": {
        "colab": {
          "base_uri": "https://localhost:8080/"
        },
        "id": "yUy1w9iubmzi",
        "outputId": "06b9a933-a9ff-43c4-e789-a3029fa5e186"
      },
      "source": [
        "test_data['Class'] = test_data['cellType'].astype('str')\n",
        "\n",
        "test_datagen = ImageDataGenerator(rescale=1./255, data_format='channels_last')\n",
        "\n",
        "batch_size = 1\n",
        "\n",
        "test_generator = test_datagen.flow_from_dataframe(\n",
        "        dataframe=test_data,\n",
        "        directory='./patch_images',\n",
        "        x_col=\"ImageName\",\n",
        "        y_col=\"Class\",\n",
        "        target_size=(27, 27),\n",
        "        batch_size=batch_size,\n",
        "        class_mode='sparse')"
      ],
      "execution_count": null,
      "outputs": [
        {
          "output_type": "stream",
          "text": [
            "Found 1980 validated image filenames belonging to 4 classes.\n"
          ],
          "name": "stdout"
        },
        {
          "output_type": "stream",
          "text": [
            "/usr/local/lib/python3.7/dist-packages/ipykernel_launcher.py:1: SettingWithCopyWarning: \n",
            "A value is trying to be set on a copy of a slice from a DataFrame.\n",
            "Try using .loc[row_indexer,col_indexer] = value instead\n",
            "\n",
            "See the caveats in the documentation: https://pandas.pydata.org/pandas-docs/stable/user_guide/indexing.html#returning-a-view-versus-a-copy\n",
            "  \"\"\"Entry point for launching an IPython kernel.\n"
          ],
          "name": "stderr"
        }
      ]
    },
    {
      "cell_type": "code",
      "metadata": {
        "colab": {
          "base_uri": "https://localhost:8080/"
        },
        "id": "jskuJCJcbmzj",
        "outputId": "0504b8f6-e103-4a33-d926-f0ecf51c417e"
      },
      "source": [
        "model_VGG_2.evaluate(test_generator)"
      ],
      "execution_count": null,
      "outputs": [
        {
          "output_type": "stream",
          "text": [
            "1980/1980 [==============================] - 9s 4ms/step - loss: 1.5789 - sparse_categorical_accuracy: 0.7283\n"
          ],
          "name": "stdout"
        },
        {
          "output_type": "execute_result",
          "data": {
            "text/plain": [
              "[1.578864574432373, 0.7282828092575073]"
            ]
          },
          "metadata": {
            "tags": []
          },
          "execution_count": 20
        }
      ]
    },
    {
      "cell_type": "code",
      "metadata": {
        "id": "qiDRcWMlxnrY"
      },
      "source": [
        "model_VGG_3.optimizer.get_config()"
      ],
      "execution_count": null,
      "outputs": []
    }
  ]
}