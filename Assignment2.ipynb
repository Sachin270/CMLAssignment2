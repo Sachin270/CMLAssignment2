{
  "nbformat": 4,
  "nbformat_minor": 0,
  "metadata": {
    "kernelspec": {
      "display_name": "Python 3",
      "language": "python",
      "name": "python3"
    },
    "colab": {
      "name": "Untitled8.ipynb",
      "provenance": [],
      "collapsed_sections": [],
      "include_colab_link": true
    },
    "accelerator": "GPU"
  },
  "cells": [
    {
      "cell_type": "markdown",
      "metadata": {
        "id": "view-in-github",
        "colab_type": "text"
      },
      "source": [
        "<a href=\"https://colab.research.google.com/github/Sachin270/CMLAssignment2/blob/main/Assignment2.ipynb\" target=\"_parent\"><img src=\"https://colab.research.google.com/assets/colab-badge.svg\" alt=\"Open In Colab\"/></a>"
      ]
    },
    {
      "cell_type": "code",
      "metadata": {
        "id": "z1qAHC3MjyS6",
        "colab": {
          "base_uri": "https://localhost:8080/"
        },
        "outputId": "f454978e-277b-46f6-e5e3-dc33b72af574"
      },
      "source": [
        "from google.colab import drive\n",
        "drive.mount('/content/drive/')"
      ],
      "execution_count": 2,
      "outputs": [
        {
          "output_type": "stream",
          "text": [
            "Mounted at /content/drive/\n"
          ],
          "name": "stdout"
        }
      ]
    },
    {
      "cell_type": "code",
      "metadata": {
        "colab": {
          "base_uri": "https://localhost:8080/",
          "height": 163
        },
        "id": "qajKqQH2XQXj",
        "outputId": "c1020a54-46db-4fde-8f10-be0c878ce3ad"
      },
      "source": [
        "while True:pass"
      ],
      "execution_count": 5,
      "outputs": [
        {
          "output_type": "error",
          "ename": "KeyboardInterrupt",
          "evalue": "ignored",
          "traceback": [
            "\u001b[0;31m---------------------------------------------------------------------------\u001b[0m",
            "\u001b[0;31mKeyboardInterrupt\u001b[0m                         Traceback (most recent call last)",
            "\u001b[0;32m<ipython-input-5-534b7a74019f>\u001b[0m in \u001b[0;36m<module>\u001b[0;34m()\u001b[0m\n\u001b[0;32m----> 1\u001b[0;31m \u001b[0;32mwhile\u001b[0m \u001b[0;32mTrue\u001b[0m\u001b[0;34m:\u001b[0m\u001b[0;32mpass\u001b[0m\u001b[0;34m\u001b[0m\u001b[0;34m\u001b[0m\u001b[0m\n\u001b[0m",
            "\u001b[0;31mKeyboardInterrupt\u001b[0m: "
          ]
        }
      ]
    },
    {
      "cell_type": "code",
      "metadata": {
        "id": "6nd7cdo3k-vl",
        "colab": {
          "base_uri": "https://localhost:8080/"
        },
        "outputId": "4e192db0-2b6d-426f-ecac-1409ac2e2a63"
      },
      "source": [
        "!ls /content/drive/'MyDrive'/'Colab Notebooks'/"
      ],
      "execution_count": 4,
      "outputs": [
        {
          "output_type": "stream",
          "text": [
            " Assignment2_s3714805.ipynb\t      patch_images      Untitled2.ipynb\n",
            " data_labels_extraData.csv\t      Untitled\t       'Untitled8 (1).ipynb'\n",
            " data_labels_mainData.csv\t      Untitled0.ipynb   Untitled8.ipynb\n",
            "'Image_classification_data (1).zip'   Untitled1.ipynb\n"
          ],
          "name": "stdout"
        }
      ]
    },
    {
      "cell_type": "code",
      "metadata": {
        "colab": {
          "base_uri": "https://localhost:8080/"
        },
        "id": "0bMKIqgLlnuO",
        "outputId": "0244409f-87f5-4738-f89f-6d8fe55a3339"
      },
      "source": [
        "!cp /content/drive/'MyDrive'/'Colab Notebooks'/'Image_classification_data (1).zip' .\n",
        "!unzip -q -o 'Image_classification_data (1).zip'\n",
        "!rm 'Image_classification_data (1).zip'\n",
        "!ls"
      ],
      "execution_count": 5,
      "outputs": [
        {
          "output_type": "stream",
          "text": [
            "data_labels_extraData.csv  drive     patch_images\n",
            "data_labels_mainData.csv   __MACOSX  sample_data\n"
          ],
          "name": "stdout"
        }
      ]
    },
    {
      "cell_type": "code",
      "metadata": {
        "colab": {
          "base_uri": "https://localhost:8080/"
        },
        "id": "-Et8H9SabmzV",
        "outputId": "5e0e10bb-8d6a-4309-b2ca-8ff5aad00f92"
      },
      "source": [
        "#Uncomment if on loca machine or AWS\n",
        "# import zipfile\n",
        "# with zipfile.ZipFile('./Image_classification_data (1).zip', 'r') as zip_ref:\n",
        "#     zip_ref.extractall('./')\n",
        "import numpy as np\n",
        "from sklearn.model_selection import train_test_split\n",
        "import pandas as pd\n",
        "\n",
        "data = pd.read_csv('./data_labels_mainData.csv')\n",
        "\n",
        "OUTPUT_CLASSES = 4\n",
        "\n",
        "\n",
        "# Uncomment the following line to do two class classification with\n",
        "# a subset of data\n",
        "# data = data[(data['Class'] == 3) | (data['Class'] == 5)]\n",
        "# OUTPUT_CLASSES = 2\n",
        "\n",
        "train_data, test_data = train_test_split(data, test_size=0.2, random_state=42)\n",
        "train_data, val_data = train_test_split(train_data, test_size=0.25, random_state=42)\n",
        "\n",
        "print(\"Train data : {}, Val Data: {}, Test Data: {}\".format(train_data.shape[0], val_data.shape[0], test_data.shape[0]))"
      ],
      "execution_count": 6,
      "outputs": [
        {
          "output_type": "stream",
          "text": [
            "Train data : 5937, Val Data: 1979, Test Data: 1980\n"
          ],
          "name": "stdout"
        }
      ]
    },
    {
      "cell_type": "code",
      "metadata": {
        "colab": {
          "base_uri": "https://localhost:8080/"
        },
        "id": "o0B93O-sbmzZ",
        "outputId": "13900a16-4ecb-4f63-a025-e2fd9a3e14b2"
      },
      "source": [
        "train_data['Class'] = train_data['cellType'].astype('str')\n",
        "val_data['Class'] = val_data['cellType'].astype('str')\n",
        "\n",
        "from tensorflow.keras.preprocessing.image import ImageDataGenerator\n",
        "\n",
        "train_datagen = ImageDataGenerator(rescale=1./255, data_format='channels_last')\n",
        "val_datagen = ImageDataGenerator(rescale=1./255, data_format='channels_last')\n",
        "\n",
        "batch_size = 50\n",
        "\n",
        "train_generator = train_datagen.flow_from_dataframe(\n",
        "        dataframe=train_data,\n",
        "        directory='./patch_images',\n",
        "        x_col=\"ImageName\",\n",
        "        y_col=\"Class\",\n",
        "        target_size=(27, 27),\n",
        "        batch_size=batch_size,\n",
        "        class_mode='sparse')\n",
        "\n",
        "validation_generator = val_datagen.flow_from_dataframe(\n",
        "        dataframe=val_data,\n",
        "        directory='./patch_images',\n",
        "        x_col=\"ImageName\",\n",
        "        y_col=\"Class\",\n",
        "        target_size=(27, 27),\n",
        "        batch_size=batch_size,\n",
        "        class_mode='sparse')"
      ],
      "execution_count": 7,
      "outputs": [
        {
          "output_type": "stream",
          "text": [
            "Found 5937 validated image filenames belonging to 4 classes.\n",
            "Found 1979 validated image filenames belonging to 4 classes.\n"
          ],
          "name": "stdout"
        }
      ]
    },
    {
      "cell_type": "code",
      "metadata": {
        "id": "T7XgoneObmza"
      },
      "source": [
        "import matplotlib.pyplot as plt\n",
        "def plot_learning_curve(train_loss, val_loss, train_metric, val_metric, metric_name='Accuracy'):\n",
        "    plt.figure(figsize=(10,5))\n",
        "    \n",
        "    plt.subplot(1,2,1)\n",
        "    plt.plot(train_loss, 'r--')\n",
        "    plt.plot(val_loss, 'b--')\n",
        "    plt.xlabel(\"epochs\")\n",
        "    plt.ylabel(\"Loss\")\n",
        "    plt.legend(['train', 'val'], loc='upper left')\n",
        "    plt.ylim([0, 1])\n",
        "\n",
        "    plt.subplot(1,2,2)\n",
        "    plt.plot(train_metric, 'r--')\n",
        "    plt.plot(val_metric, 'b--')\n",
        "    plt.xlabel(\"epochs\")\n",
        "    plt.ylabel(metric_name)\n",
        "    plt.legend(['train', 'val'], loc='upper left')\n",
        "    plt.ylim([0, 1])\n",
        "\n",
        "    plt.show()"
      ],
      "execution_count": 8,
      "outputs": []
    },
    {
      "cell_type": "code",
      "metadata": {
        "id": "BOnJT90Jbmzb"
      },
      "source": [
        "import tensorflow as tf\n",
        "\n",
        "\n",
        "model_VGG_1 = tf.keras.Sequential([\n",
        "    #VGG block 1\n",
        "    tf.keras.layers.Conv2D(32, (3, 3), activation='relu', padding='same', input_shape=(27, 27, 3)),\n",
        "    tf.keras.layers.Conv2D(32, (3, 3), activation='relu', padding='same'),\n",
        "    tf.keras.layers.MaxPooling2D((2, 2)),\n",
        "    \n",
        "    #VGG block 2\n",
        "    tf.keras.layers.Conv2D(64, (3, 3), activation='relu', padding='same'),\n",
        "    tf.keras.layers.Conv2D(64, (3, 3), activation='relu', padding='same'),\n",
        "    tf.keras.layers.MaxPooling2D((2, 2)),\n",
        "    \n",
        "    #VGG block 3\n",
        "    tf.keras.layers.Conv2D(128, (3, 3), activation='relu', padding='same'),\n",
        "    tf.keras.layers.Conv2D(128, (3, 3), activation='relu', padding='same'),\n",
        "    tf.keras.layers.MaxPooling2D((2, 2)),\n",
        "    \n",
        "    tf.keras.layers.Flatten(),\n",
        "    tf.keras.layers.Dense(128, activation='relu'),\n",
        "    tf.keras.layers.Dense(OUTPUT_CLASSES),\n",
        "])"
      ],
      "execution_count": 9,
      "outputs": []
    },
    {
      "cell_type": "code",
      "metadata": {
        "id": "5rV_w1JDbmzc"
      },
      "source": [
        "model_VGG_1.compile(optimizer='adam',\n",
        "              loss=tf.keras.losses.SparseCategoricalCrossentropy(from_logits=True),\n",
        "              metrics=['sparse_categorical_accuracy'])"
      ],
      "execution_count": 11,
      "outputs": []
    },
    {
      "cell_type": "code",
      "metadata": {
        "collapsed": true,
        "colab": {
          "base_uri": "https://localhost:8080/"
        },
        "id": "i-LJPz5ebmzd",
        "outputId": "5853eb01-7b37-46b4-ecd7-b2722b2e4376"
      },
      "source": [
        "history_VGG_1 = model_VGG_1.fit(train_generator, validation_data = validation_generator, epochs=25)"
      ],
      "execution_count": 12,
      "outputs": [
        {
          "output_type": "stream",
          "text": [
            "Epoch 1/25\n",
            "119/119 [==============================] - 33s 33ms/step - loss: 1.0897 - sparse_categorical_accuracy: 0.5333 - val_loss: 1.0134 - val_sparse_categorical_accuracy: 0.6028\n",
            "Epoch 2/25\n",
            "119/119 [==============================] - 3s 28ms/step - loss: 0.8135 - sparse_categorical_accuracy: 0.6835 - val_loss: 0.7023 - val_sparse_categorical_accuracy: 0.7196\n",
            "Epoch 3/25\n",
            "119/119 [==============================] - 3s 28ms/step - loss: 0.7648 - sparse_categorical_accuracy: 0.6973 - val_loss: 0.7381 - val_sparse_categorical_accuracy: 0.7014\n",
            "Epoch 4/25\n",
            "119/119 [==============================] - 3s 29ms/step - loss: 0.6877 - sparse_categorical_accuracy: 0.7293 - val_loss: 0.6495 - val_sparse_categorical_accuracy: 0.7473\n",
            "Epoch 5/25\n",
            "119/119 [==============================] - 3s 29ms/step - loss: 0.6823 - sparse_categorical_accuracy: 0.7403 - val_loss: 0.6510 - val_sparse_categorical_accuracy: 0.7393\n",
            "Epoch 6/25\n",
            "119/119 [==============================] - 3s 29ms/step - loss: 0.6512 - sparse_categorical_accuracy: 0.7485 - val_loss: 0.6899 - val_sparse_categorical_accuracy: 0.7357\n",
            "Epoch 7/25\n",
            "119/119 [==============================] - 3s 29ms/step - loss: 0.6142 - sparse_categorical_accuracy: 0.7623 - val_loss: 0.6045 - val_sparse_categorical_accuracy: 0.7741\n",
            "Epoch 8/25\n",
            "119/119 [==============================] - 4s 29ms/step - loss: 0.5934 - sparse_categorical_accuracy: 0.7696 - val_loss: 0.6041 - val_sparse_categorical_accuracy: 0.7797\n",
            "Epoch 9/25\n",
            "119/119 [==============================] - 3s 29ms/step - loss: 0.6027 - sparse_categorical_accuracy: 0.7726 - val_loss: 0.6296 - val_sparse_categorical_accuracy: 0.7559\n",
            "Epoch 10/25\n",
            "119/119 [==============================] - 3s 29ms/step - loss: 0.5253 - sparse_categorical_accuracy: 0.8034 - val_loss: 0.6291 - val_sparse_categorical_accuracy: 0.7630\n",
            "Epoch 11/25\n",
            "119/119 [==============================] - 3s 29ms/step - loss: 0.5124 - sparse_categorical_accuracy: 0.8060 - val_loss: 0.6277 - val_sparse_categorical_accuracy: 0.7676\n",
            "Epoch 12/25\n",
            "119/119 [==============================] - 3s 29ms/step - loss: 0.4511 - sparse_categorical_accuracy: 0.8343 - val_loss: 0.7237 - val_sparse_categorical_accuracy: 0.7559\n",
            "Epoch 13/25\n",
            "119/119 [==============================] - 3s 29ms/step - loss: 0.3892 - sparse_categorical_accuracy: 0.8525 - val_loss: 0.6581 - val_sparse_categorical_accuracy: 0.7413\n",
            "Epoch 14/25\n",
            "119/119 [==============================] - 3s 29ms/step - loss: 0.3789 - sparse_categorical_accuracy: 0.8621 - val_loss: 0.7533 - val_sparse_categorical_accuracy: 0.7388\n",
            "Epoch 15/25\n",
            "119/119 [==============================] - 3s 29ms/step - loss: 0.3243 - sparse_categorical_accuracy: 0.8794 - val_loss: 0.7498 - val_sparse_categorical_accuracy: 0.7362\n",
            "Epoch 16/25\n",
            "119/119 [==============================] - 3s 29ms/step - loss: 0.2329 - sparse_categorical_accuracy: 0.9180 - val_loss: 0.9236 - val_sparse_categorical_accuracy: 0.7468\n",
            "Epoch 17/25\n",
            "119/119 [==============================] - 4s 29ms/step - loss: 0.2052 - sparse_categorical_accuracy: 0.9217 - val_loss: 0.8749 - val_sparse_categorical_accuracy: 0.7246\n",
            "Epoch 18/25\n",
            "119/119 [==============================] - 3s 29ms/step - loss: 0.1886 - sparse_categorical_accuracy: 0.9311 - val_loss: 0.9740 - val_sparse_categorical_accuracy: 0.7276\n",
            "Epoch 19/25\n",
            "119/119 [==============================] - 3s 29ms/step - loss: 0.1503 - sparse_categorical_accuracy: 0.9498 - val_loss: 1.1312 - val_sparse_categorical_accuracy: 0.7438\n",
            "Epoch 20/25\n",
            "119/119 [==============================] - 4s 29ms/step - loss: 0.0990 - sparse_categorical_accuracy: 0.9660 - val_loss: 1.1744 - val_sparse_categorical_accuracy: 0.7317\n",
            "Epoch 21/25\n",
            "119/119 [==============================] - 3s 29ms/step - loss: 0.1047 - sparse_categorical_accuracy: 0.9631 - val_loss: 1.2458 - val_sparse_categorical_accuracy: 0.7302\n",
            "Epoch 22/25\n",
            "119/119 [==============================] - 3s 29ms/step - loss: 0.0660 - sparse_categorical_accuracy: 0.9774 - val_loss: 1.4803 - val_sparse_categorical_accuracy: 0.7266\n",
            "Epoch 23/25\n",
            "119/119 [==============================] - 4s 30ms/step - loss: 0.0856 - sparse_categorical_accuracy: 0.9673 - val_loss: 1.4639 - val_sparse_categorical_accuracy: 0.7307\n",
            "Epoch 24/25\n",
            "119/119 [==============================] - 3s 29ms/step - loss: 0.0708 - sparse_categorical_accuracy: 0.9788 - val_loss: 1.3579 - val_sparse_categorical_accuracy: 0.7418\n",
            "Epoch 25/25\n",
            "119/119 [==============================] - 3s 29ms/step - loss: 0.0694 - sparse_categorical_accuracy: 0.9759 - val_loss: 1.3613 - val_sparse_categorical_accuracy: 0.7246\n"
          ],
          "name": "stdout"
        }
      ]
    },
    {
      "cell_type": "code",
      "metadata": {
        "collapsed": true,
        "colab": {
          "base_uri": "https://localhost:8080/",
          "height": 338
        },
        "id": "lqSSl9nqbmzd",
        "outputId": "5de67762-73a5-42e7-be79-f5ed4980f2af"
      },
      "source": [
        "plot_learning_curve(history_VGG_1.history['loss'], history_VGG_1.history['val_loss'], \n",
        "                    history_VGG_1.history['sparse_categorical_accuracy'], history_VGG_1.history['val_sparse_categorical_accuracy'], \n",
        "                    metric_name='Accuracy')"
      ],
      "execution_count": 13,
      "outputs": [
        {
          "output_type": "display_data",
          "data": {
            "image/png": "[encoded data removed]",
            "text/plain": [
              "<Figure size 720x360 with 2 Axes>"
            ]
          },
          "metadata": {
            "tags": [],
            "needs_background": "light"
          }
        }
      ]
    },
    {
      "cell_type": "code",
      "metadata": {
        "id": "rpzgYttJbmzf"
      },
      "source": [
        "reg_lambda = 0.001\n",
        "\n",
        "model_VGG_2 = tf.keras.Sequential([\n",
        "    #VGG block 1\n",
        "    tf.keras.layers.Conv2D(27, (3, 3), activation='relu', padding='same', \n",
        "                           kernel_regularizer=tf.keras.regularizers.l2(reg_lambda), input_shape=(27, 27, 3)),\n",
        "    tf.keras.layers.Conv2D(27, (3, 3), activation='relu', padding='same', \n",
        "                           kernel_regularizer=tf.keras.regularizers.l2(reg_lambda)),\n",
        "    tf.keras.layers.MaxPooling2D((2, 2)),\n",
        "    \n",
        "    #VGG block 2\n",
        "    tf.keras.layers.Conv2D(54, (3, 3), activation='relu', padding='same', \n",
        "                           kernel_regularizer=tf.keras.regularizers.l2(reg_lambda)),\n",
        "    tf.keras.layers.Conv2D(54, (3, 3), activation='relu', padding='same', \n",
        "                           kernel_regularizer=tf.keras.regularizers.l2(reg_lambda)),\n",
        "    tf.keras.layers.MaxPooling2D((2, 2)),\n",
        "    \n",
        "    #VGG block 3\n",
        "    tf.keras.layers.Conv2D(108, (3, 3), activation='relu', padding='same', \n",
        "                           kernel_regularizer=tf.keras.regularizers.l2(reg_lambda)),\n",
        "    tf.keras.layers.Conv2D(108, (3, 3), activation='relu', padding='same', \n",
        "                           kernel_regularizer=tf.keras.regularizers.l2(reg_lambda)),\n",
        "    tf.keras.layers.MaxPooling2D((2, 2)),\n",
        "    \n",
        "    tf.keras.layers.Flatten(),\n",
        "    tf.keras.layers.Dense(108, activation='relu'),\n",
        "    tf.keras.layers.Dropout(.2),\n",
        "    tf.keras.layers.Dense(OUTPUT_CLASSES,activation='softmax'),\n",
        "])"
      ],
      "execution_count": null,
      "outputs": []
    },
    {
      "cell_type": "code",
      "metadata": {
        "id": "o9Rpr8Rhbmzg"
      },
      "source": [
        "model_VGG_2.compile(optimizer='adam',\n",
        "              loss=tf.keras.losses.SparseCategoricalCrossentropy(from_logits=True),\n",
        "              metrics=['sparse_categorical_accuracy'])"
      ],
      "execution_count": null,
      "outputs": []
    },
    {
      "cell_type": "code",
      "metadata": {
        "id": "sBLx_289bmzh"
      },
      "source": [
        "history_VGG_2 = model_VGG_2.fit(train_generator, validation_data = validation_generator, epochs=100)\n",
        "plot_learning_curve(history_VGG_2.history['loss'], history_VGG_2.history['val_loss'], \n",
        "                    history_VGG_2.history['sparse_categorical_accuracy'], history_VGG_2.history['val_sparse_categorical_accuracy'], \n",
        "                    metric_name='Accuracy')"
      ],
      "execution_count": null,
      "outputs": []
    },
    {
      "cell_type": "code",
      "metadata": {
        "colab": {
          "base_uri": "https://localhost:8080/"
        },
        "id": "e7jcn5E_bmzi",
        "outputId": "644e7bd1-b5dc-4204-a03b-7a1a028b2caf"
      },
      "source": [
        "model_VGG_2.evaluate(validation_generator)"
      ],
      "execution_count": null,
      "outputs": [
        {
          "output_type": "stream",
          "text": [
            "40/40 [==============================] - 1s 19ms/step - loss: 1.4398 - sparse_categorical_accuracy: 0.7458\n"
          ],
          "name": "stdout"
        },
        {
          "output_type": "execute_result",
          "data": {
            "text/plain": [
              "[1.4398329257965088, 0.7458312511444092]"
            ]
          },
          "metadata": {
            "tags": []
          },
          "execution_count": 18
        }
      ]
    },
    {
      "cell_type": "code",
      "metadata": {
        "colab": {
          "base_uri": "https://localhost:8080/"
        },
        "id": "yUy1w9iubmzi",
        "outputId": "06b9a933-a9ff-43c4-e789-a3029fa5e186"
      },
      "source": [
        "test_data['Class'] = test_data['cellType'].astype('str')\n",
        "\n",
        "test_datagen = ImageDataGenerator(rescale=1./255, data_format='channels_last')\n",
        "\n",
        "batch_size = 1\n",
        "\n",
        "test_generator = test_datagen.flow_from_dataframe(\n",
        "        dataframe=test_data,\n",
        "        directory='./patch_images',\n",
        "        x_col=\"ImageName\",\n",
        "        y_col=\"Class\",\n",
        "        target_size=(27, 27),\n",
        "        batch_size=batch_size,\n",
        "        class_mode='sparse')"
      ],
      "execution_count": null,
      "outputs": [
        {
          "output_type": "stream",
          "text": [
            "Found 1980 validated image filenames belonging to 4 classes.\n"
          ],
          "name": "stdout"
        },
        {
          "output_type": "stream",
          "text": [
            "/usr/local/lib/python3.7/dist-packages/ipykernel_launcher.py:1: SettingWithCopyWarning: \n",
            "A value is trying to be set on a copy of a slice from a DataFrame.\n",
            "Try using .loc[row_indexer,col_indexer] = value instead\n",
            "\n",
            "See the caveats in the documentation: https://pandas.pydata.org/pandas-docs/stable/user_guide/indexing.html#returning-a-view-versus-a-copy\n",
            "  \"\"\"Entry point for launching an IPython kernel.\n"
          ],
          "name": "stderr"
        }
      ]
    },
    {
      "cell_type": "code",
      "metadata": {
        "colab": {
          "base_uri": "https://localhost:8080/"
        },
        "id": "jskuJCJcbmzj",
        "outputId": "0504b8f6-e103-4a33-d926-f0ecf51c417e"
      },
      "source": [
        "model_VGG_2.evaluate(test_generator)"
      ],
      "execution_count": null,
      "outputs": [
        {
          "output_type": "stream",
          "text": [
            "1980/1980 [==============================] - 9s 4ms/step - loss: 1.5789 - sparse_categorical_accuracy: 0.7283\n"
          ],
          "name": "stdout"
        },
        {
          "output_type": "execute_result",
          "data": {
            "text/plain": [
              "[1.578864574432373, 0.7282828092575073]"
            ]
          },
          "metadata": {
            "tags": []
          },
          "execution_count": 20
        }
      ]
    },
    {
      "cell_type": "code",
      "metadata": {
        "colab": {
          "base_uri": "https://localhost:8080/"
        },
        "id": "G2T24Helbmzj",
        "outputId": "8101e812-5bf2-408b-d93f-7042074d8af1"
      },
      "source": [
        "train_data['Class'] = train_data['cellType'].astype('str')\n",
        "val_data['Class'] = val_data['cellType'].astype('str')\n",
        "\n",
        "from tensorflow.keras.preprocessing.image import ImageDataGenerator\n",
        "\n",
        "train_datagen = ImageDataGenerator(rescale=1./255, data_format='channels_last',\n",
        "                                   rotation_range=15, width_shift_range=0.2,\n",
        "                                   height_shift_range=0.2, brightness_range=[0.5,1.5])\n",
        "val_datagen = ImageDataGenerator(rescale=1./255, data_format='channels_last')\n",
        "\n",
        "batch_size = 27\n",
        "\n",
        "train_generator = train_datagen.flow_from_dataframe(\n",
        "        dataframe=train_data,\n",
        "        directory='./patch_images',\n",
        "        x_col=\"ImageName\",\n",
        "        y_col=\"Class\",\n",
        "        target_size=(27, 27),\n",
        "        batch_size=batch_size,\n",
        "        class_mode='sparse')\n",
        "\n",
        "validation_generator = val_datagen.flow_from_dataframe(\n",
        "        dataframe=val_data,\n",
        "        directory='./patch_images',\n",
        "        x_col=\"ImageName\",\n",
        "        y_col=\"Class\",\n",
        "        target_size=(27, 27),\n",
        "        batch_size=batch_size,\n",
        "        class_mode='sparse')"
      ],
      "execution_count": 6,
      "outputs": [
        {
          "output_type": "stream",
          "text": [
            "Found 5937 validated image filenames belonging to 4 classes.\n",
            "Found 1979 validated image filenames belonging to 4 classes.\n"
          ],
          "name": "stdout"
        }
      ]
    },
    {
      "cell_type": "code",
      "metadata": {
        "id": "XQiA8cP6zqSd"
      },
      "source": [
        "import tensorflow as tf\n",
        "reg_lambda = 0.00001\n",
        "\n",
        "model_VGG_3 = tf.keras.Sequential([\n",
        "    #VGG block 1\n",
        "    tf.keras.layers.Conv2D(27, (3, 3), activation='relu', padding='same', \n",
        "                           kernel_regularizer=tf.keras.regularizers.l2(reg_lambda), input_shape=(27, 27, 3)),\n",
        "    tf.keras.layers.Conv2D(27, (3, 3), activation='relu', padding='same', \n",
        "                           kernel_regularizer=tf.keras.regularizers.l2(reg_lambda)),\n",
        "    tf.keras.layers.MaxPooling2D((2, 2)),\n",
        "    \n",
        "    #VGG block 2\n",
        "    tf.keras.layers.Conv2D(54, (3, 3), activation='relu', padding='same', \n",
        "                           kernel_regularizer=tf.keras.regularizers.l2(reg_lambda)),\n",
        "    tf.keras.layers.Conv2D(54, (3, 3), activation='relu', padding='same', \n",
        "                           kernel_regularizer=tf.keras.regularizers.l2(reg_lambda)),\n",
        "    tf.keras.layers.MaxPooling2D((2, 2)),\n",
        "    \n",
        "    #VGG block 3\n",
        "    tf.keras.layers.Conv2D(108, (3, 3), activation='relu', padding='same', \n",
        "                           kernel_regularizer=tf.keras.regularizers.l2(reg_lambda)),\n",
        "    tf.keras.layers.Conv2D(108, (3, 3), activation='relu', padding='same', \n",
        "                           kernel_regularizer=tf.keras.regularizers.l2(reg_lambda)),\n",
        "    tf.keras.layers.MaxPooling2D((2, 2)),\n",
        "    \n",
        "    tf.keras.layers.Flatten(),\n",
        "    tf.keras.layers.Dense(54, activation='relu'),\n",
        "    tf.keras.layers.Dropout(.2),\n",
        "    tf.keras.layers.Dense(OUTPUT_CLASSES,activation='softmax'),\n",
        "])"
      ],
      "execution_count": 7,
      "outputs": []
    },
    {
      "cell_type": "code",
      "metadata": {
        "id": "roIOfBW-zqU3"
      },
      "source": [
        "\n",
        "model_VGG_3.compile(tf.keras.optimizers.Adam(learning_rate=0.0001,name=\"Adam\"),\n",
        "              loss=tf.keras.losses.SparseCategoricalCrossentropy(from_logits=False),\n",
        "              metrics=['sparse_categorical_accuracy'])"
      ],
      "execution_count": 8,
      "outputs": []
    },
    {
      "cell_type": "code",
      "metadata": {
        "id": "qiDRcWMlxnrY"
      },
      "source": [
        "model_VGG_3.optimizer.get_config()"
      ],
      "execution_count": null,
      "outputs": []
    },
    {
      "cell_type": "code",
      "metadata": {
        "id": "2A00fC7izqYv"
      },
      "source": [
        "history_VGG_3 = model_VGG_3.fit(train_generator, validation_data = validation_generator, epochs=100)"
      ],
      "execution_count": null,
      "outputs": []
    },
    {
      "cell_type": "code",
      "metadata": {
        "colab": {
          "base_uri": "https://localhost:8080/",
          "height": 338
        },
        "id": "Qgk-68fbTaqD",
        "outputId": "0b8e37ed-f8b1-4c9e-db74-4045d0d9aed7"
      },
      "source": [
        "plot_learning_curve(history_VGG_3.history['loss'], history_VGG_3.history['val_loss'], \n",
        "                    history_VGG_3.history['sparse_categorical_accuracy'], history_VGG_3.history['val_sparse_categorical_accuracy'], \n",
        "                    metric_name='Accuracy')"
      ],
      "execution_count": 12,
      "outputs": [
        {
          "output_type": "display_data",
          "data": {
            "image/png": "[encoded data removed]",
            "text/plain": [
              "<Figure size 720x360 with 2 Axes>"
            ]
          },
          "metadata": {
            "tags": [],
            "needs_background": "light"
          }
        }
      ]
    },
    {
      "cell_type": "code",
      "metadata": {
        "colab": {
          "base_uri": "https://localhost:8080/"
        },
        "id": "SzxwmN100DPt",
        "outputId": "18f49134-3eb2-458f-adfe-66455359ebae"
      },
      "source": [
        "model_VGG_3.evaluate(validation_generator)"
      ],
      "execution_count": null,
      "outputs": [
        {
          "output_type": "stream",
          "text": [
            "74/74 [==============================] - 1s 11ms/step - loss: 0.7381 - sparse_categorical_accuracy: 0.7433\n"
          ],
          "name": "stdout"
        },
        {
          "output_type": "execute_result",
          "data": {
            "text/plain": [
              "[0.7381166815757751, 0.7433046698570251]"
            ]
          },
          "metadata": {
            "tags": []
          },
          "execution_count": 36
        }
      ]
    },
    {
      "cell_type": "code",
      "metadata": {
        "colab": {
          "base_uri": "https://localhost:8080/"
        },
        "id": "IzYNE8BUxQIW",
        "outputId": "a444e82e-7df7-4f66-8271-8b64be58d530"
      },
      "source": [
        "# setup data some placeholders\n",
        "y_hat_all = list()\n",
        "y_all = list()\n",
        "filenames = validation_generator.filenames\n",
        "N_images = len(filenames)\n",
        "batches = 0\n",
        "\n",
        "# iterate through the data generator and predict for each batch\n",
        "# hold the predictions and labels\n",
        "for x,y in validation_generator:\n",
        "        y_hat = model_VGG_3.predict(x, verbose=0)\n",
        "        y_hat = np.argmax(y_hat, axis = 1)\n",
        "        # y = np.argmax(y, axis = 1)\n",
        "        y_hat_all = y_hat_all + y_hat.tolist()\n",
        "        y_all = y_all + y.tolist()\n",
        "\n",
        "        batches += 1\n",
        "        if batches >= N_images / batch_size_:\n",
        "            break\n",
        "\n",
        "# now you have made the predictions you can use any performance metric\n",
        "# you wish: either in sklearn or some function you have written\n",
        "\n",
        "from sklearn.metrics import classification_report\n",
        "from sklearn.metrics import confusion_matrix, accuracy_score, f1_score\n",
        "\n",
        "print(\"Accuracy score: \", accuracy_score(y_all, y_hat_all))\n",
        "print(\"F1 score: \", f1_score(y_all, y_hat_all, average='macro'))\n",
        "print(confusion_matrix(y_all, y_hat_all))"
      ],
      "execution_count": null,
      "outputs": [
        {
          "output_type": "stream",
          "text": [
            "Accuracy score:  0.7703514739229025\n",
            "F1 score:  0.7089611032527133\n",
            "[[ 8881   716   425   213]\n",
            " [ 1365 11107   745   348]\n",
            " [ 2620   725 18295    26]\n",
            " [ 2144  2292   534  2484]]\n"
          ],
          "name": "stdout"
        }
      ]
    },
    {
      "cell_type": "code",
      "metadata": {
        "colab": {
          "base_uri": "https://localhost:8080/"
        },
        "id": "XGx7wQlmj6p8",
        "outputId": "866e8f3f-61ed-4fdf-c108-ec526c54bfc5"
      },
      "source": [
        "#Uncomment if on loca machine or AWS\n",
        "# import zipfile\n",
        "# with zipfile.ZipFile('./Image_classification_data (1).zip', 'r') as zip_ref:\n",
        "#     zip_ref.extractall('./')\n",
        "import numpy as np\n",
        "from sklearn.model_selection import train_test_split\n",
        "import pandas as pd\n",
        "\n",
        "data = pd.read_csv('./data_labels_mainData.csv')\n",
        "\n",
        "OUTPUT_CLASSES = 2\n",
        "\n",
        "\n",
        "# Uncomment the following line to do two class classification with\n",
        "# a subset of data\n",
        "# data = data[(data['Class'] == 3) | (data['Class'] == 5)]\n",
        "# OUTPUT_CLASSES = 2\n",
        "\n",
        "train_data, test_data = train_test_split(data, test_size=0.2, random_state=42)\n",
        "train_data, val_data = train_test_split(train_data, test_size=0.25, random_state=42)\n",
        "\n",
        "print(\"Train data : {}, Val Data: {}, Test Data: {}\".format(train_data.shape[0], val_data.shape[0], test_data.shape[0]))"
      ],
      "execution_count": 65,
      "outputs": [
        {
          "output_type": "stream",
          "text": [
            "Train data : 5937, Val Data: 1979, Test Data: 1980\n"
          ],
          "name": "stdout"
        }
      ]
    },
    {
      "cell_type": "code",
      "metadata": {
        "colab": {
          "base_uri": "https://localhost:8080/"
        },
        "id": "O1j9BR7Qi9sm",
        "outputId": "75157376-098a-4b8b-dd82-355e6ad9ffca"
      },
      "source": [
        "train_data['Class'] = train_data['isCancerous'].astype('str')\n",
        "val_data['Class'] = val_data['isCancerous'].astype('str')\n",
        "\n",
        "from tensorflow.keras.preprocessing.image import ImageDataGenerator\n",
        "\n",
        "train_datagen = ImageDataGenerator(rescale=1./255, data_format='channels_last',\n",
        "                                   rotation_range=15, width_shift_range=0.2,\n",
        "                                   height_shift_range=0.2, brightness_range=[0.5,1.5])\n",
        "val_datagen = ImageDataGenerator(rescale=1./255, data_format='channels_last')\n",
        "\n",
        "batch_size = 27\n",
        "\n",
        "train_generator = train_datagen.flow_from_dataframe(\n",
        "        dataframe=train_data,\n",
        "        directory='./patch_images',\n",
        "        x_col=\"ImageName\",\n",
        "        y_col=\"Class\",\n",
        "        target_size=(27, 27),\n",
        "        batch_size=batch_size,\n",
        "        class_mode='categorical')\n",
        "\n",
        "validation_generator = val_datagen.flow_from_dataframe(\n",
        "        dataframe=val_data,\n",
        "        directory='./patch_images',\n",
        "        x_col=\"ImageName\",\n",
        "        y_col=\"Class\",\n",
        "        target_size=(27, 27),\n",
        "        batch_size=batch_size,\n",
        "        class_mode='categorical')"
      ],
      "execution_count": 66,
      "outputs": [
        {
          "output_type": "stream",
          "text": [
            "Found 5937 validated image filenames belonging to 2 classes.\n",
            "Found 1979 validated image filenames belonging to 2 classes.\n"
          ],
          "name": "stdout"
        }
      ]
    },
    {
      "cell_type": "code",
      "metadata": {
        "id": "A3u-E--2i9vK"
      },
      "source": [
        "import tensorflow as tf\n",
        "reg_lambda = 0.0001\n",
        "\n",
        "model_VGG_3 = tf.keras.Sequential([\n",
        "    #VGG block 1\n",
        "    tf.keras.layers.Conv2D(27, (3, 3), activation='relu', padding='same', \n",
        "                           kernel_regularizer=tf.keras.regularizers.l2(reg_lambda), input_shape=(27, 27, 3)),\n",
        "    tf.keras.layers.Conv2D(27, (3, 3), activation='relu', padding='same', \n",
        "                           kernel_regularizer=tf.keras.regularizers.l2(reg_lambda)),\n",
        "    tf.keras.layers.MaxPooling2D((2, 2)),\n",
        "    \n",
        "    #VGG block 2\n",
        "    tf.keras.layers.Conv2D(54, (3, 3), activation='relu', padding='same', \n",
        "                           kernel_regularizer=tf.keras.regularizers.l2(reg_lambda)),\n",
        "    tf.keras.layers.Conv2D(54, (3, 3), activation='relu', padding='same', \n",
        "                           kernel_regularizer=tf.keras.regularizers.l2(reg_lambda)),\n",
        "    tf.keras.layers.MaxPooling2D((2, 2)),\n",
        "    \n",
        "    #VGG block 3\n",
        "    tf.keras.layers.Conv2D(108, (3, 3), activation='relu', padding='same', \n",
        "                           kernel_regularizer=tf.keras.regularizers.l2(reg_lambda)),\n",
        "    tf.keras.layers.Conv2D(108, (3, 3), activation='relu', padding='same', \n",
        "                           kernel_regularizer=tf.keras.regularizers.l2(reg_lambda)),\n",
        "    tf.keras.layers.MaxPooling2D((2, 2)),\n",
        "    \n",
        "    tf.keras.layers.Flatten(),\n",
        "    tf.keras.layers.Dense(54, activation='relu'),\n",
        "    tf.keras.layers.Dropout(.2),\n",
        "    tf.keras.layers.Dense(OUTPUT_CLASSES,activation='softmax'),\n",
        "])"
      ],
      "execution_count": 67,
      "outputs": []
    },
    {
      "cell_type": "code",
      "metadata": {
        "id": "2Vb4nPD_i9xy"
      },
      "source": [
        "model_VGG_3.compile(tf.keras.optimizers.Adam(learning_rate=0.0001,name=\"Adam\"),\n",
        "              loss=tf.keras.losses.CategoricalCrossentropy(from_logits=False),\n",
        "              metrics=['categorical_accuracy'])"
      ],
      "execution_count": 68,
      "outputs": []
    },
    {
      "cell_type": "code",
      "metadata": {
        "colab": {
          "base_uri": "https://localhost:8080/"
        },
        "id": "FoEWvqsai90a",
        "outputId": "61f4d246-5577-408f-853d-1d5f17e0c27a"
      },
      "source": [
        "history_VGG_3 = model_VGG_3.fit(train_generator, validation_data = validation_generator, epochs=100)"
      ],
      "execution_count": 69,
      "outputs": [
        {
          "output_type": "stream",
          "text": [
            "Epoch 1/15\n",
            "220/220 [==============================] - 7s 29ms/step - loss: 0.6702 - categorical_accuracy: 0.6249 - val_loss: 0.4695 - val_categorical_accuracy: 0.7938\n",
            "Epoch 2/15\n",
            "220/220 [==============================] - 6s 28ms/step - loss: 0.4293 - categorical_accuracy: 0.8285 - val_loss: 0.5698 - val_categorical_accuracy: 0.7261\n",
            "Epoch 3/15\n",
            "220/220 [==============================] - 6s 28ms/step - loss: 0.3931 - categorical_accuracy: 0.8471 - val_loss: 0.4153 - val_categorical_accuracy: 0.8034\n",
            "Epoch 4/15\n",
            "220/220 [==============================] - 6s 28ms/step - loss: 0.3836 - categorical_accuracy: 0.8457 - val_loss: 0.3399 - val_categorical_accuracy: 0.8615\n",
            "Epoch 5/15\n",
            "220/220 [==============================] - 6s 28ms/step - loss: 0.3746 - categorical_accuracy: 0.8503 - val_loss: 0.3066 - val_categorical_accuracy: 0.8802\n",
            "Epoch 6/15\n",
            "220/220 [==============================] - 6s 28ms/step - loss: 0.3590 - categorical_accuracy: 0.8570 - val_loss: 0.3469 - val_categorical_accuracy: 0.8464\n",
            "Epoch 7/15\n",
            "220/220 [==============================] - 6s 28ms/step - loss: 0.3468 - categorical_accuracy: 0.8679 - val_loss: 0.4137 - val_categorical_accuracy: 0.8146\n",
            "Epoch 8/15\n",
            "220/220 [==============================] - 6s 28ms/step - loss: 0.3409 - categorical_accuracy: 0.8722 - val_loss: 0.3033 - val_categorical_accuracy: 0.8807\n",
            "Epoch 9/15\n",
            "220/220 [==============================] - 6s 28ms/step - loss: 0.3380 - categorical_accuracy: 0.8701 - val_loss: 0.3005 - val_categorical_accuracy: 0.8878\n",
            "Epoch 10/15\n",
            "220/220 [==============================] - 6s 29ms/step - loss: 0.3342 - categorical_accuracy: 0.8710 - val_loss: 0.3411 - val_categorical_accuracy: 0.8525\n",
            "Epoch 11/15\n",
            "220/220 [==============================] - 7s 30ms/step - loss: 0.3383 - categorical_accuracy: 0.8688 - val_loss: 0.3589 - val_categorical_accuracy: 0.8504\n",
            "Epoch 12/15\n",
            "220/220 [==============================] - 6s 29ms/step - loss: 0.3285 - categorical_accuracy: 0.8740 - val_loss: 0.2938 - val_categorical_accuracy: 0.8934\n",
            "Epoch 13/15\n",
            "220/220 [==============================] - 6s 29ms/step - loss: 0.3229 - categorical_accuracy: 0.8728 - val_loss: 0.3098 - val_categorical_accuracy: 0.8752\n",
            "Epoch 14/15\n",
            "220/220 [==============================] - 6s 29ms/step - loss: 0.3220 - categorical_accuracy: 0.8732 - val_loss: 0.4043 - val_categorical_accuracy: 0.8191\n",
            "Epoch 15/15\n",
            "220/220 [==============================] - 7s 30ms/step - loss: 0.3170 - categorical_accuracy: 0.8749 - val_loss: 0.3115 - val_categorical_accuracy: 0.8873\n"
          ],
          "name": "stdout"
        }
      ]
    },
    {
      "cell_type": "code",
      "metadata": {
        "colab": {
          "base_uri": "https://localhost:8080/",
          "height": 338
        },
        "id": "JBzH1Jfri923",
        "outputId": "54be821c-babc-4633-a6e5-a036722e1f99"
      },
      "source": [
        "plot_learning_curve(history_VGG_3.history['loss'], history_VGG_3.history['val_loss'], \n",
        "                    history_VGG_3.history['categorical_accuracy'], history_VGG_3.history['val_categorical_accuracy'], \n",
        "                    metric_name='Accuracy')"
      ],
      "execution_count": 70,
      "outputs": [
        {
          "output_type": "display_data",
          "data": {
            "image/png": "[encoded data removed]",
            "text/plain": [
              "<Figure size 720x360 with 2 Axes>"
            ]
          },
          "metadata": {
            "tags": [],
            "needs_background": "light"
          }
        }
      ]
    },
    {
      "cell_type": "code",
      "metadata": {
        "colab": {
          "base_uri": "https://localhost:8080/"
        },
        "id": "8Hyls8Kui95q",
        "outputId": "3abb814e-bfd6-470b-a88c-065c7f96ef17"
      },
      "source": [
        "# setup data some placeholders\n",
        "batch_size_ = 1\n",
        "y_hat_all = list()\n",
        "y_all = list()\n",
        "filenames = validation_generator.filenames\n",
        "N_images = len(filenames)\n",
        "batches = 1\n",
        "\n",
        "# iterate through the data generator and predict for each batch\n",
        "# hold the predictions and labels\n",
        "for x,y in validation_generator:\n",
        "        y_hat = model_VGG_3.predict(x, verbose=0)\n",
        "        y_hat = np.argmax(y_hat, axis = 1)\n",
        "        y = np.argmax(y, axis = 1)\n",
        "        y_hat_all = y_hat_all + y_hat.tolist()\n",
        "        y_all = y_all + y.tolist()\n",
        "\n",
        "        batches += 1\n",
        "        if batches >= N_images / batch_size_:\n",
        "            break\n",
        "\n",
        "# now you have made the predictions you can use any performance metric\n",
        "# you wish: either in sklearn or some function you have written\n",
        "\n",
        "from sklearn.metrics import classification_report\n",
        "from sklearn.metrics import confusion_matrix, accuracy_score, f1_score\n",
        "\n",
        "print(\"Accuracy score: \", accuracy_score(y_all, y_hat_all))\n",
        "print(\"F1 score: \", f1_score(y_all, y_hat_all, average='macro'))\n",
        "print(confusion_matrix(y_all, y_hat_all))"
      ],
      "execution_count": null,
      "outputs": [
        {
          "output_type": "stream",
          "text": [
            "Accuracy score:  0.9137693078479194\n",
            "F1 score:  0.9092785580010481\n",
            "[[30050  1201]\n",
            " [ 3360 18282]]\n"
          ],
          "name": "stdout"
        }
      ]
    },
    {
      "cell_type": "code",
      "metadata": {
        "id": "eyRzoE8ci9-0",
        "colab": {
          "base_uri": "https://localhost:8080/"
        },
        "outputId": "301a63ea-1402-4674-84e0-7064c7c84a3f"
      },
      "source": [
        "model_VGG_3.save(\"model_VGG_3\")"
      ],
      "execution_count": 71,
      "outputs": [
        {
          "output_type": "stream",
          "text": [
            "INFO:tensorflow:Assets written to: model_VGG_3/assets\n"
          ],
          "name": "stdout"
        }
      ]
    },
    {
      "cell_type": "code",
      "metadata": {
        "id": "YXozeVV7Rl35"
      },
      "source": [
        "## Only on colab\n",
        "# Change according to your directory structure\n",
        "!cp -R ./model_VGG_3 /content/drive/'MyDrive'/'Colab Notebooks'/"
      ],
      "execution_count": null,
      "outputs": []
    },
    {
      "cell_type": "code",
      "metadata": {
        "colab": {
          "base_uri": "https://localhost:8080/"
        },
        "id": "nsRVxBpaRl5z",
        "outputId": "30469a48-e872-4ee9-a549-b7b4046a3d1a"
      },
      "source": [
        "#Uncomment if on loca machine or AWS\n",
        "# import zipfile\n",
        "# with zipfile.ZipFile('./Image_classification_data (1).zip', 'r') as zip_ref:\n",
        "#     zip_ref.extractall('./')\n",
        "import numpy as np\n",
        "from sklearn.model_selection import train_test_split\n",
        "import pandas as pd\n",
        "\n",
        "data = pd.read_csv('./data_labels_mainData.csv')\n",
        "\n",
        "OUTPUT_CLASSES = 4\n",
        "\n",
        "\n",
        "# Uncomment the following line to do two class classification with\n",
        "# a subset of data\n",
        "# data = data[(data['Class'] == 3) | (data['Class'] == 5)]\n",
        "# OUTPUT_CLASSES = 2\n",
        "\n",
        "train_data, test_data = train_test_split(data, test_size=0.2, random_state=42)\n",
        "train_data, val_data = train_test_split(train_data, test_size=0.25, random_state=42)\n",
        "\n",
        "print(\"Train data : {}, Val Data: {}, Test Data: {}\".format(train_data.shape[0], val_data.shape[0], test_data.shape[0]))"
      ],
      "execution_count": 72,
      "outputs": [
        {
          "output_type": "stream",
          "text": [
            "Train data : 5937, Val Data: 1979, Test Data: 1980\n"
          ],
          "name": "stdout"
        }
      ]
    },
    {
      "cell_type": "code",
      "metadata": {
        "colab": {
          "base_uri": "https://localhost:8080/"
        },
        "id": "RwIBWDYmRl9U",
        "outputId": "a6f2bdb3-3cd2-4ae7-ef49-dcddf2e4da67"
      },
      "source": [
        "train_data['Class'] = train_data['cellType'].astype('str')\n",
        "val_data['Class'] = val_data['cellType'].astype('str')\n",
        "\n",
        "from tensorflow.keras.preprocessing.image import ImageDataGenerator\n",
        "\n",
        "train_datagen = ImageDataGenerator(rescale=1./255, data_format='channels_last')\n",
        "val_datagen = ImageDataGenerator(rescale=1./255, data_format='channels_last')\n",
        "\n",
        "batch_size = 50\n",
        "\n",
        "train_generator = train_datagen.flow_from_dataframe(\n",
        "        dataframe=train_data,\n",
        "        directory='./patch_images',\n",
        "        x_col=\"ImageName\",\n",
        "        y_col=\"Class\",\n",
        "        target_size=(27, 27),\n",
        "        batch_size=batch_size,\n",
        "        class_mode='sparse')\n",
        "\n",
        "validation_generator = val_datagen.flow_from_dataframe(\n",
        "        dataframe=val_data,\n",
        "        directory='./patch_images',\n",
        "        x_col=\"ImageName\",\n",
        "        y_col=\"Class\",\n",
        "        target_size=(27, 27),\n",
        "        batch_size=batch_size,\n",
        "        class_mode='sparse')"
      ],
      "execution_count": 73,
      "outputs": [
        {
          "output_type": "stream",
          "text": [
            "Found 5937 validated image filenames belonging to 4 classes.\n",
            "Found 1979 validated image filenames belonging to 4 classes.\n"
          ],
          "name": "stdout"
        }
      ]
    },
    {
      "cell_type": "code",
      "metadata": {
        "id": "6v13F3cLlR_z"
      },
      "source": [
        "model_VGG_3.summary()"
      ],
      "execution_count": null,
      "outputs": []
    },
    {
      "cell_type": "code",
      "metadata": {
        "id": "WYNkZVsGlSDW"
      },
      "source": [
        "from tensorflow.keras.layers import Dense\n",
        "model_VGG_3.pop()"
      ],
      "execution_count": 80,
      "outputs": []
    },
    {
      "cell_type": "code",
      "metadata": {
        "id": "-Ob9SL6QogNG"
      },
      "source": [
        "model_VGG_3.summary()"
      ],
      "execution_count": null,
      "outputs": []
    },
    {
      "cell_type": "code",
      "metadata": {
        "id": "37XJvovQqSKg"
      },
      "source": [
        "model_VGG_3.add(Dense(4, activation='softmax'))"
      ],
      "execution_count": 78,
      "outputs": []
    },
    {
      "cell_type": "code",
      "metadata": {
        "id": "so5Z0NMsqSTA"
      },
      "source": [
        "model_VGG_3.compile(tf.keras.optimizers.Adam(learning_rate=0.0001,name=\"Adam\"),\n",
        "              loss=tf.keras.losses.SparseCategoricalCrossentropy(from_logits=False),\n",
        "              metrics=['sparse_categorical_accuracy'])"
      ],
      "execution_count": 85,
      "outputs": []
    },
    {
      "cell_type": "code",
      "metadata": {
        "colab": {
          "base_uri": "https://localhost:8080/"
        },
        "id": "gIRVt2CQqSVZ",
        "outputId": "18f969ee-c551-4e21-ea02-67286f94e544"
      },
      "source": [
        "history_VGG_3 = model_VGG_3.fit(train_generator, validation_data = validation_generator, epochs=100)"
      ],
      "execution_count": 87,
      "outputs": [
        {
          "output_type": "stream",
          "text": [
            "Epoch 1/100\n",
            "119/119 [==============================] - 2s 19ms/step - loss: 0.6501 - sparse_categorical_accuracy: 0.7608 - val_loss: 0.6625 - val_sparse_categorical_accuracy: 0.7524\n",
            "Epoch 2/100\n",
            "119/119 [==============================] - 2s 19ms/step - loss: 0.6687 - sparse_categorical_accuracy: 0.7536 - val_loss: 0.7192 - val_sparse_categorical_accuracy: 0.7196\n",
            "Epoch 3/100\n",
            "119/119 [==============================] - 2s 19ms/step - loss: 0.6453 - sparse_categorical_accuracy: 0.7637 - val_loss: 0.6315 - val_sparse_categorical_accuracy: 0.7681\n",
            "Epoch 4/100\n",
            "119/119 [==============================] - 2s 19ms/step - loss: 0.6423 - sparse_categorical_accuracy: 0.7625 - val_loss: 0.6390 - val_sparse_categorical_accuracy: 0.7610\n",
            "Epoch 5/100\n",
            "119/119 [==============================] - 2s 19ms/step - loss: 0.6449 - sparse_categorical_accuracy: 0.7618 - val_loss: 0.6309 - val_sparse_categorical_accuracy: 0.7665\n",
            "Epoch 6/100\n",
            "119/119 [==============================] - 2s 20ms/step - loss: 0.6360 - sparse_categorical_accuracy: 0.7686 - val_loss: 0.6572 - val_sparse_categorical_accuracy: 0.7443\n",
            "Epoch 7/100\n",
            "119/119 [==============================] - 2s 19ms/step - loss: 0.6366 - sparse_categorical_accuracy: 0.7657 - val_loss: 0.6363 - val_sparse_categorical_accuracy: 0.7610\n",
            "Epoch 8/100\n",
            "119/119 [==============================] - 2s 19ms/step - loss: 0.6242 - sparse_categorical_accuracy: 0.7672 - val_loss: 0.6377 - val_sparse_categorical_accuracy: 0.7630\n",
            "Epoch 9/100\n",
            "119/119 [==============================] - 2s 19ms/step - loss: 0.6224 - sparse_categorical_accuracy: 0.7743 - val_loss: 0.6148 - val_sparse_categorical_accuracy: 0.7716\n",
            "Epoch 10/100\n",
            "119/119 [==============================] - 2s 19ms/step - loss: 0.6145 - sparse_categorical_accuracy: 0.7751 - val_loss: 0.6834 - val_sparse_categorical_accuracy: 0.7342\n",
            "Epoch 11/100\n",
            "119/119 [==============================] - 2s 19ms/step - loss: 0.6013 - sparse_categorical_accuracy: 0.7797 - val_loss: 0.6396 - val_sparse_categorical_accuracy: 0.7660\n",
            "Epoch 12/100\n",
            "119/119 [==============================] - 2s 19ms/step - loss: 0.6043 - sparse_categorical_accuracy: 0.7751 - val_loss: 0.6206 - val_sparse_categorical_accuracy: 0.7731\n",
            "Epoch 13/100\n",
            "119/119 [==============================] - 2s 19ms/step - loss: 0.6058 - sparse_categorical_accuracy: 0.7753 - val_loss: 0.6119 - val_sparse_categorical_accuracy: 0.7721\n",
            "Epoch 14/100\n",
            "119/119 [==============================] - 2s 19ms/step - loss: 0.5936 - sparse_categorical_accuracy: 0.7837 - val_loss: 0.6232 - val_sparse_categorical_accuracy: 0.7681\n",
            "Epoch 15/100\n",
            "119/119 [==============================] - 2s 19ms/step - loss: 0.6090 - sparse_categorical_accuracy: 0.7819 - val_loss: 0.6633 - val_sparse_categorical_accuracy: 0.7484\n",
            "Epoch 16/100\n",
            "119/119 [==============================] - 2s 19ms/step - loss: 0.5838 - sparse_categorical_accuracy: 0.7874 - val_loss: 0.6153 - val_sparse_categorical_accuracy: 0.7726\n",
            "Epoch 17/100\n",
            "119/119 [==============================] - 2s 19ms/step - loss: 0.5937 - sparse_categorical_accuracy: 0.7859 - val_loss: 0.6405 - val_sparse_categorical_accuracy: 0.7544\n",
            "Epoch 18/100\n",
            "119/119 [==============================] - 2s 19ms/step - loss: 0.5932 - sparse_categorical_accuracy: 0.7826 - val_loss: 0.6089 - val_sparse_categorical_accuracy: 0.7741\n",
            "Epoch 19/100\n",
            "119/119 [==============================] - 2s 20ms/step - loss: 0.5570 - sparse_categorical_accuracy: 0.7987 - val_loss: 0.6069 - val_sparse_categorical_accuracy: 0.7782\n",
            "Epoch 20/100\n",
            "119/119 [==============================] - 2s 19ms/step - loss: 0.5607 - sparse_categorical_accuracy: 0.7940 - val_loss: 0.6179 - val_sparse_categorical_accuracy: 0.7731\n",
            "Epoch 21/100\n",
            "119/119 [==============================] - 2s 19ms/step - loss: 0.5674 - sparse_categorical_accuracy: 0.7911 - val_loss: 0.6168 - val_sparse_categorical_accuracy: 0.7671\n",
            "Epoch 22/100\n",
            "119/119 [==============================] - 2s 19ms/step - loss: 0.5603 - sparse_categorical_accuracy: 0.7952 - val_loss: 0.6670 - val_sparse_categorical_accuracy: 0.7479\n",
            "Epoch 23/100\n",
            "119/119 [==============================] - 2s 19ms/step - loss: 0.5559 - sparse_categorical_accuracy: 0.8016 - val_loss: 0.6691 - val_sparse_categorical_accuracy: 0.7443\n",
            "Epoch 24/100\n",
            "119/119 [==============================] - 2s 19ms/step - loss: 0.5536 - sparse_categorical_accuracy: 0.8023 - val_loss: 0.6064 - val_sparse_categorical_accuracy: 0.7645\n",
            "Epoch 25/100\n",
            "119/119 [==============================] - 2s 19ms/step - loss: 0.5507 - sparse_categorical_accuracy: 0.8018 - val_loss: 0.6019 - val_sparse_categorical_accuracy: 0.7767\n",
            "Epoch 26/100\n",
            "119/119 [==============================] - 2s 19ms/step - loss: 0.5426 - sparse_categorical_accuracy: 0.8034 - val_loss: 0.6213 - val_sparse_categorical_accuracy: 0.7635\n",
            "Epoch 27/100\n",
            "119/119 [==============================] - 2s 19ms/step - loss: 0.5490 - sparse_categorical_accuracy: 0.8023 - val_loss: 0.5971 - val_sparse_categorical_accuracy: 0.7858\n",
            "Epoch 28/100\n",
            "119/119 [==============================] - 2s 19ms/step - loss: 0.5491 - sparse_categorical_accuracy: 0.8021 - val_loss: 0.6062 - val_sparse_categorical_accuracy: 0.7842\n",
            "Epoch 29/100\n",
            "119/119 [==============================] - 2s 19ms/step - loss: 0.5301 - sparse_categorical_accuracy: 0.8114 - val_loss: 0.5935 - val_sparse_categorical_accuracy: 0.7827\n",
            "Epoch 30/100\n",
            "119/119 [==============================] - 2s 19ms/step - loss: 0.5228 - sparse_categorical_accuracy: 0.8115 - val_loss: 0.5946 - val_sparse_categorical_accuracy: 0.7852\n",
            "Epoch 31/100\n",
            "119/119 [==============================] - 2s 19ms/step - loss: 0.5202 - sparse_categorical_accuracy: 0.8114 - val_loss: 0.6397 - val_sparse_categorical_accuracy: 0.7569\n",
            "Epoch 32/100\n",
            "119/119 [==============================] - 2s 19ms/step - loss: 0.5140 - sparse_categorical_accuracy: 0.8152 - val_loss: 0.5899 - val_sparse_categorical_accuracy: 0.7817\n",
            "Epoch 33/100\n",
            "119/119 [==============================] - 2s 19ms/step - loss: 0.5120 - sparse_categorical_accuracy: 0.8221 - val_loss: 0.5953 - val_sparse_categorical_accuracy: 0.7787\n",
            "Epoch 34/100\n",
            "119/119 [==============================] - 2s 19ms/step - loss: 0.5170 - sparse_categorical_accuracy: 0.8149 - val_loss: 0.5854 - val_sparse_categorical_accuracy: 0.7807\n",
            "Epoch 35/100\n",
            "119/119 [==============================] - 2s 19ms/step - loss: 0.4944 - sparse_categorical_accuracy: 0.8233 - val_loss: 0.5842 - val_sparse_categorical_accuracy: 0.7802\n",
            "Epoch 36/100\n",
            "119/119 [==============================] - 2s 19ms/step - loss: 0.4909 - sparse_categorical_accuracy: 0.8292 - val_loss: 0.6152 - val_sparse_categorical_accuracy: 0.7701\n",
            "Epoch 37/100\n",
            "119/119 [==============================] - 2s 19ms/step - loss: 0.4969 - sparse_categorical_accuracy: 0.8258 - val_loss: 0.6147 - val_sparse_categorical_accuracy: 0.7711\n",
            "Epoch 38/100\n",
            "119/119 [==============================] - 2s 19ms/step - loss: 0.5003 - sparse_categorical_accuracy: 0.8223 - val_loss: 0.5799 - val_sparse_categorical_accuracy: 0.7893\n",
            "Epoch 39/100\n",
            "119/119 [==============================] - 2s 19ms/step - loss: 0.4747 - sparse_categorical_accuracy: 0.8334 - val_loss: 0.5965 - val_sparse_categorical_accuracy: 0.7827\n",
            "Epoch 40/100\n",
            "119/119 [==============================] - 2s 19ms/step - loss: 0.4746 - sparse_categorical_accuracy: 0.8327 - val_loss: 0.6183 - val_sparse_categorical_accuracy: 0.7767\n",
            "Epoch 41/100\n",
            "119/119 [==============================] - 2s 19ms/step - loss: 0.4834 - sparse_categorical_accuracy: 0.8306 - val_loss: 0.5925 - val_sparse_categorical_accuracy: 0.7817\n",
            "Epoch 42/100\n",
            "119/119 [==============================] - 2s 19ms/step - loss: 0.4750 - sparse_categorical_accuracy: 0.8334 - val_loss: 0.6351 - val_sparse_categorical_accuracy: 0.7696\n",
            "Epoch 43/100\n",
            "119/119 [==============================] - 2s 19ms/step - loss: 0.4636 - sparse_categorical_accuracy: 0.8351 - val_loss: 0.5857 - val_sparse_categorical_accuracy: 0.7858\n",
            "Epoch 44/100\n",
            "119/119 [==============================] - 2s 19ms/step - loss: 0.4606 - sparse_categorical_accuracy: 0.8351 - val_loss: 0.6239 - val_sparse_categorical_accuracy: 0.7721\n",
            "Epoch 45/100\n",
            "119/119 [==============================] - 2s 19ms/step - loss: 0.4638 - sparse_categorical_accuracy: 0.8338 - val_loss: 0.5960 - val_sparse_categorical_accuracy: 0.7792\n",
            "Epoch 46/100\n",
            "119/119 [==============================] - 2s 19ms/step - loss: 0.4591 - sparse_categorical_accuracy: 0.8344 - val_loss: 0.6544 - val_sparse_categorical_accuracy: 0.7514\n",
            "Epoch 47/100\n",
            "119/119 [==============================] - 2s 19ms/step - loss: 0.4468 - sparse_categorical_accuracy: 0.8408 - val_loss: 0.5992 - val_sparse_categorical_accuracy: 0.7847\n",
            "Epoch 48/100\n",
            "119/119 [==============================] - 2s 19ms/step - loss: 0.4331 - sparse_categorical_accuracy: 0.8523 - val_loss: 0.6130 - val_sparse_categorical_accuracy: 0.7746\n",
            "Epoch 49/100\n",
            "119/119 [==============================] - 2s 19ms/step - loss: 0.4308 - sparse_categorical_accuracy: 0.8489 - val_loss: 0.5928 - val_sparse_categorical_accuracy: 0.7852\n",
            "Epoch 50/100\n",
            "119/119 [==============================] - 2s 19ms/step - loss: 0.4440 - sparse_categorical_accuracy: 0.8430 - val_loss: 0.6174 - val_sparse_categorical_accuracy: 0.7837\n",
            "Epoch 51/100\n",
            "119/119 [==============================] - 2s 19ms/step - loss: 0.4234 - sparse_categorical_accuracy: 0.8519 - val_loss: 0.6084 - val_sparse_categorical_accuracy: 0.7792\n",
            "Epoch 52/100\n",
            "119/119 [==============================] - 2s 19ms/step - loss: 0.4172 - sparse_categorical_accuracy: 0.8543 - val_loss: 0.5954 - val_sparse_categorical_accuracy: 0.7888\n",
            "Epoch 53/100\n",
            "119/119 [==============================] - 2s 19ms/step - loss: 0.4201 - sparse_categorical_accuracy: 0.8536 - val_loss: 0.6176 - val_sparse_categorical_accuracy: 0.7767\n",
            "Epoch 54/100\n",
            "119/119 [==============================] - 2s 19ms/step - loss: 0.4045 - sparse_categorical_accuracy: 0.8609 - val_loss: 0.6361 - val_sparse_categorical_accuracy: 0.7842\n",
            "Epoch 55/100\n",
            "119/119 [==============================] - 2s 19ms/step - loss: 0.4002 - sparse_categorical_accuracy: 0.8624 - val_loss: 0.6323 - val_sparse_categorical_accuracy: 0.7797\n",
            "Epoch 56/100\n",
            "119/119 [==============================] - 2s 19ms/step - loss: 0.3960 - sparse_categorical_accuracy: 0.8609 - val_loss: 0.6391 - val_sparse_categorical_accuracy: 0.7772\n",
            "Epoch 57/100\n",
            "119/119 [==============================] - 2s 19ms/step - loss: 0.3902 - sparse_categorical_accuracy: 0.8646 - val_loss: 0.6181 - val_sparse_categorical_accuracy: 0.7928\n",
            "Epoch 58/100\n",
            "119/119 [==============================] - 2s 19ms/step - loss: 0.3784 - sparse_categorical_accuracy: 0.8745 - val_loss: 0.6107 - val_sparse_categorical_accuracy: 0.7852\n",
            "Epoch 59/100\n",
            "119/119 [==============================] - 2s 19ms/step - loss: 0.3908 - sparse_categorical_accuracy: 0.8634 - val_loss: 0.6230 - val_sparse_categorical_accuracy: 0.7868\n",
            "Epoch 60/100\n",
            "119/119 [==============================] - 2s 19ms/step - loss: 0.3725 - sparse_categorical_accuracy: 0.8742 - val_loss: 0.6341 - val_sparse_categorical_accuracy: 0.7777\n",
            "Epoch 61/100\n",
            "119/119 [==============================] - 2s 19ms/step - loss: 0.3620 - sparse_categorical_accuracy: 0.8781 - val_loss: 0.6092 - val_sparse_categorical_accuracy: 0.7827\n",
            "Epoch 62/100\n",
            "119/119 [==============================] - 2s 20ms/step - loss: 0.3582 - sparse_categorical_accuracy: 0.8796 - val_loss: 0.6297 - val_sparse_categorical_accuracy: 0.7832\n",
            "Epoch 63/100\n",
            "119/119 [==============================] - 2s 19ms/step - loss: 0.3468 - sparse_categorical_accuracy: 0.8834 - val_loss: 0.6468 - val_sparse_categorical_accuracy: 0.7822\n",
            "Epoch 64/100\n",
            "119/119 [==============================] - 2s 19ms/step - loss: 0.3550 - sparse_categorical_accuracy: 0.8770 - val_loss: 0.6430 - val_sparse_categorical_accuracy: 0.7883\n",
            "Epoch 65/100\n",
            "119/119 [==============================] - 2s 20ms/step - loss: 0.3612 - sparse_categorical_accuracy: 0.8769 - val_loss: 0.6890 - val_sparse_categorical_accuracy: 0.7701\n",
            "Epoch 66/100\n",
            "119/119 [==============================] - 2s 19ms/step - loss: 0.3300 - sparse_categorical_accuracy: 0.8870 - val_loss: 0.6350 - val_sparse_categorical_accuracy: 0.7868\n",
            "Epoch 67/100\n",
            "119/119 [==============================] - 2s 19ms/step - loss: 0.3382 - sparse_categorical_accuracy: 0.8834 - val_loss: 0.6287 - val_sparse_categorical_accuracy: 0.7812\n",
            "Epoch 68/100\n",
            "119/119 [==============================] - 2s 19ms/step - loss: 0.3475 - sparse_categorical_accuracy: 0.8843 - val_loss: 0.6633 - val_sparse_categorical_accuracy: 0.7635\n",
            "Epoch 69/100\n",
            "119/119 [==============================] - 2s 19ms/step - loss: 0.3120 - sparse_categorical_accuracy: 0.8991 - val_loss: 0.6299 - val_sparse_categorical_accuracy: 0.7852\n",
            "Epoch 70/100\n",
            "119/119 [==============================] - 2s 19ms/step - loss: 0.3029 - sparse_categorical_accuracy: 0.9013 - val_loss: 0.7108 - val_sparse_categorical_accuracy: 0.7620\n",
            "Epoch 71/100\n",
            "119/119 [==============================] - 2s 19ms/step - loss: 0.2926 - sparse_categorical_accuracy: 0.9060 - val_loss: 0.6940 - val_sparse_categorical_accuracy: 0.7777\n",
            "Epoch 72/100\n",
            "119/119 [==============================] - 2s 19ms/step - loss: 0.2919 - sparse_categorical_accuracy: 0.9065 - val_loss: 0.6752 - val_sparse_categorical_accuracy: 0.7756\n",
            "Epoch 73/100\n",
            "119/119 [==============================] - 2s 20ms/step - loss: 0.2857 - sparse_categorical_accuracy: 0.9094 - val_loss: 0.6737 - val_sparse_categorical_accuracy: 0.7883\n",
            "Epoch 74/100\n",
            "119/119 [==============================] - 2s 19ms/step - loss: 0.2889 - sparse_categorical_accuracy: 0.9037 - val_loss: 0.6686 - val_sparse_categorical_accuracy: 0.7858\n",
            "Epoch 75/100\n",
            "119/119 [==============================] - 2s 19ms/step - loss: 0.2712 - sparse_categorical_accuracy: 0.9175 - val_loss: 0.7505 - val_sparse_categorical_accuracy: 0.7559\n",
            "Epoch 76/100\n",
            "119/119 [==============================] - 2s 20ms/step - loss: 0.2638 - sparse_categorical_accuracy: 0.9203 - val_loss: 0.7369 - val_sparse_categorical_accuracy: 0.7741\n",
            "Epoch 77/100\n",
            "119/119 [==============================] - 2s 20ms/step - loss: 0.2825 - sparse_categorical_accuracy: 0.9084 - val_loss: 0.6807 - val_sparse_categorical_accuracy: 0.7665\n",
            "Epoch 78/100\n",
            "119/119 [==============================] - 2s 20ms/step - loss: 0.2474 - sparse_categorical_accuracy: 0.9245 - val_loss: 0.7382 - val_sparse_categorical_accuracy: 0.7711\n",
            "Epoch 79/100\n",
            "119/119 [==============================] - 2s 19ms/step - loss: 0.2394 - sparse_categorical_accuracy: 0.9261 - val_loss: 0.7063 - val_sparse_categorical_accuracy: 0.7812\n",
            "Epoch 80/100\n",
            "119/119 [==============================] - 2s 19ms/step - loss: 0.2607 - sparse_categorical_accuracy: 0.9224 - val_loss: 0.7518 - val_sparse_categorical_accuracy: 0.7767\n",
            "Epoch 81/100\n",
            "119/119 [==============================] - 2s 19ms/step - loss: 0.2324 - sparse_categorical_accuracy: 0.9289 - val_loss: 0.7345 - val_sparse_categorical_accuracy: 0.7812\n",
            "Epoch 82/100\n",
            "119/119 [==============================] - 2s 19ms/step - loss: 0.2403 - sparse_categorical_accuracy: 0.9267 - val_loss: 0.8463 - val_sparse_categorical_accuracy: 0.7418\n",
            "Epoch 83/100\n",
            "119/119 [==============================] - 2s 19ms/step - loss: 0.2188 - sparse_categorical_accuracy: 0.9331 - val_loss: 0.7393 - val_sparse_categorical_accuracy: 0.7817\n",
            "Epoch 84/100\n",
            "119/119 [==============================] - 2s 20ms/step - loss: 0.2141 - sparse_categorical_accuracy: 0.9365 - val_loss: 0.7450 - val_sparse_categorical_accuracy: 0.7736\n",
            "Epoch 85/100\n",
            "119/119 [==============================] - 2s 20ms/step - loss: 0.2259 - sparse_categorical_accuracy: 0.9350 - val_loss: 0.8855 - val_sparse_categorical_accuracy: 0.7504\n",
            "Epoch 86/100\n",
            "119/119 [==============================] - 2s 20ms/step - loss: 0.2336 - sparse_categorical_accuracy: 0.9264 - val_loss: 0.7674 - val_sparse_categorical_accuracy: 0.7681\n",
            "Epoch 87/100\n",
            "119/119 [==============================] - 2s 19ms/step - loss: 0.2118 - sparse_categorical_accuracy: 0.9358 - val_loss: 0.8137 - val_sparse_categorical_accuracy: 0.7822\n",
            "Epoch 88/100\n",
            "119/119 [==============================] - 2s 19ms/step - loss: 0.2011 - sparse_categorical_accuracy: 0.9410 - val_loss: 0.7471 - val_sparse_categorical_accuracy: 0.7756\n",
            "Epoch 89/100\n",
            "119/119 [==============================] - 2s 19ms/step - loss: 0.1862 - sparse_categorical_accuracy: 0.9478 - val_loss: 0.7723 - val_sparse_categorical_accuracy: 0.7751\n",
            "Epoch 90/100\n",
            "119/119 [==============================] - 2s 20ms/step - loss: 0.1853 - sparse_categorical_accuracy: 0.9476 - val_loss: 0.7796 - val_sparse_categorical_accuracy: 0.7691\n",
            "Epoch 91/100\n",
            "119/119 [==============================] - 2s 19ms/step - loss: 0.1758 - sparse_categorical_accuracy: 0.9520 - val_loss: 0.8618 - val_sparse_categorical_accuracy: 0.7671\n",
            "Epoch 92/100\n",
            "119/119 [==============================] - 2s 20ms/step - loss: 0.1811 - sparse_categorical_accuracy: 0.9486 - val_loss: 0.8072 - val_sparse_categorical_accuracy: 0.7746\n",
            "Epoch 93/100\n",
            "119/119 [==============================] - 2s 20ms/step - loss: 0.1718 - sparse_categorical_accuracy: 0.9549 - val_loss: 0.8527 - val_sparse_categorical_accuracy: 0.7650\n",
            "Epoch 94/100\n",
            "119/119 [==============================] - 2s 19ms/step - loss: 0.1697 - sparse_categorical_accuracy: 0.9549 - val_loss: 0.8514 - val_sparse_categorical_accuracy: 0.7660\n",
            "Epoch 95/100\n",
            "119/119 [==============================] - 2s 19ms/step - loss: 0.1615 - sparse_categorical_accuracy: 0.9555 - val_loss: 0.8191 - val_sparse_categorical_accuracy: 0.7590\n",
            "Epoch 96/100\n",
            "119/119 [==============================] - 2s 19ms/step - loss: 0.1520 - sparse_categorical_accuracy: 0.9591 - val_loss: 0.8632 - val_sparse_categorical_accuracy: 0.7696\n",
            "Epoch 97/100\n",
            "119/119 [==============================] - 2s 19ms/step - loss: 0.1444 - sparse_categorical_accuracy: 0.9638 - val_loss: 0.8772 - val_sparse_categorical_accuracy: 0.7726\n",
            "Epoch 98/100\n",
            "119/119 [==============================] - 2s 19ms/step - loss: 0.1548 - sparse_categorical_accuracy: 0.9594 - val_loss: 0.8478 - val_sparse_categorical_accuracy: 0.7797\n",
            "Epoch 99/100\n",
            "119/119 [==============================] - 2s 19ms/step - loss: 0.1621 - sparse_categorical_accuracy: 0.9576 - val_loss: 0.8667 - val_sparse_categorical_accuracy: 0.7756\n",
            "Epoch 100/100\n",
            "119/119 [==============================] - 2s 19ms/step - loss: 0.1283 - sparse_categorical_accuracy: 0.9714 - val_loss: 0.9491 - val_sparse_categorical_accuracy: 0.7686\n"
          ],
          "name": "stdout"
        }
      ]
    }
  ]
}