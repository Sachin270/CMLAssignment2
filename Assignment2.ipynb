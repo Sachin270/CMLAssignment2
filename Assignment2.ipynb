{
  "nbformat": 4,
  "nbformat_minor": 0,
  "metadata": {
    "kernelspec": {
      "display_name": "Python 3",
      "language": "python",
      "name": "python3"
    },
    "colab": {
      "name": "Untitled8.ipynb",
      "provenance": [],
      "collapsed_sections": [],
      "include_colab_link": true
    },
    "accelerator": "GPU"
  },
  "cells": [
    {
      "cell_type": "markdown",
      "metadata": {
        "id": "view-in-github",
        "colab_type": "text"
      },
      "source": [
        "<a href=\"https://colab.research.google.com/github/Sachin270/CMLAssignment2/blob/main/Assignment2.ipynb\" target=\"_parent\"><img src=\"https://colab.research.google.com/assets/colab-badge.svg\" alt=\"Open In Colab\"/></a>"
      ]
    },
    {
      "cell_type": "code",
      "metadata": {
        "id": "z1qAHC3MjyS6",
        "colab": {
          "base_uri": "https://localhost:8080/"
        },
        "outputId": "06c96d0f-7043-4dc3-883f-798ddb508dd7"
      },
      "source": [
        "from google.colab import drive\n",
        "drive.mount('/content/drive/')"
      ],
      "execution_count": 1,
      "outputs": [
        {
          "output_type": "stream",
          "text": [
            "Go to this URL in a browser: https://accounts.google.com/o/oauth2/auth?client_id=947318989803-6bn6qk8qdgf4n4g3pfee6491hc0brc4i.apps.googleusercontent.com&redirect_uri=urn%3aietf%3awg%3aoauth%3a2.0%3aoob&scope=email%20https%3a%2f%2fwww.googleapis.com%2fauth%2fdocs.test%20https%3a%2f%2fwww.googleapis.com%2fauth%2fdrive%20https%3a%2f%2fwww.googleapis.com%2fauth%2fdrive.photos.readonly%20https%3a%2f%2fwww.googleapis.com%2fauth%2fpeopleapi.readonly%20https%3a%2f%2fwww.googleapis.com%2fauth%2fdrive.activity.readonly%20https%3a%2f%2fwww.googleapis.com%2fauth%2fexperimentsandconfigs%20https%3a%2f%2fwww.googleapis.com%2fauth%2fphotos.native&response_type=code\n",
            "\n",
            "Enter your authorization code:\n",
            "4/1AY0e-g60nR3HC-U54tlj8yfpqouV475sDY_vc8QrcaeO1LAIrnXz5uy_smo\n",
            "Mounted at /content/drive/\n"
          ],
          "name": "stdout"
        }
      ]
    },
    {
      "cell_type": "code",
      "metadata": {
        "id": "6nd7cdo3k-vl",
        "colab": {
          "base_uri": "https://localhost:8080/"
        },
        "outputId": "915b3094-c29f-405f-9738-da695be6f152"
      },
      "source": [
        "!ls /content/drive/'MyDrive'/'Colab Notebooks'/"
      ],
      "execution_count": 3,
      "outputs": [
        {
          "output_type": "stream",
          "text": [
            " data_labels_extraData.csv\t      patch_images      Untitled1.ipynb\n",
            " data_labels_mainData.csv\t      Untitled\t       'Untitled8 (1).ipynb'\n",
            "'Image_classification_data (1).zip'   Untitled0.ipynb   Untitled8.ipynb\n"
          ],
          "name": "stdout"
        }
      ]
    },
    {
      "cell_type": "code",
      "metadata": {
        "colab": {
          "base_uri": "https://localhost:8080/"
        },
        "id": "0bMKIqgLlnuO",
        "outputId": "930f7430-8b13-4b07-bca1-40c675252080"
      },
      "source": [
        "!cp /content/drive/'MyDrive'/'Colab Notebooks'/'Image_classification_data (1).zip' .\n",
        "!unzip -q -o 'Image_classification_data (1).zip'\n",
        "!rm 'Image_classification_data (1).zip'\n",
        "!ls"
      ],
      "execution_count": 4,
      "outputs": [
        {
          "output_type": "stream",
          "text": [
            "data_labels_extraData.csv  drive     patch_images\n",
            "data_labels_mainData.csv   __MACOSX  sample_data\n"
          ],
          "name": "stdout"
        }
      ]
    },
    {
      "cell_type": "code",
      "metadata": {
        "colab": {
          "base_uri": "https://localhost:8080/"
        },
        "id": "-Et8H9SabmzV",
        "outputId": "933fcbb0-5a71-4ea0-c02a-6deda9a663bb"
      },
      "source": [
        "#Uncomment if on loca machine or AWS\n",
        "# import zipfile\n",
        "# with zipfile.ZipFile('./Image_classification_data (1).zip', 'r') as zip_ref:\n",
        "#     zip_ref.extractall('./')\n",
        "import numpy as np\n",
        "from sklearn.model_selection import train_test_split\n",
        "import pandas as pd\n",
        "\n",
        "data = pd.read_csv('./data_labels_mainData.csv')\n",
        "\n",
        "OUTPUT_CLASSES = 4\n",
        "\n",
        "\n",
        "# Uncomment the following line to do two class classification with\n",
        "# a subset of data\n",
        "# data = data[(data['Class'] == 3) | (data['Class'] == 5)]\n",
        "# OUTPUT_CLASSES = 2\n",
        "\n",
        "train_data, test_data = train_test_split(data, test_size=0.2, random_state=42)\n",
        "train_data, val_data = train_test_split(train_data, test_size=0.25, random_state=42)\n",
        "\n",
        "print(\"Train data : {}, Val Data: {}, Test Data: {}\".format(train_data.shape[0], val_data.shape[0], test_data.shape[0]))"
      ],
      "execution_count": 5,
      "outputs": [
        {
          "output_type": "stream",
          "text": [
            "Train data : 5937, Val Data: 1979, Test Data: 1980\n"
          ],
          "name": "stdout"
        }
      ]
    },
    {
      "cell_type": "code",
      "metadata": {
        "colab": {
          "base_uri": "https://localhost:8080/"
        },
        "id": "o0B93O-sbmzZ",
        "outputId": "25963c37-6cd7-4aec-cedb-bd9c062db1e5"
      },
      "source": [
        "train_data['Class'] = train_data['cellType'].astype('str')\n",
        "val_data['Class'] = val_data['cellType'].astype('str')\n",
        "\n",
        "from tensorflow.keras.preprocessing.image import ImageDataGenerator\n",
        "\n",
        "train_datagen = ImageDataGenerator(rescale=1./255, data_format='channels_last')\n",
        "val_datagen = ImageDataGenerator(rescale=1./255, data_format='channels_last')\n",
        "\n",
        "batch_size = 50\n",
        "\n",
        "train_generator = train_datagen.flow_from_dataframe(\n",
        "        dataframe=train_data,\n",
        "        directory='./patch_images',\n",
        "        x_col=\"ImageName\",\n",
        "        y_col=\"Class\",\n",
        "        target_size=(27, 27),\n",
        "        batch_size=batch_size,\n",
        "        class_mode='sparse')\n",
        "\n",
        "validation_generator = val_datagen.flow_from_dataframe(\n",
        "        dataframe=val_data,\n",
        "        directory='./patch_images',\n",
        "        x_col=\"ImageName\",\n",
        "        y_col=\"Class\",\n",
        "        target_size=(27, 27),\n",
        "        batch_size=batch_size,\n",
        "        class_mode='sparse')"
      ],
      "execution_count": 6,
      "outputs": [
        {
          "output_type": "stream",
          "text": [
            "Found 5937 validated image filenames belonging to 4 classes.\n",
            "Found 1979 validated image filenames belonging to 4 classes.\n"
          ],
          "name": "stdout"
        }
      ]
    },
    {
      "cell_type": "code",
      "metadata": {
        "id": "T7XgoneObmza"
      },
      "source": [
        "import matplotlib.pyplot as plt\n",
        "def plot_learning_curve(train_loss, val_loss, train_metric, val_metric, metric_name='Accuracy'):\n",
        "    plt.figure(figsize=(10,5))\n",
        "    \n",
        "    plt.subplot(1,2,1)\n",
        "    plt.plot(train_loss, 'r--')\n",
        "    plt.plot(val_loss, 'b--')\n",
        "    plt.xlabel(\"epochs\")\n",
        "    plt.ylabel(\"Loss\")\n",
        "    plt.legend(['train', 'val'], loc='upper left')\n",
        "\n",
        "    plt.subplot(1,2,2)\n",
        "    plt.plot(train_metric, 'r--')\n",
        "    plt.plot(val_metric, 'b--')\n",
        "    plt.xlabel(\"epochs\")\n",
        "    plt.ylabel(metric_name)\n",
        "    plt.legend(['train', 'val'], loc='upper left')\n",
        "\n",
        "    plt.show()"
      ],
      "execution_count": null,
      "outputs": []
    },
    {
      "cell_type": "code",
      "metadata": {
        "id": "BOnJT90Jbmzb"
      },
      "source": [
        "import tensorflow as tf\n",
        "\n",
        "\n",
        "model_VGG_1 = tf.keras.Sequential([\n",
        "    #VGG block 1\n",
        "    tf.keras.layers.Conv2D(32, (3, 3), activation='relu', padding='same', input_shape=(27, 27, 3)),\n",
        "    tf.keras.layers.Conv2D(32, (3, 3), activation='relu', padding='same'),\n",
        "    tf.keras.layers.MaxPooling2D((2, 2)),\n",
        "    \n",
        "    #VGG block 2\n",
        "    tf.keras.layers.Conv2D(64, (3, 3), activation='relu', padding='same'),\n",
        "    tf.keras.layers.Conv2D(64, (3, 3), activation='relu', padding='same'),\n",
        "    tf.keras.layers.MaxPooling2D((2, 2)),\n",
        "    \n",
        "    #VGG block 3\n",
        "    tf.keras.layers.Conv2D(128, (3, 3), activation='relu', padding='same'),\n",
        "    tf.keras.layers.Conv2D(128, (3, 3), activation='relu', padding='same'),\n",
        "    tf.keras.layers.MaxPooling2D((2, 2)),\n",
        "    \n",
        "    tf.keras.layers.Flatten(),\n",
        "    tf.keras.layers.Dense(128, activation='relu'),\n",
        "    tf.keras.layers.Dense(OUTPUT_CLASSES),\n",
        "])"
      ],
      "execution_count": null,
      "outputs": []
    },
    {
      "cell_type": "code",
      "metadata": {
        "id": "eMl6xplCGpGq"
      },
      "source": [
        "from tensorflow.python.keras.metrics import Metric"
      ],
      "execution_count": null,
      "outputs": []
    },
    {
      "cell_type": "code",
      "metadata": {
        "id": "5rV_w1JDbmzc"
      },
      "source": [
        "model_VGG_1.compile(optimizer='adam',\n",
        "              loss=tf.keras.losses.SparseCategoricalCrossentropy(from_logits=True),\n",
        "              metrics=['sparse_categorical_accuracy',get_f1])"
      ],
      "execution_count": null,
      "outputs": []
    },
    {
      "cell_type": "code",
      "metadata": {
        "collapsed": true,
        "colab": {
          "base_uri": "https://localhost:8080/"
        },
        "id": "i-LJPz5ebmzd",
        "outputId": "f3cb8de6-49c1-4bd6-fe48-3ac57104d089"
      },
      "source": [
        "history_VGG_1 = model_VGG_1.fit(train_generator, validation_data = validation_generator, epochs=25)"
      ],
      "execution_count": null,
      "outputs": [
        {
          "output_type": "stream",
          "text": [
            "119/119 [==============================] - 34s 35ms/step - loss: 1.1581 - sparse_categorical_accuracy: 0.4886 - get_f1: 1.2176 - val_loss: 0.9793 - val_sparse_categorical_accuracy: 0.5766 - val_get_f1: 1.1997\n",
            "Epoch 2/25\n",
            "119/119 [==============================] - 4s 29ms/step - loss: 0.8393 - sparse_categorical_accuracy: 0.6742 - get_f1: 1.1341 - val_loss: 0.8086 - val_sparse_categorical_accuracy: 0.6842 - val_get_f1: 1.1500\n",
            "Epoch 3/25\n",
            "119/119 [==============================] - 4s 30ms/step - loss: 0.7652 - sparse_categorical_accuracy: 0.7014 - get_f1: 1.1659 - val_loss: 0.7491 - val_sparse_categorical_accuracy: 0.6993 - val_get_f1: 1.0959\n",
            "Epoch 4/25\n",
            "119/119 [==============================] - 4s 30ms/step - loss: 0.7293 - sparse_categorical_accuracy: 0.7118 - get_f1: 1.1488 - val_loss: 0.8516 - val_sparse_categorical_accuracy: 0.6478 - val_get_f1: 1.2007\n",
            "Epoch 5/25\n",
            "119/119 [==============================] - 4s 30ms/step - loss: 0.7017 - sparse_categorical_accuracy: 0.7229 - get_f1: 1.1615 - val_loss: 0.6832 - val_sparse_categorical_accuracy: 0.7266 - val_get_f1: 1.1074\n",
            "Epoch 6/25\n",
            "119/119 [==============================] - 4s 30ms/step - loss: 0.6716 - sparse_categorical_accuracy: 0.7369 - get_f1: 1.1461 - val_loss: 0.6470 - val_sparse_categorical_accuracy: 0.7468 - val_get_f1: 1.1636\n",
            "Epoch 7/25\n",
            "119/119 [==============================] - 4s 31ms/step - loss: 0.6466 - sparse_categorical_accuracy: 0.7561 - get_f1: 1.1507 - val_loss: 0.6546 - val_sparse_categorical_accuracy: 0.7499 - val_get_f1: 1.1236\n",
            "Epoch 8/25\n",
            "119/119 [==============================] - 4s 31ms/step - loss: 0.6369 - sparse_categorical_accuracy: 0.7504 - get_f1: 1.1402 - val_loss: 0.6742 - val_sparse_categorical_accuracy: 0.7362 - val_get_f1: 1.1059\n",
            "Epoch 9/25\n",
            "119/119 [==============================] - 4s 30ms/step - loss: 0.5989 - sparse_categorical_accuracy: 0.7706 - get_f1: 1.1418 - val_loss: 0.6775 - val_sparse_categorical_accuracy: 0.7191 - val_get_f1: 1.1104\n",
            "Epoch 10/25\n",
            "119/119 [==============================] - 4s 30ms/step - loss: 0.5604 - sparse_categorical_accuracy: 0.7863 - get_f1: 1.1348 - val_loss: 0.6382 - val_sparse_categorical_accuracy: 0.7544 - val_get_f1: 1.1083\n",
            "Epoch 11/25\n",
            "119/119 [==============================] - 4s 30ms/step - loss: 0.5548 - sparse_categorical_accuracy: 0.7861 - get_f1: 1.1220 - val_loss: 0.6355 - val_sparse_categorical_accuracy: 0.7479 - val_get_f1: 1.1206\n",
            "Epoch 12/25\n",
            "119/119 [==============================] - 4s 30ms/step - loss: 0.5156 - sparse_categorical_accuracy: 0.7991 - get_f1: 1.1184 - val_loss: 0.7348 - val_sparse_categorical_accuracy: 0.7393 - val_get_f1: 1.1171\n",
            "Epoch 13/25\n",
            "119/119 [==============================] - 4s 30ms/step - loss: 0.4697 - sparse_categorical_accuracy: 0.8253 - get_f1: 1.1269 - val_loss: 0.7057 - val_sparse_categorical_accuracy: 0.7458 - val_get_f1: 1.1062\n",
            "Epoch 14/25\n",
            "119/119 [==============================] - 4s 30ms/step - loss: 0.4259 - sparse_categorical_accuracy: 0.8393 - get_f1: 1.1201 - val_loss: 0.7934 - val_sparse_categorical_accuracy: 0.7317 - val_get_f1: 1.0853\n",
            "Epoch 15/25\n",
            "119/119 [==============================] - 4s 30ms/step - loss: 0.3885 - sparse_categorical_accuracy: 0.8541 - get_f1: 1.1070 - val_loss: 0.6750 - val_sparse_categorical_accuracy: 0.7494 - val_get_f1: 1.1203\n",
            "Epoch 16/25\n",
            "119/119 [==============================] - 4s 30ms/step - loss: 0.3471 - sparse_categorical_accuracy: 0.8705 - get_f1: 1.1153 - val_loss: 0.7312 - val_sparse_categorical_accuracy: 0.7676 - val_get_f1: 1.1177\n",
            "Epoch 17/25\n",
            "119/119 [==============================] - 4s 30ms/step - loss: 0.3072 - sparse_categorical_accuracy: 0.8892 - get_f1: 1.1112 - val_loss: 0.8013 - val_sparse_categorical_accuracy: 0.7665 - val_get_f1: 1.0994\n",
            "Epoch 18/25\n",
            "119/119 [==============================] - 4s 30ms/step - loss: 0.2503 - sparse_categorical_accuracy: 0.9070 - get_f1: 1.1047 - val_loss: 0.8663 - val_sparse_categorical_accuracy: 0.7297 - val_get_f1: 1.1327\n",
            "Epoch 19/25\n",
            "119/119 [==============================] - 4s 30ms/step - loss: 0.2198 - sparse_categorical_accuracy: 0.9197 - get_f1: 1.1023 - val_loss: 0.9658 - val_sparse_categorical_accuracy: 0.7408 - val_get_f1: 1.1498\n",
            "Epoch 20/25\n",
            "119/119 [==============================] - 4s 30ms/step - loss: 0.2062 - sparse_categorical_accuracy: 0.9252 - get_f1: 1.1056 - val_loss: 0.8381 - val_sparse_categorical_accuracy: 0.7539 - val_get_f1: 1.1286\n",
            "Epoch 21/25\n",
            "119/119 [==============================] - 4s 30ms/step - loss: 0.1389 - sparse_categorical_accuracy: 0.9498 - get_f1: 1.0884 - val_loss: 1.0688 - val_sparse_categorical_accuracy: 0.7337 - val_get_f1: 1.1195\n",
            "Epoch 22/25\n",
            "119/119 [==============================] - 4s 30ms/step - loss: 0.1436 - sparse_categorical_accuracy: 0.9483 - get_f1: 1.0783 - val_loss: 0.9860 - val_sparse_categorical_accuracy: 0.7423 - val_get_f1: 1.1176\n",
            "Epoch 23/25\n",
            "119/119 [==============================] - 4s 31ms/step - loss: 0.1687 - sparse_categorical_accuracy: 0.9390 - get_f1: 1.0803 - val_loss: 1.1848 - val_sparse_categorical_accuracy: 0.7226 - val_get_f1: 1.1233\n",
            "Epoch 24/25\n",
            "119/119 [==============================] - 4s 31ms/step - loss: 0.0898 - sparse_categorical_accuracy: 0.9682 - get_f1: 1.0776 - val_loss: 1.4304 - val_sparse_categorical_accuracy: 0.7110 - val_get_f1: 1.1050\n",
            "Epoch 25/25\n",
            "119/119 [==============================] - 4s 29ms/step - loss: 0.0664 - sparse_categorical_accuracy: 0.9771 - get_f1: 1.0716 - val_loss: 1.3895 - val_sparse_categorical_accuracy: 0.7372 - val_get_f1: 1.1196\n"
          ],
          "name": "stdout"
        }
      ]
    },
    {
      "cell_type": "code",
      "metadata": {
        "collapsed": true,
        "colab": {
          "base_uri": "https://localhost:8080/",
          "height": 337
        },
        "id": "lqSSl9nqbmzd",
        "outputId": "7c8ff8eb-faab-4846-db71-b183a5e3666a"
      },
      "source": [
        "plot_learning_curve(history_VGG_1.history['loss'], history_VGG_1.history['val_loss'], \n",
        "                    history_VGG_1.history['sparse_categorical_accuracy'], history_VGG_1.history['val_sparse_categorical_accuracy'], \n",
        "                    metric_name='Accuracy')"
      ],
      "execution_count": null,
      "outputs": [
        {
          "output_type": "display_data",
          "data": {
            "image/png": "[encoded data removed]",
            "text/plain": [
              "<Figure size 720x360 with 2 Axes>"
            ]
          },
          "metadata": {
            "tags": [],
            "needs_background": "light"
          }
        }
      ]
    },
    {
      "cell_type": "code",
      "metadata": {
        "id": "rpzgYttJbmzf"
      },
      "source": [
        "reg_lambda = 0.001\n",
        "\n",
        "model_VGG_2 = tf.keras.Sequential([\n",
        "    #VGG block 1\n",
        "    tf.keras.layers.Conv2D(27, (3, 3), activation='relu', padding='same', \n",
        "                           kernel_regularizer=tf.keras.regularizers.l2(reg_lambda), input_shape=(27, 27, 3)),\n",
        "    tf.keras.layers.Conv2D(27, (3, 3), activation='relu', padding='same', \n",
        "                           kernel_regularizer=tf.keras.regularizers.l2(reg_lambda)),\n",
        "    tf.keras.layers.MaxPooling2D((2, 2)),\n",
        "    \n",
        "    #VGG block 2\n",
        "    tf.keras.layers.Conv2D(54, (3, 3), activation='relu', padding='same', \n",
        "                           kernel_regularizer=tf.keras.regularizers.l2(reg_lambda)),\n",
        "    tf.keras.layers.Conv2D(54, (3, 3), activation='relu', padding='same', \n",
        "                           kernel_regularizer=tf.keras.regularizers.l2(reg_lambda)),\n",
        "    tf.keras.layers.MaxPooling2D((2, 2)),\n",
        "    \n",
        "    #VGG block 3\n",
        "    tf.keras.layers.Conv2D(108, (3, 3), activation='relu', padding='same', \n",
        "                           kernel_regularizer=tf.keras.regularizers.l2(reg_lambda)),\n",
        "    tf.keras.layers.Conv2D(108, (3, 3), activation='relu', padding='same', \n",
        "                           kernel_regularizer=tf.keras.regularizers.l2(reg_lambda)),\n",
        "    tf.keras.layers.MaxPooling2D((2, 2)),\n",
        "    \n",
        "    tf.keras.layers.Flatten(),\n",
        "    tf.keras.layers.Dense(108, activation='relu'),\n",
        "    tf.keras.layers.Dropout(.2),\n",
        "    tf.keras.layers.Dense(OUTPUT_CLASSES,activation='softmax'),\n",
        "])"
      ],
      "execution_count": null,
      "outputs": []
    },
    {
      "cell_type": "code",
      "metadata": {
        "id": "o9Rpr8Rhbmzg"
      },
      "source": [
        "model_VGG_2.compile(optimizer='adam',\n",
        "              loss=tf.keras.losses.SparseCategoricalCrossentropy(from_logits=True),\n",
        "              metrics=['sparse_categorical_accuracy'])"
      ],
      "execution_count": null,
      "outputs": []
    },
    {
      "cell_type": "code",
      "metadata": {
        "id": "sBLx_289bmzh"
      },
      "source": [
        "history_VGG_2 = model_VGG_2.fit(train_generator, validation_data = validation_generator, epochs=100)\n",
        "plot_learning_curve(history_VGG_2.history['loss'], history_VGG_2.history['val_loss'], \n",
        "                    history_VGG_2.history['sparse_categorical_accuracy'], history_VGG_2.history['val_sparse_categorical_accuracy'], \n",
        "                    metric_name='Accuracy')"
      ],
      "execution_count": null,
      "outputs": []
    },
    {
      "cell_type": "code",
      "metadata": {
        "colab": {
          "base_uri": "https://localhost:8080/"
        },
        "id": "e7jcn5E_bmzi",
        "outputId": "644e7bd1-b5dc-4204-a03b-7a1a028b2caf"
      },
      "source": [
        "model_VGG_2.evaluate(validation_generator)"
      ],
      "execution_count": null,
      "outputs": [
        {
          "output_type": "stream",
          "text": [
            "40/40 [==============================] - 1s 19ms/step - loss: 1.4398 - sparse_categorical_accuracy: 0.7458\n"
          ],
          "name": "stdout"
        },
        {
          "output_type": "execute_result",
          "data": {
            "text/plain": [
              "[1.4398329257965088, 0.7458312511444092]"
            ]
          },
          "metadata": {
            "tags": []
          },
          "execution_count": 18
        }
      ]
    },
    {
      "cell_type": "code",
      "metadata": {
        "colab": {
          "base_uri": "https://localhost:8080/"
        },
        "id": "yUy1w9iubmzi",
        "outputId": "abda6240-eb7e-49d1-cbda-8785a1d0ccc6"
      },
      "source": [
        "test_data['Class'] = test_data['cellType'].astype('str')\n",
        "\n",
        "test_datagen = ImageDataGenerator(rescale=1./255, data_format='channels_last')\n",
        "\n",
        "batch_size = 1\n",
        "\n",
        "test_generator = test_datagen.flow_from_dataframe(\n",
        "        dataframe=test_data,\n",
        "        directory='./patch_images',\n",
        "        x_col=\"ImageName\",\n",
        "        y_col=\"Class\",\n",
        "        target_size=(27, 27),\n",
        "        batch_size=batch_size,\n",
        "        class_mode='sparse')"
      ],
      "execution_count": null,
      "outputs": [
        {
          "output_type": "stream",
          "text": [
            "Found 1980 validated image filenames belonging to 4 classes.\n"
          ],
          "name": "stdout"
        },
        {
          "output_type": "stream",
          "text": [
            "/usr/local/lib/python3.7/dist-packages/ipykernel_launcher.py:1: SettingWithCopyWarning: \n",
            "A value is trying to be set on a copy of a slice from a DataFrame.\n",
            "Try using .loc[row_indexer,col_indexer] = value instead\n",
            "\n",
            "See the caveats in the documentation: https://pandas.pydata.org/pandas-docs/stable/user_guide/indexing.html#returning-a-view-versus-a-copy\n",
            "  \"\"\"Entry point for launching an IPython kernel.\n"
          ],
          "name": "stderr"
        }
      ]
    },
    {
      "cell_type": "code",
      "metadata": {
        "colab": {
          "base_uri": "https://localhost:8080/"
        },
        "id": "jskuJCJcbmzj",
        "outputId": "0504b8f6-e103-4a33-d926-f0ecf51c417e"
      },
      "source": [
        "model_VGG_2.evaluate(test_generator)"
      ],
      "execution_count": null,
      "outputs": [
        {
          "output_type": "stream",
          "text": [
            "1980/1980 [==============================] - 9s 4ms/step - loss: 1.5789 - sparse_categorical_accuracy: 0.7283\n"
          ],
          "name": "stdout"
        },
        {
          "output_type": "execute_result",
          "data": {
            "text/plain": [
              "[1.578864574432373, 0.7282828092575073]"
            ]
          },
          "metadata": {
            "tags": []
          },
          "execution_count": 20
        }
      ]
    },
    {
      "cell_type": "code",
      "metadata": {
        "colab": {
          "base_uri": "https://localhost:8080/"
        },
        "id": "G2T24Helbmzj",
        "outputId": "0321e84c-eea7-4063-a115-27379642cc2b"
      },
      "source": [
        "train_data['Class'] = train_data['cellType'].astype('str')\n",
        "val_data['Class'] = val_data['cellType'].astype('str')\n",
        "\n",
        "from tensorflow.keras.preprocessing.image import ImageDataGenerator\n",
        "\n",
        "train_datagen = ImageDataGenerator(rescale=1./255, data_format='channels_last',\n",
        "                                   rotation_range=15, width_shift_range=0.2,\n",
        "                                   height_shift_range=0.2, brightness_range=[0.5,1.5])\n",
        "val_datagen = ImageDataGenerator(rescale=1./255, data_format='channels_last')\n",
        "\n",
        "batch_size = 27\n",
        "\n",
        "train_generator = train_datagen.flow_from_dataframe(\n",
        "        dataframe=train_data,\n",
        "        directory='./patch_images',\n",
        "        x_col=\"ImageName\",\n",
        "        y_col=\"Class\",\n",
        "        target_size=(27, 27),\n",
        "        batch_size=batch_size,\n",
        "        class_mode='sparse')\n",
        "\n",
        "validation_generator = val_datagen.flow_from_dataframe(\n",
        "        dataframe=val_data,\n",
        "        directory='./patch_images',\n",
        "        x_col=\"ImageName\",\n",
        "        y_col=\"Class\",\n",
        "        target_size=(27, 27),\n",
        "        batch_size=batch_size,\n",
        "        class_mode='sparse')"
      ],
      "execution_count": null,
      "outputs": [
        {
          "output_type": "stream",
          "text": [
            "Found 5937 validated image filenames belonging to 4 classes.\n",
            "Found 1979 validated image filenames belonging to 4 classes.\n"
          ],
          "name": "stdout"
        }
      ]
    },
    {
      "cell_type": "code",
      "metadata": {
        "id": "XQiA8cP6zqSd"
      },
      "source": [
        "reg_lambda = 0.001\n",
        "\n",
        "model_VGG_3 = tf.keras.Sequential([\n",
        "    #VGG block 1\n",
        "    tf.keras.layers.Conv2D(27, (3, 3), activation='relu', padding='same', \n",
        "                           kernel_regularizer=tf.keras.regularizers.l2(reg_lambda), input_shape=(27, 27, 3)),\n",
        "    tf.keras.layers.Conv2D(27, (3, 3), activation='relu', padding='same', \n",
        "                           kernel_regularizer=tf.keras.regularizers.l2(reg_lambda)),\n",
        "    tf.keras.layers.MaxPooling2D((2, 2)),\n",
        "    \n",
        "    #VGG block 2\n",
        "    tf.keras.layers.Conv2D(54, (3, 3), activation='relu', padding='same', \n",
        "                           kernel_regularizer=tf.keras.regularizers.l2(reg_lambda)),\n",
        "    tf.keras.layers.Conv2D(54, (3, 3), activation='relu', padding='same', \n",
        "                           kernel_regularizer=tf.keras.regularizers.l2(reg_lambda)),\n",
        "    tf.keras.layers.MaxPooling2D((2, 2)),\n",
        "    \n",
        "    #VGG block 3\n",
        "    tf.keras.layers.Conv2D(108, (3, 3), activation='relu', padding='same', \n",
        "                           kernel_regularizer=tf.keras.regularizers.l2(reg_lambda)),\n",
        "    tf.keras.layers.Conv2D(108, (3, 3), activation='relu', padding='same', \n",
        "                           kernel_regularizer=tf.keras.regularizers.l2(reg_lambda)),\n",
        "    tf.keras.layers.MaxPooling2D((2, 2)),\n",
        "    \n",
        "    tf.keras.layers.Flatten(),\n",
        "    tf.keras.layers.Dense(108, activation='relu'),\n",
        "    tf.keras.layers.Dropout(.2),\n",
        "    tf.keras.layers.Dense(OUTPUT_CLASSES,activation='softmax'),\n",
        "])"
      ],
      "execution_count": null,
      "outputs": []
    },
    {
      "cell_type": "code",
      "metadata": {
        "id": "roIOfBW-zqU3"
      },
      "source": [
        "model_VGG_3.compile(optimizer='adam',\n",
        "              loss=tf.keras.losses.SparseCategoricalCrossentropy(from_logits=False),\n",
        "              metrics=['sparse_categorical_accuracy'])"
      ],
      "execution_count": null,
      "outputs": []
    },
    {
      "cell_type": "code",
      "metadata": {
        "colab": {
          "base_uri": "https://localhost:8080/"
        },
        "id": "2A00fC7izqYv",
        "outputId": "91beb195-2223-482a-bce7-f391f3b6ba30"
      },
      "source": [
        "history_VGG_3 = model_VGG_3.fit(train_generator, validation_data = validation_generator, epochs=100)\n",
        "\n",
        "plot_learning_curve(history_VGG_3.history['loss'], history_VGG_3.history['val_loss'], \n",
        "                    history_VGG_3.history['sparse_categorical_accuracy'], history_VGG_3.history['val_sparse_categorical_accuracy'], \n",
        "                    metric_name='Accuracy')"
      ],
      "execution_count": null,
      "outputs": [
        {
          "output_type": "stream",
          "text": [
            "Epoch 1/100\n",
            "220/220 [==============================] - 39s 32ms/step - loss: 1.3083 - sparse_categorical_accuracy: 0.4624 - val_loss: 1.2809 - val_sparse_categorical_accuracy: 0.4361\n",
            "Epoch 2/100\n",
            "220/220 [==============================] - 6s 29ms/step - loss: 1.0985 - sparse_categorical_accuracy: 0.5479 - val_loss: 1.3338 - val_sparse_categorical_accuracy: 0.4351\n",
            "Epoch 3/100\n",
            "220/220 [==============================] - 6s 29ms/step - loss: 1.0526 - sparse_categorical_accuracy: 0.5676 - val_loss: 1.1666 - val_sparse_categorical_accuracy: 0.5159\n",
            "Epoch 4/100\n",
            "220/220 [==============================] - 6s 29ms/step - loss: 1.0115 - sparse_categorical_accuracy: 0.5856 - val_loss: 0.9484 - val_sparse_categorical_accuracy: 0.6195\n",
            "Epoch 5/100\n",
            "220/220 [==============================] - 6s 29ms/step - loss: 0.9551 - sparse_categorical_accuracy: 0.6262 - val_loss: 0.9606 - val_sparse_categorical_accuracy: 0.6417\n",
            "Epoch 6/100\n",
            "220/220 [==============================] - 6s 28ms/step - loss: 0.8888 - sparse_categorical_accuracy: 0.6621 - val_loss: 0.9144 - val_sparse_categorical_accuracy: 0.6569\n",
            "Epoch 7/100\n",
            "220/220 [==============================] - 6s 28ms/step - loss: 0.8362 - sparse_categorical_accuracy: 0.6889 - val_loss: 0.9336 - val_sparse_categorical_accuracy: 0.6529\n",
            "Epoch 8/100\n",
            "220/220 [==============================] - 6s 28ms/step - loss: 0.8314 - sparse_categorical_accuracy: 0.6913 - val_loss: 0.9493 - val_sparse_categorical_accuracy: 0.6579\n",
            "Epoch 9/100\n",
            "220/220 [==============================] - 6s 28ms/step - loss: 0.8020 - sparse_categorical_accuracy: 0.7010 - val_loss: 0.7486 - val_sparse_categorical_accuracy: 0.7196\n",
            "Epoch 10/100\n",
            "220/220 [==============================] - 6s 29ms/step - loss: 0.7952 - sparse_categorical_accuracy: 0.7073 - val_loss: 0.8553 - val_sparse_categorical_accuracy: 0.6892\n",
            "Epoch 11/100\n",
            "220/220 [==============================] - 6s 28ms/step - loss: 0.7875 - sparse_categorical_accuracy: 0.7147 - val_loss: 0.7606 - val_sparse_categorical_accuracy: 0.7130\n",
            "Epoch 12/100\n",
            "220/220 [==============================] - 6s 29ms/step - loss: 0.7795 - sparse_categorical_accuracy: 0.7142 - val_loss: 0.7054 - val_sparse_categorical_accuracy: 0.7367\n",
            "Epoch 13/100\n",
            "220/220 [==============================] - 6s 29ms/step - loss: 0.7688 - sparse_categorical_accuracy: 0.7206 - val_loss: 0.7224 - val_sparse_categorical_accuracy: 0.7357\n",
            "Epoch 14/100\n",
            "220/220 [==============================] - 6s 29ms/step - loss: 0.7763 - sparse_categorical_accuracy: 0.7157 - val_loss: 0.8122 - val_sparse_categorical_accuracy: 0.6857\n",
            "Epoch 15/100\n",
            "220/220 [==============================] - 6s 28ms/step - loss: 0.7657 - sparse_categorical_accuracy: 0.7251 - val_loss: 0.7750 - val_sparse_categorical_accuracy: 0.7024\n",
            "Epoch 16/100\n",
            "220/220 [==============================] - 6s 28ms/step - loss: 0.7697 - sparse_categorical_accuracy: 0.7135 - val_loss: 0.7317 - val_sparse_categorical_accuracy: 0.7322\n",
            "Epoch 17/100\n",
            "220/220 [==============================] - 6s 29ms/step - loss: 0.7544 - sparse_categorical_accuracy: 0.7281 - val_loss: 0.7580 - val_sparse_categorical_accuracy: 0.7019\n",
            "Epoch 18/100\n",
            "220/220 [==============================] - 6s 29ms/step - loss: 0.7590 - sparse_categorical_accuracy: 0.7303 - val_loss: 0.7119 - val_sparse_categorical_accuracy: 0.7352\n",
            "Epoch 19/100\n",
            "220/220 [==============================] - 6s 28ms/step - loss: 0.7503 - sparse_categorical_accuracy: 0.7265 - val_loss: 0.8071 - val_sparse_categorical_accuracy: 0.6832\n",
            "Epoch 20/100\n",
            "220/220 [==============================] - 6s 28ms/step - loss: 0.7381 - sparse_categorical_accuracy: 0.7379 - val_loss: 0.7005 - val_sparse_categorical_accuracy: 0.7357\n",
            "Epoch 21/100\n",
            "220/220 [==============================] - 6s 28ms/step - loss: 0.7409 - sparse_categorical_accuracy: 0.7310 - val_loss: 0.7075 - val_sparse_categorical_accuracy: 0.7251\n",
            "Epoch 22/100\n",
            "220/220 [==============================] - 6s 29ms/step - loss: 0.7417 - sparse_categorical_accuracy: 0.7330 - val_loss: 0.7219 - val_sparse_categorical_accuracy: 0.7281\n",
            "Epoch 23/100\n",
            "220/220 [==============================] - 6s 29ms/step - loss: 0.7373 - sparse_categorical_accuracy: 0.7330 - val_loss: 0.7227 - val_sparse_categorical_accuracy: 0.7236\n",
            "Epoch 24/100\n",
            "220/220 [==============================] - 6s 29ms/step - loss: 0.7285 - sparse_categorical_accuracy: 0.7345 - val_loss: 0.7257 - val_sparse_categorical_accuracy: 0.7246\n",
            "Epoch 25/100\n",
            "220/220 [==============================] - 6s 28ms/step - loss: 0.7520 - sparse_categorical_accuracy: 0.7293 - val_loss: 0.7133 - val_sparse_categorical_accuracy: 0.7307\n",
            "Epoch 26/100\n",
            "220/220 [==============================] - 6s 29ms/step - loss: 0.7340 - sparse_categorical_accuracy: 0.7352 - val_loss: 0.7271 - val_sparse_categorical_accuracy: 0.7297\n",
            "Epoch 27/100\n",
            "220/220 [==============================] - 6s 28ms/step - loss: 0.7240 - sparse_categorical_accuracy: 0.7335 - val_loss: 0.7744 - val_sparse_categorical_accuracy: 0.7039\n",
            "Epoch 28/100\n",
            "220/220 [==============================] - 6s 28ms/step - loss: 0.7247 - sparse_categorical_accuracy: 0.7420 - val_loss: 0.7683 - val_sparse_categorical_accuracy: 0.7115\n",
            "Epoch 29/100\n",
            "220/220 [==============================] - 6s 29ms/step - loss: 0.7254 - sparse_categorical_accuracy: 0.7396 - val_loss: 0.6877 - val_sparse_categorical_accuracy: 0.7448\n",
            "Epoch 30/100\n",
            "220/220 [==============================] - 6s 28ms/step - loss: 0.7323 - sparse_categorical_accuracy: 0.7362 - val_loss: 0.7588 - val_sparse_categorical_accuracy: 0.7059\n",
            "Epoch 31/100\n",
            "220/220 [==============================] - 6s 28ms/step - loss: 0.7328 - sparse_categorical_accuracy: 0.7367 - val_loss: 0.7670 - val_sparse_categorical_accuracy: 0.7165\n",
            "Epoch 32/100\n",
            "220/220 [==============================] - 6s 28ms/step - loss: 0.7127 - sparse_categorical_accuracy: 0.7492 - val_loss: 0.8629 - val_sparse_categorical_accuracy: 0.6781\n",
            "Epoch 33/100\n",
            "220/220 [==============================] - 6s 29ms/step - loss: 0.7145 - sparse_categorical_accuracy: 0.7443 - val_loss: 0.7069 - val_sparse_categorical_accuracy: 0.7322\n",
            "Epoch 34/100\n",
            "220/220 [==============================] - 6s 28ms/step - loss: 0.7294 - sparse_categorical_accuracy: 0.7340 - val_loss: 0.7141 - val_sparse_categorical_accuracy: 0.7377\n",
            "Epoch 35/100\n",
            "220/220 [==============================] - 6s 28ms/step - loss: 0.7072 - sparse_categorical_accuracy: 0.7453 - val_loss: 0.7100 - val_sparse_categorical_accuracy: 0.7297\n",
            "Epoch 36/100\n",
            "220/220 [==============================] - 6s 29ms/step - loss: 0.7131 - sparse_categorical_accuracy: 0.7443 - val_loss: 0.7838 - val_sparse_categorical_accuracy: 0.7160\n",
            "Epoch 37/100\n",
            "220/220 [==============================] - 6s 29ms/step - loss: 0.7089 - sparse_categorical_accuracy: 0.7472 - val_loss: 0.6953 - val_sparse_categorical_accuracy: 0.7352\n",
            "Epoch 38/100\n",
            "220/220 [==============================] - 6s 29ms/step - loss: 0.7076 - sparse_categorical_accuracy: 0.7487 - val_loss: 0.6701 - val_sparse_categorical_accuracy: 0.7580\n",
            "Epoch 39/100\n",
            "220/220 [==============================] - 6s 29ms/step - loss: 0.7011 - sparse_categorical_accuracy: 0.7447 - val_loss: 0.7022 - val_sparse_categorical_accuracy: 0.7479\n",
            "Epoch 40/100\n",
            "220/220 [==============================] - 6s 29ms/step - loss: 0.6997 - sparse_categorical_accuracy: 0.7499 - val_loss: 0.7048 - val_sparse_categorical_accuracy: 0.7423\n",
            "Epoch 41/100\n",
            "220/220 [==============================] - 6s 29ms/step - loss: 0.6923 - sparse_categorical_accuracy: 0.7569 - val_loss: 0.7538 - val_sparse_categorical_accuracy: 0.7084\n",
            "Epoch 42/100\n",
            "220/220 [==============================] - 7s 30ms/step - loss: 0.6925 - sparse_categorical_accuracy: 0.7529 - val_loss: 0.6819 - val_sparse_categorical_accuracy: 0.7418\n",
            "Epoch 43/100\n",
            "220/220 [==============================] - 7s 30ms/step - loss: 0.6912 - sparse_categorical_accuracy: 0.7524 - val_loss: 0.7410 - val_sparse_categorical_accuracy: 0.7246\n",
            "Epoch 44/100\n",
            "220/220 [==============================] - 6s 29ms/step - loss: 0.6887 - sparse_categorical_accuracy: 0.7568 - val_loss: 0.6977 - val_sparse_categorical_accuracy: 0.7388\n",
            "Epoch 45/100\n",
            "220/220 [==============================] - 6s 29ms/step - loss: 0.6825 - sparse_categorical_accuracy: 0.7590 - val_loss: 0.7402 - val_sparse_categorical_accuracy: 0.7160\n",
            "Epoch 46/100\n",
            "220/220 [==============================] - 6s 28ms/step - loss: 0.6877 - sparse_categorical_accuracy: 0.7600 - val_loss: 0.7903 - val_sparse_categorical_accuracy: 0.7029\n",
            "Epoch 47/100\n",
            "220/220 [==============================] - 6s 29ms/step - loss: 0.6759 - sparse_categorical_accuracy: 0.7600 - val_loss: 0.6872 - val_sparse_categorical_accuracy: 0.7438\n",
            "Epoch 48/100\n",
            "220/220 [==============================] - 7s 30ms/step - loss: 0.6915 - sparse_categorical_accuracy: 0.7586 - val_loss: 0.7234 - val_sparse_categorical_accuracy: 0.7327\n",
            "Epoch 49/100\n",
            "220/220 [==============================] - 6s 29ms/step - loss: 0.6943 - sparse_categorical_accuracy: 0.7494 - val_loss: 0.6816 - val_sparse_categorical_accuracy: 0.7489\n",
            "Epoch 50/100\n",
            "220/220 [==============================] - 6s 29ms/step - loss: 0.6901 - sparse_categorical_accuracy: 0.7600 - val_loss: 0.6928 - val_sparse_categorical_accuracy: 0.7479\n",
            "Epoch 51/100\n",
            "220/220 [==============================] - 6s 29ms/step - loss: 0.6698 - sparse_categorical_accuracy: 0.7681 - val_loss: 0.7848 - val_sparse_categorical_accuracy: 0.6968\n",
            "Epoch 52/100\n",
            "220/220 [==============================] - 7s 30ms/step - loss: 0.6772 - sparse_categorical_accuracy: 0.7605 - val_loss: 0.7123 - val_sparse_categorical_accuracy: 0.7443\n",
            "Epoch 53/100\n",
            "220/220 [==============================] - 6s 29ms/step - loss: 0.6921 - sparse_categorical_accuracy: 0.7580 - val_loss: 0.8026 - val_sparse_categorical_accuracy: 0.6882\n",
            "Epoch 54/100\n",
            "220/220 [==============================] - 6s 28ms/step - loss: 0.6755 - sparse_categorical_accuracy: 0.7692 - val_loss: 0.7272 - val_sparse_categorical_accuracy: 0.7307\n",
            "Epoch 55/100\n",
            "220/220 [==============================] - 6s 29ms/step - loss: 0.6743 - sparse_categorical_accuracy: 0.7630 - val_loss: 0.7413 - val_sparse_categorical_accuracy: 0.7276\n",
            "Epoch 56/100\n",
            "220/220 [==============================] - 6s 29ms/step - loss: 0.6772 - sparse_categorical_accuracy: 0.7644 - val_loss: 0.6761 - val_sparse_categorical_accuracy: 0.7569\n",
            "Epoch 57/100\n",
            "220/220 [==============================] - 6s 29ms/step - loss: 0.6614 - sparse_categorical_accuracy: 0.7718 - val_loss: 0.7606 - val_sparse_categorical_accuracy: 0.7236\n",
            "Epoch 58/100\n",
            "220/220 [==============================] - 6s 29ms/step - loss: 0.6689 - sparse_categorical_accuracy: 0.7682 - val_loss: 0.7200 - val_sparse_categorical_accuracy: 0.7372\n",
            "Epoch 59/100\n",
            "220/220 [==============================] - 6s 29ms/step - loss: 0.6749 - sparse_categorical_accuracy: 0.7655 - val_loss: 0.6918 - val_sparse_categorical_accuracy: 0.7438\n",
            "Epoch 60/100\n",
            "220/220 [==============================] - 6s 29ms/step - loss: 0.6540 - sparse_categorical_accuracy: 0.7714 - val_loss: 0.9272 - val_sparse_categorical_accuracy: 0.6660\n",
            "Epoch 61/100\n",
            "220/220 [==============================] - 6s 29ms/step - loss: 0.6755 - sparse_categorical_accuracy: 0.7696 - val_loss: 0.9535 - val_sparse_categorical_accuracy: 0.6503\n",
            "Epoch 62/100\n",
            "220/220 [==============================] - 6s 29ms/step - loss: 0.6603 - sparse_categorical_accuracy: 0.7765 - val_loss: 0.7108 - val_sparse_categorical_accuracy: 0.7463\n",
            "Epoch 63/100\n",
            "220/220 [==============================] - 7s 30ms/step - loss: 0.6521 - sparse_categorical_accuracy: 0.7751 - val_loss: 0.7962 - val_sparse_categorical_accuracy: 0.7034\n",
            "Epoch 64/100\n",
            "220/220 [==============================] - 6s 29ms/step - loss: 0.6624 - sparse_categorical_accuracy: 0.7738 - val_loss: 0.7459 - val_sparse_categorical_accuracy: 0.7337\n",
            "Epoch 65/100\n",
            "220/220 [==============================] - 6s 29ms/step - loss: 0.6564 - sparse_categorical_accuracy: 0.7741 - val_loss: 0.7297 - val_sparse_categorical_accuracy: 0.7287\n",
            "Epoch 66/100\n",
            "220/220 [==============================] - 6s 28ms/step - loss: 0.6578 - sparse_categorical_accuracy: 0.7765 - val_loss: 0.7745 - val_sparse_categorical_accuracy: 0.7079\n",
            "Epoch 67/100\n",
            "220/220 [==============================] - 6s 29ms/step - loss: 0.6524 - sparse_categorical_accuracy: 0.7760 - val_loss: 0.7799 - val_sparse_categorical_accuracy: 0.7110\n",
            "Epoch 68/100\n",
            "220/220 [==============================] - 6s 30ms/step - loss: 0.6509 - sparse_categorical_accuracy: 0.7767 - val_loss: 0.7205 - val_sparse_categorical_accuracy: 0.7317\n",
            "Epoch 69/100\n",
            "220/220 [==============================] - 7s 30ms/step - loss: 0.6460 - sparse_categorical_accuracy: 0.7738 - val_loss: 0.8611 - val_sparse_categorical_accuracy: 0.6771\n",
            "Epoch 70/100\n",
            "220/220 [==============================] - 6s 29ms/step - loss: 0.6688 - sparse_categorical_accuracy: 0.7699 - val_loss: 0.7014 - val_sparse_categorical_accuracy: 0.7453\n",
            "Epoch 71/100\n",
            "220/220 [==============================] - 6s 29ms/step - loss: 0.6486 - sparse_categorical_accuracy: 0.7799 - val_loss: 0.6909 - val_sparse_categorical_accuracy: 0.7534\n",
            "Epoch 72/100\n",
            "220/220 [==============================] - 6s 29ms/step - loss: 0.6416 - sparse_categorical_accuracy: 0.7783 - val_loss: 0.7248 - val_sparse_categorical_accuracy: 0.7312\n",
            "Epoch 73/100\n",
            "220/220 [==============================] - 6s 29ms/step - loss: 0.6534 - sparse_categorical_accuracy: 0.7812 - val_loss: 0.6954 - val_sparse_categorical_accuracy: 0.7595\n",
            "Epoch 74/100\n",
            "220/220 [==============================] - 6s 29ms/step - loss: 0.6433 - sparse_categorical_accuracy: 0.7847 - val_loss: 0.6346 - val_sparse_categorical_accuracy: 0.7837\n",
            "Epoch 75/100\n",
            "220/220 [==============================] - 6s 29ms/step - loss: 0.6405 - sparse_categorical_accuracy: 0.7773 - val_loss: 0.6542 - val_sparse_categorical_accuracy: 0.7701\n",
            "Epoch 76/100\n",
            "220/220 [==============================] - 6s 29ms/step - loss: 0.6351 - sparse_categorical_accuracy: 0.7849 - val_loss: 0.6736 - val_sparse_categorical_accuracy: 0.7605\n",
            "Epoch 77/100\n",
            "220/220 [==============================] - 6s 29ms/step - loss: 0.6382 - sparse_categorical_accuracy: 0.7864 - val_loss: 0.6792 - val_sparse_categorical_accuracy: 0.7615\n",
            "Epoch 78/100\n",
            "220/220 [==============================] - 7s 30ms/step - loss: 0.6256 - sparse_categorical_accuracy: 0.7883 - val_loss: 0.9781 - val_sparse_categorical_accuracy: 0.6518\n",
            "Epoch 79/100\n",
            "220/220 [==============================] - 6s 29ms/step - loss: 0.6411 - sparse_categorical_accuracy: 0.7842 - val_loss: 0.6848 - val_sparse_categorical_accuracy: 0.7529\n",
            "Epoch 80/100\n",
            "220/220 [==============================] - 6s 29ms/step - loss: 0.6208 - sparse_categorical_accuracy: 0.7898 - val_loss: 0.6503 - val_sparse_categorical_accuracy: 0.7761\n",
            "Epoch 81/100\n",
            "220/220 [==============================] - 6s 29ms/step - loss: 0.6328 - sparse_categorical_accuracy: 0.7856 - val_loss: 0.6580 - val_sparse_categorical_accuracy: 0.7665\n",
            "Epoch 82/100\n",
            "220/220 [==============================] - 6s 29ms/step - loss: 0.6141 - sparse_categorical_accuracy: 0.7927 - val_loss: 0.6713 - val_sparse_categorical_accuracy: 0.7761\n",
            "Epoch 83/100\n",
            "220/220 [==============================] - 6s 29ms/step - loss: 0.6354 - sparse_categorical_accuracy: 0.7836 - val_loss: 0.6959 - val_sparse_categorical_accuracy: 0.7403\n",
            "Epoch 84/100\n",
            "220/220 [==============================] - 6s 29ms/step - loss: 0.6368 - sparse_categorical_accuracy: 0.7815 - val_loss: 0.7426 - val_sparse_categorical_accuracy: 0.7342\n",
            "Epoch 85/100\n",
            "220/220 [==============================] - 6s 29ms/step - loss: 0.6385 - sparse_categorical_accuracy: 0.7827 - val_loss: 0.6902 - val_sparse_categorical_accuracy: 0.7595\n",
            "Epoch 86/100\n",
            "220/220 [==============================] - 6s 29ms/step - loss: 0.6153 - sparse_categorical_accuracy: 0.7891 - val_loss: 0.8271 - val_sparse_categorical_accuracy: 0.7054\n",
            "Epoch 87/100\n",
            "220/220 [==============================] - 6s 29ms/step - loss: 0.6193 - sparse_categorical_accuracy: 0.7930 - val_loss: 0.6637 - val_sparse_categorical_accuracy: 0.7741\n",
            "Epoch 88/100\n",
            "220/220 [==============================] - 7s 30ms/step - loss: 0.6304 - sparse_categorical_accuracy: 0.7895 - val_loss: 0.7875 - val_sparse_categorical_accuracy: 0.7175\n",
            "Epoch 89/100\n",
            "220/220 [==============================] - 6s 29ms/step - loss: 0.6286 - sparse_categorical_accuracy: 0.7863 - val_loss: 0.6201 - val_sparse_categorical_accuracy: 0.7772\n",
            "Epoch 90/100\n",
            "220/220 [==============================] - 7s 30ms/step - loss: 0.6328 - sparse_categorical_accuracy: 0.7841 - val_loss: 0.7433 - val_sparse_categorical_accuracy: 0.7357\n",
            "Epoch 91/100\n",
            "220/220 [==============================] - 6s 29ms/step - loss: 0.6155 - sparse_categorical_accuracy: 0.7930 - val_loss: 0.7393 - val_sparse_categorical_accuracy: 0.7337\n",
            "Epoch 92/100\n",
            "220/220 [==============================] - 6s 29ms/step - loss: 0.6294 - sparse_categorical_accuracy: 0.7866 - val_loss: 0.7197 - val_sparse_categorical_accuracy: 0.7443\n",
            "Epoch 93/100\n",
            "220/220 [==============================] - 7s 30ms/step - loss: 0.6231 - sparse_categorical_accuracy: 0.7861 - val_loss: 0.6157 - val_sparse_categorical_accuracy: 0.7984\n",
            "Epoch 94/100\n",
            "220/220 [==============================] - 7s 30ms/step - loss: 0.6178 - sparse_categorical_accuracy: 0.7923 - val_loss: 0.7745 - val_sparse_categorical_accuracy: 0.7312\n",
            "Epoch 95/100\n",
            "220/220 [==============================] - 6s 29ms/step - loss: 0.6328 - sparse_categorical_accuracy: 0.7881 - val_loss: 0.6827 - val_sparse_categorical_accuracy: 0.7650\n",
            "Epoch 96/100\n",
            "220/220 [==============================] - 6s 29ms/step - loss: 0.6266 - sparse_categorical_accuracy: 0.7884 - val_loss: 0.6662 - val_sparse_categorical_accuracy: 0.7660\n",
            "Epoch 97/100\n",
            "170/220 [======================>.......] - ETA: 1s - loss: 0.6080 - sparse_categorical_accuracy: 0.7959"
          ],
          "name": "stdout"
        }
      ]
    },
    {
      "cell_type": "code",
      "metadata": {
        "colab": {
          "base_uri": "https://localhost:8080/"
        },
        "id": "SzxwmN100DPt",
        "outputId": "18f49134-3eb2-458f-adfe-66455359ebae"
      },
      "source": [
        "model_VGG_3.evaluate(validation_generator)"
      ],
      "execution_count": null,
      "outputs": [
        {
          "output_type": "stream",
          "text": [
            "74/74 [==============================] - 1s 11ms/step - loss: 0.7381 - sparse_categorical_accuracy: 0.7433\n"
          ],
          "name": "stdout"
        },
        {
          "output_type": "execute_result",
          "data": {
            "text/plain": [
              "[0.7381166815757751, 0.7433046698570251]"
            ]
          },
          "metadata": {
            "tags": []
          },
          "execution_count": 36
        }
      ]
    },
    {
      "cell_type": "code",
      "metadata": {
        "colab": {
          "base_uri": "https://localhost:8080/",
          "height": 231
        },
        "id": "XmFY3MxMc7jw",
        "outputId": "5fa37eb6-ea80-432d-9f15-7c0b9bbee2b4"
      },
      "source": [
        "\n",
        "# setup data generator (may have done this before)\n",
        "# batch_size_ = 1\n",
        "# test_datagen = ImageDataGenerator(rescale=1./255, data_format='channels_last')\n",
        "# test_generator = test_datagen.flow_from_dataframe(\n",
        "#         dataframe=val_data,\n",
        "#         directory='./',\n",
        "#         x_col=\"ImgPath\",\n",
        "#         y_col=\"Class\",\n",
        "#         target_size=(32, 32),\n",
        "#         batch_size=batch_size_,\n",
        "#         class_mode='categorical')\n",
        "\n",
        "# setup data some placeholders\n",
        "y_hat_all = list()\n",
        "y_all = list()\n",
        "filenames = validation_generator.filenames\n",
        "N_images = len(filenames)\n",
        "batches = 0\n",
        "\n",
        "# iterate through the data generator and predict for each batch\n",
        "# hold the predictions and labels\n",
        "for x,y in validation_generator:\n",
        "        y_hat = model_VGG_3.predict(x, verbose=0)\n",
        "        y_hat = np.argmax(y_hat, axis = 1)\n",
        "        y = np.argmax(y, axis = 1)\n",
        "        y_hat_all = y_hat_all + y_hat.tolist()\n",
        "        y_all = y_all + y.tolist()\n",
        "\n",
        "        batches += 1\n",
        "        if batches >= N_images / batch_size_:\n",
        "            # we need to break the loop by hand because\n",
        "            # the generator loops indefinitely\n",
        "            break\n",
        "\n",
        "# now you have made the predictions you can use any performance metric\n",
        "# you wish: either in sklearn or some function you have written\n",
        "\n",
        "from sklearn.metrics import classification_report\n",
        "from sklearn.metrics import confusion_matrix, accuracy_score, f1_score\n",
        "\n",
        "print(\"Accuracy score: \", accuracy_score(y_all, y_hat_all))\n",
        "print(\"F1 score: \", f1_score(y_all, y_hat_all, average='macro'))\n",
        "print(confusion_matrix(y_all, y_hat_all))"
      ],
      "execution_count": null,
      "outputs": [
        {
          "output_type": "error",
          "ename": "NameError",
          "evalue": "ignored",
          "traceback": [
            "\u001b[0;31m---------------------------------------------------------------------------\u001b[0m",
            "\u001b[0;31mNameError\u001b[0m                                 Traceback (most recent call last)",
            "\u001b[0;32m<ipython-input-2-696e1ece2caf>\u001b[0m in \u001b[0;36m<module>\u001b[0;34m()\u001b[0m\n\u001b[1;32m     15\u001b[0m \u001b[0my_hat_all\u001b[0m \u001b[0;34m=\u001b[0m \u001b[0mlist\u001b[0m\u001b[0;34m(\u001b[0m\u001b[0;34m)\u001b[0m\u001b[0;34m\u001b[0m\u001b[0;34m\u001b[0m\u001b[0m\n\u001b[1;32m     16\u001b[0m \u001b[0my_all\u001b[0m \u001b[0;34m=\u001b[0m \u001b[0mlist\u001b[0m\u001b[0;34m(\u001b[0m\u001b[0;34m)\u001b[0m\u001b[0;34m\u001b[0m\u001b[0;34m\u001b[0m\u001b[0m\n\u001b[0;32m---> 17\u001b[0;31m \u001b[0mfilenames\u001b[0m \u001b[0;34m=\u001b[0m \u001b[0mvalidation_generator\u001b[0m\u001b[0;34m.\u001b[0m\u001b[0mfilenames\u001b[0m\u001b[0;34m\u001b[0m\u001b[0;34m\u001b[0m\u001b[0m\n\u001b[0m\u001b[1;32m     18\u001b[0m \u001b[0mN_images\u001b[0m \u001b[0;34m=\u001b[0m \u001b[0mlen\u001b[0m\u001b[0;34m(\u001b[0m\u001b[0mfilenames\u001b[0m\u001b[0;34m)\u001b[0m\u001b[0;34m\u001b[0m\u001b[0;34m\u001b[0m\u001b[0m\n\u001b[1;32m     19\u001b[0m \u001b[0mbatches\u001b[0m \u001b[0;34m=\u001b[0m \u001b[0;36m0\u001b[0m\u001b[0;34m\u001b[0m\u001b[0;34m\u001b[0m\u001b[0m\n",
            "\u001b[0;31mNameError\u001b[0m: name 'validation_generator' is not defined"
          ]
        }
      ]
    },
    {
      "cell_type": "code",
      "metadata": {
        "id": "j5QQv4Xdc7mD"
      },
      "source": [
        ""
      ],
      "execution_count": null,
      "outputs": []
    },
    {
      "cell_type": "code",
      "metadata": {
        "id": "FXchcRtAc7pg"
      },
      "source": [
        ""
      ],
      "execution_count": null,
      "outputs": []
    }
  ]
}