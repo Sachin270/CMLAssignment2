{
  "nbformat": 4,
  "nbformat_minor": 0,
  "metadata": {
    "kernelspec": {
      "display_name": "Python 3",
      "language": "python",
      "name": "python3"
    },
    "colab": {
      "name": "Assignment2.ipynb",
      "provenance": [],
      "collapsed_sections": [],
      "include_colab_link": true
    },
    "accelerator": "GPU"
  },
  "cells": [
    {
      "cell_type": "markdown",
      "metadata": {
        "id": "view-in-github",
        "colab_type": "text"
      },
      "source": [
        "<a href=\"https://colab.research.google.com/github/Sachin270/CMLAssignment2/blob/main/Assignment2.ipynb\" target=\"_parent\"><img src=\"https://colab.research.google.com/assets/colab-badge.svg\" alt=\"Open In Colab\"/></a>"
      ]
    },
    {
      "cell_type": "code",
      "metadata": {
        "id": "z1qAHC3MjyS6",
        "colab": {
          "base_uri": "https://localhost:8080/"
        },
        "outputId": "cb94bacb-52cd-450a-f80b-a087ff1cc868"
      },
      "source": [
        "from google.colab import drive\n",
        "drive.mount('/content/drive/')"
      ],
      "execution_count": 1,
      "outputs": [
        {
          "output_type": "stream",
          "text": [
            "Mounted at /content/drive/\n"
          ],
          "name": "stdout"
        }
      ]
    },
    {
      "cell_type": "code",
      "metadata": {
        "id": "6nd7cdo3k-vl",
        "colab": {
          "base_uri": "https://localhost:8080/"
        },
        "outputId": "60e2831f-8e12-4bab-dd46-e3dd4ea9c95a"
      },
      "source": [
        "!ls /content/drive/'MyDrive'/'Colab Notebooks'/"
      ],
      "execution_count": 2,
      "outputs": [
        {
          "output_type": "stream",
          "text": [
            "'Assignment2 (1).ipynb'       Image_classification_data.zip\n",
            " Assignment2.ipynb\t      patch_images\n",
            " Assignment2_s3714805.ipynb   Untitled0.ipynb\n",
            " CMLAssignment2-main.zip      Untitled2.ipynb\n",
            " data_labels_extraData.csv   'Untitled8 (1).ipynb'\n",
            " data_labels_mainData.csv     Untitled8.ipynb\n"
          ],
          "name": "stdout"
        }
      ]
    },
    {
      "cell_type": "code",
      "metadata": {
        "colab": {
          "base_uri": "https://localhost:8080/"
        },
        "id": "0bMKIqgLlnuO",
        "outputId": "1fd2ecfd-9257-46f0-ce2a-b608c95b17b6"
      },
      "source": [
        "!cp /content/drive/'MyDrive'/'Colab Notebooks'/'Image_classification_data.zip' .\n",
        "!unzip -q -o 'Image_classification_data.zip'\n",
        "!rm 'Image_classification_data.zip'\n",
        "!ls"
      ],
      "execution_count": 3,
      "outputs": [
        {
          "output_type": "stream",
          "text": [
            "data_labels_extraData.csv  drive     patch_images\n",
            "data_labels_mainData.csv   __MACOSX  sample_data\n"
          ],
          "name": "stdout"
        }
      ]
    },
    {
      "cell_type": "code",
      "metadata": {
        "id": "2jT94zbI8AFj"
      },
      "source": [
        "import numpy as np\n",
        "from sklearn.model_selection import train_test_split\n",
        "import pandas as pd\n",
        "from tensorflow.keras.preprocessing.image import ImageDataGenerator\n",
        "import seaborn as sns\n",
        "from tensorflow.keras.layers import Dense\n",
        "import tensorflow as tf\n",
        "from sklearn.utils import class_weight"
      ],
      "execution_count": 4,
      "outputs": []
    },
    {
      "cell_type": "code",
      "metadata": {
        "colab": {
          "base_uri": "https://localhost:8080/"
        },
        "id": "G9jD8i0R8EdU",
        "outputId": "44e0106c-0156-4759-c58a-eff96964bec0"
      },
      "source": [
        "data = pd.read_csv('./data_labels_mainData.csv')\n",
        "OUTPUT_CLASSES = 4\n",
        "data.columns"
      ],
      "execution_count": 5,
      "outputs": [
        {
          "output_type": "execute_result",
          "data": {
            "text/plain": [
              "Index(['InstanceID', 'patientID', 'ImageName', 'cellTypeName', 'cellType',\n",
              "       'isCancerous'],\n",
              "      dtype='object')"
            ]
          },
          "metadata": {
            "tags": []
          },
          "execution_count": 5
        }
      ]
    },
    {
      "cell_type": "markdown",
      "metadata": {
        "id": "DeB1swCGHROl"
      },
      "source": [
        "# New Section"
      ]
    },
    {
      "cell_type": "code",
      "metadata": {
        "colab": {
          "base_uri": "https://localhost:8080/",
          "height": 204
        },
        "id": "a8lGZ9ey8haF",
        "outputId": "ea180bd0-390d-4a9f-ef23-26f3f5669fc6"
      },
      "source": [
        "data.groupby('cellTypeName').agg('count')"
      ],
      "execution_count": 6,
      "outputs": [
        {
          "output_type": "execute_result",
          "data": {
            "text/html": [
              "<div>\n",
              "<style scoped>\n",
              "    .dataframe tbody tr th:only-of-type {\n",
              "        vertical-align: middle;\n",
              "    }\n",
              "\n",
              "    .dataframe tbody tr th {\n",
              "        vertical-align: top;\n",
              "    }\n",
              "\n",
              "    .dataframe thead th {\n",
              "        text-align: right;\n",
              "    }\n",
              "</style>\n",
              "<table border=\"1\" class=\"dataframe\">\n",
              "  <thead>\n",
              "    <tr style=\"text-align: right;\">\n",
              "      <th></th>\n",
              "      <th>InstanceID</th>\n",
              "      <th>patientID</th>\n",
              "      <th>ImageName</th>\n",
              "      <th>cellType</th>\n",
              "      <th>isCancerous</th>\n",
              "    </tr>\n",
              "    <tr>\n",
              "      <th>cellTypeName</th>\n",
              "      <th></th>\n",
              "      <th></th>\n",
              "      <th></th>\n",
              "      <th></th>\n",
              "      <th></th>\n",
              "    </tr>\n",
              "  </thead>\n",
              "  <tbody>\n",
              "    <tr>\n",
              "      <th>epithelial</th>\n",
              "      <td>4079</td>\n",
              "      <td>4079</td>\n",
              "      <td>4079</td>\n",
              "      <td>4079</td>\n",
              "      <td>4079</td>\n",
              "    </tr>\n",
              "    <tr>\n",
              "      <th>fibroblast</th>\n",
              "      <td>1888</td>\n",
              "      <td>1888</td>\n",
              "      <td>1888</td>\n",
              "      <td>1888</td>\n",
              "      <td>1888</td>\n",
              "    </tr>\n",
              "    <tr>\n",
              "      <th>inflammatory</th>\n",
              "      <td>2543</td>\n",
              "      <td>2543</td>\n",
              "      <td>2543</td>\n",
              "      <td>2543</td>\n",
              "      <td>2543</td>\n",
              "    </tr>\n",
              "    <tr>\n",
              "      <th>others</th>\n",
              "      <td>1386</td>\n",
              "      <td>1386</td>\n",
              "      <td>1386</td>\n",
              "      <td>1386</td>\n",
              "      <td>1386</td>\n",
              "    </tr>\n",
              "  </tbody>\n",
              "</table>\n",
              "</div>"
            ],
            "text/plain": [
              "              InstanceID  patientID  ImageName  cellType  isCancerous\n",
              "cellTypeName                                                         \n",
              "epithelial          4079       4079       4079      4079         4079\n",
              "fibroblast          1888       1888       1888      1888         1888\n",
              "inflammatory        2543       2543       2543      2543         2543\n",
              "others              1386       1386       1386      1386         1386"
            ]
          },
          "metadata": {
            "tags": []
          },
          "execution_count": 6
        }
      ]
    },
    {
      "cell_type": "code",
      "metadata": {
        "colab": {
          "base_uri": "https://localhost:8080/",
          "height": 296
        },
        "id": "vOdXFD1V-Pdh",
        "outputId": "0257ba3b-be54-4a5a-fe29-466551e786bb"
      },
      "source": [
        "sns.barplot(x=data.groupby('cellTypeName').agg('count').index, \n",
        "            y='cellType',\n",
        "            data=data.groupby('cellTypeName').agg('count'))"
      ],
      "execution_count": 7,
      "outputs": [
        {
          "output_type": "execute_result",
          "data": {
            "text/plain": [
              "<matplotlib.axes._subplots.AxesSubplot at 0x7f4860b9ba90>"
            ]
          },
          "metadata": {
            "tags": []
          },
          "execution_count": 7
        },
        {
          "output_type": "display_data",
          "data": {
            "image/png": "[encoded data removed]",
            "text/plain": [
              "<Figure size 432x288 with 1 Axes>"
            ]
          },
          "metadata": {
            "tags": [],
            "needs_background": "light"
          }
        }
      ]
    },
    {
      "cell_type": "code",
      "metadata": {
        "colab": {
          "base_uri": "https://localhost:8080/",
          "height": 142
        },
        "id": "lAaRLxjf-PaV",
        "outputId": "242d054e-5f35-48e5-b371-f10909ea4e69"
      },
      "source": [
        "data.groupby('isCancerous').agg('count')"
      ],
      "execution_count": 8,
      "outputs": [
        {
          "output_type": "execute_result",
          "data": {
            "text/html": [
              "<div>\n",
              "<style scoped>\n",
              "    .dataframe tbody tr th:only-of-type {\n",
              "        vertical-align: middle;\n",
              "    }\n",
              "\n",
              "    .dataframe tbody tr th {\n",
              "        vertical-align: top;\n",
              "    }\n",
              "\n",
              "    .dataframe thead th {\n",
              "        text-align: right;\n",
              "    }\n",
              "</style>\n",
              "<table border=\"1\" class=\"dataframe\">\n",
              "  <thead>\n",
              "    <tr style=\"text-align: right;\">\n",
              "      <th></th>\n",
              "      <th>InstanceID</th>\n",
              "      <th>patientID</th>\n",
              "      <th>ImageName</th>\n",
              "      <th>cellTypeName</th>\n",
              "      <th>cellType</th>\n",
              "    </tr>\n",
              "    <tr>\n",
              "      <th>isCancerous</th>\n",
              "      <th></th>\n",
              "      <th></th>\n",
              "      <th></th>\n",
              "      <th></th>\n",
              "      <th></th>\n",
              "    </tr>\n",
              "  </thead>\n",
              "  <tbody>\n",
              "    <tr>\n",
              "      <th>0</th>\n",
              "      <td>5817</td>\n",
              "      <td>5817</td>\n",
              "      <td>5817</td>\n",
              "      <td>5817</td>\n",
              "      <td>5817</td>\n",
              "    </tr>\n",
              "    <tr>\n",
              "      <th>1</th>\n",
              "      <td>4079</td>\n",
              "      <td>4079</td>\n",
              "      <td>4079</td>\n",
              "      <td>4079</td>\n",
              "      <td>4079</td>\n",
              "    </tr>\n",
              "  </tbody>\n",
              "</table>\n",
              "</div>"
            ],
            "text/plain": [
              "             InstanceID  patientID  ImageName  cellTypeName  cellType\n",
              "isCancerous                                                          \n",
              "0                  5817       5817       5817          5817      5817\n",
              "1                  4079       4079       4079          4079      4079"
            ]
          },
          "metadata": {
            "tags": []
          },
          "execution_count": 8
        }
      ]
    },
    {
      "cell_type": "code",
      "metadata": {
        "colab": {
          "base_uri": "https://localhost:8080/",
          "height": 204
        },
        "id": "btxrc-2R-PTV",
        "outputId": "da7fbe94-934b-4d16-8497-c7146a8f59e4"
      },
      "source": [
        "data.groupby(['cellTypeName', 'isCancerous']).agg('count')"
      ],
      "execution_count": 9,
      "outputs": [
        {
          "output_type": "execute_result",
          "data": {
            "text/html": [
              "<div>\n",
              "<style scoped>\n",
              "    .dataframe tbody tr th:only-of-type {\n",
              "        vertical-align: middle;\n",
              "    }\n",
              "\n",
              "    .dataframe tbody tr th {\n",
              "        vertical-align: top;\n",
              "    }\n",
              "\n",
              "    .dataframe thead th {\n",
              "        text-align: right;\n",
              "    }\n",
              "</style>\n",
              "<table border=\"1\" class=\"dataframe\">\n",
              "  <thead>\n",
              "    <tr style=\"text-align: right;\">\n",
              "      <th></th>\n",
              "      <th></th>\n",
              "      <th>InstanceID</th>\n",
              "      <th>patientID</th>\n",
              "      <th>ImageName</th>\n",
              "      <th>cellType</th>\n",
              "    </tr>\n",
              "    <tr>\n",
              "      <th>cellTypeName</th>\n",
              "      <th>isCancerous</th>\n",
              "      <th></th>\n",
              "      <th></th>\n",
              "      <th></th>\n",
              "      <th></th>\n",
              "    </tr>\n",
              "  </thead>\n",
              "  <tbody>\n",
              "    <tr>\n",
              "      <th>epithelial</th>\n",
              "      <th>1</th>\n",
              "      <td>4079</td>\n",
              "      <td>4079</td>\n",
              "      <td>4079</td>\n",
              "      <td>4079</td>\n",
              "    </tr>\n",
              "    <tr>\n",
              "      <th>fibroblast</th>\n",
              "      <th>0</th>\n",
              "      <td>1888</td>\n",
              "      <td>1888</td>\n",
              "      <td>1888</td>\n",
              "      <td>1888</td>\n",
              "    </tr>\n",
              "    <tr>\n",
              "      <th>inflammatory</th>\n",
              "      <th>0</th>\n",
              "      <td>2543</td>\n",
              "      <td>2543</td>\n",
              "      <td>2543</td>\n",
              "      <td>2543</td>\n",
              "    </tr>\n",
              "    <tr>\n",
              "      <th>others</th>\n",
              "      <th>0</th>\n",
              "      <td>1386</td>\n",
              "      <td>1386</td>\n",
              "      <td>1386</td>\n",
              "      <td>1386</td>\n",
              "    </tr>\n",
              "  </tbody>\n",
              "</table>\n",
              "</div>"
            ],
            "text/plain": [
              "                          InstanceID  patientID  ImageName  cellType\n",
              "cellTypeName isCancerous                                            \n",
              "epithelial   1                  4079       4079       4079      4079\n",
              "fibroblast   0                  1888       1888       1888      1888\n",
              "inflammatory 0                  2543       2543       2543      2543\n",
              "others       0                  1386       1386       1386      1386"
            ]
          },
          "metadata": {
            "tags": []
          },
          "execution_count": 9
        }
      ]
    },
    {
      "cell_type": "code",
      "metadata": {
        "colab": {
          "base_uri": "https://localhost:8080/",
          "height": 265
        },
        "id": "InvRylbg-PQJ",
        "outputId": "b7c2bb0d-1f0b-41ac-fdad-97629f505cb0"
      },
      "source": [
        "data.groupby('cellTypeName').agg('count').cellType.plot.pie(autopct=\"%.1f%%\")"
      ],
      "execution_count": 10,
      "outputs": [
        {
          "output_type": "execute_result",
          "data": {
            "text/plain": [
              "<matplotlib.axes._subplots.AxesSubplot at 0x7f48605f09d0>"
            ]
          },
          "metadata": {
            "tags": []
          },
          "execution_count": 10
        },
        {
          "output_type": "display_data",
          "data": {
            "image/png": "[encoded data removed]",
            "text/plain": [
              "<Figure size 432x288 with 1 Axes>"
            ]
          },
          "metadata": {
            "tags": []
          }
        }
      ]
    },
    {
      "cell_type": "code",
      "metadata": {
        "colab": {
          "base_uri": "https://localhost:8080/"
        },
        "id": "RR_UOYjt-Ork",
        "outputId": "2ab4743d-f03b-4aba-8661-04cc33e3ff73"
      },
      "source": [
        "extraData = pd.read_csv('data_labels_extraData.csv')\n",
        "extraData.columns"
      ],
      "execution_count": 11,
      "outputs": [
        {
          "output_type": "execute_result",
          "data": {
            "text/plain": [
              "Index(['InstanceID', 'patientID', 'ImageName', 'isCancerous'], dtype='object')"
            ]
          },
          "metadata": {
            "tags": []
          },
          "execution_count": 11
        }
      ]
    },
    {
      "cell_type": "code",
      "metadata": {
        "id": "IwROVETCD4Ke"
      },
      "source": [
        "mergedData = pd.concat([data[[\"InstanceID\", \"patientID\", \"ImageName\", \"isCancerous\"]], extraData])"
      ],
      "execution_count": 12,
      "outputs": []
    },
    {
      "cell_type": "code",
      "metadata": {
        "colab": {
          "base_uri": "https://localhost:8080/",
          "height": 142
        },
        "id": "3jVuoMkSaozQ",
        "outputId": "0c1dd938-ba8e-430b-cddc-e8026df2437f"
      },
      "source": [
        "mergedData.groupby('isCancerous').agg('count')"
      ],
      "execution_count": 13,
      "outputs": [
        {
          "output_type": "execute_result",
          "data": {
            "text/html": [
              "<div>\n",
              "<style scoped>\n",
              "    .dataframe tbody tr th:only-of-type {\n",
              "        vertical-align: middle;\n",
              "    }\n",
              "\n",
              "    .dataframe tbody tr th {\n",
              "        vertical-align: top;\n",
              "    }\n",
              "\n",
              "    .dataframe thead th {\n",
              "        text-align: right;\n",
              "    }\n",
              "</style>\n",
              "<table border=\"1\" class=\"dataframe\">\n",
              "  <thead>\n",
              "    <tr style=\"text-align: right;\">\n",
              "      <th></th>\n",
              "      <th>InstanceID</th>\n",
              "      <th>patientID</th>\n",
              "      <th>ImageName</th>\n",
              "    </tr>\n",
              "    <tr>\n",
              "      <th>isCancerous</th>\n",
              "      <th></th>\n",
              "      <th></th>\n",
              "      <th></th>\n",
              "    </tr>\n",
              "  </thead>\n",
              "  <tbody>\n",
              "    <tr>\n",
              "      <th>0</th>\n",
              "      <td>13211</td>\n",
              "      <td>13211</td>\n",
              "      <td>13211</td>\n",
              "    </tr>\n",
              "    <tr>\n",
              "      <th>1</th>\n",
              "      <td>7069</td>\n",
              "      <td>7069</td>\n",
              "      <td>7069</td>\n",
              "    </tr>\n",
              "  </tbody>\n",
              "</table>\n",
              "</div>"
            ],
            "text/plain": [
              "             InstanceID  patientID  ImageName\n",
              "isCancerous                                  \n",
              "0                 13211      13211      13211\n",
              "1                  7069       7069       7069"
            ]
          },
          "metadata": {
            "tags": []
          },
          "execution_count": 13
        }
      ]
    },
    {
      "cell_type": "code",
      "metadata": {
        "colab": {
          "base_uri": "https://localhost:8080/",
          "height": 296
        },
        "id": "jwlrWYmlao3D",
        "outputId": "64e345a0-efeb-4bae-b4c4-d5e0be7c9dfc"
      },
      "source": [
        "sns.barplot(x=mergedData.groupby('isCancerous').agg('count').index, \n",
        "            y='ImageName', \n",
        "            data=mergedData.groupby('isCancerous').agg('count'))"
      ],
      "execution_count": 14,
      "outputs": [
        {
          "output_type": "execute_result",
          "data": {
            "text/plain": [
              "<matplotlib.axes._subplots.AxesSubplot at 0x7f485f322a10>"
            ]
          },
          "metadata": {
            "tags": []
          },
          "execution_count": 14
        },
        {
          "output_type": "display_data",
          "data": {
            "image/png": "[encoded data removed]",
            "text/plain": [
              "<Figure size 432x288 with 1 Axes>"
            ]
          },
          "metadata": {
            "tags": [],
            "needs_background": "light"
          }
        }
      ]
    },
    {
      "cell_type": "code",
      "metadata": {
        "colab": {
          "base_uri": "https://localhost:8080/",
          "height": 265
        },
        "id": "Sgo0vKwFavkK",
        "outputId": "74aa24cc-1dbb-4ff2-9b51-c996809cdc7d"
      },
      "source": [
        "mergedData.groupby('isCancerous').agg('count').ImageName.plot.pie(autopct=\"%.1f%%\")"
      ],
      "execution_count": 15,
      "outputs": [
        {
          "output_type": "execute_result",
          "data": {
            "text/plain": [
              "<matplotlib.axes._subplots.AxesSubplot at 0x7f485f1c6850>"
            ]
          },
          "metadata": {
            "tags": []
          },
          "execution_count": 15
        },
        {
          "output_type": "display_data",
          "data": {
            "image/png": "[encoded data removed]",
            "text/plain": [
              "<Figure size 432x288 with 1 Axes>"
            ]
          },
          "metadata": {
            "tags": []
          }
        }
      ]
    },
    {
      "cell_type": "code",
      "metadata": {
        "id": "9hZlKcaMFnfg",
        "colab": {
          "base_uri": "https://localhost:8080/"
        },
        "outputId": "bb2eb71d-bfa0-406d-ad55-e8507daa8381"
      },
      "source": [
        "OUTPUT_CLASSES = 2\n",
        "\n",
        "train_data, test_data = train_test_split(mergedData, test_size=0.2, random_state=42)\n",
        "train_data, val_data = train_test_split(train_data, test_size=0.25, random_state=42)\n",
        "\n",
        "print(\"Train data : {}, Val Data: {}, Test Data: {}\".format(train_data.shape[0], val_data.shape[0], test_data.shape[0]))"
      ],
      "execution_count": 34,
      "outputs": [
        {
          "output_type": "stream",
          "text": [
            "Train data : 12168, Val Data: 4056, Test Data: 4056\n"
          ],
          "name": "stdout"
        }
      ]
    },
    {
      "cell_type": "code",
      "metadata": {
        "id": "bz0rL4fVFnjI",
        "colab": {
          "base_uri": "https://localhost:8080/"
        },
        "outputId": "8254115a-dc9e-4e58-9c66-7967ec5ae453"
      },
      "source": [
        "train_data['Class'] = train_data['isCancerous'].astype('str')\n",
        "val_data['Class'] = val_data['isCancerous'].astype('str')\n",
        "\n",
        "\n",
        "\n",
        "train_datagen = ImageDataGenerator(rescale=1./255, data_format='channels_last',\n",
        "                                   rotation_range=15, width_shift_range=0.2,\n",
        "                                   height_shift_range=0.2, brightness_range=[0.5,1.5])\n",
        "val_datagen = ImageDataGenerator(rescale=1./255, data_format='channels_last')\n",
        "\n",
        "batch_size = 27\n",
        "\n",
        "train_generator = train_datagen.flow_from_dataframe(\n",
        "        dataframe=train_data,\n",
        "        directory='./patch_images',\n",
        "        x_col=\"ImageName\",\n",
        "        y_col=\"Class\",\n",
        "        target_size=(27, 27),\n",
        "        batch_size=batch_size,\n",
        "        class_mode='categorical')\n",
        "\n",
        "validation_generator = val_datagen.flow_from_dataframe(\n",
        "        dataframe=val_data,\n",
        "        directory='./patch_images',\n",
        "        x_col=\"ImageName\",\n",
        "        y_col=\"Class\",\n",
        "        target_size=(27, 27),\n",
        "        batch_size=batch_size,\n",
        "        class_mode='categorical')\n",
        "\n",
        "test_data['Class'] = test_data['isCancerous'].astype('str')\n",
        "\n",
        "test_datagen = ImageDataGenerator(rescale=1./255, data_format='channels_last')\n",
        "\n",
        "batch_size = 1\n",
        "\n",
        "test_generator = test_datagen.flow_from_dataframe(\n",
        "        dataframe=test_data,\n",
        "        directory='./patch_images',\n",
        "        x_col=\"ImageName\",\n",
        "        y_col=\"Class\",\n",
        "        target_size=(27, 27),\n",
        "        batch_size=batch_size,\n",
        "        class_mode='sparse')"
      ],
      "execution_count": 35,
      "outputs": [
        {
          "output_type": "stream",
          "text": [
            "Found 12168 validated image filenames belonging to 2 classes.\n",
            "Found 4056 validated image filenames belonging to 2 classes.\n",
            "Found 4056 validated image filenames belonging to 2 classes.\n"
          ],
          "name": "stdout"
        },
        {
          "output_type": "stream",
          "text": [
            "/usr/local/lib/python3.7/dist-packages/ipykernel_launcher.py:31: SettingWithCopyWarning: \n",
            "A value is trying to be set on a copy of a slice from a DataFrame.\n",
            "Try using .loc[row_indexer,col_indexer] = value instead\n",
            "\n",
            "See the caveats in the documentation: https://pandas.pydata.org/pandas-docs/stable/user_guide/indexing.html#returning-a-view-versus-a-copy\n"
          ],
          "name": "stderr"
        }
      ]
    },
    {
      "cell_type": "code",
      "metadata": {
        "id": "mfNxeHBdFnnM"
      },
      "source": [
        "\n",
        "reg_lambda = 0.0001\n",
        "modelCancerous = tf.keras.Sequential([\n",
        "    #VGG block 1\n",
        "    tf.keras.layers.Conv2D(27, (3, 3), activation='relu', padding='same', \n",
        "                           kernel_regularizer=tf.keras.regularizers.l2(reg_lambda), input_shape=(27, 27, 3)),\n",
        "    tf.keras.layers.Conv2D(27, (3, 3), activation='relu', padding='same', \n",
        "                           kernel_regularizer=tf.keras.regularizers.l2(reg_lambda)),\n",
        "    tf.keras.layers.MaxPooling2D((2, 2)),\n",
        "    \n",
        "    #VGG block 2\n",
        "    tf.keras.layers.Conv2D(54, (3, 3), activation='relu', padding='same', \n",
        "                           kernel_regularizer=tf.keras.regularizers.l2(reg_lambda)),\n",
        "    tf.keras.layers.Conv2D(54, (3, 3), activation='relu', padding='same', \n",
        "                           kernel_regularizer=tf.keras.regularizers.l2(reg_lambda)),\n",
        "    tf.keras.layers.MaxPooling2D((2, 2)),\n",
        "    \n",
        "    #VGG block 3\n",
        "    tf.keras.layers.Conv2D(108, (3, 3), activation='relu', padding='same', \n",
        "                           kernel_regularizer=tf.keras.regularizers.l2(reg_lambda)),\n",
        "    tf.keras.layers.Conv2D(108, (3, 3), activation='relu', padding='same', \n",
        "                           kernel_regularizer=tf.keras.regularizers.l2(reg_lambda)),\n",
        "    tf.keras.layers.MaxPooling2D((2, 2)),\n",
        "    \n",
        "    tf.keras.layers.Flatten(),\n",
        "    tf.keras.layers.Dense(54, activation='relu'),\n",
        "    tf.keras.layers.Dropout(.2),\n",
        "    tf.keras.layers.Dense(OUTPUT_CLASSES,activation='softmax'),\n",
        "])"
      ],
      "execution_count": 18,
      "outputs": []
    },
    {
      "cell_type": "code",
      "metadata": {
        "id": "PCOddIG2P-H1"
      },
      "source": [
        "import matplotlib.pyplot as plt\n",
        "def plot_learning_curve(train_loss, val_loss, train_metric, val_metric, metric_name='Accuracy'):\n",
        "    plt.figure(figsize=(10,5))\n",
        "    \n",
        "    plt.subplot(1,2,1)\n",
        "    plt.plot(train_loss, 'r--')\n",
        "    plt.plot(val_loss, 'b--')\n",
        "    plt.xlabel(\"epochs\")\n",
        "    plt.ylabel(\"Loss\")\n",
        "    plt.legend(['train', 'val'], loc='upper left')\n",
        "    plt.ylim([0, 1])\n",
        "    plt.subplot(1,2,2)\n",
        "    plt.plot(train_metric, 'r--')\n",
        "    plt.plot(val_metric, 'b--')\n",
        "    plt.xlabel(\"epochs\")                                                  \n",
        "    plt.ylabel(metric_name)\n",
        "    plt.legend(['train', 'val'], loc='upper left')\n",
        "    plt.ylim([0, 1])\n",
        "    plt.show()"
      ],
      "execution_count": 19,
      "outputs": []
    },
    {
      "cell_type": "code",
      "metadata": {
        "id": "KkZfoX0suj4x"
      },
      "source": [
        "early_stopping = tf.keras.callbacks.EarlyStopping(\n",
        " monitor='val_categorical_accuracy', \n",
        " verbose=1,\n",
        " patience=20,\n",
        " mode='max',\n",
        " restore_best_weights=True)"
      ],
      "execution_count": 20,
      "outputs": []
    },
    {
      "cell_type": "code",
      "metadata": {
        "id": "ytSUWFEIJCQj"
      },
      "source": [
        "modelCancerous.compile(tf.keras.optimizers.Adam(learning_rate=0.0001,name=\"Adam\"),\n",
        "              loss=tf.keras.losses.CategoricalCrossentropy(from_logits=False),\n",
        "              metrics=['categorical_accuracy'])"
      ],
      "execution_count": 21,
      "outputs": []
    },
    {
      "cell_type": "code",
      "metadata": {
        "id": "6EnYCWycJCS7"
      },
      "source": [
        "historyCancerous = modelCancerous.fit(train_generator, validation_data = validation_generator,callbacks= [early_stopping], epochs=50)"
      ],
      "execution_count": null,
      "outputs": []
    },
    {
      "cell_type": "code",
      "metadata": {
        "id": "zwZlqzBJJCWr",
        "colab": {
          "base_uri": "https://localhost:8080/",
          "height": 338
        },
        "outputId": "ef303a1e-190e-4e30-faad-7bcd9896aeef"
      },
      "source": [
        "plot_learning_curve(historyCancerous.history['loss'], historyCancerous.history['val_loss'], \n",
        "                    historyCancerous.history['categorical_accuracy'], historyCancerous.history['val_categorical_accuracy'], \n",
        "                    metric_name='Accuracy')"
      ],
      "execution_count": null,
      "outputs": [
        {
          "output_type": "display_data",
          "data": {
            "image/png": "[encoded data removed]",
            "text/plain": [
              "<Figure size 720x360 with 2 Axes>"
            ]
          },
          "metadata": {
            "tags": [],
            "needs_background": "light"
          }
        }
      ]
    },
    {
      "cell_type": "code",
      "metadata": {
        "id": "m8Ijzn0hmxEf"
      },
      "source": [
        "reg_lambda = 0.00001\n",
        "\n",
        "modelCancerous = tf.keras.Sequential([\n",
        "    #VGG block 1\n",
        "    tf.keras.layers.Conv2D(27, (3, 3), activation='relu', padding='same', \n",
        "                           kernel_regularizer=tf.keras.regularizers.l2(reg_lambda), input_shape=(27, 27, 3)),\n",
        "    tf.keras.layers.Conv2D(27, (3, 3), activation='relu', padding='same', \n",
        "                           kernel_regularizer=tf.keras.regularizers.l2(reg_lambda)),\n",
        "    tf.keras.layers.MaxPooling2D((2, 2)),\n",
        "    \n",
        "    #VGG block 2\n",
        "    tf.keras.layers.Conv2D(54, (3, 3), activation='relu', padding='same', \n",
        "                           kernel_regularizer=tf.keras.regularizers.l2(reg_lambda)),\n",
        "    tf.keras.layers.Conv2D(54, (3, 3), activation='relu', padding='same',  \n",
        "                           kernel_regularizer=tf.keras.regularizers.l2(reg_lambda)),\n",
        "    tf.keras.layers.MaxPooling2D((2, 2)),\n",
        "    \n",
        "    #VGG block 3\n",
        "    tf.keras.layers.Conv2D(108, (3, 3), activation='relu', padding='same', \n",
        "                           kernel_regularizer=tf.keras.regularizers.l2(reg_lambda)),\n",
        "    tf.keras.layers.Conv2D(108, (3, 3), activation='relu', padding='same', \n",
        "                           kernel_regularizer=tf.keras.regularizers.l2(reg_lambda)),\n",
        "    tf.keras.layers.MaxPooling2D((2, 2)),\n",
        "    \n",
        "    tf.keras.layers.Flatten(),\n",
        "    tf.keras.layers.Dense(108, activation='relu'),\n",
        "    tf.keras.layers.Dropout(.2),\n",
        "    tf.keras.layers.Dense(OUTPUT_CLASSES,activation='softmax'),\n",
        "])"
      ],
      "execution_count": 36,
      "outputs": []
    },
    {
      "cell_type": "code",
      "metadata": {
        "id": "ewsXp828bwM9"
      },
      "source": [
        "class_weights = class_weight.compute_class_weight('balanced',\n",
        "                                                 np.unique(train_generator.classes),\n",
        "                                                 train_generator.classes)\n",
        "class_weights = dict(enumerate(class_weights))"
      ],
      "execution_count": 23,
      "outputs": []
    },
    {
      "cell_type": "code",
      "metadata": {
        "colab": {
          "base_uri": "https://localhost:8080/"
        },
        "id": "5fujbSd9zvhy",
        "outputId": "f646545b-e6d9-4cb6-82cb-c18be77885da"
      },
      "source": [
        "modelCancerous.optimizer.get_config()"
      ],
      "execution_count": 56,
      "outputs": [
        {
          "output_type": "execute_result",
          "data": {
            "text/plain": [
              "{'amsgrad': False,\n",
              " 'beta_1': 0.9,\n",
              " 'beta_2': 0.999,\n",
              " 'decay': 0.0,\n",
              " 'epsilon': 1e-07,\n",
              " 'learning_rate': 1e-05,\n",
              " 'name': 'Adam'}"
            ]
          },
          "metadata": {
            "tags": []
          },
          "execution_count": 56
        }
      ]
    },
    {
      "cell_type": "code",
      "metadata": {
        "id": "Av7bAXpUmxHQ"
      },
      "source": [
        "modelCancerous.compile(tf.keras.optimizers.Adam(learning_rate=0.00001,name=\"Adam\"),\n",
        "              loss=tf.keras.losses.CategoricalCrossentropy(from_logits=False),\n",
        "              metrics=['categorical_accuracy'])"
      ],
      "execution_count": 37,
      "outputs": []
    },
    {
      "cell_type": "code",
      "metadata": {
        "colab": {
          "base_uri": "https://localhost:8080/"
        },
        "id": "rCToP-M3iguI",
        "outputId": "1cb82092-c54a-47af-f88c-84da7d22d816"
      },
      "source": [
        "historyCancerous = modelCancerous.fit(train_generator, validation_data = validation_generator,callbacks=[early_stopping], epochs=50)"
      ],
      "execution_count": 38,
      "outputs": [
        {
          "output_type": "stream",
          "text": [
            "Epoch 1/50\n",
            "451/451 [==============================] - 20s 42ms/step - loss: 0.6405 - categorical_accuracy: 0.6499 - val_loss: 0.6076 - val_categorical_accuracy: 0.6573\n",
            "Epoch 2/50\n",
            "451/451 [==============================] - 19s 41ms/step - loss: 0.5520 - categorical_accuracy: 0.7202 - val_loss: 0.5469 - val_categorical_accuracy: 0.7256\n",
            "Epoch 3/50\n",
            "451/451 [==============================] - 19s 41ms/step - loss: 0.4826 - categorical_accuracy: 0.7853 - val_loss: 0.4786 - val_categorical_accuracy: 0.7668\n",
            "Epoch 4/50\n",
            "451/451 [==============================] - 19s 41ms/step - loss: 0.4608 - categorical_accuracy: 0.7858 - val_loss: 0.4985 - val_categorical_accuracy: 0.7569\n",
            "Epoch 5/50\n",
            "451/451 [==============================] - 19s 41ms/step - loss: 0.4469 - categorical_accuracy: 0.7952 - val_loss: 0.4468 - val_categorical_accuracy: 0.7825\n",
            "Epoch 6/50\n",
            "451/451 [==============================] - 19s 41ms/step - loss: 0.4458 - categorical_accuracy: 0.7950 - val_loss: 0.4256 - val_categorical_accuracy: 0.7944\n",
            "Epoch 7/50\n",
            "451/451 [==============================] - 19s 41ms/step - loss: 0.4343 - categorical_accuracy: 0.8010 - val_loss: 0.4054 - val_categorical_accuracy: 0.8070\n",
            "Epoch 8/50\n",
            "451/451 [==============================] - 19s 42ms/step - loss: 0.4291 - categorical_accuracy: 0.7992 - val_loss: 0.4128 - val_categorical_accuracy: 0.8052\n",
            "Epoch 9/50\n",
            "451/451 [==============================] - 19s 41ms/step - loss: 0.4164 - categorical_accuracy: 0.8106 - val_loss: 0.4195 - val_categorical_accuracy: 0.7976\n",
            "Epoch 10/50\n",
            "451/451 [==============================] - 19s 41ms/step - loss: 0.4169 - categorical_accuracy: 0.8096 - val_loss: 0.4077 - val_categorical_accuracy: 0.8065\n",
            "Epoch 11/50\n",
            "451/451 [==============================] - 19s 41ms/step - loss: 0.4081 - categorical_accuracy: 0.8158 - val_loss: 0.3809 - val_categorical_accuracy: 0.8235\n",
            "Epoch 12/50\n",
            "451/451 [==============================] - 19s 41ms/step - loss: 0.3981 - categorical_accuracy: 0.8202 - val_loss: 0.3807 - val_categorical_accuracy: 0.8217\n",
            "Epoch 13/50\n",
            "451/451 [==============================] - 19s 41ms/step - loss: 0.3984 - categorical_accuracy: 0.8194 - val_loss: 0.3722 - val_categorical_accuracy: 0.8296\n",
            "Epoch 14/50\n",
            "451/451 [==============================] - 19s 41ms/step - loss: 0.3921 - categorical_accuracy: 0.8277 - val_loss: 0.3866 - val_categorical_accuracy: 0.8309\n",
            "Epoch 15/50\n",
            "451/451 [==============================] - 19s 41ms/step - loss: 0.3912 - categorical_accuracy: 0.8270 - val_loss: 0.3613 - val_categorical_accuracy: 0.8427\n",
            "Epoch 16/50\n",
            "451/451 [==============================] - 19s 42ms/step - loss: 0.3892 - categorical_accuracy: 0.8261 - val_loss: 0.3638 - val_categorical_accuracy: 0.8321\n",
            "Epoch 17/50\n",
            "451/451 [==============================] - 19s 41ms/step - loss: 0.3847 - categorical_accuracy: 0.8317 - val_loss: 0.3545 - val_categorical_accuracy: 0.8397\n",
            "Epoch 18/50\n",
            "451/451 [==============================] - 19s 41ms/step - loss: 0.3806 - categorical_accuracy: 0.8314 - val_loss: 0.3510 - val_categorical_accuracy: 0.8432\n",
            "Epoch 19/50\n",
            "451/451 [==============================] - 19s 42ms/step - loss: 0.3821 - categorical_accuracy: 0.8319 - val_loss: 0.3621 - val_categorical_accuracy: 0.8360\n",
            "Epoch 20/50\n",
            "451/451 [==============================] - 19s 42ms/step - loss: 0.3789 - categorical_accuracy: 0.8331 - val_loss: 0.4085 - val_categorical_accuracy: 0.8173\n",
            "Epoch 21/50\n",
            "451/451 [==============================] - 19s 42ms/step - loss: 0.3761 - categorical_accuracy: 0.8355 - val_loss: 0.3478 - val_categorical_accuracy: 0.8489\n",
            "Epoch 22/50\n",
            "451/451 [==============================] - 19s 42ms/step - loss: 0.3728 - categorical_accuracy: 0.8386 - val_loss: 0.3750 - val_categorical_accuracy: 0.8363\n",
            "Epoch 23/50\n",
            "451/451 [==============================] - 19s 41ms/step - loss: 0.3729 - categorical_accuracy: 0.8405 - val_loss: 0.3466 - val_categorical_accuracy: 0.8489\n",
            "Epoch 24/50\n",
            "451/451 [==============================] - 19s 42ms/step - loss: 0.3716 - categorical_accuracy: 0.8397 - val_loss: 0.3463 - val_categorical_accuracy: 0.8466\n",
            "Epoch 25/50\n",
            "451/451 [==============================] - 19s 42ms/step - loss: 0.3706 - categorical_accuracy: 0.8401 - val_loss: 0.3473 - val_categorical_accuracy: 0.8464\n",
            "Epoch 26/50\n",
            "451/451 [==============================] - 19s 41ms/step - loss: 0.3692 - categorical_accuracy: 0.8379 - val_loss: 0.3689 - val_categorical_accuracy: 0.8368\n",
            "Epoch 27/50\n",
            "451/451 [==============================] - 19s 42ms/step - loss: 0.3680 - categorical_accuracy: 0.8407 - val_loss: 0.3456 - val_categorical_accuracy: 0.8462\n",
            "Epoch 28/50\n",
            "451/451 [==============================] - 19s 42ms/step - loss: 0.3622 - categorical_accuracy: 0.8396 - val_loss: 0.3513 - val_categorical_accuracy: 0.8444\n",
            "Epoch 29/50\n",
            "451/451 [==============================] - 19s 42ms/step - loss: 0.3659 - categorical_accuracy: 0.8437 - val_loss: 0.3454 - val_categorical_accuracy: 0.8484\n",
            "Epoch 30/50\n",
            "451/451 [==============================] - 19s 42ms/step - loss: 0.3615 - categorical_accuracy: 0.8429 - val_loss: 0.3466 - val_categorical_accuracy: 0.8476\n",
            "Epoch 31/50\n",
            "451/451 [==============================] - 19s 41ms/step - loss: 0.3610 - categorical_accuracy: 0.8443 - val_loss: 0.3547 - val_categorical_accuracy: 0.8449\n",
            "Epoch 32/50\n",
            "451/451 [==============================] - 19s 42ms/step - loss: 0.3564 - categorical_accuracy: 0.8457 - val_loss: 0.3645 - val_categorical_accuracy: 0.8390\n",
            "Epoch 33/50\n",
            "451/451 [==============================] - 19s 42ms/step - loss: 0.3578 - categorical_accuracy: 0.8469 - val_loss: 0.3719 - val_categorical_accuracy: 0.8358\n",
            "Epoch 34/50\n",
            "451/451 [==============================] - 19s 42ms/step - loss: 0.3519 - categorical_accuracy: 0.8496 - val_loss: 0.3457 - val_categorical_accuracy: 0.8484\n",
            "Epoch 35/50\n",
            "451/451 [==============================] - 19s 41ms/step - loss: 0.3536 - categorical_accuracy: 0.8452 - val_loss: 0.3460 - val_categorical_accuracy: 0.8447\n",
            "Epoch 36/50\n",
            "451/451 [==============================] - 19s 42ms/step - loss: 0.3510 - categorical_accuracy: 0.8476 - val_loss: 0.3444 - val_categorical_accuracy: 0.8489\n",
            "Epoch 37/50\n",
            "451/451 [==============================] - 19s 42ms/step - loss: 0.3544 - categorical_accuracy: 0.8492 - val_loss: 0.3446 - val_categorical_accuracy: 0.8469\n",
            "Epoch 38/50\n",
            "451/451 [==============================] - 19s 42ms/step - loss: 0.3490 - categorical_accuracy: 0.8509 - val_loss: 0.3446 - val_categorical_accuracy: 0.8462\n",
            "Epoch 39/50\n",
            "451/451 [==============================] - 19s 42ms/step - loss: 0.3500 - categorical_accuracy: 0.8492 - val_loss: 0.3598 - val_categorical_accuracy: 0.8422\n",
            "Epoch 40/50\n",
            "451/451 [==============================] - 19s 42ms/step - loss: 0.3466 - categorical_accuracy: 0.8529 - val_loss: 0.3495 - val_categorical_accuracy: 0.8449\n",
            "Epoch 41/50\n",
            "451/451 [==============================] - 19s 42ms/step - loss: 0.3459 - categorical_accuracy: 0.8547 - val_loss: 0.3820 - val_categorical_accuracy: 0.8291\n",
            "Restoring model weights from the end of the best epoch.\n",
            "Epoch 00041: early stopping\n"
          ],
          "name": "stdout"
        }
      ]
    },
    {
      "cell_type": "code",
      "metadata": {
        "colab": {
          "base_uri": "https://localhost:8080/",
          "height": 338
        },
        "id": "MDBULvK2rzY_",
        "outputId": "af41cc18-efaa-4b79-ca38-cfa7f75f0447"
      },
      "source": [
        "plot_learning_curve(historyCancerous.history['loss'], historyCancerous.history['val_loss'], \n",
        "                    historyCancerous.history['categorical_accuracy'], historyCancerous.history['val_categorical_accuracy'], \n",
        "                    metric_name='Accuracy')"
      ],
      "execution_count": 39,
      "outputs": [
        {
          "output_type": "display_data",
          "data": {
            "image/png": "[encoded data removed]",
            "text/plain": [
              "<Figure size 720x360 with 2 Axes>"
            ]
          },
          "metadata": {
            "tags": [],
            "needs_background": "light"
          }
        }
      ]
    },
    {
      "cell_type": "code",
      "metadata": {
        "id": "Ovt2wG7DJqCa",
        "colab": {
          "base_uri": "https://localhost:8080/"
        },
        "outputId": "bb0a3e25-6200-47ee-99ad-29f4ca9004f2"
      },
      "source": [
        "# setup data some placeholders\n",
        "batch_size_ = 1\n",
        "y_hat_all = list()\n",
        "y_all = list()\n",
        "filenames = test_generator.filenames\n",
        "N_images = len(filenames)\n",
        "batches = 1\n",
        "                                                                       \n",
        "for x,y in test_generator:\n",
        "        y_hat = modelCancerous.predict(x, verbose=0)\n",
        "        y_hat = np.argmax(y_hat, axis = 1)\n",
        "        # y = np.argmax(y, axis = 1)\n",
        "        y_hat_all = y_hat_all + y_hat.tolist()\n",
        "        y_all = y_all + y.tolist()\n",
        "\n",
        "        batches += 1\n",
        "        if batches >= N_images / batch_size_:\n",
        "            break\n",
        "\n",
        "from sklearn.metrics import classification_report\n",
        "from sklearn.metrics import confusion_matrix, accuracy_score, f1_score\n",
        "\n",
        "print(\"Accuracy score: \", accuracy_score(y_all, y_hat_all))\n",
        "print(\"F1 score: \", f1_score(y_all, y_hat_all, average='macro'))\n",
        "cf = confusion_matrix(y_all, y_hat_all)\n",
        "# print(\"Confusion Matrix \", confusion_matrix(y_all, y_hat_all))\n",
        "print(\"Classification Report\")\n",
        "print(classification_report(y_all, y_hat_all))"
      ],
      "execution_count": 40,
      "outputs": [
        {
          "output_type": "stream",
          "text": [
            "Accuracy score:  0.8503082614056721\n",
            "F1 score:  0.8331017850026794\n",
            "Classification Report\n",
            "              precision    recall  f1-score   support\n",
            "\n",
            "         0.0       0.87      0.90      0.89      2625\n",
            "         1.0       0.81      0.75      0.78      1430\n",
            "\n",
            "    accuracy                           0.85      4055\n",
            "   macro avg       0.84      0.83      0.83      4055\n",
            "weighted avg       0.85      0.85      0.85      4055\n",
            "\n"
          ],
          "name": "stdout"
        }
      ]
    },
    {
      "cell_type": "code",
      "metadata": {
        "id": "acv85RTaZjy_",
        "colab": {
          "base_uri": "https://localhost:8080/",
          "height": 282
        },
        "outputId": "00782fe4-02ab-4903-8d03-e5dd0b247cda"
      },
      "source": [
        "sns.heatmap(cf, annot=True,fmt='g')"
      ],
      "execution_count": 41,
      "outputs": [
        {
          "output_type": "execute_result",
          "data": {
            "text/plain": [
              "<matplotlib.axes._subplots.AxesSubplot at 0x7f47b5fc74d0>"
            ]
          },
          "metadata": {
            "tags": []
          },
          "execution_count": 41
        },
        {
          "output_type": "display_data",
          "data": {
            "image/png": "[encoded data removed]",
            "text/plain": [
              "<Figure size 432x288 with 2 Axes>"
            ]
          },
          "metadata": {
            "tags": [],
            "needs_background": "light"
          }
        }
      ]
    },
    {
      "cell_type": "code",
      "metadata": {
        "id": "2rl6d_KmJqFU",
        "colab": {
          "base_uri": "https://localhost:8080/"
        },
        "outputId": "781edd39-9485-4f38-af17-76e0a11a0d6d"
      },
      "source": [
        "modelCancerous.save(\"modelCancerous\")"
      ],
      "execution_count": 42,
      "outputs": [
        {
          "output_type": "stream",
          "text": [
            "INFO:tensorflow:Assets written to: modelCancerous/assets\n"
          ],
          "name": "stdout"
        }
      ]
    },
    {
      "cell_type": "code",
      "metadata": {
        "colab": {
          "base_uri": "https://localhost:8080/"
        },
        "id": "m29uk7yhAaAC",
        "outputId": "374f0ed2-3ada-4f94-8ace-c8c8345e459e"
      },
      "source": [
        "## Only on colab\n",
        "# Change according to your directory structure\n",
        "!cp -R ./modelCancerous/content/drive/'My Drive'/'Colab Notebooks'      "
      ],
      "execution_count": 43,
      "outputs": [
        {
          "output_type": "stream",
          "text": [
            "cp: missing destination file operand after './modelCancerous/content/drive/My Drive/Colab Notebooks'\n",
            "Try 'cp --help' for more information.\n"
          ],
          "name": "stdout"
        }
      ]
    },
    {
      "cell_type": "code",
      "metadata": {
        "id": "CPza7BWjQq4P"
      },
      "source": [
        "modelCancerous.summary()"
      ],
      "execution_count": null,
      "outputs": []
    },
    {
      "cell_type": "code",
      "metadata": {
        "id": "6s8u_WaRQmr7"
      },
      "source": [
        "from tensorflow import keras\n",
        "modelCelltype = keras.models.load_model('/content/modelCancerous')"
      ],
      "execution_count": 44,
      "outputs": []
    },
    {
      "cell_type": "code",
      "metadata": {
        "id": "fzGbK8liQq4v"
      },
      "source": [
        "modelCelltype.summary()"
      ],
      "execution_count": null,
      "outputs": []
    },
    {
      "cell_type": "code",
      "metadata": {
        "id": "HoSG0D9tQq4u"
      },
      "source": [
        "modelCelltype.pop()"
      ],
      "execution_count": 45,
      "outputs": []
    },
    {
      "cell_type": "code",
      "metadata": {
        "id": "zYpe4hdfQq4w"
      },
      "source": [
        "modelCelltype.add(Dense(4, activation='softmax'))"
      ],
      "execution_count": 46,
      "outputs": []
    },
    {
      "cell_type": "code",
      "metadata": {
        "id": "BF8n3USiDYRQ"
      },
      "source": [
        "modelCelltype.summary()"
      ],
      "execution_count": null,
      "outputs": []
    },
    {
      "cell_type": "code",
      "metadata": {
        "id": "6_Vd3tlBQBdE",
        "colab": {
          "base_uri": "https://localhost:8080/"
        },
        "outputId": "d1981e18-9d25-467c-977e-2b40d80ed580"
      },
      "source": [
        "import numpy as np\n",
        "from sklearn.model_selection import train_test_split\n",
        "import pandas as pd\n",
        "\n",
        "data = pd.read_csv('./data_labels_mainData.csv')\n",
        "\n",
        "OUTPUT_CLASSES = 4\n",
        "\n",
        "train_data, test_data = train_test_split(data, test_size=0.2, random_state=42)\n",
        "train_data, val_data = train_test_split(train_data, test_size=0.25, random_state=42)\n",
        "\n",
        "print(\"Train data : {}, Val Data: {}, Test Data: {}\".format(train_data.shape[0], val_data.shape[0], test_data.shape[0]))"
      ],
      "execution_count": 47,
      "outputs": [
        {
          "output_type": "stream",
          "text": [
            "Train data : 5937, Val Data: 1979, Test Data: 1980\n"
          ],
          "name": "stdout"
        }
      ]
    },
    {
      "cell_type": "code",
      "metadata": {
        "id": "4niIpiRbQBgB",
        "colab": {
          "base_uri": "https://localhost:8080/"
        },
        "outputId": "1a6eb9d5-cfcf-4c6a-d985-16a78edeae41"
      },
      "source": [
        "train_data['Class'] = train_data['cellType'].astype('str')\n",
        "val_data['Class'] = val_data['cellType'].astype('str')\n",
        "from tensorflow.keras.preprocessing.image import ImageDataGenerator\n",
        "train_datagen = ImageDataGenerator(rescale=1./255, data_format='channels_last',\n",
        "                                   rotation_range=15, width_shift_range=0.2,\n",
        "                                   height_shift_range=0.2, brightness_range=[0.5,1.5])\n",
        "val_datagen = ImageDataGenerator(rescale=1./255, data_format='channels_last')\n",
        "\n",
        "batch_size = 27\n",
        "\n",
        "train_generator = train_datagen.flow_from_dataframe(\n",
        "        dataframe=train_data,\n",
        "        directory='./patch_images',\n",
        "        x_col=\"ImageName\",\n",
        "        y_col=\"Class\",\n",
        "        target_size=(27, 27),\n",
        "        batch_size=batch_size,\n",
        "        class_mode='sparse')\n",
        "\n",
        "validation_generator = val_datagen.flow_from_dataframe(\n",
        "        dataframe=val_data,\n",
        "        directory='./patch_images',\n",
        "        x_col=\"ImageName\",\n",
        "        y_col=\"Class\",\n",
        "        target_size=(27, 27),\n",
        "        batch_size=batch_size,\n",
        "        class_mode='sparse')\n",
        "test_data['Class'] = test_data['cellType'].astype('str')\n",
        "test_datagen = ImageDataGenerator(rescale=1./255, data_format='channels_last')\n",
        "\n",
        "batch_size = 1\n",
        "\n",
        "test_generator = test_datagen.flow_from_dataframe(\n",
        "        dataframe=test_data,\n",
        "        directory='./patch_images',\n",
        "        x_col=\"ImageName\",\n",
        "        y_col=\"Class\",\n",
        "        target_size=(27, 27),\n",
        "        batch_size=batch_size,\n",
        "        class_mode='sparse')"
      ],
      "execution_count": 48,
      "outputs": [
        {
          "output_type": "stream",
          "text": [
            "Found 5937 validated image filenames belonging to 4 classes.\n",
            "Found 1979 validated image filenames belonging to 4 classes.\n",
            "Found 1980 validated image filenames belonging to 4 classes.\n"
          ],
          "name": "stdout"
        },
        {
          "output_type": "stream",
          "text": [
            "/usr/local/lib/python3.7/dist-packages/ipykernel_launcher.py:28: SettingWithCopyWarning: \n",
            "A value is trying to be set on a copy of a slice from a DataFrame.\n",
            "Try using .loc[row_indexer,col_indexer] = value instead\n",
            "\n",
            "See the caveats in the documentation: https://pandas.pydata.org/pandas-docs/stable/user_guide/indexing.html#returning-a-view-versus-a-copy\n"
          ],
          "name": "stderr"
        }
      ]
    },
    {
      "cell_type": "code",
      "metadata": {
        "id": "xlnDf2ZtRuX4"
      },
      "source": [
        "modelCelltype.compile(tf.keras.optimizers.Adam(learning_rate=0.0001,name=\"adam\"),\n",
        "              loss=tf.keras.losses.SparseCategoricalCrossentropy(from_logits=False),\n",
        "              metrics=['sparse_categorical_accuracy'])"
      ],
      "execution_count": 49,
      "outputs": []
    },
    {
      "cell_type": "code",
      "metadata": {
        "id": "Li5iCvJ44w13"
      },
      "source": [
        "early_stopping = tf.keras.callbacks.EarlyStopping(\n",
        " monitor='val_sparse_categorical_accuracy', \n",
        " verbose=1,\n",
        " patience=20,\n",
        " mode='max',\n",
        " restore_best_weights=True)"
      ],
      "execution_count": 50,
      "outputs": []
    },
    {
      "cell_type": "code",
      "metadata": {
        "id": "UD_9KEWZ6A2R"
      },
      "source": [
        "class_weight = {0: 1.,1: 2.,2: 2., 3: 1.}"
      ],
      "execution_count": null,
      "outputs": []
    },
    {
      "cell_type": "code",
      "metadata": {
        "id": "8w5us5sxtowZ"
      },
      "source": [
        "class_weights = class_weight.compute_class_weight(\n",
        "               'balanced',\n",
        "                np.unique(train_generator.classes), \n",
        "                train_generator.classes)"
      ],
      "execution_count": null,
      "outputs": []
    },
    {
      "cell_type": "code",
      "metadata": {
        "id": "W_yG6b_wPJ34",
        "colab": {
          "base_uri": "https://localhost:8080/"
        },
        "outputId": "f2866737-0ca6-44fd-bf07-ca29a5bc5aca"
      },
      "source": [
        "modelCelltype.optimizer.get_config()"
      ],
      "execution_count": 55,
      "outputs": [
        {
          "output_type": "execute_result",
          "data": {
            "text/plain": [
              "{'amsgrad': False,\n",
              " 'beta_1': 0.9,\n",
              " 'beta_2': 0.999,\n",
              " 'decay': 0.0,\n",
              " 'epsilon': 1e-07,\n",
              " 'learning_rate': 1e-04,\n",
              " 'name': 'adam'}"
            ]
          },
          "metadata": {
            "tags": []
          },
          "execution_count": 55
        }
      ]
    },
    {
      "cell_type": "code",
      "metadata": {
        "id": "h3JMOY6ZK4HV",
        "colab": {
          "base_uri": "https://localhost:8080/"
        },
        "outputId": "a5098c63-fd4b-40cc-e51e-7a3c78c41724"
      },
      "source": [
        "historyCancerous = modelCelltype.fit(train_generator, validation_data = validation_generator, callbacks=[early_stopping], epochs=50)"
      ],
      "execution_count": 51,
      "outputs": [
        {
          "output_type": "stream",
          "text": [
            "Epoch 1/50\n",
            "220/220 [==============================] - 10s 43ms/step - loss: 1.0613 - sparse_categorical_accuracy: 0.5462 - val_loss: 0.9082 - val_sparse_categorical_accuracy: 0.5942\n",
            "Epoch 2/50\n",
            "220/220 [==============================] - 9s 41ms/step - loss: 0.9068 - sparse_categorical_accuracy: 0.6411 - val_loss: 0.8140 - val_sparse_categorical_accuracy: 0.6650\n",
            "Epoch 3/50\n",
            "220/220 [==============================] - 9s 41ms/step - loss: 0.8524 - sparse_categorical_accuracy: 0.6689 - val_loss: 0.9210 - val_sparse_categorical_accuracy: 0.5988\n",
            "Epoch 4/50\n",
            "220/220 [==============================] - 9s 41ms/step - loss: 0.8284 - sparse_categorical_accuracy: 0.6766 - val_loss: 0.7614 - val_sparse_categorical_accuracy: 0.7084\n",
            "Epoch 5/50\n",
            "220/220 [==============================] - 9s 41ms/step - loss: 0.8026 - sparse_categorical_accuracy: 0.6872 - val_loss: 0.7307 - val_sparse_categorical_accuracy: 0.7064\n",
            "Epoch 6/50\n",
            "220/220 [==============================] - 9s 41ms/step - loss: 0.7890 - sparse_categorical_accuracy: 0.6983 - val_loss: 0.7241 - val_sparse_categorical_accuracy: 0.7251\n",
            "Epoch 7/50\n",
            "220/220 [==============================] - 9s 41ms/step - loss: 0.7696 - sparse_categorical_accuracy: 0.7012 - val_loss: 0.7351 - val_sparse_categorical_accuracy: 0.7089\n",
            "Epoch 8/50\n",
            "220/220 [==============================] - 9s 42ms/step - loss: 0.7667 - sparse_categorical_accuracy: 0.7059 - val_loss: 0.7480 - val_sparse_categorical_accuracy: 0.7094\n",
            "Epoch 9/50\n",
            "220/220 [==============================] - 9s 41ms/step - loss: 0.7600 - sparse_categorical_accuracy: 0.7105 - val_loss: 0.7416 - val_sparse_categorical_accuracy: 0.7009\n",
            "Epoch 10/50\n",
            "220/220 [==============================] - 9s 41ms/step - loss: 0.7428 - sparse_categorical_accuracy: 0.7189 - val_loss: 0.7122 - val_sparse_categorical_accuracy: 0.7251\n",
            "Epoch 11/50\n",
            "220/220 [==============================] - 9s 41ms/step - loss: 0.7386 - sparse_categorical_accuracy: 0.7152 - val_loss: 0.7217 - val_sparse_categorical_accuracy: 0.7089\n",
            "Epoch 12/50\n",
            "220/220 [==============================] - 9s 41ms/step - loss: 0.7369 - sparse_categorical_accuracy: 0.7172 - val_loss: 0.7463 - val_sparse_categorical_accuracy: 0.6933\n",
            "Epoch 13/50\n",
            "220/220 [==============================] - 9s 41ms/step - loss: 0.7255 - sparse_categorical_accuracy: 0.7184 - val_loss: 0.6711 - val_sparse_categorical_accuracy: 0.7357\n",
            "Epoch 14/50\n",
            "220/220 [==============================] - 9s 41ms/step - loss: 0.7197 - sparse_categorical_accuracy: 0.7268 - val_loss: 0.7032 - val_sparse_categorical_accuracy: 0.7201\n",
            "Epoch 15/50\n",
            "220/220 [==============================] - 9s 41ms/step - loss: 0.7290 - sparse_categorical_accuracy: 0.7211 - val_loss: 0.7172 - val_sparse_categorical_accuracy: 0.7079\n",
            "Epoch 16/50\n",
            "220/220 [==============================] - 9s 41ms/step - loss: 0.7067 - sparse_categorical_accuracy: 0.7260 - val_loss: 0.6944 - val_sparse_categorical_accuracy: 0.7352\n",
            "Epoch 17/50\n",
            "220/220 [==============================] - 9s 41ms/step - loss: 0.7058 - sparse_categorical_accuracy: 0.7298 - val_loss: 0.7452 - val_sparse_categorical_accuracy: 0.6978\n",
            "Epoch 18/50\n",
            "220/220 [==============================] - 9s 42ms/step - loss: 0.6998 - sparse_categorical_accuracy: 0.7322 - val_loss: 0.7113 - val_sparse_categorical_accuracy: 0.7196\n",
            "Epoch 19/50\n",
            "220/220 [==============================] - 9s 41ms/step - loss: 0.6991 - sparse_categorical_accuracy: 0.7335 - val_loss: 0.6369 - val_sparse_categorical_accuracy: 0.7575\n",
            "Epoch 20/50\n",
            "220/220 [==============================] - 9s 41ms/step - loss: 0.6976 - sparse_categorical_accuracy: 0.7302 - val_loss: 0.6713 - val_sparse_categorical_accuracy: 0.7332\n",
            "Epoch 21/50\n",
            "220/220 [==============================] - 9s 41ms/step - loss: 0.6852 - sparse_categorical_accuracy: 0.7394 - val_loss: 0.7233 - val_sparse_categorical_accuracy: 0.6978\n",
            "Epoch 22/50\n",
            "220/220 [==============================] - 9s 41ms/step - loss: 0.6866 - sparse_categorical_accuracy: 0.7359 - val_loss: 0.6556 - val_sparse_categorical_accuracy: 0.7408\n",
            "Epoch 23/50\n",
            "220/220 [==============================] - 9s 41ms/step - loss: 0.6728 - sparse_categorical_accuracy: 0.7440 - val_loss: 0.6897 - val_sparse_categorical_accuracy: 0.7196\n",
            "Epoch 24/50\n",
            "220/220 [==============================] - 9s 41ms/step - loss: 0.6743 - sparse_categorical_accuracy: 0.7450 - val_loss: 0.6731 - val_sparse_categorical_accuracy: 0.7337\n",
            "Epoch 25/50\n",
            "220/220 [==============================] - 9s 41ms/step - loss: 0.6703 - sparse_categorical_accuracy: 0.7487 - val_loss: 0.6557 - val_sparse_categorical_accuracy: 0.7372\n",
            "Epoch 26/50\n",
            "220/220 [==============================] - 9s 42ms/step - loss: 0.6717 - sparse_categorical_accuracy: 0.7433 - val_loss: 0.6682 - val_sparse_categorical_accuracy: 0.7413\n",
            "Epoch 27/50\n",
            "220/220 [==============================] - 9s 41ms/step - loss: 0.6769 - sparse_categorical_accuracy: 0.7367 - val_loss: 0.8894 - val_sparse_categorical_accuracy: 0.6271\n",
            "Epoch 28/50\n",
            "220/220 [==============================] - 9s 41ms/step - loss: 0.6705 - sparse_categorical_accuracy: 0.7384 - val_loss: 0.7917 - val_sparse_categorical_accuracy: 0.6771\n",
            "Epoch 29/50\n",
            "220/220 [==============================] - 9s 41ms/step - loss: 0.6564 - sparse_categorical_accuracy: 0.7433 - val_loss: 0.6647 - val_sparse_categorical_accuracy: 0.7297\n",
            "Epoch 30/50\n",
            "220/220 [==============================] - 9s 41ms/step - loss: 0.6614 - sparse_categorical_accuracy: 0.7494 - val_loss: 0.7582 - val_sparse_categorical_accuracy: 0.6872\n",
            "Epoch 31/50\n",
            "220/220 [==============================] - 9s 41ms/step - loss: 0.6625 - sparse_categorical_accuracy: 0.7426 - val_loss: 0.6344 - val_sparse_categorical_accuracy: 0.7499\n",
            "Epoch 32/50\n",
            "220/220 [==============================] - 9s 41ms/step - loss: 0.6534 - sparse_categorical_accuracy: 0.7480 - val_loss: 0.6266 - val_sparse_categorical_accuracy: 0.7539\n",
            "Epoch 33/50\n",
            "220/220 [==============================] - 10s 44ms/step - loss: 0.6441 - sparse_categorical_accuracy: 0.7553 - val_loss: 0.7020 - val_sparse_categorical_accuracy: 0.7100\n",
            "Epoch 34/50\n",
            "220/220 [==============================] - 9s 41ms/step - loss: 0.6487 - sparse_categorical_accuracy: 0.7512 - val_loss: 0.6850 - val_sparse_categorical_accuracy: 0.7281\n",
            "Epoch 35/50\n",
            "220/220 [==============================] - 9s 41ms/step - loss: 0.6422 - sparse_categorical_accuracy: 0.7608 - val_loss: 0.8294 - val_sparse_categorical_accuracy: 0.6584\n",
            "Epoch 36/50\n",
            "220/220 [==============================] - 9s 41ms/step - loss: 0.6341 - sparse_categorical_accuracy: 0.7543 - val_loss: 0.6286 - val_sparse_categorical_accuracy: 0.7484\n",
            "Epoch 37/50\n",
            "220/220 [==============================] - 9s 41ms/step - loss: 0.6404 - sparse_categorical_accuracy: 0.7512 - val_loss: 0.6328 - val_sparse_categorical_accuracy: 0.7595\n",
            "Epoch 38/50\n",
            "220/220 [==============================] - 9s 41ms/step - loss: 0.6335 - sparse_categorical_accuracy: 0.7564 - val_loss: 0.6554 - val_sparse_categorical_accuracy: 0.7403\n",
            "Epoch 39/50\n",
            "220/220 [==============================] - 9s 41ms/step - loss: 0.6302 - sparse_categorical_accuracy: 0.7576 - val_loss: 0.7783 - val_sparse_categorical_accuracy: 0.6983\n",
            "Epoch 40/50\n",
            "220/220 [==============================] - 9s 42ms/step - loss: 0.6263 - sparse_categorical_accuracy: 0.7566 - val_loss: 0.6716 - val_sparse_categorical_accuracy: 0.7337\n",
            "Epoch 41/50\n",
            "220/220 [==============================] - 9s 41ms/step - loss: 0.6099 - sparse_categorical_accuracy: 0.7713 - val_loss: 0.6573 - val_sparse_categorical_accuracy: 0.7372\n",
            "Epoch 42/50\n",
            "220/220 [==============================] - 9s 41ms/step - loss: 0.6142 - sparse_categorical_accuracy: 0.7718 - val_loss: 0.6787 - val_sparse_categorical_accuracy: 0.7337\n",
            "Epoch 43/50\n",
            "220/220 [==============================] - 9s 42ms/step - loss: 0.6132 - sparse_categorical_accuracy: 0.7672 - val_loss: 0.6313 - val_sparse_categorical_accuracy: 0.7499\n",
            "Epoch 44/50\n",
            "220/220 [==============================] - 9s 41ms/step - loss: 0.6125 - sparse_categorical_accuracy: 0.7684 - val_loss: 0.6575 - val_sparse_categorical_accuracy: 0.7423\n",
            "Epoch 45/50\n",
            "220/220 [==============================] - 9s 42ms/step - loss: 0.6107 - sparse_categorical_accuracy: 0.7642 - val_loss: 0.6009 - val_sparse_categorical_accuracy: 0.7595\n",
            "Epoch 46/50\n",
            "220/220 [==============================] - 9s 42ms/step - loss: 0.6006 - sparse_categorical_accuracy: 0.7703 - val_loss: 0.7116 - val_sparse_categorical_accuracy: 0.7206\n",
            "Epoch 47/50\n",
            "220/220 [==============================] - 9s 42ms/step - loss: 0.6137 - sparse_categorical_accuracy: 0.7600 - val_loss: 0.7297 - val_sparse_categorical_accuracy: 0.7049\n",
            "Epoch 48/50\n",
            "220/220 [==============================] - 9s 41ms/step - loss: 0.5993 - sparse_categorical_accuracy: 0.7721 - val_loss: 0.7590 - val_sparse_categorical_accuracy: 0.7236\n",
            "Epoch 49/50\n",
            "220/220 [==============================] - 9s 42ms/step - loss: 0.6041 - sparse_categorical_accuracy: 0.7701 - val_loss: 0.6735 - val_sparse_categorical_accuracy: 0.7251\n",
            "Epoch 50/50\n",
            "220/220 [==============================] - 9s 42ms/step - loss: 0.5921 - sparse_categorical_accuracy: 0.7761 - val_loss: 0.6586 - val_sparse_categorical_accuracy: 0.7292\n"
          ],
          "name": "stdout"
        }
      ]
    },
    {
      "cell_type": "code",
      "metadata": {
        "id": "tUkDDpPTRpAo",
        "colab": {
          "base_uri": "https://localhost:8080/",
          "height": 338
        },
        "outputId": "45b34b77-19ed-4ee0-f439-5e59cf385e5a"
      },
      "source": [
        "plot_learning_curve(historyCancerous.history['loss'], historyCancerous.history['val_loss'], \n",
        "                    historyCancerous.history['sparse_categorical_accuracy'], historyCancerous.history['val_sparse_categorical_accuracy'], \n",
        "                    metric_name='Accuracy')"
      ],
      "execution_count": 52,
      "outputs": [
        {
          "output_type": "display_data",
          "data": {
            "image/png": "[encoded data removed]",
            "text/plain": [
              "<Figure size 720x360 with 2 Axes>"
            ]
          },
          "metadata": {
            "tags": [],
            "needs_background": "light"
          }
        }
      ]
    },
    {
      "cell_type": "code",
      "metadata": {
        "id": "yDZnbtbZRpEC",
        "colab": {
          "base_uri": "https://localhost:8080/"
        },
        "outputId": "aca0cde2-2a9a-4d29-eccc-ad97d56ddd21"
      },
      "source": [
        "# setup data some placeholders\n",
        "batch_size_ = 1\n",
        "y_hat_all = list()\n",
        "y_all = list()\n",
        "filenames = test_generator.filenames\n",
        "N_images = len(filenames)\n",
        "batches = 1\n",
        "\n",
        "# iterate through the data generator and predict for each batch\n",
        "# hold the predictions and labels\n",
        "for x,y in test_generator:\n",
        "        y_hat = modelCelltype.predict(x, verbose=0)\n",
        "        y_hat = np.argmax(y_hat, axis = 1)\n",
        "        # y = np.argmax(y, axis = 1)\n",
        "        y_hat_all = y_hat_all + y_hat.tolist()\n",
        "        y_all = y_all + y.tolist()\n",
        "\n",
        "        batches += 1\n",
        "        if batches >= N_images / batch_size_:\n",
        "            break\n",
        "\n",
        "# now you have made the predictions you can use any performance metric\n",
        "# you wish: either in sklearn or some function you have written\n",
        "\n",
        "from sklearn.metrics import classification_report\n",
        "from sklearn.metrics import confusion_matrix, accuracy_score, f1_score\n",
        "\n",
        "print(\"Accuracy score: \", accuracy_score(y_all, y_hat_all))\n",
        "print(\"F1 score: \", f1_score(y_all, y_hat_all, average='macro'))\n",
        "cf = confusion_matrix(y_all, y_hat_all)\n",
        "print(\"Classicification Report\")\n",
        "print(classification_report(y_all, y_hat_all))"
      ],
      "execution_count": 53,
      "outputs": [
        {
          "output_type": "stream",
          "text": [
            "Accuracy score:  0.7104598281960586\n",
            "F1 score:  0.6571775842455048\n",
            "Confusion Matrix \n",
            "Classicification Report\n",
            "              precision    recall  f1-score   support\n",
            "\n",
            "         0.0       0.52      0.84      0.65       391\n",
            "         1.0       0.70      0.77      0.74       496\n",
            "         2.0       0.91      0.76      0.83       790\n",
            "         3.0       0.63      0.31      0.42       302\n",
            "\n",
            "    accuracy                           0.71      1979\n",
            "   macro avg       0.69      0.67      0.66      1979\n",
            "weighted avg       0.74      0.71      0.71      1979\n",
            "\n"
          ],
          "name": "stdout"
        }
      ]
    },
    {
      "cell_type": "code",
      "metadata": {
        "colab": {
          "base_uri": "https://localhost:8080/",
          "height": 282
        },
        "id": "WkfIiDYOU6nQ",
        "outputId": "6c682df1-065e-4c6f-8a37-8e513eabf6b1"
      },
      "source": [
        "sns.heatmap(cf, annot=True,fmt='g')"
      ],
      "execution_count": 54,
      "outputs": [
        {
          "output_type": "execute_result",
          "data": {
            "text/plain": [
              "<matplotlib.axes._subplots.AxesSubplot at 0x7f47b6fd7510>"
            ]
          },
          "metadata": {
            "tags": []
          },
          "execution_count": 54
        },
        {
          "output_type": "display_data",
          "data": {
            "image/png": "[encoded data removed]",
            "text/plain": [
              "<Figure size 432x288 with 2 Axes>"
            ]
          },
          "metadata": {
            "tags": [],
            "needs_background": "light"
          }
        }
      ]
    }
  ]
}