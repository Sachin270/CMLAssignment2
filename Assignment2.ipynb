{
  "nbformat": 4,
  "nbformat_minor": 0,
  "metadata": {
    "kernelspec": {
      "display_name": "Python 3",
      "language": "python",
      "name": "python3"
    },
    "colab": {
      "name": "Assignment2.ipynb",
      "provenance": [],
      "collapsed_sections": [],
      "include_colab_link": true
    },
    "accelerator": "GPU"
  },
  "cells": [
    {
      "cell_type": "markdown",
      "metadata": {
        "id": "view-in-github",
        "colab_type": "text"
      },
      "source": [
        "<a href=\"https://colab.research.google.com/github/Sachin270/CMLAssignment2/blob/main/Assignment2.ipynb\" target=\"_parent\"><img src=\"https://colab.research.google.com/assets/colab-badge.svg\" alt=\"Open In Colab\"/></a>"
      ]
    },
    {
      "cell_type": "code",
      "metadata": {
        "id": "z1qAHC3MjyS6",
        "colab": {
          "base_uri": "https://localhost:8080/"
        },
        "outputId": "1f8fb3dd-8205-4b64-be5c-7c5899e42065"
      },
      "source": [
        "from google.colab import drive\n",
        "drive.mount('/content/drive/')"
      ],
      "execution_count": 2,
      "outputs": [
        {
          "output_type": "stream",
          "text": [
            "Mounted at /content/drive/\n"
          ],
          "name": "stdout"
        }
      ]
    },
    {
      "cell_type": "code",
      "metadata": {
        "id": "6nd7cdo3k-vl",
        "colab": {
          "base_uri": "https://localhost:8080/"
        },
        "outputId": "7dc0e59d-209d-4158-e2bc-ea5fbadfe8f4"
      },
      "source": [
        "!ls /content/drive/'MyDrive'/'Colab Notebooks'/"
      ],
      "execution_count": 3,
      "outputs": [
        {
          "output_type": "stream",
          "text": [
            "'Assignment2 (1).ipynb'       Image_classification_data.zip\n",
            " Assignment2.ipynb\t      patch_images\n",
            " Assignment2_s3714805.ipynb   Untitled0.ipynb\n",
            " CMLAssignment2-main.zip      Untitled2.ipynb\n",
            " data_labels_extraData.csv   'Untitled8 (1).ipynb'\n",
            " data_labels_mainData.csv     Untitled8.ipynb\n"
          ],
          "name": "stdout"
        }
      ]
    },
    {
      "cell_type": "code",
      "metadata": {
        "colab": {
          "base_uri": "https://localhost:8080/"
        },
        "id": "0bMKIqgLlnuO",
        "outputId": "a52820ae-801c-4856-bb81-7349a5ad82ac"
      },
      "source": [
        "!cp /content/drive/'MyDrive'/'Colab Notebooks'/'Image_classification_data.zip' .\n",
        "!unzip -q -o 'Image_classification_data.zip'\n",
        "!rm 'Image_classification_data.zip'\n",
        "!ls"
      ],
      "execution_count": 4,
      "outputs": [
        {
          "output_type": "stream",
          "text": [
            "data_labels_extraData.csv  drive     patch_images\n",
            "data_labels_mainData.csv   __MACOSX  sample_data\n"
          ],
          "name": "stdout"
        }
      ]
    },
    {
      "cell_type": "code",
      "metadata": {
        "id": "2jT94zbI8AFj"
      },
      "source": [
        "import numpy as np\n",
        "from sklearn.model_selection import train_test_split\n",
        "import pandas as pd\n",
        "from tensorflow.keras.preprocessing.image import ImageDataGenerator\n",
        "import seaborn as sns\n",
        "from tensorflow.keras.layers import Dense\n",
        "import tensorflow as tf"
      ],
      "execution_count": 5,
      "outputs": []
    },
    {
      "cell_type": "code",
      "metadata": {
        "colab": {
          "base_uri": "https://localhost:8080/"
        },
        "id": "G9jD8i0R8EdU",
        "outputId": "2a2120f6-6b41-4186-f7cf-eb8710010aae"
      },
      "source": [
        "data = pd.read_csv('./data_labels_mainData.csv')\n",
        "OUTPUT_CLASSES = 4\n",
        "data.columns"
      ],
      "execution_count": 6,
      "outputs": [
        {
          "output_type": "execute_result",
          "data": {
            "text/plain": [
              "Index(['InstanceID', 'patientID', 'ImageName', 'cellTypeName', 'cellType',\n",
              "       'isCancerous'],\n",
              "      dtype='object')"
            ]
          },
          "metadata": {
            "tags": []
          },
          "execution_count": 6
        }
      ]
    },
    {
      "cell_type": "markdown",
      "metadata": {
        "id": "DeB1swCGHROl"
      },
      "source": [
        "# New Section"
      ]
    },
    {
      "cell_type": "code",
      "metadata": {
        "colab": {
          "base_uri": "https://localhost:8080/",
          "height": 204
        },
        "id": "a8lGZ9ey8haF",
        "outputId": "fa64489e-48c0-41fc-de15-e3fe00ec2a14"
      },
      "source": [
        "data.groupby('cellTypeName').agg('count')"
      ],
      "execution_count": null,
      "outputs": [
        {
          "output_type": "execute_result",
          "data": {
            "text/html": [
              "<div>\n",
              "<style scoped>\n",
              "    .dataframe tbody tr th:only-of-type {\n",
              "        vertical-align: middle;\n",
              "    }\n",
              "\n",
              "    .dataframe tbody tr th {\n",
              "        vertical-align: top;\n",
              "    }\n",
              "\n",
              "    .dataframe thead th {\n",
              "        text-align: right;\n",
              "    }\n",
              "</style>\n",
              "<table border=\"1\" class=\"dataframe\">\n",
              "  <thead>\n",
              "    <tr style=\"text-align: right;\">\n",
              "      <th></th>\n",
              "      <th>InstanceID</th>\n",
              "      <th>patientID</th>\n",
              "      <th>ImageName</th>\n",
              "      <th>cellType</th>\n",
              "      <th>isCancerous</th>\n",
              "    </tr>\n",
              "    <tr>\n",
              "      <th>cellTypeName</th>\n",
              "      <th></th>\n",
              "      <th></th>\n",
              "      <th></th>\n",
              "      <th></th>\n",
              "      <th></th>\n",
              "    </tr>\n",
              "  </thead>\n",
              "  <tbody>\n",
              "    <tr>\n",
              "      <th>epithelial</th>\n",
              "      <td>4079</td>\n",
              "      <td>4079</td>\n",
              "      <td>4079</td>\n",
              "      <td>4079</td>\n",
              "      <td>4079</td>\n",
              "    </tr>\n",
              "    <tr>\n",
              "      <th>fibroblast</th>\n",
              "      <td>1888</td>\n",
              "      <td>1888</td>\n",
              "      <td>1888</td>\n",
              "      <td>1888</td>\n",
              "      <td>1888</td>\n",
              "    </tr>\n",
              "    <tr>\n",
              "      <th>inflammatory</th>\n",
              "      <td>2543</td>\n",
              "      <td>2543</td>\n",
              "      <td>2543</td>\n",
              "      <td>2543</td>\n",
              "      <td>2543</td>\n",
              "    </tr>\n",
              "    <tr>\n",
              "      <th>others</th>\n",
              "      <td>1386</td>\n",
              "      <td>1386</td>\n",
              "      <td>1386</td>\n",
              "      <td>1386</td>\n",
              "      <td>1386</td>\n",
              "    </tr>\n",
              "  </tbody>\n",
              "</table>\n",
              "</div>"
            ],
            "text/plain": [
              "              InstanceID  patientID  ImageName  cellType  isCancerous\n",
              "cellTypeName                                                         \n",
              "epithelial          4079       4079       4079      4079         4079\n",
              "fibroblast          1888       1888       1888      1888         1888\n",
              "inflammatory        2543       2543       2543      2543         2543\n",
              "others              1386       1386       1386      1386         1386"
            ]
          },
          "metadata": {
            "tags": []
          },
          "execution_count": 6
        }
      ]
    },
    {
      "cell_type": "code",
      "metadata": {
        "colab": {
          "base_uri": "https://localhost:8080/",
          "height": 296
        },
        "id": "vOdXFD1V-Pdh",
        "outputId": "491c2fe5-2fbf-4ed3-eeac-a2ca715dff52"
      },
      "source": [
        "sns.barplot(x=data.groupby('cellTypeName').agg('count').index, \n",
        "            y='cellType',\n",
        "            data=data.groupby('cellTypeName').agg('count'))"
      ],
      "execution_count": null,
      "outputs": [
        {
          "output_type": "execute_result",
          "data": {
            "text/plain": [
              "<matplotlib.axes._subplots.AxesSubplot at 0x7fc0784ac910>"
            ]
          },
          "metadata": {
            "tags": []
          },
          "execution_count": 7
        },
        {
          "output_type": "display_data",
          "data": {
            "image/png": "[encoded data removed]",
            "text/plain": [
              "<Figure size 432x288 with 1 Axes>"
            ]
          },
          "metadata": {
            "tags": [],
            "needs_background": "light"
          }
        }
      ]
    },
    {
      "cell_type": "code",
      "metadata": {
        "colab": {
          "base_uri": "https://localhost:8080/",
          "height": 142
        },
        "id": "lAaRLxjf-PaV",
        "outputId": "49e1308d-f88e-4fd0-a941-5f6e8cca543f"
      },
      "source": [
        "data.groupby('isCancerous').agg('count')"
      ],
      "execution_count": null,
      "outputs": [
        {
          "output_type": "execute_result",
          "data": {
            "text/html": [
              "<div>\n",
              "<style scoped>\n",
              "    .dataframe tbody tr th:only-of-type {\n",
              "        vertical-align: middle;\n",
              "    }\n",
              "\n",
              "    .dataframe tbody tr th {\n",
              "        vertical-align: top;\n",
              "    }\n",
              "\n",
              "    .dataframe thead th {\n",
              "        text-align: right;\n",
              "    }\n",
              "</style>\n",
              "<table border=\"1\" class=\"dataframe\">\n",
              "  <thead>\n",
              "    <tr style=\"text-align: right;\">\n",
              "      <th></th>\n",
              "      <th>InstanceID</th>\n",
              "      <th>patientID</th>\n",
              "      <th>ImageName</th>\n",
              "      <th>cellTypeName</th>\n",
              "      <th>cellType</th>\n",
              "    </tr>\n",
              "    <tr>\n",
              "      <th>isCancerous</th>\n",
              "      <th></th>\n",
              "      <th></th>\n",
              "      <th></th>\n",
              "      <th></th>\n",
              "      <th></th>\n",
              "    </tr>\n",
              "  </thead>\n",
              "  <tbody>\n",
              "    <tr>\n",
              "      <th>0</th>\n",
              "      <td>5817</td>\n",
              "      <td>5817</td>\n",
              "      <td>5817</td>\n",
              "      <td>5817</td>\n",
              "      <td>5817</td>\n",
              "    </tr>\n",
              "    <tr>\n",
              "      <th>1</th>\n",
              "      <td>4079</td>\n",
              "      <td>4079</td>\n",
              "      <td>4079</td>\n",
              "      <td>4079</td>\n",
              "      <td>4079</td>\n",
              "    </tr>\n",
              "  </tbody>\n",
              "</table>\n",
              "</div>"
            ],
            "text/plain": [
              "             InstanceID  patientID  ImageName  cellTypeName  cellType\n",
              "isCancerous                                                          \n",
              "0                  5817       5817       5817          5817      5817\n",
              "1                  4079       4079       4079          4079      4079"
            ]
          },
          "metadata": {
            "tags": []
          },
          "execution_count": 8
        }
      ]
    },
    {
      "cell_type": "code",
      "metadata": {
        "id": "PXfIxUHB-PXL"
      },
      "source": [
        "sns.barplot(x=mergeData.groupby('isCancerous').agg('count').index, \n",
        "            y='cellType', \n",
        "            data=data.groupby('isCancerous').agg('count'))"
      ],
      "execution_count": null,
      "outputs": []
    },
    {
      "cell_type": "code",
      "metadata": {
        "colab": {
          "base_uri": "https://localhost:8080/",
          "height": 204
        },
        "id": "btxrc-2R-PTV",
        "outputId": "41a51b7a-2cc2-4612-e88f-47451927832e"
      },
      "source": [
        "data.groupby(['cellTypeName', 'isCancerous']).agg('count')"
      ],
      "execution_count": null,
      "outputs": [
        {
          "output_type": "execute_result",
          "data": {
            "text/html": [
              "<div>\n",
              "<style scoped>\n",
              "    .dataframe tbody tr th:only-of-type {\n",
              "        vertical-align: middle;\n",
              "    }\n",
              "\n",
              "    .dataframe tbody tr th {\n",
              "        vertical-align: top;\n",
              "    }\n",
              "\n",
              "    .dataframe thead th {\n",
              "        text-align: right;\n",
              "    }\n",
              "</style>\n",
              "<table border=\"1\" class=\"dataframe\">\n",
              "  <thead>\n",
              "    <tr style=\"text-align: right;\">\n",
              "      <th></th>\n",
              "      <th></th>\n",
              "      <th>InstanceID</th>\n",
              "      <th>patientID</th>\n",
              "      <th>ImageName</th>\n",
              "      <th>cellType</th>\n",
              "    </tr>\n",
              "    <tr>\n",
              "      <th>cellTypeName</th>\n",
              "      <th>isCancerous</th>\n",
              "      <th></th>\n",
              "      <th></th>\n",
              "      <th></th>\n",
              "      <th></th>\n",
              "    </tr>\n",
              "  </thead>\n",
              "  <tbody>\n",
              "    <tr>\n",
              "      <th>epithelial</th>\n",
              "      <th>1</th>\n",
              "      <td>4079</td>\n",
              "      <td>4079</td>\n",
              "      <td>4079</td>\n",
              "      <td>4079</td>\n",
              "    </tr>\n",
              "    <tr>\n",
              "      <th>fibroblast</th>\n",
              "      <th>0</th>\n",
              "      <td>1888</td>\n",
              "      <td>1888</td>\n",
              "      <td>1888</td>\n",
              "      <td>1888</td>\n",
              "    </tr>\n",
              "    <tr>\n",
              "      <th>inflammatory</th>\n",
              "      <th>0</th>\n",
              "      <td>2543</td>\n",
              "      <td>2543</td>\n",
              "      <td>2543</td>\n",
              "      <td>2543</td>\n",
              "    </tr>\n",
              "    <tr>\n",
              "      <th>others</th>\n",
              "      <th>0</th>\n",
              "      <td>1386</td>\n",
              "      <td>1386</td>\n",
              "      <td>1386</td>\n",
              "      <td>1386</td>\n",
              "    </tr>\n",
              "  </tbody>\n",
              "</table>\n",
              "</div>"
            ],
            "text/plain": [
              "                          InstanceID  patientID  ImageName  cellType\n",
              "cellTypeName isCancerous                                            \n",
              "epithelial   1                  4079       4079       4079      4079\n",
              "fibroblast   0                  1888       1888       1888      1888\n",
              "inflammatory 0                  2543       2543       2543      2543\n",
              "others       0                  1386       1386       1386      1386"
            ]
          },
          "metadata": {
            "tags": []
          },
          "execution_count": 10
        }
      ]
    },
    {
      "cell_type": "code",
      "metadata": {
        "colab": {
          "base_uri": "https://localhost:8080/",
          "height": 265
        },
        "id": "InvRylbg-PQJ",
        "outputId": "68bcb953-49c8-47c7-a2c2-da48718f2c48"
      },
      "source": [
        "data.groupby('cellTypeName').agg('count').cellType.plot.pie(autopct=\"%.1f%%\")"
      ],
      "execution_count": null,
      "outputs": [
        {
          "output_type": "execute_result",
          "data": {
            "text/plain": [
              "<matplotlib.axes._subplots.AxesSubplot at 0x7fc07757cfd0>"
            ]
          },
          "metadata": {
            "tags": []
          },
          "execution_count": 11
        },
        {
          "output_type": "display_data",
          "data": {
            "image/png": "[encoded data removed]",
            "text/plain": [
              "<Figure size 432x288 with 1 Axes>"
            ]
          },
          "metadata": {
            "tags": []
          }
        }
      ]
    },
    {
      "cell_type": "code",
      "metadata": {
        "colab": {
          "base_uri": "https://localhost:8080/"
        },
        "id": "RR_UOYjt-Ork",
        "outputId": "aeada310-e01d-4b37-b640-74cf99311ab9"
      },
      "source": [
        "extraData = pd.read_csv('data_labels_extraData.csv')\n",
        "extraData.columns"
      ],
      "execution_count": 7,
      "outputs": [
        {
          "output_type": "execute_result",
          "data": {
            "text/plain": [
              "Index(['InstanceID', 'patientID', 'ImageName', 'isCancerous'], dtype='object')"
            ]
          },
          "metadata": {
            "tags": []
          },
          "execution_count": 7
        }
      ]
    },
    {
      "cell_type": "code",
      "metadata": {
        "id": "IwROVETCD4Ke"
      },
      "source": [
        "mergedData = pd.concat([data[[\"InstanceID\", \"patientID\", \"ImageName\", \"isCancerous\"]], extraData])"
      ],
      "execution_count": 8,
      "outputs": []
    },
    {
      "cell_type": "code",
      "metadata": {
        "id": "9hZlKcaMFnfg",
        "colab": {
          "base_uri": "https://localhost:8080/"
        },
        "outputId": "78f80422-730e-40cc-d38f-b255dc2e2571"
      },
      "source": [
        "OUTPUT_CLASSES = 2\n",
        "\n",
        "train_data, test_data = train_test_split(mergedData, test_size=0.2, random_state=42)\n",
        "train_data, val_data = train_test_split(train_data, test_size=0.25, random_state=42)\n",
        "\n",
        "print(\"Train data : {}, Val Data: {}, Test Data: {}\".format(train_data.shape[0], val_data.shape[0], test_data.shape[0]))"
      ],
      "execution_count": 9,
      "outputs": [
        {
          "output_type": "stream",
          "text": [
            "Train data : 12168, Val Data: 4056, Test Data: 4056\n"
          ],
          "name": "stdout"
        }
      ]
    },
    {
      "cell_type": "code",
      "metadata": {
        "id": "bz0rL4fVFnjI",
        "colab": {
          "base_uri": "https://localhost:8080/"
        },
        "outputId": "55cdc35b-2fa6-4d9b-f509-36ae7ac803d5"
      },
      "source": [
        "train_data['Class'] = train_data['isCancerous'].astype('str')\n",
        "val_data['Class'] = val_data['isCancerous'].astype('str')\n",
        "\n",
        "from tensorflow.keras.preprocessing.image import ImageDataGenerator\n",
        "\n",
        "train_datagen = ImageDataGenerator(rescale=1./255, data_format='channels_last',\n",
        "                                   rotation_range=15, width_shift_range=0.2,\n",
        "                                   height_shift_range=0.2, brightness_range=[0.5,1.5])\n",
        "val_datagen = ImageDataGenerator(rescale=1./255, data_format='channels_last')\n",
        "\n",
        "batch_size = 27\n",
        "\n",
        "train_generator = train_datagen.flow_from_dataframe(\n",
        "        dataframe=train_data,\n",
        "        directory='./patch_images',\n",
        "        x_col=\"ImageName\",\n",
        "        y_col=\"Class\",\n",
        "        target_size=(27, 27),\n",
        "        batch_size=batch_size,\n",
        "        class_mode='categorical')\n",
        "\n",
        "validation_generator = val_datagen.flow_from_dataframe(\n",
        "        dataframe=val_data,\n",
        "        directory='./patch_images',\n",
        "        x_col=\"ImageName\",\n",
        "        y_col=\"Class\",\n",
        "        target_size=(27, 27),\n",
        "        batch_size=batch_size,\n",
        "        class_mode='categorical')"
      ],
      "execution_count": 10,
      "outputs": [
        {
          "output_type": "stream",
          "text": [
            "Found 12168 validated image filenames belonging to 2 classes.\n",
            "Found 4056 validated image filenames belonging to 2 classes.\n"
          ],
          "name": "stdout"
        }
      ]
    },
    {
      "cell_type": "code",
      "metadata": {
        "id": "mfNxeHBdFnnM"
      },
      "source": [
        "\n",
        "reg_lambda = 0.0001\n",
        "modelCancerous = tf.keras.Sequential([\n",
        "    #VGG block 1\n",
        "    tf.keras.layers.Conv2D(27, (3, 3), activation='relu', padding='same', \n",
        "                           kernel_regularizer=tf.keras.regularizers.l2(reg_lambda), input_shape=(27, 27, 3)),\n",
        "    tf.keras.layers.Conv2D(27, (3, 3), activation='relu', padding='same', \n",
        "                           kernel_regularizer=tf.keras.regularizers.l2(reg_lambda)),\n",
        "    tf.keras.layers.MaxPooling2D((2, 2)),\n",
        "    \n",
        "    #VGG block 2\n",
        "    tf.keras.layers.Conv2D(54, (3, 3), activation='relu', padding='same', \n",
        "                           kernel_regularizer=tf.keras.regularizers.l2(reg_lambda)),\n",
        "    tf.keras.layers.Conv2D(54, (3, 3), activation='relu', padding='same', \n",
        "                           kernel_regularizer=tf.keras.regularizers.l2(reg_lambda)),\n",
        "    tf.keras.layers.MaxPooling2D((2, 2)),\n",
        "    \n",
        "    #VGG block 3\n",
        "    tf.keras.layers.Conv2D(108, (3, 3), activation='relu', padding='same', \n",
        "                           kernel_regularizer=tf.keras.regularizers.l2(reg_lambda)),\n",
        "    tf.keras.layers.Conv2D(108, (3, 3), activation='relu', padding='same', \n",
        "                           kernel_regularizer=tf.keras.regularizers.l2(reg_lambda)),\n",
        "    tf.keras.layers.MaxPooling2D((2, 2)),\n",
        "    \n",
        "    tf.keras.layers.Flatten(),\n",
        "    tf.keras.layers.Dense(54, activation='relu'),\n",
        "    tf.keras.layers.Dropout(.2),\n",
        "    tf.keras.layers.Dense(OUTPUT_CLASSES,activation='softmax'),\n",
        "])"
      ],
      "execution_count": 11,
      "outputs": []
    },
    {
      "cell_type": "code",
      "metadata": {
        "id": "PCOddIG2P-H1"
      },
      "source": [
        "import matplotlib.pyplot as plt\n",
        "def plot_learning_curve(train_loss, val_loss, train_metric, val_metric, metric_name='Accuracy'):\n",
        "    plt.figure(figsize=(10,5))\n",
        "    \n",
        "    plt.subplot(1,2,1)\n",
        "    plt.plot(train_loss, 'r--')\n",
        "    plt.plot(val_loss, 'b--')\n",
        "    plt.xlabel(\"epochs\")\n",
        "    plt.ylabel(\"Loss\")\n",
        "    plt.legend(['train', 'val'], loc='upper left')\n",
        "    plt.ylim([0, 1])\n",
        "    plt.subplot(1,2,2)\n",
        "    plt.plot(train_metric, 'r--')\n",
        "    plt.plot(val_metric, 'b--')\n",
        "    plt.xlabel(\"epochs\")                                                  \n",
        "    plt.ylabel(metric_name)\n",
        "    plt.legend(['train', 'val'], loc='upper left')\n",
        "    plt.ylim([0, 1])\n",
        "    plt.show()"
      ],
      "execution_count": 12,
      "outputs": []
    },
    {
      "cell_type": "code",
      "metadata": {
        "id": "KkZfoX0suj4x"
      },
      "source": [
        "early_stopping = tf.keras.callbacks.EarlyStopping(\n",
        " monitor='val_categorical_accuracy', \n",
        " verbose=1,\n",
        " patience=20,\n",
        " mode='max',\n",
        " restore_best_weights=True)"
      ],
      "execution_count": 13,
      "outputs": []
    },
    {
      "cell_type": "code",
      "metadata": {
        "id": "ytSUWFEIJCQj"
      },
      "source": [
        "modelCancerous.compile(tf.keras.optimizers.Adam(learning_rate=0.0001,name=\"Adam\"),\n",
        "              loss=tf.keras.losses.CategoricalCrossentropy(from_logits=False),\n",
        "              metrics=['categorical_accuracy'])"
      ],
      "execution_count": null,
      "outputs": []
    },
    {
      "cell_type": "code",
      "metadata": {
        "id": "6EnYCWycJCS7"
      },
      "source": [
        "historyCancerous = modelCancerous.fit(train_generator, validation_data = validation_generator,callbacks= [early_stopping], epochs=50)"
      ],
      "execution_count": null,
      "outputs": []
    },
    {
      "cell_type": "code",
      "metadata": {
        "id": "zwZlqzBJJCWr",
        "colab": {
          "base_uri": "https://localhost:8080/",
          "height": 338
        },
        "outputId": "ef303a1e-190e-4e30-faad-7bcd9896aeef"
      },
      "source": [
        "plot_learning_curve(historyCancerous.history['loss'], historyCancerous.history['val_loss'], \n",
        "                    historyCancerous.history['categorical_accuracy'], historyCancerous.history['val_categorical_accuracy'], \n",
        "                    metric_name='Accuracy')"
      ],
      "execution_count": null,
      "outputs": [
        {
          "output_type": "display_data",
          "data": {
            "image/png": "[encoded data removed]",
            "text/plain": [
              "<Figure size 720x360 with 2 Axes>"
            ]
          },
          "metadata": {
            "tags": [],
            "needs_background": "light"
          }
        }
      ]
    },
    {
      "cell_type": "code",
      "metadata": {
        "id": "m8Ijzn0hmxEf"
      },
      "source": [
        "reg_lambda = 0.00001\n",
        "\n",
        "modelCancerous = tf.keras.Sequential([\n",
        "    #VGG block 1\n",
        "    tf.keras.layers.Conv2D(27, (3, 3), activation='relu', padding='same', \n",
        "                           kernel_regularizer=tf.keras.regularizers.l2(reg_lambda), input_shape=(27, 27, 3)),\n",
        "    tf.keras.layers.Conv2D(27, (3, 3), activation='relu', padding='same', \n",
        "                           kernel_regularizer=tf.keras.regularizers.l2(reg_lambda)),\n",
        "    tf.keras.layers.MaxPooling2D((2, 2)),\n",
        "    \n",
        "    #VGG block 2\n",
        "    tf.keras.layers.Conv2D(54, (3, 3), activation='relu', padding='same', \n",
        "                           kernel_regularizer=tf.keras.regularizers.l2(reg_lambda)),\n",
        "    tf.keras.layers.Conv2D(54, (3, 3), activation='relu', padding='same',  \n",
        "                           kernel_regularizer=tf.keras.regularizers.l2(reg_lambda)),\n",
        "    tf.keras.layers.MaxPooling2D((2, 2)),\n",
        "    \n",
        "    #VGG block 3\n",
        "    tf.keras.layers.Conv2D(108, (3, 3), activation='relu', padding='same', \n",
        "                           kernel_regularizer=tf.keras.regularizers.l2(reg_lambda)),\n",
        "    tf.keras.layers.Conv2D(108, (3, 3), activation='relu', padding='same', \n",
        "                           kernel_regularizer=tf.keras.regularizers.l2(reg_lambda)),\n",
        "    tf.keras.layers.MaxPooling2D((2, 2)),\n",
        "    \n",
        "    tf.keras.layers.Flatten(),\n",
        "    tf.keras.layers.Dense(108, activation='relu'),\n",
        "    tf.keras.layers.Dropout(.2),\n",
        "    tf.keras.layers.Dense(OUTPUT_CLASSES,activation='softmax'),\n",
        "])"
      ],
      "execution_count": 14,
      "outputs": []
    },
    {
      "cell_type": "code",
      "metadata": {
        "id": "Av7bAXpUmxHQ"
      },
      "source": [
        "modelCancerous.compile(tf.keras.optimizers.Adam(learning_rate=0.00001,name=\"Adam\"),\n",
        "              loss=tf.keras.losses.CategoricalCrossentropy(from_logits=False),\n",
        "              metrics=['categorical_accuracy'])"
      ],
      "execution_count": 15,
      "outputs": []
    },
    {
      "cell_type": "code",
      "metadata": {
        "colab": {
          "base_uri": "https://localhost:8080/"
        },
        "id": "wuW5BGcQmxKR",
        "outputId": "c2ab73aa-809d-4b28-b6c3-3a172a2c0bbd"
      },
      "source": [
        "historyCancerous = modelCancerous.fit(train_generator, validation_data = validation_generator, callbacks=[early_stopping], epochs=50)"
      ],
      "execution_count": 16,
      "outputs": [
        {
          "output_type": "stream",
          "text": [
            "Epoch 1/50\n",
            "451/451 [==============================] - 44s 28ms/step - loss: 0.6419 - categorical_accuracy: 0.6504 - val_loss: 0.6186 - val_categorical_accuracy: 0.6573\n",
            "Epoch 2/50\n",
            "451/451 [==============================] - 12s 26ms/step - loss: 0.5554 - categorical_accuracy: 0.7106 - val_loss: 0.5357 - val_categorical_accuracy: 0.7194\n",
            "Epoch 3/50\n",
            "451/451 [==============================] - 12s 26ms/step - loss: 0.4614 - categorical_accuracy: 0.7887 - val_loss: 0.4369 - val_categorical_accuracy: 0.7912\n",
            "Epoch 4/50\n",
            "451/451 [==============================] - 12s 26ms/step - loss: 0.4408 - categorical_accuracy: 0.8011 - val_loss: 0.4339 - val_categorical_accuracy: 0.7897\n",
            "Epoch 5/50\n",
            "451/451 [==============================] - 12s 26ms/step - loss: 0.4369 - categorical_accuracy: 0.8011 - val_loss: 0.4047 - val_categorical_accuracy: 0.8148\n",
            "Epoch 6/50\n",
            "451/451 [==============================] - 12s 26ms/step - loss: 0.4252 - categorical_accuracy: 0.8046 - val_loss: 0.3977 - val_categorical_accuracy: 0.8136\n",
            "Epoch 7/50\n",
            "451/451 [==============================] - 12s 26ms/step - loss: 0.4180 - categorical_accuracy: 0.8102 - val_loss: 0.3910 - val_categorical_accuracy: 0.8158\n",
            "Epoch 8/50\n",
            "451/451 [==============================] - 12s 26ms/step - loss: 0.4065 - categorical_accuracy: 0.8161 - val_loss: 0.4158 - val_categorical_accuracy: 0.8072\n",
            "Epoch 9/50\n",
            "451/451 [==============================] - 12s 26ms/step - loss: 0.4071 - categorical_accuracy: 0.8168 - val_loss: 0.3750 - val_categorical_accuracy: 0.8296\n",
            "Epoch 10/50\n",
            "451/451 [==============================] - 12s 26ms/step - loss: 0.4004 - categorical_accuracy: 0.8198 - val_loss: 0.3835 - val_categorical_accuracy: 0.8220\n",
            "Epoch 11/50\n",
            "451/451 [==============================] - 12s 26ms/step - loss: 0.4009 - categorical_accuracy: 0.8210 - val_loss: 0.3714 - val_categorical_accuracy: 0.8282\n",
            "Epoch 12/50\n",
            "451/451 [==============================] - 12s 26ms/step - loss: 0.3913 - categorical_accuracy: 0.8254 - val_loss: 0.3812 - val_categorical_accuracy: 0.8242\n",
            "Epoch 13/50\n",
            "451/451 [==============================] - 12s 26ms/step - loss: 0.3884 - categorical_accuracy: 0.8278 - val_loss: 0.3675 - val_categorical_accuracy: 0.8343\n",
            "Epoch 14/50\n",
            "451/451 [==============================] - 12s 26ms/step - loss: 0.3895 - categorical_accuracy: 0.8254 - val_loss: 0.3676 - val_categorical_accuracy: 0.8311\n",
            "Epoch 15/50\n",
            "451/451 [==============================] - 12s 26ms/step - loss: 0.3844 - categorical_accuracy: 0.8305 - val_loss: 0.3623 - val_categorical_accuracy: 0.8356\n",
            "Epoch 16/50\n",
            "451/451 [==============================] - 12s 26ms/step - loss: 0.3853 - categorical_accuracy: 0.8328 - val_loss: 0.3592 - val_categorical_accuracy: 0.8383\n",
            "Epoch 17/50\n",
            "451/451 [==============================] - 12s 26ms/step - loss: 0.3785 - categorical_accuracy: 0.8337 - val_loss: 0.3615 - val_categorical_accuracy: 0.8356\n",
            "Epoch 18/50\n",
            "451/451 [==============================] - 12s 26ms/step - loss: 0.3800 - categorical_accuracy: 0.8364 - val_loss: 0.3544 - val_categorical_accuracy: 0.8410\n",
            "Epoch 19/50\n",
            "451/451 [==============================] - 12s 26ms/step - loss: 0.3795 - categorical_accuracy: 0.8359 - val_loss: 0.3641 - val_categorical_accuracy: 0.8365\n",
            "Epoch 20/50\n",
            "451/451 [==============================] - 12s 26ms/step - loss: 0.3769 - categorical_accuracy: 0.8373 - val_loss: 0.3568 - val_categorical_accuracy: 0.8390\n",
            "Epoch 21/50\n",
            "451/451 [==============================] - 12s 26ms/step - loss: 0.3757 - categorical_accuracy: 0.8373 - val_loss: 0.3527 - val_categorical_accuracy: 0.8422\n",
            "Epoch 22/50\n",
            "451/451 [==============================] - 11s 25ms/step - loss: 0.3726 - categorical_accuracy: 0.8359 - val_loss: 0.3563 - val_categorical_accuracy: 0.8405\n",
            "Epoch 23/50\n",
            "451/451 [==============================] - 11s 25ms/step - loss: 0.3749 - categorical_accuracy: 0.8350 - val_loss: 0.3623 - val_categorical_accuracy: 0.8378\n",
            "Epoch 24/50\n",
            "451/451 [==============================] - 12s 26ms/step - loss: 0.3701 - categorical_accuracy: 0.8412 - val_loss: 0.3618 - val_categorical_accuracy: 0.8358\n",
            "Epoch 25/50\n",
            "451/451 [==============================] - 12s 26ms/step - loss: 0.3688 - categorical_accuracy: 0.8422 - val_loss: 0.3480 - val_categorical_accuracy: 0.8452\n",
            "Epoch 26/50\n",
            "451/451 [==============================] - 11s 25ms/step - loss: 0.3661 - categorical_accuracy: 0.8440 - val_loss: 0.3581 - val_categorical_accuracy: 0.8380\n",
            "Epoch 27/50\n",
            "451/451 [==============================] - 12s 26ms/step - loss: 0.3618 - categorical_accuracy: 0.8469 - val_loss: 0.3453 - val_categorical_accuracy: 0.8471\n",
            "Epoch 28/50\n",
            "451/451 [==============================] - 11s 25ms/step - loss: 0.3628 - categorical_accuracy: 0.8425 - val_loss: 0.3537 - val_categorical_accuracy: 0.8422\n",
            "Epoch 29/50\n",
            "451/451 [==============================] - 12s 26ms/step - loss: 0.3605 - categorical_accuracy: 0.8417 - val_loss: 0.3471 - val_categorical_accuracy: 0.8447\n",
            "Epoch 30/50\n",
            "451/451 [==============================] - 12s 26ms/step - loss: 0.3583 - categorical_accuracy: 0.8468 - val_loss: 0.3469 - val_categorical_accuracy: 0.8457\n",
            "Epoch 31/50\n",
            "451/451 [==============================] - 12s 26ms/step - loss: 0.3608 - categorical_accuracy: 0.8458 - val_loss: 0.3487 - val_categorical_accuracy: 0.8449\n",
            "Epoch 32/50\n",
            "451/451 [==============================] - 12s 26ms/step - loss: 0.3578 - categorical_accuracy: 0.8452 - val_loss: 0.3400 - val_categorical_accuracy: 0.8513\n",
            "Epoch 33/50\n",
            "451/451 [==============================] - 12s 26ms/step - loss: 0.3599 - categorical_accuracy: 0.8442 - val_loss: 0.3419 - val_categorical_accuracy: 0.8494\n",
            "Epoch 34/50\n",
            "451/451 [==============================] - 12s 26ms/step - loss: 0.3581 - categorical_accuracy: 0.8474 - val_loss: 0.3467 - val_categorical_accuracy: 0.8447\n",
            "Epoch 35/50\n",
            "451/451 [==============================] - 12s 26ms/step - loss: 0.3538 - categorical_accuracy: 0.8522 - val_loss: 0.3434 - val_categorical_accuracy: 0.8474\n",
            "Epoch 36/50\n",
            "451/451 [==============================] - 11s 25ms/step - loss: 0.3555 - categorical_accuracy: 0.8493 - val_loss: 0.3467 - val_categorical_accuracy: 0.8457\n",
            "Epoch 37/50\n",
            "451/451 [==============================] - 12s 26ms/step - loss: 0.3514 - categorical_accuracy: 0.8458 - val_loss: 0.3410 - val_categorical_accuracy: 0.8503\n",
            "Epoch 38/50\n",
            "451/451 [==============================] - 12s 26ms/step - loss: 0.3531 - categorical_accuracy: 0.8506 - val_loss: 0.3404 - val_categorical_accuracy: 0.8508\n",
            "Epoch 39/50\n",
            "451/451 [==============================] - 12s 26ms/step - loss: 0.3496 - categorical_accuracy: 0.8515 - val_loss: 0.3397 - val_categorical_accuracy: 0.8499\n",
            "Epoch 40/50\n",
            "451/451 [==============================] - 12s 26ms/step - loss: 0.3559 - categorical_accuracy: 0.8499 - val_loss: 0.3695 - val_categorical_accuracy: 0.8348\n",
            "Epoch 41/50\n",
            "451/451 [==============================] - 12s 26ms/step - loss: 0.3479 - categorical_accuracy: 0.8534 - val_loss: 0.3427 - val_categorical_accuracy: 0.8454\n",
            "Epoch 42/50\n",
            "451/451 [==============================] - 12s 26ms/step - loss: 0.3485 - categorical_accuracy: 0.8508 - val_loss: 0.3409 - val_categorical_accuracy: 0.8501\n",
            "Epoch 43/50\n",
            "451/451 [==============================] - 12s 26ms/step - loss: 0.3487 - categorical_accuracy: 0.8507 - val_loss: 0.3468 - val_categorical_accuracy: 0.8429\n",
            "Epoch 44/50\n",
            "451/451 [==============================] - 12s 26ms/step - loss: 0.3441 - categorical_accuracy: 0.8538 - val_loss: 0.3382 - val_categorical_accuracy: 0.8486\n",
            "Epoch 45/50\n",
            "451/451 [==============================] - 12s 26ms/step - loss: 0.3439 - categorical_accuracy: 0.8540 - val_loss: 0.3474 - val_categorical_accuracy: 0.8479\n",
            "Epoch 46/50\n",
            "451/451 [==============================] - 11s 25ms/step - loss: 0.3433 - categorical_accuracy: 0.8554 - val_loss: 0.3367 - val_categorical_accuracy: 0.8511\n",
            "Epoch 47/50\n",
            "451/451 [==============================] - 12s 26ms/step - loss: 0.3391 - categorical_accuracy: 0.8561 - val_loss: 0.3415 - val_categorical_accuracy: 0.8471\n",
            "Epoch 48/50\n",
            "451/451 [==============================] - 12s 26ms/step - loss: 0.3462 - categorical_accuracy: 0.8536 - val_loss: 0.3603 - val_categorical_accuracy: 0.8452\n",
            "Epoch 49/50\n",
            "451/451 [==============================] - 12s 26ms/step - loss: 0.3395 - categorical_accuracy: 0.8551 - val_loss: 0.3391 - val_categorical_accuracy: 0.8489\n",
            "Epoch 50/50\n",
            "451/451 [==============================] - 12s 26ms/step - loss: 0.3353 - categorical_accuracy: 0.8545 - val_loss: 0.3616 - val_categorical_accuracy: 0.8385\n"
          ],
          "name": "stdout"
        }
      ]
    },
    {
      "cell_type": "code",
      "metadata": {
        "colab": {
          "base_uri": "https://localhost:8080/",
          "height": 338
        },
        "id": "MDBULvK2rzY_",
        "outputId": "bfdad9ab-e7ea-4101-a5f6-af8a3ffcd873"
      },
      "source": [
        "plot_learning_curve(historyCancerous.history['loss'], historyCancerous.history['val_loss'], \n",
        "                    historyCancerous.history['categorical_accuracy'], historyCancerous.history['val_categorical_accuracy'], \n",
        "                    metric_name='Accuracy')"
      ],
      "execution_count": 17,
      "outputs": [
        {
          "output_type": "display_data",
          "data": {
            "image/png": "[encoded data removed]",
            "text/plain": [
              "<Figure size 720x360 with 2 Axes>"
            ]
          },
          "metadata": {
            "tags": [],
            "needs_background": "light"
          }
        }
      ]
    },
    {
      "cell_type": "code",
      "metadata": {
        "id": "Ovt2wG7DJqCa",
        "colab": {
          "base_uri": "https://localhost:8080/"
        },
        "outputId": "a4b3300b-a957-4c6b-8a78-f4eed14b0cb9"
      },
      "source": [
        "# setup data some placeholders\n",
        "batch_size_ = 1\n",
        "y_hat_all = list()\n",
        "y_all = list()\n",
        "filenames = validation_generator.filenames\n",
        "N_images = len(filenames)\n",
        "batches = 1\n",
        "                                                                       \n",
        "for x,y in validation_generator:\n",
        "        y_hat = modelCancerous.predict(x, verbose=0)\n",
        "        y_hat = np.argmax(y_hat, axis = 1)\n",
        "        y = np.argmax(y, axis = 1)\n",
        "        y_hat_all = y_hat_all + y_hat.tolist()\n",
        "        y_all = y_all + y.tolist()\n",
        "\n",
        "        batches += 1\n",
        "        if batches >= N_images / batch_size_:\n",
        "            break\n",
        "\n",
        "from sklearn.metrics import classification_report\n",
        "from sklearn.metrics import confusion_matrix, accuracy_score, f1_score\n",
        "\n",
        "print(\"Accuracy score: \", accuracy_score(y_all, y_hat_all))\n",
        "print(\"F1 score: \", f1_score(y_all, y_hat_all, average='macro'))\n",
        "print(\"Confusion Matrix \", confusion_matrix(y_all, y_hat_all))"
      ],
      "execution_count": null,
      "outputs": [
        {
          "output_type": "stream",
          "text": [
            "Accuracy score:  0.8552859857351361\n",
            "F1 score:  0.8357058444039311\n",
            "[[65391  6238]\n",
            " [ 9527 27783]]\n"
          ],
          "name": "stdout"
        }
      ]
    },
    {
      "cell_type": "code",
      "metadata": {
        "id": "2rl6d_KmJqFU",
        "colab": {
          "base_uri": "https://localhost:8080/"
        },
        "outputId": "d597654e-7726-4f6e-ad30-10326c03a9a9"
      },
      "source": [
        "modelCancerous.save(\"modelCancerous\")"
      ],
      "execution_count": 18,
      "outputs": [
        {
          "output_type": "stream",
          "text": [
            "INFO:tensorflow:Assets written to: modelCancerous/assets\n"
          ],
          "name": "stdout"
        }
      ]
    },
    {
      "cell_type": "code",
      "metadata": {
        "colab": {
          "base_uri": "https://localhost:8080/"
        },
        "id": "m29uk7yhAaAC",
        "outputId": "10bee118-4ae6-4441-fbae-e0772bf476e8"
      },
      "source": [
        "## Only on colab\n",
        "# Change according to your directory structure\n",
        "!cp -R ./modelCancerous/content/drive/'My Drive'/'Colab Notebooks'      "
      ],
      "execution_count": 19,
      "outputs": [
        {
          "output_type": "stream",
          "text": [
            "cp: missing destination file operand after './modelCancerous/content/drive/My Drive/Colab Notebooks'\n",
            "Try 'cp --help' for more information.\n"
          ],
          "name": "stdout"
        }
      ]
    },
    {
      "cell_type": "code",
      "metadata": {
        "id": "CPza7BWjQq4P"
      },
      "source": [
        "modelCancerous.summary()"
      ],
      "execution_count": null,
      "outputs": []
    },
    {
      "cell_type": "code",
      "metadata": {
        "id": "6s8u_WaRQmr7"
      },
      "source": [
        "from tensorflow import keras\n",
        "modelCelltype = keras.models.load_model('/content/modelCancerous')"
      ],
      "execution_count": 20,
      "outputs": []
    },
    {
      "cell_type": "code",
      "metadata": {
        "id": "fzGbK8liQq4v"
      },
      "source": [
        "modelCelltype.summary()"
      ],
      "execution_count": null,
      "outputs": []
    },
    {
      "cell_type": "code",
      "metadata": {
        "id": "HoSG0D9tQq4u"
      },
      "source": [
        "modelCelltype.pop()"
      ],
      "execution_count": 21,
      "outputs": []
    },
    {
      "cell_type": "code",
      "metadata": {
        "id": "zYpe4hdfQq4w"
      },
      "source": [
        "modelCelltype.add(Dense(4, activation='softmax'))"
      ],
      "execution_count": 22,
      "outputs": []
    },
    {
      "cell_type": "code",
      "metadata": {
        "id": "BF8n3USiDYRQ"
      },
      "source": [
        "modelCelltype.summary()"
      ],
      "execution_count": null,
      "outputs": []
    },
    {
      "cell_type": "code",
      "metadata": {
        "id": "IV0V_lsBlyq2"
      },
      "source": [
        "modelCelltype = modelCancerous"
      ],
      "execution_count": null,
      "outputs": []
    },
    {
      "cell_type": "code",
      "metadata": {
        "id": "6_Vd3tlBQBdE",
        "colab": {
          "base_uri": "https://localhost:8080/"
        },
        "outputId": "6c33f730-1f20-4b05-b61d-3b3332e85075"
      },
      "source": [
        "import numpy as np\n",
        "from sklearn.model_selection import train_test_split\n",
        "import pandas as pd\n",
        "\n",
        "data = pd.read_csv('./data_labels_mainData.csv')\n",
        "\n",
        "OUTPUT_CLASSES = 4\n",
        "\n",
        "train_data, test_data = train_test_split(data, test_size=0.2, random_state=42)\n",
        "train_data, val_data = train_test_split(train_data, test_size=0.25, random_state=42)\n",
        "\n",
        "print(\"Train data : {}, Val Data: {}, Test Data: {}\".format(train_data.shape[0], val_data.shape[0], test_data.shape[0]))"
      ],
      "execution_count": 23,
      "outputs": [
        {
          "output_type": "stream",
          "text": [
            "Train data : 5937, Val Data: 1979, Test Data: 1980\n"
          ],
          "name": "stdout"
        }
      ]
    },
    {
      "cell_type": "code",
      "metadata": {
        "id": "4niIpiRbQBgB",
        "colab": {
          "base_uri": "https://localhost:8080/"
        },
        "outputId": "71bbd231-5568-4c70-ec3c-0480f863a37f"
      },
      "source": [
        "train_data['Class'] = train_data['cellType'].astype('str')\n",
        "val_data['Class'] = val_data['cellType'].astype('str')\n",
        "from tensorflow.keras.preprocessing.image import ImageDataGenerator\n",
        "train_datagen = ImageDataGenerator(rescale=1./255, data_format='channels_last',\n",
        "                                   rotation_range=15, width_shift_range=0.2,\n",
        "                                   height_shift_range=0.2, brightness_range=[0.5,1.5])\n",
        "val_datagen = ImageDataGenerator(rescale=1./255, data_format='channels_last')\n",
        "\n",
        "batch_size = 27\n",
        "\n",
        "train_generator = train_datagen.flow_from_dataframe(\n",
        "        dataframe=train_data,\n",
        "        directory='./patch_images',\n",
        "        x_col=\"ImageName\",\n",
        "        y_col=\"Class\",\n",
        "        target_size=(27, 27),\n",
        "        batch_size=batch_size,\n",
        "        class_mode='sparse')\n",
        "\n",
        "validation_generator = val_datagen.flow_from_dataframe(\n",
        "        dataframe=val_data,\n",
        "        directory='./patch_images',\n",
        "        x_col=\"ImageName\",\n",
        "        y_col=\"Class\",\n",
        "        target_size=(27, 27),\n",
        "        batch_size=batch_size,\n",
        "        class_mode='sparse')\n",
        "\n",
        "test_datagen = ImageDataGenerator(rescale=1./255, data_format='channels_last')\n",
        "\n",
        "batch_size = 1\n",
        "\n",
        "test_generator = test_datagen.flow_from_dataframe(\n",
        "        dataframe=test_data,\n",
        "        directory='./patch_images',\n",
        "        x_col=\"ImageName\",\n",
        "        y_col=\"Class\",\n",
        "        target_size=(27, 27),\n",
        "        batch_size=batch_size,\n",
        "        class_mode='sparse')"
      ],
      "execution_count": 24,
      "outputs": [
        {
          "output_type": "stream",
          "text": [
            "Found 5937 validated image filenames belonging to 4 classes.\n",
            "Found 1979 validated image filenames belonging to 4 classes.\n"
          ],
          "name": "stdout"
        }
      ]
    },
    {
      "cell_type": "code",
      "metadata": {
        "id": "xlnDf2ZtRuX4"
      },
      "source": [
        "modelCelltype.compile(tf.keras.optimizers.Adam(learning_rate=0.0001,name=\"adam\"),\n",
        "              loss=tf.keras.losses.SparseCategoricalCrossentropy(from_logits=False),\n",
        "              metrics=['sparse_categorical_accuracy'])"
      ],
      "execution_count": 25,
      "outputs": []
    },
    {
      "cell_type": "code",
      "metadata": {
        "id": "Li5iCvJ44w13"
      },
      "source": [
        "early_stopping = tf.keras.callbacks.EarlyStopping(\n",
        " monitor='val_sparse_categorical_accuracy', \n",
        " verbose=1,\n",
        " patience=20,\n",
        " mode='max',\n",
        " restore_best_weights=True)"
      ],
      "execution_count": 26,
      "outputs": []
    },
    {
      "cell_type": "code",
      "metadata": {
        "id": "UD_9KEWZ6A2R"
      },
      "source": [
        "class_weight = {0: 1.,1: 2.,2: 2., 3: 1.}"
      ],
      "execution_count": null,
      "outputs": []
    },
    {
      "cell_type": "code",
      "metadata": {
        "id": "KC7wpkiyt0Un"
      },
      "source": [
        "from sklearn.utils import class_weight"
      ],
      "execution_count": null,
      "outputs": []
    },
    {
      "cell_type": "code",
      "metadata": {
        "id": "8w5us5sxtowZ"
      },
      "source": [
        "class_weights = class_weight.compute_class_weight(\n",
        "               'balanced',\n",
        "                np.unique(train_generator.classes), \n",
        "                train_generator.classes)"
      ],
      "execution_count": null,
      "outputs": []
    },
    {
      "cell_type": "code",
      "metadata": {
        "id": "W_yG6b_wPJ34"
      },
      "source": [
        "shavalidation_generator.classes"
      ],
      "execution_count": null,
      "outputs": []
    },
    {
      "cell_type": "code",
      "metadata": {
        "id": "h3JMOY6ZK4HV",
        "colab": {
          "base_uri": "https://localhost:8080/"
        },
        "outputId": "00ae9753-2e29-497d-dbc5-bc7dbe614847"
      },
      "source": [
        "historyCancerous = modelCelltype.fit(train_generator, validation_data = validation_generator, callbacks=[early_stopping], epochs=50)"
      ],
      "execution_count": 27,
      "outputs": [
        {
          "output_type": "stream",
          "text": [
            "Epoch 1/50\n",
            "220/220 [==============================] - 7s 28ms/step - loss: 1.0193 - sparse_categorical_accuracy: 0.5685 - val_loss: 0.8370 - val_sparse_categorical_accuracy: 0.6842\n",
            "Epoch 2/50\n",
            "220/220 [==============================] - 6s 25ms/step - loss: 0.8800 - sparse_categorical_accuracy: 0.6550 - val_loss: 0.7789 - val_sparse_categorical_accuracy: 0.6943\n",
            "Epoch 3/50\n",
            "220/220 [==============================] - 6s 26ms/step - loss: 0.8501 - sparse_categorical_accuracy: 0.6781 - val_loss: 0.7500 - val_sparse_categorical_accuracy: 0.7054\n",
            "Epoch 4/50\n",
            "220/220 [==============================] - 6s 25ms/step - loss: 0.8049 - sparse_categorical_accuracy: 0.6901 - val_loss: 0.7423 - val_sparse_categorical_accuracy: 0.7024\n",
            "Epoch 5/50\n",
            "220/220 [==============================] - 6s 25ms/step - loss: 0.7945 - sparse_categorical_accuracy: 0.6877 - val_loss: 0.7424 - val_sparse_categorical_accuracy: 0.6993\n",
            "Epoch 6/50\n",
            "220/220 [==============================] - 6s 25ms/step - loss: 0.7969 - sparse_categorical_accuracy: 0.6978 - val_loss: 0.7944 - val_sparse_categorical_accuracy: 0.6746\n",
            "Epoch 7/50\n",
            "220/220 [==============================] - 6s 25ms/step - loss: 0.7774 - sparse_categorical_accuracy: 0.7009 - val_loss: 0.7877 - val_sparse_categorical_accuracy: 0.6721\n",
            "Epoch 8/50\n",
            "220/220 [==============================] - 6s 25ms/step - loss: 0.7670 - sparse_categorical_accuracy: 0.7030 - val_loss: 0.7505 - val_sparse_categorical_accuracy: 0.7039\n",
            "Epoch 9/50\n",
            "220/220 [==============================] - 6s 26ms/step - loss: 0.7527 - sparse_categorical_accuracy: 0.7150 - val_loss: 0.7311 - val_sparse_categorical_accuracy: 0.7054\n",
            "Epoch 10/50\n",
            "220/220 [==============================] - 6s 26ms/step - loss: 0.7390 - sparse_categorical_accuracy: 0.7243 - val_loss: 0.6880 - val_sparse_categorical_accuracy: 0.7337\n",
            "Epoch 11/50\n",
            "220/220 [==============================] - 6s 25ms/step - loss: 0.7292 - sparse_categorical_accuracy: 0.7214 - val_loss: 0.7587 - val_sparse_categorical_accuracy: 0.6973\n",
            "Epoch 12/50\n",
            "220/220 [==============================] - 6s 25ms/step - loss: 0.7267 - sparse_categorical_accuracy: 0.7224 - val_loss: 0.7117 - val_sparse_categorical_accuracy: 0.7221\n",
            "Epoch 13/50\n",
            "220/220 [==============================] - 6s 25ms/step - loss: 0.7254 - sparse_categorical_accuracy: 0.7292 - val_loss: 0.7691 - val_sparse_categorical_accuracy: 0.6918\n",
            "Epoch 14/50\n",
            "220/220 [==============================] - 6s 25ms/step - loss: 0.7315 - sparse_categorical_accuracy: 0.7125 - val_loss: 0.8881 - val_sparse_categorical_accuracy: 0.6352\n",
            "Epoch 15/50\n",
            "220/220 [==============================] - 6s 26ms/step - loss: 0.7168 - sparse_categorical_accuracy: 0.7251 - val_loss: 0.6746 - val_sparse_categorical_accuracy: 0.7292\n",
            "Epoch 16/50\n",
            "220/220 [==============================] - 6s 25ms/step - loss: 0.7079 - sparse_categorical_accuracy: 0.7313 - val_loss: 0.7634 - val_sparse_categorical_accuracy: 0.6806\n",
            "Epoch 17/50\n",
            "220/220 [==============================] - 6s 25ms/step - loss: 0.6987 - sparse_categorical_accuracy: 0.7379 - val_loss: 0.6928 - val_sparse_categorical_accuracy: 0.7191\n",
            "Epoch 18/50\n",
            "220/220 [==============================] - 6s 25ms/step - loss: 0.7006 - sparse_categorical_accuracy: 0.7329 - val_loss: 0.7115 - val_sparse_categorical_accuracy: 0.7170\n",
            "Epoch 19/50\n",
            "220/220 [==============================] - 6s 25ms/step - loss: 0.6980 - sparse_categorical_accuracy: 0.7340 - val_loss: 0.6675 - val_sparse_categorical_accuracy: 0.7408\n",
            "Epoch 20/50\n",
            "220/220 [==============================] - 6s 25ms/step - loss: 0.6900 - sparse_categorical_accuracy: 0.7344 - val_loss: 0.7048 - val_sparse_categorical_accuracy: 0.7145\n",
            "Epoch 21/50\n",
            "220/220 [==============================] - 6s 26ms/step - loss: 0.6959 - sparse_categorical_accuracy: 0.7359 - val_loss: 0.7756 - val_sparse_categorical_accuracy: 0.6837\n",
            "Epoch 22/50\n",
            "220/220 [==============================] - 6s 25ms/step - loss: 0.6803 - sparse_categorical_accuracy: 0.7441 - val_loss: 0.6856 - val_sparse_categorical_accuracy: 0.7170\n",
            "Epoch 23/50\n",
            "220/220 [==============================] - 6s 26ms/step - loss: 0.6798 - sparse_categorical_accuracy: 0.7362 - val_loss: 0.7749 - val_sparse_categorical_accuracy: 0.6721\n",
            "Epoch 24/50\n",
            "220/220 [==============================] - 6s 25ms/step - loss: 0.6748 - sparse_categorical_accuracy: 0.7425 - val_loss: 0.6982 - val_sparse_categorical_accuracy: 0.7155\n",
            "Epoch 25/50\n",
            "220/220 [==============================] - 6s 25ms/step - loss: 0.6739 - sparse_categorical_accuracy: 0.7453 - val_loss: 0.7226 - val_sparse_categorical_accuracy: 0.7125\n",
            "Epoch 26/50\n",
            "220/220 [==============================] - 6s 25ms/step - loss: 0.6676 - sparse_categorical_accuracy: 0.7447 - val_loss: 0.6807 - val_sparse_categorical_accuracy: 0.7383\n",
            "Epoch 27/50\n",
            "220/220 [==============================] - 6s 25ms/step - loss: 0.6753 - sparse_categorical_accuracy: 0.7401 - val_loss: 0.7625 - val_sparse_categorical_accuracy: 0.6832\n",
            "Epoch 28/50\n",
            "220/220 [==============================] - 6s 25ms/step - loss: 0.6545 - sparse_categorical_accuracy: 0.7512 - val_loss: 0.6739 - val_sparse_categorical_accuracy: 0.7312\n",
            "Epoch 29/50\n",
            "220/220 [==============================] - 6s 25ms/step - loss: 0.6592 - sparse_categorical_accuracy: 0.7438 - val_loss: 0.6690 - val_sparse_categorical_accuracy: 0.7403\n",
            "Epoch 30/50\n",
            "220/220 [==============================] - 6s 25ms/step - loss: 0.6620 - sparse_categorical_accuracy: 0.7473 - val_loss: 0.7002 - val_sparse_categorical_accuracy: 0.7226\n",
            "Epoch 31/50\n",
            "220/220 [==============================] - 6s 26ms/step - loss: 0.6478 - sparse_categorical_accuracy: 0.7541 - val_loss: 0.6310 - val_sparse_categorical_accuracy: 0.7489\n",
            "Epoch 32/50\n",
            "220/220 [==============================] - 6s 26ms/step - loss: 0.6603 - sparse_categorical_accuracy: 0.7495 - val_loss: 0.6726 - val_sparse_categorical_accuracy: 0.7352\n",
            "Epoch 33/50\n",
            "220/220 [==============================] - 6s 25ms/step - loss: 0.6551 - sparse_categorical_accuracy: 0.7485 - val_loss: 0.7711 - val_sparse_categorical_accuracy: 0.6812\n",
            "Epoch 34/50\n",
            "220/220 [==============================] - 6s 25ms/step - loss: 0.6531 - sparse_categorical_accuracy: 0.7522 - val_loss: 0.6602 - val_sparse_categorical_accuracy: 0.7367\n",
            "Epoch 35/50\n",
            "220/220 [==============================] - 6s 25ms/step - loss: 0.6339 - sparse_categorical_accuracy: 0.7605 - val_loss: 0.7228 - val_sparse_categorical_accuracy: 0.7069\n",
            "Epoch 36/50\n",
            "220/220 [==============================] - 6s 26ms/step - loss: 0.6435 - sparse_categorical_accuracy: 0.7473 - val_loss: 0.7078 - val_sparse_categorical_accuracy: 0.7130\n",
            "Epoch 37/50\n",
            "220/220 [==============================] - 6s 26ms/step - loss: 0.6314 - sparse_categorical_accuracy: 0.7573 - val_loss: 0.6675 - val_sparse_categorical_accuracy: 0.7377\n",
            "Epoch 38/50\n",
            "220/220 [==============================] - 6s 26ms/step - loss: 0.6315 - sparse_categorical_accuracy: 0.7591 - val_loss: 0.6421 - val_sparse_categorical_accuracy: 0.7352\n",
            "Epoch 39/50\n",
            "220/220 [==============================] - 6s 26ms/step - loss: 0.6260 - sparse_categorical_accuracy: 0.7590 - val_loss: 0.6934 - val_sparse_categorical_accuracy: 0.7256\n",
            "Epoch 40/50\n",
            "220/220 [==============================] - 6s 26ms/step - loss: 0.6211 - sparse_categorical_accuracy: 0.7618 - val_loss: 0.6658 - val_sparse_categorical_accuracy: 0.7317\n",
            "Epoch 41/50\n",
            "220/220 [==============================] - 6s 26ms/step - loss: 0.6293 - sparse_categorical_accuracy: 0.7601 - val_loss: 0.6551 - val_sparse_categorical_accuracy: 0.7332\n",
            "Epoch 42/50\n",
            "220/220 [==============================] - 6s 26ms/step - loss: 0.6221 - sparse_categorical_accuracy: 0.7623 - val_loss: 0.7286 - val_sparse_categorical_accuracy: 0.7024\n",
            "Epoch 43/50\n",
            "220/220 [==============================] - 6s 26ms/step - loss: 0.6138 - sparse_categorical_accuracy: 0.7709 - val_loss: 0.6738 - val_sparse_categorical_accuracy: 0.7251\n",
            "Epoch 44/50\n",
            "220/220 [==============================] - 6s 26ms/step - loss: 0.6117 - sparse_categorical_accuracy: 0.7674 - val_loss: 0.6830 - val_sparse_categorical_accuracy: 0.7231\n",
            "Epoch 45/50\n",
            "220/220 [==============================] - 6s 26ms/step - loss: 0.6117 - sparse_categorical_accuracy: 0.7701 - val_loss: 0.6428 - val_sparse_categorical_accuracy: 0.7423\n",
            "Epoch 46/50\n",
            "220/220 [==============================] - 6s 26ms/step - loss: 0.6095 - sparse_categorical_accuracy: 0.7718 - val_loss: 0.6269 - val_sparse_categorical_accuracy: 0.7529\n",
            "Epoch 47/50\n",
            "220/220 [==============================] - 6s 26ms/step - loss: 0.6021 - sparse_categorical_accuracy: 0.7697 - val_loss: 0.7290 - val_sparse_categorical_accuracy: 0.7180\n",
            "Epoch 48/50\n",
            "220/220 [==============================] - 6s 26ms/step - loss: 0.6018 - sparse_categorical_accuracy: 0.7704 - val_loss: 0.6493 - val_sparse_categorical_accuracy: 0.7398\n",
            "Epoch 49/50\n",
            "220/220 [==============================] - 6s 26ms/step - loss: 0.6045 - sparse_categorical_accuracy: 0.7687 - val_loss: 0.6871 - val_sparse_categorical_accuracy: 0.7130\n",
            "Epoch 50/50\n",
            "220/220 [==============================] - 6s 26ms/step - loss: 0.6030 - sparse_categorical_accuracy: 0.7711 - val_loss: 0.6827 - val_sparse_categorical_accuracy: 0.7175\n"
          ],
          "name": "stdout"
        }
      ]
    },
    {
      "cell_type": "code",
      "metadata": {
        "id": "tUkDDpPTRpAo",
        "colab": {
          "base_uri": "https://localhost:8080/",
          "height": 338
        },
        "outputId": "75bc3346-b977-4451-ca8a-cf08a41fdd9d"
      },
      "source": [
        "plot_learning_curve(historyCancerous.history['loss'], historyCancerous.history['val_loss'], \n",
        "                    historyCancerous.history['sparse_categorical_accuracy'], historyCancerous.history['val_sparse_categorical_accuracy'], \n",
        "                    metric_name='Accuracy')"
      ],
      "execution_count": 28,
      "outputs": [
        {
          "output_type": "display_data",
          "data": {
            "image/png": "[encoded data removed]",
            "text/plain": [
              "<Figure size 720x360 with 2 Axes>"
            ]
          },
          "metadata": {
            "tags": [],
            "needs_background": "light"
          }
        }
      ]
    },
    {
      "cell_type": "code",
      "metadata": {
        "id": "yDZnbtbZRpEC",
        "colab": {
          "base_uri": "https://localhost:8080/"
        },
        "outputId": "8d349afd-3948-425b-91e6-874db36c214e"
      },
      "source": [
        "# setup data some placeholders\n",
        "batch_size_ = 1\n",
        "y_hat_all = list()\n",
        "y_all = list()\n",
        "filenames = test_generator.filenames\n",
        "N_images = len(filenames)\n",
        "batches = 1\n",
        "\n",
        "# iterate through the data generator and predict for each batch\n",
        "# hold the predictions and labels\n",
        "for x,y in validation_generator:\n",
        "        y_hat = modelCelltype.predict(x, verbose=0)\n",
        "        y_hat = np.argmax(y_hat, axis = 1)\n",
        "        # y = np.argmax(y, axis = 1)\n",
        "        y_hat_all = y_hat_all + y_hat.tolist()\n",
        "        y_all = y_all + y.tolist()\n",
        "\n",
        "        batches += 1\n",
        "        if batches >= N_images / batch_size_:\n",
        "            break\n",
        "\n",
        "# now you have made the predictions you can use any performance metric\n",
        "# you wish: either in sklearn or some function you have written\n",
        "\n",
        "from sklearn.metrics import classification_report\n",
        "from sklearn.metrics import confusion_matrix, accuracy_score, f1_score\n",
        "\n",
        "print(\"Accuracy score: \", accuracy_score(y_all, y_hat_all))\n",
        "print(\"F1 score: \", f1_score(y_all, y_hat_all, average='macro'))\n",
        "print(\"Confusion Matrix \")\n",
        "print(confusion_matrix(y_all, y_hat_all))\n",
        "print(\"Classicification Report\")\n",
        "print(classification_report(y_all, y_hat_all))"
      ],
      "execution_count": 29,
      "outputs": [
        {
          "output_type": "stream",
          "text": [
            "Accuracy score:  0.717814484426973\n",
            "F1 score:  0.655289697089636\n",
            "Confusion Matrix \n",
            "[[ 8871   400   507   429]\n",
            " [ 2030 10114   510   934]\n",
            " [ 3900   904 16824    27]\n",
            " [ 2429  2354   507  2172]]\n",
            "              precision    recall  f1-score   support\n",
            "\n",
            "         0.0       0.51      0.87      0.65     10207\n",
            "         1.0       0.73      0.74      0.74     13588\n",
            "         2.0       0.92      0.78      0.84     21655\n",
            "         3.0       0.61      0.29      0.39      7462\n",
            "\n",
            "    accuracy                           0.72     52912\n",
            "   macro avg       0.69      0.67      0.66     52912\n",
            "weighted avg       0.75      0.72      0.71     52912\n",
            "\n"
          ],
          "name": "stdout"
        }
      ]
    },
    {
      "cell_type": "code",
      "metadata": {
        "colab": {
          "base_uri": "https://localhost:8080/"
        },
        "id": "yUy1w9iubmzi",
        "outputId": "06b9a933-a9ff-43c4-e789-a3029fa5e186"
      },
      "source": [
        ""
      ],
      "execution_count": null,
      "outputs": [
        {
          "output_type": "stream",
          "text": [
            "Found 1980 validated image filenames belonging to 4 classes.\n"
          ],
          "name": "stdout"
        },
        {
          "output_type": "stream",
          "text": [
            "/usr/local/lib/python3.7/dist-packages/ipykernel_launcher.py:1: SettingWithCopyWarning: \n",
            "A value is trying to be set on a copy of a slice from a DataFrame.\n",
            "Try using .loc[row_indexer,col_indexer] = value instead\n",
            "\n",
            "See the caveats in the documentation: https://pandas.pydata.org/pandas-docs/stable/user_guide/indexing.html#returning-a-view-versus-a-copy\n",
            "  \"\"\"Entry point for launching an IPython kernel.\n"
          ],
          "name": "stderr"
        }
      ]
    },
    {
      "cell_type": "code",
      "metadata": {
        "colab": {
          "base_uri": "https://localhost:8080/"
        },
        "id": "jskuJCJcbmzj",
        "outputId": "0504b8f6-e103-4a33-d926-f0ecf51c417e"
      },
      "source": [
        "model_VGG_2.evaluate(test_generator)"
      ],
      "execution_count": null,
      "outputs": [
        {
          "output_type": "stream",
          "text": [
            "1980/1980 [==============================] - 9s 4ms/step - loss: 1.5789 - sparse_categorical_accuracy: 0.7283\n"
          ],
          "name": "stdout"
        },
        {
          "output_type": "execute_result",
          "data": {
            "text/plain": [
              "[1.578864574432373, 0.7282828092575073]"
            ]
          },
          "metadata": {
            "tags": []
          },
          "execution_count": 20
        }
      ]
    },
    {
      "cell_type": "code",
      "metadata": {
        "id": "qiDRcWMlxnrY"
      },
      "source": [
        "model_VGG_3.optimizer.get_config()"
      ],
      "execution_count": null,
      "outputs": []
    }
  ]
}