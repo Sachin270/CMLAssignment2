{
  "nbformat": 4,
  "nbformat_minor": 0,
  "metadata": {
    "kernelspec": {
      "display_name": "Python 3",
      "language": "python",
      "name": "python3"
    },
    "colab": {
      "name": "Untitled8.ipynb",
      "provenance": [],
      "collapsed_sections": [],
      "include_colab_link": true
    },
    "accelerator": "GPU"
  },
  "cells": [
    {
      "cell_type": "markdown",
      "metadata": {
        "id": "view-in-github",
        "colab_type": "text"
      },
      "source": [
        "<a href=\"https://colab.research.google.com/github/Sachin270/CMLAssignment2/blob/main/Assignment2.ipynb\" target=\"_parent\"><img src=\"https://colab.research.google.com/assets/colab-badge.svg\" alt=\"Open In Colab\"/></a>"
      ]
    },
    {
      "cell_type": "code",
      "metadata": {
        "id": "z1qAHC3MjyS6",
        "colab": {
          "base_uri": "https://localhost:8080/"
        },
        "outputId": "4e6fa3fd-cf5f-4d41-881b-4fa13752edef"
      },
      "source": [
        "from google.colab import drive\n",
        "drive.mount('/content/drive/')"
      ],
      "execution_count": 42,
      "outputs": [
        {
          "output_type": "stream",
          "text": [
            "Drive already mounted at /content/drive/; to attempt to forcibly remount, call drive.mount(\"/content/drive/\", force_remount=True).\n"
          ],
          "name": "stdout"
        }
      ]
    },
    {
      "cell_type": "code",
      "metadata": {
        "id": "6nd7cdo3k-vl",
        "colab": {
          "base_uri": "https://localhost:8080/"
        },
        "outputId": "71ff1bd0-dc78-4015-ba1b-d12de68e8ac4"
      },
      "source": [
        "!ls /content/drive/'MyDrive'/'Colab Notebooks'/"
      ],
      "execution_count": 43,
      "outputs": [
        {
          "output_type": "stream",
          "text": [
            " data_labels_extraData.csv\t      patch_images      Untitled1.ipynb\n",
            " data_labels_mainData.csv\t      Untitled\t       'Untitled8 (1).ipynb'\n",
            "'Image_classification_data (1).zip'   Untitled0.ipynb   Untitled8.ipynb\n"
          ],
          "name": "stdout"
        }
      ]
    },
    {
      "cell_type": "code",
      "metadata": {
        "colab": {
          "base_uri": "https://localhost:8080/"
        },
        "id": "0bMKIqgLlnuO",
        "outputId": "3f557fb7-9374-4d81-fc2a-2762378095be"
      },
      "source": [
        "!cp /content/drive/'MyDrive'/'Colab Notebooks'/'Image_classification_data (1).zip' .\n",
        "!unzip -q -o 'Image_classification_data (1).zip'\n",
        "!rm 'Image_classification_data (1).zip'\n",
        "!ls"
      ],
      "execution_count": null,
      "outputs": [
        {
          "output_type": "stream",
          "text": [
            "data_labels_extraData.csv  drive     patch_images\n",
            "data_labels_mainData.csv   __MACOSX  sample_data\n"
          ],
          "name": "stdout"
        }
      ]
    },
    {
      "cell_type": "code",
      "metadata": {
        "colab": {
          "base_uri": "https://localhost:8080/"
        },
        "id": "-Et8H9SabmzV",
        "outputId": "3abfce42-5fda-4f92-fb61-bc4b7a8a7a33"
      },
      "source": [
        "#Uncomment if on loca machine or AWS\n",
        "# import zipfile\n",
        "# with zipfile.ZipFile('./Image_classification_data (1).zip', 'r') as zip_ref:\n",
        "#     zip_ref.extractall('./')\n",
        "import numpy as np\n",
        "from sklearn.model_selection import train_test_split\n",
        "import pandas as pd\n",
        "\n",
        "data = pd.read_csv('./data_labels_mainData.csv')\n",
        "\n",
        "OUTPUT_CLASSES = 4\n",
        "\n",
        "\n",
        "# Uncomment the following line to do two class classification with\n",
        "# a subset of data\n",
        "# data = data[(data['Class'] == 3) | (data['Class'] == 5)]\n",
        "# OUTPUT_CLASSES = 2\n",
        "\n",
        "train_data, test_data = train_test_split(data, test_size=0.2, random_state=42)\n",
        "train_data, val_data = train_test_split(train_data, test_size=0.25, random_state=42)\n",
        "\n",
        "print(\"Train data : {}, Val Data: {}, Test Data: {}\".format(train_data.shape[0], val_data.shape[0], test_data.shape[0]))"
      ],
      "execution_count": null,
      "outputs": [
        {
          "output_type": "stream",
          "text": [
            "Train data : 5937, Val Data: 1979, Test Data: 1980\n"
          ],
          "name": "stdout"
        }
      ]
    },
    {
      "cell_type": "code",
      "metadata": {
        "colab": {
          "base_uri": "https://localhost:8080/"
        },
        "id": "o0B93O-sbmzZ",
        "outputId": "0b19cd07-efc2-42bf-87c6-a4f3a5733aab"
      },
      "source": [
        "train_data['Class'] = train_data['cellType'].astype('str')\n",
        "val_data['Class'] = val_data['cellType'].astype('str')\n",
        "\n",
        "from tensorflow.keras.preprocessing.image import ImageDataGenerator\n",
        "\n",
        "train_datagen = ImageDataGenerator(rescale=1./255, data_format='channels_last')\n",
        "val_datagen = ImageDataGenerator(rescale=1./255, data_format='channels_last')\n",
        "\n",
        "batch_size = 50\n",
        "\n",
        "train_generator = train_datagen.flow_from_dataframe(\n",
        "        dataframe=train_data,\n",
        "        directory='./patch_images',\n",
        "        x_col=\"ImageName\",\n",
        "        y_col=\"Class\",\n",
        "        target_size=(27, 27),\n",
        "        batch_size=batch_size,\n",
        "        class_mode='sparse')\n",
        "\n",
        "validation_generator = val_datagen.flow_from_dataframe(\n",
        "        dataframe=val_data,\n",
        "        directory='./patch_images',\n",
        "        x_col=\"ImageName\",\n",
        "        y_col=\"Class\",\n",
        "        target_size=(27, 27),\n",
        "        batch_size=batch_size,\n",
        "        class_mode='sparse')"
      ],
      "execution_count": null,
      "outputs": [
        {
          "output_type": "stream",
          "text": [
            "Found 5937 validated image filenames belonging to 4 classes.\n",
            "Found 1979 validated image filenames belonging to 4 classes.\n"
          ],
          "name": "stdout"
        }
      ]
    },
    {
      "cell_type": "code",
      "metadata": {
        "id": "T7XgoneObmza"
      },
      "source": [
        "import matplotlib.pyplot as plt\n",
        "def plot_learning_curve(train_loss, val_loss, train_metric, val_metric, metric_name='Accuracy'):\n",
        "    plt.figure(figsize=(10,5))\n",
        "    \n",
        "    plt.subplot(1,2,1)\n",
        "    plt.plot(train_loss, 'r--')\n",
        "    plt.plot(val_loss, 'b--')\n",
        "    plt.xlabel(\"epochs\")\n",
        "    plt.ylabel(\"Loss\")\n",
        "    plt.legend(['train', 'val'], loc='upper left')\n",
        "\n",
        "    plt.subplot(1,2,2)\n",
        "    plt.plot(train_metric, 'r--')\n",
        "    plt.plot(val_metric, 'b--')\n",
        "    plt.xlabel(\"epochs\")\n",
        "    plt.ylabel(metric_name)\n",
        "    plt.legend(['train', 'val'], loc='upper left')\n",
        "\n",
        "    plt.show()"
      ],
      "execution_count": null,
      "outputs": []
    },
    {
      "cell_type": "code",
      "metadata": {
        "id": "BOnJT90Jbmzb"
      },
      "source": [
        "import tensorflow as tf\n",
        "\n",
        "\n",
        "model_VGG_1 = tf.keras.Sequential([\n",
        "    #VGG block 1\n",
        "    tf.keras.layers.Conv2D(32, (3, 3), activation='relu', padding='same', input_shape=(27, 27, 3)),\n",
        "    tf.keras.layers.Conv2D(32, (3, 3), activation='relu', padding='same'),\n",
        "    tf.keras.layers.MaxPooling2D((2, 2)),\n",
        "    \n",
        "    #VGG block 2\n",
        "    tf.keras.layers.Conv2D(64, (3, 3), activation='relu', padding='same'),\n",
        "    tf.keras.layers.Conv2D(64, (3, 3), activation='relu', padding='same'),\n",
        "    tf.keras.layers.MaxPooling2D((2, 2)),\n",
        "    \n",
        "    #VGG block 3\n",
        "    tf.keras.layers.Conv2D(128, (3, 3), activation='relu', padding='same'),\n",
        "    tf.keras.layers.Conv2D(128, (3, 3), activation='relu', padding='same'),\n",
        "    tf.keras.layers.MaxPooling2D((2, 2)),\n",
        "    \n",
        "    tf.keras.layers.Flatten(),\n",
        "    tf.keras.layers.Dense(128, activation='relu'),\n",
        "    tf.keras.layers.Dense(OUTPUT_CLASSES),\n",
        "])"
      ],
      "execution_count": null,
      "outputs": []
    },
    {
      "cell_type": "code",
      "metadata": {
        "id": "eMl6xplCGpGq"
      },
      "source": [
        "from tensorflow.python.keras.metrics import Metric"
      ],
      "execution_count": null,
      "outputs": []
    },
    {
      "cell_type": "code",
      "metadata": {
        "id": "5rV_w1JDbmzc"
      },
      "source": [
        "model_VGG_1.compile(optimizer='adam',\n",
        "              loss=tf.keras.losses.SparseCategoricalCrossentropy(from_logits=True),\n",
        "              metrics=['sparse_categorical_accuracy',get_f1])"
      ],
      "execution_count": null,
      "outputs": []
    },
    {
      "cell_type": "code",
      "metadata": {
        "collapsed": true,
        "colab": {
          "base_uri": "https://localhost:8080/"
        },
        "id": "i-LJPz5ebmzd",
        "outputId": "f3cb8de6-49c1-4bd6-fe48-3ac57104d089"
      },
      "source": [
        "history_VGG_1 = model_VGG_1.fit(train_generator, validation_data = validation_generator, epochs=25)"
      ],
      "execution_count": null,
      "outputs": [
        {
          "output_type": "stream",
          "text": [
            "119/119 [==============================] - 34s 35ms/step - loss: 1.1581 - sparse_categorical_accuracy: 0.4886 - get_f1: 1.2176 - val_loss: 0.9793 - val_sparse_categorical_accuracy: 0.5766 - val_get_f1: 1.1997\n",
            "Epoch 2/25\n",
            "119/119 [==============================] - 4s 29ms/step - loss: 0.8393 - sparse_categorical_accuracy: 0.6742 - get_f1: 1.1341 - val_loss: 0.8086 - val_sparse_categorical_accuracy: 0.6842 - val_get_f1: 1.1500\n",
            "Epoch 3/25\n",
            "119/119 [==============================] - 4s 30ms/step - loss: 0.7652 - sparse_categorical_accuracy: 0.7014 - get_f1: 1.1659 - val_loss: 0.7491 - val_sparse_categorical_accuracy: 0.6993 - val_get_f1: 1.0959\n",
            "Epoch 4/25\n",
            "119/119 [==============================] - 4s 30ms/step - loss: 0.7293 - sparse_categorical_accuracy: 0.7118 - get_f1: 1.1488 - val_loss: 0.8516 - val_sparse_categorical_accuracy: 0.6478 - val_get_f1: 1.2007\n",
            "Epoch 5/25\n",
            "119/119 [==============================] - 4s 30ms/step - loss: 0.7017 - sparse_categorical_accuracy: 0.7229 - get_f1: 1.1615 - val_loss: 0.6832 - val_sparse_categorical_accuracy: 0.7266 - val_get_f1: 1.1074\n",
            "Epoch 6/25\n",
            "119/119 [==============================] - 4s 30ms/step - loss: 0.6716 - sparse_categorical_accuracy: 0.7369 - get_f1: 1.1461 - val_loss: 0.6470 - val_sparse_categorical_accuracy: 0.7468 - val_get_f1: 1.1636\n",
            "Epoch 7/25\n",
            "119/119 [==============================] - 4s 31ms/step - loss: 0.6466 - sparse_categorical_accuracy: 0.7561 - get_f1: 1.1507 - val_loss: 0.6546 - val_sparse_categorical_accuracy: 0.7499 - val_get_f1: 1.1236\n",
            "Epoch 8/25\n",
            "119/119 [==============================] - 4s 31ms/step - loss: 0.6369 - sparse_categorical_accuracy: 0.7504 - get_f1: 1.1402 - val_loss: 0.6742 - val_sparse_categorical_accuracy: 0.7362 - val_get_f1: 1.1059\n",
            "Epoch 9/25\n",
            "119/119 [==============================] - 4s 30ms/step - loss: 0.5989 - sparse_categorical_accuracy: 0.7706 - get_f1: 1.1418 - val_loss: 0.6775 - val_sparse_categorical_accuracy: 0.7191 - val_get_f1: 1.1104\n",
            "Epoch 10/25\n",
            "119/119 [==============================] - 4s 30ms/step - loss: 0.5604 - sparse_categorical_accuracy: 0.7863 - get_f1: 1.1348 - val_loss: 0.6382 - val_sparse_categorical_accuracy: 0.7544 - val_get_f1: 1.1083\n",
            "Epoch 11/25\n",
            "119/119 [==============================] - 4s 30ms/step - loss: 0.5548 - sparse_categorical_accuracy: 0.7861 - get_f1: 1.1220 - val_loss: 0.6355 - val_sparse_categorical_accuracy: 0.7479 - val_get_f1: 1.1206\n",
            "Epoch 12/25\n",
            "119/119 [==============================] - 4s 30ms/step - loss: 0.5156 - sparse_categorical_accuracy: 0.7991 - get_f1: 1.1184 - val_loss: 0.7348 - val_sparse_categorical_accuracy: 0.7393 - val_get_f1: 1.1171\n",
            "Epoch 13/25\n",
            "119/119 [==============================] - 4s 30ms/step - loss: 0.4697 - sparse_categorical_accuracy: 0.8253 - get_f1: 1.1269 - val_loss: 0.7057 - val_sparse_categorical_accuracy: 0.7458 - val_get_f1: 1.1062\n",
            "Epoch 14/25\n",
            "119/119 [==============================] - 4s 30ms/step - loss: 0.4259 - sparse_categorical_accuracy: 0.8393 - get_f1: 1.1201 - val_loss: 0.7934 - val_sparse_categorical_accuracy: 0.7317 - val_get_f1: 1.0853\n",
            "Epoch 15/25\n",
            "119/119 [==============================] - 4s 30ms/step - loss: 0.3885 - sparse_categorical_accuracy: 0.8541 - get_f1: 1.1070 - val_loss: 0.6750 - val_sparse_categorical_accuracy: 0.7494 - val_get_f1: 1.1203\n",
            "Epoch 16/25\n",
            "119/119 [==============================] - 4s 30ms/step - loss: 0.3471 - sparse_categorical_accuracy: 0.8705 - get_f1: 1.1153 - val_loss: 0.7312 - val_sparse_categorical_accuracy: 0.7676 - val_get_f1: 1.1177\n",
            "Epoch 17/25\n",
            "119/119 [==============================] - 4s 30ms/step - loss: 0.3072 - sparse_categorical_accuracy: 0.8892 - get_f1: 1.1112 - val_loss: 0.8013 - val_sparse_categorical_accuracy: 0.7665 - val_get_f1: 1.0994\n",
            "Epoch 18/25\n",
            "119/119 [==============================] - 4s 30ms/step - loss: 0.2503 - sparse_categorical_accuracy: 0.9070 - get_f1: 1.1047 - val_loss: 0.8663 - val_sparse_categorical_accuracy: 0.7297 - val_get_f1: 1.1327\n",
            "Epoch 19/25\n",
            "119/119 [==============================] - 4s 30ms/step - loss: 0.2198 - sparse_categorical_accuracy: 0.9197 - get_f1: 1.1023 - val_loss: 0.9658 - val_sparse_categorical_accuracy: 0.7408 - val_get_f1: 1.1498\n",
            "Epoch 20/25\n",
            "119/119 [==============================] - 4s 30ms/step - loss: 0.2062 - sparse_categorical_accuracy: 0.9252 - get_f1: 1.1056 - val_loss: 0.8381 - val_sparse_categorical_accuracy: 0.7539 - val_get_f1: 1.1286\n",
            "Epoch 21/25\n",
            "119/119 [==============================] - 4s 30ms/step - loss: 0.1389 - sparse_categorical_accuracy: 0.9498 - get_f1: 1.0884 - val_loss: 1.0688 - val_sparse_categorical_accuracy: 0.7337 - val_get_f1: 1.1195\n",
            "Epoch 22/25\n",
            "119/119 [==============================] - 4s 30ms/step - loss: 0.1436 - sparse_categorical_accuracy: 0.9483 - get_f1: 1.0783 - val_loss: 0.9860 - val_sparse_categorical_accuracy: 0.7423 - val_get_f1: 1.1176\n",
            "Epoch 23/25\n",
            "119/119 [==============================] - 4s 31ms/step - loss: 0.1687 - sparse_categorical_accuracy: 0.9390 - get_f1: 1.0803 - val_loss: 1.1848 - val_sparse_categorical_accuracy: 0.7226 - val_get_f1: 1.1233\n",
            "Epoch 24/25\n",
            "119/119 [==============================] - 4s 31ms/step - loss: 0.0898 - sparse_categorical_accuracy: 0.9682 - get_f1: 1.0776 - val_loss: 1.4304 - val_sparse_categorical_accuracy: 0.7110 - val_get_f1: 1.1050\n",
            "Epoch 25/25\n",
            "119/119 [==============================] - 4s 29ms/step - loss: 0.0664 - sparse_categorical_accuracy: 0.9771 - get_f1: 1.0716 - val_loss: 1.3895 - val_sparse_categorical_accuracy: 0.7372 - val_get_f1: 1.1196\n"
          ],
          "name": "stdout"
        }
      ]
    },
    {
      "cell_type": "code",
      "metadata": {
        "collapsed": true,
        "colab": {
          "base_uri": "https://localhost:8080/",
          "height": 337
        },
        "id": "lqSSl9nqbmzd",
        "outputId": "7c8ff8eb-faab-4846-db71-b183a5e3666a"
      },
      "source": [
        "plot_learning_curve(history_VGG_1.history['loss'], history_VGG_1.history['val_loss'], \n",
        "                    history_VGG_1.history['sparse_categorical_accuracy'], history_VGG_1.history['val_sparse_categorical_accuracy'], \n",
        "                    metric_name='Accuracy')"
      ],
      "execution_count": null,
      "outputs": [
        {
          "output_type": "display_data",
          "data": {
            "image/png": "[encoded data removed]",
            "text/plain": [
              "<Figure size 720x360 with 2 Axes>"
            ]
          },
          "metadata": {
            "tags": [],
            "needs_background": "light"
          }
        }
      ]
    },
    {
      "cell_type": "code",
      "metadata": {
        "id": "rpzgYttJbmzf"
      },
      "source": [
        "reg_lambda = 0.001\n",
        "\n",
        "model_VGG_2 = tf.keras.Sequential([\n",
        "    #VGG block 1\n",
        "    tf.keras.layers.Conv2D(27, (3, 3), activation='relu', padding='same', \n",
        "                           kernel_regularizer=tf.keras.regularizers.l2(reg_lambda), input_shape=(27, 27, 3)),\n",
        "    tf.keras.layers.Conv2D(27, (3, 3), activation='relu', padding='same', \n",
        "                           kernel_regularizer=tf.keras.regularizers.l2(reg_lambda)),\n",
        "    tf.keras.layers.MaxPooling2D((2, 2)),\n",
        "    \n",
        "    #VGG block 2\n",
        "    tf.keras.layers.Conv2D(54, (3, 3), activation='relu', padding='same', \n",
        "                           kernel_regularizer=tf.keras.regularizers.l2(reg_lambda)),\n",
        "    tf.keras.layers.Conv2D(54, (3, 3), activation='relu', padding='same', \n",
        "                           kernel_regularizer=tf.keras.regularizers.l2(reg_lambda)),\n",
        "    tf.keras.layers.MaxPooling2D((2, 2)),\n",
        "    \n",
        "    #VGG block 3\n",
        "    tf.keras.layers.Conv2D(108, (3, 3), activation='relu', padding='same', \n",
        "                           kernel_regularizer=tf.keras.regularizers.l2(reg_lambda)),\n",
        "    tf.keras.layers.Conv2D(108, (3, 3), activation='relu', padding='same', \n",
        "                           kernel_regularizer=tf.keras.regularizers.l2(reg_lambda)),\n",
        "    tf.keras.layers.MaxPooling2D((2, 2)),\n",
        "    \n",
        "    tf.keras.layers.Flatten(),\n",
        "    tf.keras.layers.Dense(108, activation='relu'),\n",
        "    tf.keras.layers.Dropout(.2),\n",
        "    tf.keras.layers.Dense(OUTPUT_CLASSES,activation='softmax'),\n",
        "])"
      ],
      "execution_count": null,
      "outputs": []
    },
    {
      "cell_type": "code",
      "metadata": {
        "id": "o9Rpr8Rhbmzg"
      },
      "source": [
        "model_VGG_2.compile(optimizer='adam',\n",
        "              loss=tf.keras.losses.SparseCategoricalCrossentropy(from_logits=True),\n",
        "              metrics=['sparse_categorical_accuracy'])"
      ],
      "execution_count": null,
      "outputs": []
    },
    {
      "cell_type": "code",
      "metadata": {
        "id": "sBLx_289bmzh"
      },
      "source": [
        "history_VGG_2 = model_VGG_2.fit(train_generator, validation_data = validation_generator, epochs=100)\n",
        "plot_learning_curve(history_VGG_2.history['loss'], history_VGG_2.history['val_loss'], \n",
        "                    history_VGG_2.history['sparse_categorical_accuracy'], history_VGG_2.history['val_sparse_categorical_accuracy'], \n",
        "                    metric_name='Accuracy')"
      ],
      "execution_count": null,
      "outputs": []
    },
    {
      "cell_type": "code",
      "metadata": {
        "colab": {
          "base_uri": "https://localhost:8080/"
        },
        "id": "e7jcn5E_bmzi",
        "outputId": "644e7bd1-b5dc-4204-a03b-7a1a028b2caf"
      },
      "source": [
        "model_VGG_2.evaluate(validation_generator)"
      ],
      "execution_count": null,
      "outputs": [
        {
          "output_type": "stream",
          "text": [
            "40/40 [==============================] - 1s 19ms/step - loss: 1.4398 - sparse_categorical_accuracy: 0.7458\n"
          ],
          "name": "stdout"
        },
        {
          "output_type": "execute_result",
          "data": {
            "text/plain": [
              "[1.4398329257965088, 0.7458312511444092]"
            ]
          },
          "metadata": {
            "tags": []
          },
          "execution_count": 18
        }
      ]
    },
    {
      "cell_type": "code",
      "metadata": {
        "colab": {
          "base_uri": "https://localhost:8080/"
        },
        "id": "yUy1w9iubmzi",
        "outputId": "abda6240-eb7e-49d1-cbda-8785a1d0ccc6"
      },
      "source": [
        "test_data['Class'] = test_data['cellType'].astype('str')\n",
        "\n",
        "test_datagen = ImageDataGenerator(rescale=1./255, data_format='channels_last')\n",
        "\n",
        "batch_size = 1\n",
        "\n",
        "test_generator = test_datagen.flow_from_dataframe(\n",
        "        dataframe=test_data,\n",
        "        directory='./patch_images',\n",
        "        x_col=\"ImageName\",\n",
        "        y_col=\"Class\",\n",
        "        target_size=(27, 27),\n",
        "        batch_size=batch_size,\n",
        "        class_mode='sparse')"
      ],
      "execution_count": null,
      "outputs": [
        {
          "output_type": "stream",
          "text": [
            "Found 1980 validated image filenames belonging to 4 classes.\n"
          ],
          "name": "stdout"
        },
        {
          "output_type": "stream",
          "text": [
            "/usr/local/lib/python3.7/dist-packages/ipykernel_launcher.py:1: SettingWithCopyWarning: \n",
            "A value is trying to be set on a copy of a slice from a DataFrame.\n",
            "Try using .loc[row_indexer,col_indexer] = value instead\n",
            "\n",
            "See the caveats in the documentation: https://pandas.pydata.org/pandas-docs/stable/user_guide/indexing.html#returning-a-view-versus-a-copy\n",
            "  \"\"\"Entry point for launching an IPython kernel.\n"
          ],
          "name": "stderr"
        }
      ]
    },
    {
      "cell_type": "code",
      "metadata": {
        "colab": {
          "base_uri": "https://localhost:8080/"
        },
        "id": "jskuJCJcbmzj",
        "outputId": "0504b8f6-e103-4a33-d926-f0ecf51c417e"
      },
      "source": [
        "model_VGG_2.evaluate(test_generator)"
      ],
      "execution_count": null,
      "outputs": [
        {
          "output_type": "stream",
          "text": [
            "1980/1980 [==============================] - 9s 4ms/step - loss: 1.5789 - sparse_categorical_accuracy: 0.7283\n"
          ],
          "name": "stdout"
        },
        {
          "output_type": "execute_result",
          "data": {
            "text/plain": [
              "[1.578864574432373, 0.7282828092575073]"
            ]
          },
          "metadata": {
            "tags": []
          },
          "execution_count": 20
        }
      ]
    },
    {
      "cell_type": "code",
      "metadata": {
        "colab": {
          "base_uri": "https://localhost:8080/"
        },
        "id": "G2T24Helbmzj",
        "outputId": "282f5f06-a509-4d9b-90df-5275c7b4f391"
      },
      "source": [
        "train_data['Class'] = train_data['cellType'].astype('str')\n",
        "val_data['Class'] = val_data['cellType'].astype('str')\n",
        "\n",
        "from tensorflow.keras.preprocessing.image import ImageDataGenerator\n",
        "\n",
        "train_datagen = ImageDataGenerator(rescale=1./255, data_format='channels_last',\n",
        "                                   rotation_range=15, width_shift_range=0.2,\n",
        "                                   height_shift_range=0.2, brightness_range=[0.5,1.5])\n",
        "val_datagen = ImageDataGenerator(rescale=1./255, data_format='channels_last')\n",
        "\n",
        "batch_size = 27\n",
        "\n",
        "train_generator = train_datagen.flow_from_dataframe(\n",
        "        dataframe=train_data,\n",
        "        directory='./patch_images',\n",
        "        x_col=\"ImageName\",\n",
        "        y_col=\"Class\",\n",
        "        target_size=(27, 27),\n",
        "        batch_size=batch_size,\n",
        "        class_mode='sparse')\n",
        "\n",
        "validation_generator = val_datagen.flow_from_dataframe(\n",
        "        dataframe=val_data,\n",
        "        directory='./patch_images',\n",
        "        x_col=\"ImageName\",\n",
        "        y_col=\"Class\",\n",
        "        target_size=(27, 27),\n",
        "        batch_size=batch_size,\n",
        "        class_mode='sparse')"
      ],
      "execution_count": 77,
      "outputs": [
        {
          "output_type": "stream",
          "text": [
            "Found 5937 validated image filenames belonging to 4 classes.\n",
            "Found 1979 validated image filenames belonging to 4 classes.\n"
          ],
          "name": "stdout"
        }
      ]
    },
    {
      "cell_type": "code",
      "metadata": {
        "id": "XQiA8cP6zqSd"
      },
      "source": [
        "reg_lambda = 0.001\n",
        "\n",
        "model_VGG_3 = tf.keras.Sequential([\n",
        "    #VGG block 1\n",
        "    tf.keras.layers.Conv2D(27, (3, 3), activation='relu', padding='same', \n",
        "                           kernel_regularizer=tf.keras.regularizers.l2(reg_lambda), input_shape=(27, 27, 3)),\n",
        "    tf.keras.layers.Conv2D(27, (3, 3), activation='relu', padding='same', \n",
        "                           kernel_regularizer=tf.keras.regularizers.l2(reg_lambda)),\n",
        "    tf.keras.layers.MaxPooling2D((2, 2)),\n",
        "    \n",
        "    #VGG block 2\n",
        "    tf.keras.layers.Conv2D(54, (3, 3), activation='relu', padding='same', \n",
        "                           kernel_regularizer=tf.keras.regularizers.l2(reg_lambda)),\n",
        "    tf.keras.layers.Conv2D(54, (3, 3), activation='relu', padding='same', \n",
        "                           kernel_regularizer=tf.keras.regularizers.l2(reg_lambda)),\n",
        "    tf.keras.layers.MaxPooling2D((2, 2)),\n",
        "    \n",
        "    #VGG block 3\n",
        "    # tf.keras.layers.Conv2D(108, (3, 3), activation='relu', padding='same', \n",
        "    #                        kernel_regularizer=tf.keras.regularizers.l2(reg_lambda)),\n",
        "    # tf.keras.layers.Conv2D(108, (3, 3), activation='relu', padding='same', \n",
        "    #                        kernel_regularizer=tf.keras.regularizers.l2(reg_lambda)),\n",
        "    # tf.keras.layers.MaxPooling2D((2, 2)),\n",
        "    \n",
        "    tf.keras.layers.Flatten(),\n",
        "    tf.keras.layers.Dense(54, activation='relu'),\n",
        "    tf.keras.layers.Dropout(.2),\n",
        "    tf.keras.layers.Dense(OUTPUT_CLASSES,activation='softmax'),\n",
        "])"
      ],
      "execution_count": 78,
      "outputs": []
    },
    {
      "cell_type": "code",
      "metadata": {
        "id": "roIOfBW-zqU3"
      },
      "source": [
        "\n",
        "model_VGG_3.compile(tf.keras.optimizers.Adam(learning_rate=0.0001,name=\"Adam\"),\n",
        "              loss=tf.keras.losses.SparseCategoricalCrossentropy(from_logits=False),\n",
        "              metrics=['sparse_categorical_accuracy'])"
      ],
      "execution_count": 79,
      "outputs": []
    },
    {
      "cell_type": "code",
      "metadata": {
        "id": "qiDRcWMlxnrY"
      },
      "source": [
        "model_VGG_3.optimizer.get_config()"
      ],
      "execution_count": null,
      "outputs": []
    },
    {
      "cell_type": "code",
      "metadata": {
        "colab": {
          "base_uri": "https://localhost:8080/",
          "height": 1000
        },
        "id": "2A00fC7izqYv",
        "outputId": "ef5ee7c3-3bc4-47d9-fc1e-62eabd7eec33"
      },
      "source": [
        "history_VGG_3 = model_VGG_3.fit(train_generator, validation_data = validation_generator, epochs=100)\n",
        "\n",
        "plot_learning_curve(history_VGG_3.history['loss'], history_VGG_3.history['val_loss'], \n",
        "                    history_VGG_3.history['sparse_categorical_accuracy'], history_VGG_3.history['val_sparse_categorical_accuracy'], \n",
        "                    metric_name='Accuracy')"
      ],
      "execution_count": 80,
      "outputs": [
        {
          "output_type": "stream",
          "text": [
            "Epoch 1/100\n",
            "220/220 [==============================] - 6s 27ms/step - loss: 1.3130 - sparse_categorical_accuracy: 0.4713 - val_loss: 1.1839 - val_sparse_categorical_accuracy: 0.5093\n",
            "Epoch 2/100\n",
            "220/220 [==============================] - 6s 25ms/step - loss: 1.1032 - sparse_categorical_accuracy: 0.5641 - val_loss: 1.0530 - val_sparse_categorical_accuracy: 0.5882\n",
            "Epoch 3/100\n",
            "220/220 [==============================] - 6s 25ms/step - loss: 1.0412 - sparse_categorical_accuracy: 0.6180 - val_loss: 0.9919 - val_sparse_categorical_accuracy: 0.6337\n",
            "Epoch 4/100\n",
            "220/220 [==============================] - 6s 25ms/step - loss: 0.9843 - sparse_categorical_accuracy: 0.6375 - val_loss: 0.9384 - val_sparse_categorical_accuracy: 0.6433\n",
            "Epoch 5/100\n",
            "220/220 [==============================] - 6s 25ms/step - loss: 0.9608 - sparse_categorical_accuracy: 0.6534 - val_loss: 0.9024 - val_sparse_categorical_accuracy: 0.6609\n",
            "Epoch 6/100\n",
            "220/220 [==============================] - 6s 25ms/step - loss: 0.9414 - sparse_categorical_accuracy: 0.6662 - val_loss: 0.9120 - val_sparse_categorical_accuracy: 0.6493\n",
            "Epoch 7/100\n",
            "220/220 [==============================] - 6s 26ms/step - loss: 0.9141 - sparse_categorical_accuracy: 0.6732 - val_loss: 0.8911 - val_sparse_categorical_accuracy: 0.6579\n",
            "Epoch 8/100\n",
            "220/220 [==============================] - 6s 25ms/step - loss: 0.9052 - sparse_categorical_accuracy: 0.6786 - val_loss: 0.8752 - val_sparse_categorical_accuracy: 0.6771\n",
            "Epoch 9/100\n",
            "220/220 [==============================] - 6s 25ms/step - loss: 0.9065 - sparse_categorical_accuracy: 0.6737 - val_loss: 0.8431 - val_sparse_categorical_accuracy: 0.6993\n",
            "Epoch 10/100\n",
            "220/220 [==============================] - 6s 25ms/step - loss: 0.8788 - sparse_categorical_accuracy: 0.6897 - val_loss: 0.8595 - val_sparse_categorical_accuracy: 0.6751\n",
            "Epoch 11/100\n",
            "220/220 [==============================] - 6s 26ms/step - loss: 0.8918 - sparse_categorical_accuracy: 0.6891 - val_loss: 0.8559 - val_sparse_categorical_accuracy: 0.6705\n",
            "Epoch 12/100\n",
            "220/220 [==============================] - 6s 26ms/step - loss: 0.8746 - sparse_categorical_accuracy: 0.6923 - val_loss: 0.9033 - val_sparse_categorical_accuracy: 0.6554\n",
            "Epoch 13/100\n",
            "220/220 [==============================] - 6s 26ms/step - loss: 0.8749 - sparse_categorical_accuracy: 0.6918 - val_loss: 0.8483 - val_sparse_categorical_accuracy: 0.6867\n",
            "Epoch 14/100\n",
            "220/220 [==============================] - 6s 25ms/step - loss: 0.8657 - sparse_categorical_accuracy: 0.6946 - val_loss: 0.8370 - val_sparse_categorical_accuracy: 0.7029\n",
            "Epoch 15/100\n",
            "220/220 [==============================] - 6s 26ms/step - loss: 0.8613 - sparse_categorical_accuracy: 0.6892 - val_loss: 0.9168 - val_sparse_categorical_accuracy: 0.6468\n",
            "Epoch 16/100\n",
            "220/220 [==============================] - 6s 25ms/step - loss: 0.8586 - sparse_categorical_accuracy: 0.6970 - val_loss: 0.8561 - val_sparse_categorical_accuracy: 0.6857\n",
            "Epoch 17/100\n",
            "220/220 [==============================] - 6s 25ms/step - loss: 0.8474 - sparse_categorical_accuracy: 0.7042 - val_loss: 0.8450 - val_sparse_categorical_accuracy: 0.6923\n",
            "Epoch 18/100\n",
            "220/220 [==============================] - 6s 26ms/step - loss: 0.8430 - sparse_categorical_accuracy: 0.6982 - val_loss: 0.7865 - val_sparse_categorical_accuracy: 0.7191\n",
            "Epoch 19/100\n",
            "220/220 [==============================] - 6s 26ms/step - loss: 0.8484 - sparse_categorical_accuracy: 0.6988 - val_loss: 0.8706 - val_sparse_categorical_accuracy: 0.6736\n",
            "Epoch 20/100\n",
            "220/220 [==============================] - 6s 25ms/step - loss: 0.8320 - sparse_categorical_accuracy: 0.6985 - val_loss: 0.8443 - val_sparse_categorical_accuracy: 0.6908\n",
            "Epoch 21/100\n",
            "220/220 [==============================] - 6s 25ms/step - loss: 0.8335 - sparse_categorical_accuracy: 0.7047 - val_loss: 0.8563 - val_sparse_categorical_accuracy: 0.6882\n",
            "Epoch 22/100\n",
            "220/220 [==============================] - 6s 26ms/step - loss: 0.8305 - sparse_categorical_accuracy: 0.7022 - val_loss: 0.8060 - val_sparse_categorical_accuracy: 0.7145\n",
            "Epoch 23/100\n",
            "220/220 [==============================] - 6s 26ms/step - loss: 0.8290 - sparse_categorical_accuracy: 0.7020 - val_loss: 0.8890 - val_sparse_categorical_accuracy: 0.6599\n",
            "Epoch 24/100\n",
            "220/220 [==============================] - 6s 26ms/step - loss: 0.8235 - sparse_categorical_accuracy: 0.7073 - val_loss: 0.8316 - val_sparse_categorical_accuracy: 0.6928\n",
            "Epoch 25/100\n",
            "220/220 [==============================] - 6s 26ms/step - loss: 0.8321 - sparse_categorical_accuracy: 0.6983 - val_loss: 1.0117 - val_sparse_categorical_accuracy: 0.6165\n",
            "Epoch 26/100\n",
            "220/220 [==============================] - 6s 26ms/step - loss: 0.8243 - sparse_categorical_accuracy: 0.7100 - val_loss: 0.7897 - val_sparse_categorical_accuracy: 0.7236\n",
            "Epoch 27/100\n",
            "220/220 [==============================] - 6s 26ms/step - loss: 0.8129 - sparse_categorical_accuracy: 0.7103 - val_loss: 0.7771 - val_sparse_categorical_accuracy: 0.7261\n",
            "Epoch 28/100\n",
            "220/220 [==============================] - 6s 25ms/step - loss: 0.8078 - sparse_categorical_accuracy: 0.7158 - val_loss: 0.7614 - val_sparse_categorical_accuracy: 0.7231\n",
            "Epoch 29/100\n",
            "220/220 [==============================] - 6s 25ms/step - loss: 0.8175 - sparse_categorical_accuracy: 0.7103 - val_loss: 0.8104 - val_sparse_categorical_accuracy: 0.6938\n",
            "Epoch 30/100\n",
            "220/220 [==============================] - 6s 26ms/step - loss: 0.8091 - sparse_categorical_accuracy: 0.7118 - val_loss: 0.8433 - val_sparse_categorical_accuracy: 0.6796\n",
            "Epoch 31/100\n",
            "220/220 [==============================] - 6s 26ms/step - loss: 0.8101 - sparse_categorical_accuracy: 0.7108 - val_loss: 0.8314 - val_sparse_categorical_accuracy: 0.6872\n",
            "Epoch 32/100\n",
            "220/220 [==============================] - 6s 26ms/step - loss: 0.8011 - sparse_categorical_accuracy: 0.7153 - val_loss: 0.7679 - val_sparse_categorical_accuracy: 0.7271\n",
            "Epoch 33/100\n",
            "220/220 [==============================] - 6s 25ms/step - loss: 0.8055 - sparse_categorical_accuracy: 0.7160 - val_loss: 0.7615 - val_sparse_categorical_accuracy: 0.7317\n",
            "Epoch 34/100\n",
            "220/220 [==============================] - 6s 26ms/step - loss: 0.7931 - sparse_categorical_accuracy: 0.7179 - val_loss: 0.8086 - val_sparse_categorical_accuracy: 0.6963\n",
            "Epoch 35/100\n",
            "220/220 [==============================] - 6s 26ms/step - loss: 0.7883 - sparse_categorical_accuracy: 0.7206 - val_loss: 0.8087 - val_sparse_categorical_accuracy: 0.6943\n",
            "Epoch 36/100\n",
            "220/220 [==============================] - 6s 26ms/step - loss: 0.7861 - sparse_categorical_accuracy: 0.7206 - val_loss: 0.9260 - val_sparse_categorical_accuracy: 0.6463\n",
            "Epoch 37/100\n",
            "220/220 [==============================] - 6s 26ms/step - loss: 0.7873 - sparse_categorical_accuracy: 0.7221 - val_loss: 0.7547 - val_sparse_categorical_accuracy: 0.7327\n",
            "Epoch 38/100\n",
            "220/220 [==============================] - 6s 26ms/step - loss: 0.7944 - sparse_categorical_accuracy: 0.7194 - val_loss: 0.7787 - val_sparse_categorical_accuracy: 0.7165\n",
            "Epoch 39/100\n",
            "220/220 [==============================] - 6s 26ms/step - loss: 0.7899 - sparse_categorical_accuracy: 0.7204 - val_loss: 0.8116 - val_sparse_categorical_accuracy: 0.6938\n",
            "Epoch 40/100\n",
            "220/220 [==============================] - 6s 26ms/step - loss: 0.7835 - sparse_categorical_accuracy: 0.7221 - val_loss: 0.8713 - val_sparse_categorical_accuracy: 0.6650\n",
            "Epoch 41/100\n",
            "220/220 [==============================] - 6s 26ms/step - loss: 0.7675 - sparse_categorical_accuracy: 0.7249 - val_loss: 0.7608 - val_sparse_categorical_accuracy: 0.7216\n",
            "Epoch 42/100\n",
            "220/220 [==============================] - 6s 26ms/step - loss: 0.7634 - sparse_categorical_accuracy: 0.7266 - val_loss: 0.7469 - val_sparse_categorical_accuracy: 0.7271\n",
            "Epoch 43/100\n",
            "220/220 [==============================] - 6s 26ms/step - loss: 0.7835 - sparse_categorical_accuracy: 0.7201 - val_loss: 0.9102 - val_sparse_categorical_accuracy: 0.6448\n",
            "Epoch 44/100\n",
            "220/220 [==============================] - 6s 26ms/step - loss: 0.7657 - sparse_categorical_accuracy: 0.7266 - val_loss: 0.7868 - val_sparse_categorical_accuracy: 0.7034\n",
            "Epoch 45/100\n",
            "220/220 [==============================] - 6s 26ms/step - loss: 0.7561 - sparse_categorical_accuracy: 0.7263 - val_loss: 0.7651 - val_sparse_categorical_accuracy: 0.7175\n",
            "Epoch 46/100\n",
            "220/220 [==============================] - 6s 26ms/step - loss: 0.7678 - sparse_categorical_accuracy: 0.7285 - val_loss: 0.7721 - val_sparse_categorical_accuracy: 0.7115\n",
            "Epoch 47/100\n",
            "220/220 [==============================] - 6s 26ms/step - loss: 0.7637 - sparse_categorical_accuracy: 0.7313 - val_loss: 0.7759 - val_sparse_categorical_accuracy: 0.7185\n",
            "Epoch 48/100\n",
            "220/220 [==============================] - 6s 26ms/step - loss: 0.7696 - sparse_categorical_accuracy: 0.7273 - val_loss: 0.7861 - val_sparse_categorical_accuracy: 0.7191\n",
            "Epoch 49/100\n",
            "220/220 [==============================] - 6s 26ms/step - loss: 0.7626 - sparse_categorical_accuracy: 0.7255 - val_loss: 0.7694 - val_sparse_categorical_accuracy: 0.7140\n",
            "Epoch 50/100\n",
            "220/220 [==============================] - 6s 26ms/step - loss: 0.7544 - sparse_categorical_accuracy: 0.7339 - val_loss: 0.8607 - val_sparse_categorical_accuracy: 0.6675\n",
            "Epoch 51/100\n",
            "220/220 [==============================] - 6s 26ms/step - loss: 0.7556 - sparse_categorical_accuracy: 0.7320 - val_loss: 0.7709 - val_sparse_categorical_accuracy: 0.7120\n",
            "Epoch 52/100\n",
            "220/220 [==============================] - 6s 26ms/step - loss: 0.7577 - sparse_categorical_accuracy: 0.7275 - val_loss: 0.7663 - val_sparse_categorical_accuracy: 0.7206\n",
            "Epoch 53/100\n",
            "220/220 [==============================] - 6s 26ms/step - loss: 0.7489 - sparse_categorical_accuracy: 0.7342 - val_loss: 0.7837 - val_sparse_categorical_accuracy: 0.7084\n",
            "Epoch 54/100\n",
            "220/220 [==============================] - 6s 26ms/step - loss: 0.7480 - sparse_categorical_accuracy: 0.7315 - val_loss: 0.7550 - val_sparse_categorical_accuracy: 0.7165\n",
            "Epoch 55/100\n",
            "220/220 [==============================] - 6s 26ms/step - loss: 0.7462 - sparse_categorical_accuracy: 0.7399 - val_loss: 0.7782 - val_sparse_categorical_accuracy: 0.7059\n",
            "Epoch 56/100\n",
            "220/220 [==============================] - 6s 26ms/step - loss: 0.7434 - sparse_categorical_accuracy: 0.7345 - val_loss: 0.7916 - val_sparse_categorical_accuracy: 0.7004\n",
            "Epoch 57/100\n",
            "220/220 [==============================] - 6s 26ms/step - loss: 0.7531 - sparse_categorical_accuracy: 0.7356 - val_loss: 0.7813 - val_sparse_categorical_accuracy: 0.7019\n",
            "Epoch 58/100\n",
            "220/220 [==============================] - 6s 26ms/step - loss: 0.7400 - sparse_categorical_accuracy: 0.7396 - val_loss: 0.7759 - val_sparse_categorical_accuracy: 0.7089\n",
            "Epoch 59/100\n",
            "220/220 [==============================] - 6s 26ms/step - loss: 0.7366 - sparse_categorical_accuracy: 0.7383 - val_loss: 0.7667 - val_sparse_categorical_accuracy: 0.7105\n",
            "Epoch 60/100\n",
            "220/220 [==============================] - 6s 26ms/step - loss: 0.7387 - sparse_categorical_accuracy: 0.7409 - val_loss: 0.8391 - val_sparse_categorical_accuracy: 0.6842\n",
            "Epoch 61/100\n",
            "220/220 [==============================] - 6s 26ms/step - loss: 0.7367 - sparse_categorical_accuracy: 0.7388 - val_loss: 0.7633 - val_sparse_categorical_accuracy: 0.7185\n",
            "Epoch 62/100\n",
            "220/220 [==============================] - 6s 26ms/step - loss: 0.7455 - sparse_categorical_accuracy: 0.7381 - val_loss: 0.7992 - val_sparse_categorical_accuracy: 0.6958\n",
            "Epoch 63/100\n",
            "220/220 [==============================] - 6s 26ms/step - loss: 0.7428 - sparse_categorical_accuracy: 0.7408 - val_loss: 0.7343 - val_sparse_categorical_accuracy: 0.7292\n",
            "Epoch 64/100\n",
            "220/220 [==============================] - 6s 26ms/step - loss: 0.7313 - sparse_categorical_accuracy: 0.7458 - val_loss: 0.7382 - val_sparse_categorical_accuracy: 0.7287\n",
            "Epoch 65/100\n",
            "220/220 [==============================] - 6s 26ms/step - loss: 0.7273 - sparse_categorical_accuracy: 0.7433 - val_loss: 0.7508 - val_sparse_categorical_accuracy: 0.7246\n",
            "Epoch 66/100\n",
            "220/220 [==============================] - 6s 26ms/step - loss: 0.7320 - sparse_categorical_accuracy: 0.7396 - val_loss: 0.7249 - val_sparse_categorical_accuracy: 0.7332\n",
            "Epoch 67/100\n",
            "220/220 [==============================] - 6s 26ms/step - loss: 0.7376 - sparse_categorical_accuracy: 0.7337 - val_loss: 0.7669 - val_sparse_categorical_accuracy: 0.7155\n",
            "Epoch 68/100\n",
            "220/220 [==============================] - 6s 26ms/step - loss: 0.7257 - sparse_categorical_accuracy: 0.7433 - val_loss: 0.7425 - val_sparse_categorical_accuracy: 0.7241\n",
            "Epoch 69/100\n",
            "220/220 [==============================] - 6s 26ms/step - loss: 0.7188 - sparse_categorical_accuracy: 0.7473 - val_loss: 0.7900 - val_sparse_categorical_accuracy: 0.7029\n",
            "Epoch 70/100\n",
            "220/220 [==============================] - 6s 26ms/step - loss: 0.7270 - sparse_categorical_accuracy: 0.7447 - val_loss: 0.7456 - val_sparse_categorical_accuracy: 0.7201\n",
            "Epoch 71/100\n",
            "220/220 [==============================] - 6s 26ms/step - loss: 0.7269 - sparse_categorical_accuracy: 0.7455 - val_loss: 0.8315 - val_sparse_categorical_accuracy: 0.6796\n",
            "Epoch 72/100\n",
            "220/220 [==============================] - 6s 26ms/step - loss: 0.7373 - sparse_categorical_accuracy: 0.7367 - val_loss: 0.7055 - val_sparse_categorical_accuracy: 0.7458\n",
            "Epoch 73/100\n",
            "220/220 [==============================] - 6s 26ms/step - loss: 0.7264 - sparse_categorical_accuracy: 0.7391 - val_loss: 0.7150 - val_sparse_categorical_accuracy: 0.7413\n",
            "Epoch 74/100\n",
            "220/220 [==============================] - 6s 26ms/step - loss: 0.7239 - sparse_categorical_accuracy: 0.7482 - val_loss: 0.7616 - val_sparse_categorical_accuracy: 0.7074\n",
            "Epoch 75/100\n",
            "220/220 [==============================] - 6s 26ms/step - loss: 0.7280 - sparse_categorical_accuracy: 0.7443 - val_loss: 0.7438 - val_sparse_categorical_accuracy: 0.7251\n",
            "Epoch 76/100\n",
            "220/220 [==============================] - 6s 26ms/step - loss: 0.7230 - sparse_categorical_accuracy: 0.7473 - val_loss: 0.7939 - val_sparse_categorical_accuracy: 0.6958\n",
            "Epoch 77/100\n",
            "220/220 [==============================] - 6s 26ms/step - loss: 0.7157 - sparse_categorical_accuracy: 0.7462 - val_loss: 0.7024 - val_sparse_categorical_accuracy: 0.7357\n",
            "Epoch 78/100\n",
            "220/220 [==============================] - 6s 26ms/step - loss: 0.7151 - sparse_categorical_accuracy: 0.7452 - val_loss: 0.7361 - val_sparse_categorical_accuracy: 0.7297\n",
            "Epoch 79/100\n",
            "220/220 [==============================] - 6s 26ms/step - loss: 0.7129 - sparse_categorical_accuracy: 0.7447 - val_loss: 0.7099 - val_sparse_categorical_accuracy: 0.7504\n",
            "Epoch 80/100\n",
            "220/220 [==============================] - 6s 26ms/step - loss: 0.7018 - sparse_categorical_accuracy: 0.7527 - val_loss: 0.7579 - val_sparse_categorical_accuracy: 0.7135\n",
            "Epoch 81/100\n",
            "220/220 [==============================] - 6s 26ms/step - loss: 0.7148 - sparse_categorical_accuracy: 0.7455 - val_loss: 0.7455 - val_sparse_categorical_accuracy: 0.7191\n",
            "Epoch 82/100\n",
            "220/220 [==============================] - 6s 26ms/step - loss: 0.7094 - sparse_categorical_accuracy: 0.7526 - val_loss: 0.7015 - val_sparse_categorical_accuracy: 0.7398\n",
            "Epoch 83/100\n",
            "220/220 [==============================] - 6s 26ms/step - loss: 0.7107 - sparse_categorical_accuracy: 0.7500 - val_loss: 0.7432 - val_sparse_categorical_accuracy: 0.7155\n",
            "Epoch 84/100\n",
            "220/220 [==============================] - 6s 26ms/step - loss: 0.7132 - sparse_categorical_accuracy: 0.7494 - val_loss: 0.7123 - val_sparse_categorical_accuracy: 0.7322\n",
            "Epoch 85/100\n",
            "220/220 [==============================] - 6s 26ms/step - loss: 0.7166 - sparse_categorical_accuracy: 0.7507 - val_loss: 0.7686 - val_sparse_categorical_accuracy: 0.6998\n",
            "Epoch 86/100\n",
            "220/220 [==============================] - 6s 26ms/step - loss: 0.7055 - sparse_categorical_accuracy: 0.7480 - val_loss: 0.7527 - val_sparse_categorical_accuracy: 0.7084\n",
            "Epoch 87/100\n",
            "220/220 [==============================] - 6s 26ms/step - loss: 0.7046 - sparse_categorical_accuracy: 0.7543 - val_loss: 0.7044 - val_sparse_categorical_accuracy: 0.7423\n",
            "Epoch 88/100\n",
            "220/220 [==============================] - 6s 26ms/step - loss: 0.7078 - sparse_categorical_accuracy: 0.7475 - val_loss: 0.7515 - val_sparse_categorical_accuracy: 0.7165\n",
            "Epoch 89/100\n",
            "220/220 [==============================] - 6s 26ms/step - loss: 0.7035 - sparse_categorical_accuracy: 0.7583 - val_loss: 0.8108 - val_sparse_categorical_accuracy: 0.6908\n",
            "Epoch 90/100\n",
            "220/220 [==============================] - 6s 26ms/step - loss: 0.7095 - sparse_categorical_accuracy: 0.7468 - val_loss: 0.8059 - val_sparse_categorical_accuracy: 0.6817\n",
            "Epoch 91/100\n",
            "220/220 [==============================] - 6s 26ms/step - loss: 0.7053 - sparse_categorical_accuracy: 0.7539 - val_loss: 0.8257 - val_sparse_categorical_accuracy: 0.6832\n",
            "Epoch 92/100\n",
            "220/220 [==============================] - 6s 26ms/step - loss: 0.7040 - sparse_categorical_accuracy: 0.7499 - val_loss: 0.7077 - val_sparse_categorical_accuracy: 0.7337\n",
            "Epoch 93/100\n",
            "220/220 [==============================] - 6s 26ms/step - loss: 0.7000 - sparse_categorical_accuracy: 0.7548 - val_loss: 0.7545 - val_sparse_categorical_accuracy: 0.7084\n",
            "Epoch 94/100\n",
            "220/220 [==============================] - 6s 26ms/step - loss: 0.6909 - sparse_categorical_accuracy: 0.7546 - val_loss: 0.7258 - val_sparse_categorical_accuracy: 0.7206\n",
            "Epoch 95/100\n",
            "220/220 [==============================] - 6s 26ms/step - loss: 0.6897 - sparse_categorical_accuracy: 0.7537 - val_loss: 0.7034 - val_sparse_categorical_accuracy: 0.7362\n",
            "Epoch 96/100\n",
            "220/220 [==============================] - 6s 26ms/step - loss: 0.6942 - sparse_categorical_accuracy: 0.7519 - val_loss: 0.7225 - val_sparse_categorical_accuracy: 0.7276\n",
            "Epoch 97/100\n",
            "220/220 [==============================] - 6s 26ms/step - loss: 0.6954 - sparse_categorical_accuracy: 0.7556 - val_loss: 0.7534 - val_sparse_categorical_accuracy: 0.7110\n",
            "Epoch 98/100\n",
            "220/220 [==============================] - 6s 26ms/step - loss: 0.6953 - sparse_categorical_accuracy: 0.7586 - val_loss: 0.7136 - val_sparse_categorical_accuracy: 0.7297\n",
            "Epoch 99/100\n",
            "220/220 [==============================] - 6s 26ms/step - loss: 0.6950 - sparse_categorical_accuracy: 0.7576 - val_loss: 0.7359 - val_sparse_categorical_accuracy: 0.7175\n",
            "Epoch 100/100\n",
            "220/220 [==============================] - 6s 26ms/step - loss: 0.6991 - sparse_categorical_accuracy: 0.7537 - val_loss: 0.7925 - val_sparse_categorical_accuracy: 0.6978\n"
          ],
          "name": "stdout"
        },
        {
          "output_type": "display_data",
          "data": {
            "image/png": "[encoded data removed]",
            "text/plain": [
              "<Figure size 720x360 with 2 Axes>"
            ]
          },
          "metadata": {
            "tags": [],
            "needs_background": "light"
          }
        }
      ]
    },
    {
      "cell_type": "code",
      "metadata": {
        "colab": {
          "base_uri": "https://localhost:8080/"
        },
        "id": "SzxwmN100DPt",
        "outputId": "18f49134-3eb2-458f-adfe-66455359ebae"
      },
      "source": [
        "model_VGG_3.evaluate(validation_generator)"
      ],
      "execution_count": null,
      "outputs": [
        {
          "output_type": "stream",
          "text": [
            "74/74 [==============================] - 1s 11ms/step - loss: 0.7381 - sparse_categorical_accuracy: 0.7433\n"
          ],
          "name": "stdout"
        },
        {
          "output_type": "execute_result",
          "data": {
            "text/plain": [
              "[0.7381166815757751, 0.7433046698570251]"
            ]
          },
          "metadata": {
            "tags": []
          },
          "execution_count": 36
        }
      ]
    },
    {
      "cell_type": "code",
      "metadata": {
        "colab": {
          "base_uri": "https://localhost:8080/",
          "height": 129
        },
        "id": "iF1KLUWjh1yF",
        "outputId": "c926c2a0-36a6-44be-b068-5d87e0fe9d78"
      },
      "source": [
        "tf.metrics.F1Score(\n",
        "    num_classes: tf.types.FloatTensorLike,\n",
        "    average: str = None,\n",
        "    threshold: Optional[FloatTensorLike] = None,\n",
        "    name: str = 'f1_score',\n",
        "    dtype: tf.types.AcceptableDTypes = None\n",
        ")"
      ],
      "execution_count": 4,
      "outputs": [
        {
          "output_type": "error",
          "ename": "SyntaxError",
          "evalue": "ignored",
          "traceback": [
            "\u001b[0;36m  File \u001b[0;32m\"<ipython-input-4-0935110e5f55>\"\u001b[0;36m, line \u001b[0;32m2\u001b[0m\n\u001b[0;31m    num_classes: tf.types.FloatTensorLike,\u001b[0m\n\u001b[0m               ^\u001b[0m\n\u001b[0;31mSyntaxError\u001b[0m\u001b[0;31m:\u001b[0m invalid syntax\n"
          ]
        }
      ]
    },
    {
      "cell_type": "code",
      "metadata": {
        "colab": {
          "base_uri": "https://localhost:8080/",
          "height": 231
        },
        "id": "XmFY3MxMc7jw",
        "outputId": "5fa37eb6-ea80-432d-9f15-7c0b9bbee2b4"
      },
      "source": [
        "\n",
        "# setup data generator (may have done this before)\n",
        "# batch_size_ = 1\n",
        "# test_datagen = ImageDataGenerator(rescale=1./255, data_format='channels_last')\n",
        "# test_generator = test_datagen.flow_from_dataframe(\n",
        "#         dataframe=val_data,\n",
        "#         directory='./',\n",
        "#         x_col=\"ImgPath\",\n",
        "#         y_col=\"Class\",\n",
        "#         target_size=(32, 32),\n",
        "#         batch_size=batch_size_,\n",
        "#         class_mode='categorical')\n",
        "\n",
        "# setup data some placeholders\n",
        "y_hat_all = list()\n",
        "y_all = list()\n",
        "filenames = validation_generator.filenames\n",
        "N_images = len(filenames)\n",
        "batches = 0\n",
        "\n",
        "# iterate through the data generator and predict for each batch\n",
        "# hold the predictions and labels\n",
        "for x,y in validation_generator:\n",
        "        y_hat = model_VGG_3.predict(x, verbose=0)\n",
        "        y_hat = np.argmax(y_hat, axis = 1)\n",
        "        y = np.argmax(y, axis = 1)\n",
        "        y_hat_all = y_hat_all + y_hat.tolist()\n",
        "        y_all = y_all + y.tolist()\n",
        "\n",
        "        batches += 1\n",
        "        if batches >= N_images / batch_size_:\n",
        "            # we need to break the loop by hand because\n",
        "            # the generator loops indefinitely\n",
        "            break\n",
        "\n",
        "# now you have made the predictions you can use any performance metric\n",
        "# you wish: either in sklearn or some function you have written\n",
        "\n",
        "from sklearn.metrics import classification_report\n",
        "from sklearn.metrics import confusion_matrix, accuracy_score, f1_score\n",
        "\n",
        "print(\"Accuracy score: \", accuracy_score(y_all, y_hat_all))\n",
        "print(\"F1 score: \", f1_score(y_all, y_hat_all, average='macro'))\n",
        "print(confusion_matrix(y_all, y_hat_all))"
      ],
      "execution_count": null,
      "outputs": [
        {
          "output_type": "error",
          "ename": "NameError",
          "evalue": "ignored",
          "traceback": [
            "\u001b[0;31m---------------------------------------------------------------------------\u001b[0m",
            "\u001b[0;31mNameError\u001b[0m                                 Traceback (most recent call last)",
            "\u001b[0;32m<ipython-input-2-696e1ece2caf>\u001b[0m in \u001b[0;36m<module>\u001b[0;34m()\u001b[0m\n\u001b[1;32m     15\u001b[0m \u001b[0my_hat_all\u001b[0m \u001b[0;34m=\u001b[0m \u001b[0mlist\u001b[0m\u001b[0;34m(\u001b[0m\u001b[0;34m)\u001b[0m\u001b[0;34m\u001b[0m\u001b[0;34m\u001b[0m\u001b[0m\n\u001b[1;32m     16\u001b[0m \u001b[0my_all\u001b[0m \u001b[0;34m=\u001b[0m \u001b[0mlist\u001b[0m\u001b[0;34m(\u001b[0m\u001b[0;34m)\u001b[0m\u001b[0;34m\u001b[0m\u001b[0;34m\u001b[0m\u001b[0m\n\u001b[0;32m---> 17\u001b[0;31m \u001b[0mfilenames\u001b[0m \u001b[0;34m=\u001b[0m \u001b[0mvalidation_generator\u001b[0m\u001b[0;34m.\u001b[0m\u001b[0mfilenames\u001b[0m\u001b[0;34m\u001b[0m\u001b[0;34m\u001b[0m\u001b[0m\n\u001b[0m\u001b[1;32m     18\u001b[0m \u001b[0mN_images\u001b[0m \u001b[0;34m=\u001b[0m \u001b[0mlen\u001b[0m\u001b[0;34m(\u001b[0m\u001b[0mfilenames\u001b[0m\u001b[0;34m)\u001b[0m\u001b[0;34m\u001b[0m\u001b[0;34m\u001b[0m\u001b[0m\n\u001b[1;32m     19\u001b[0m \u001b[0mbatches\u001b[0m \u001b[0;34m=\u001b[0m \u001b[0;36m0\u001b[0m\u001b[0;34m\u001b[0m\u001b[0;34m\u001b[0m\u001b[0m\n",
            "\u001b[0;31mNameError\u001b[0m: name 'validation_generator' is not defined"
          ]
        }
      ]
    },
    {
      "cell_type": "code",
      "metadata": {
        "id": "j5QQv4Xdc7mD"
      },
      "source": [
        ""
      ],
      "execution_count": null,
      "outputs": []
    },
    {
      "cell_type": "code",
      "metadata": {
        "id": "FXchcRtAc7pg"
      },
      "source": [
        ""
      ],
      "execution_count": null,
      "outputs": []
    }
  ]
}