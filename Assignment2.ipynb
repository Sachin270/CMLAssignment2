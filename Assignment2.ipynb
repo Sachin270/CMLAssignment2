{
  "nbformat": 4,
  "nbformat_minor": 0,
  "metadata": {
    "kernelspec": {
      "display_name": "Python 3",
      "language": "python",
      "name": "python3"
    },
    "colab": {
      "name": "Assignment2.ipynb",
      "provenance": [],
      "collapsed_sections": [],
      "include_colab_link": true
    },
    "accelerator": "GPU"
  },
  "cells": [
    {
      "cell_type": "markdown",
      "metadata": {
        "id": "view-in-github",
        "colab_type": "text"
      },
      "source": [
        "<a href=\"https://colab.research.google.com/github/Sachin270/CMLAssignment2/blob/main/Assignment2.ipynb\" target=\"_parent\"><img src=\"https://colab.research.google.com/assets/colab-badge.svg\" alt=\"Open In Colab\"/></a>"
      ]
    },
    {
      "cell_type": "code",
      "metadata": {
        "id": "z1qAHC3MjyS6",
        "colab": {
          "base_uri": "https://localhost:8080/"
        },
        "outputId": "1227c844-77f0-4e8c-f5f0-ce910edced71"
      },
      "source": [
        "from google.colab import drive\n",
        "drive.mount('/content/drive/')"
      ],
      "execution_count": 7,
      "outputs": [
        {
          "output_type": "stream",
          "text": [
            "Mounted at /content/drive/\n"
          ],
          "name": "stdout"
        }
      ]
    },
    {
      "cell_type": "code",
      "metadata": {
        "id": "6nd7cdo3k-vl",
        "colab": {
          "base_uri": "https://localhost:8080/"
        },
        "outputId": "545783dc-77dd-4322-cd18-f6a7fdac6c78"
      },
      "source": [
        "!ls /content/drive/'MyDrive'/'Colab Notebooks'/"
      ],
      "execution_count": 8,
      "outputs": [
        {
          "output_type": "stream",
          "text": [
            "'Assignment2 (1).ipynb'       Image_classification_data.zip\n",
            " Assignment2.ipynb\t      patch_images\n",
            " Assignment2_s3714805.ipynb   Untitled0.ipynb\n",
            " CMLAssignment2-main.zip      Untitled2.ipynb\n",
            " data_labels_extraData.csv   'Untitled8 (1).ipynb'\n",
            " data_labels_mainData.csv     Untitled8.ipynb\n"
          ],
          "name": "stdout"
        }
      ]
    },
    {
      "cell_type": "code",
      "metadata": {
        "colab": {
          "base_uri": "https://localhost:8080/"
        },
        "id": "0bMKIqgLlnuO",
        "outputId": "afdccdeb-764e-4656-ae16-3d5359a72bd8"
      },
      "source": [
        "!cp /content/drive/'MyDrive'/'Colab Notebooks'/'Image_classification_data.zip' .\n",
        "!unzip -q -o 'Image_classification_data.zip'\n",
        "!rm 'Image_classification_data.zip'\n",
        "!ls"
      ],
      "execution_count": 9,
      "outputs": [
        {
          "output_type": "stream",
          "text": [
            "data_labels_extraData.csv  drive     patch_images\n",
            "data_labels_mainData.csv   __MACOSX  sample_data\n"
          ],
          "name": "stdout"
        }
      ]
    },
    {
      "cell_type": "code",
      "metadata": {
        "id": "2jT94zbI8AFj"
      },
      "source": [
        "import numpy as np\n",
        "from sklearn.model_selection import train_test_split\n",
        "import pandas as pd\n",
        "from tensorflow.keras.preprocessing.image import ImageDataGenerator\n",
        "import seaborn as sns\n",
        "from tensorflow.keras.layers import Dense\n",
        "import tensorflow as tf"
      ],
      "execution_count": 10,
      "outputs": []
    },
    {
      "cell_type": "code",
      "metadata": {
        "colab": {
          "base_uri": "https://localhost:8080/"
        },
        "id": "G9jD8i0R8EdU",
        "outputId": "b99130db-6bbf-40f7-846a-69dbe34df0ee"
      },
      "source": [
        "data = pd.read_csv('./data_labels_mainData.csv')\n",
        "OUTPUT_CLASSES = 4\n",
        "data.columns"
      ],
      "execution_count": 13,
      "outputs": [
        {
          "output_type": "execute_result",
          "data": {
            "text/plain": [
              "Index(['InstanceID', 'patientID', 'ImageName', 'cellTypeName', 'cellType',\n",
              "       'isCancerous'],\n",
              "      dtype='object')"
            ]
          },
          "metadata": {
            "tags": []
          },
          "execution_count": 13
        }
      ]
    },
    {
      "cell_type": "markdown",
      "metadata": {
        "id": "DeB1swCGHROl"
      },
      "source": [
        "# New Section"
      ]
    },
    {
      "cell_type": "code",
      "metadata": {
        "colab": {
          "base_uri": "https://localhost:8080/",
          "height": 204
        },
        "id": "a8lGZ9ey8haF",
        "outputId": "fa64489e-48c0-41fc-de15-e3fe00ec2a14"
      },
      "source": [
        "data.groupby('cellTypeName').agg('count')"
      ],
      "execution_count": 6,
      "outputs": [
        {
          "output_type": "execute_result",
          "data": {
            "text/html": [
              "<div>\n",
              "<style scoped>\n",
              "    .dataframe tbody tr th:only-of-type {\n",
              "        vertical-align: middle;\n",
              "    }\n",
              "\n",
              "    .dataframe tbody tr th {\n",
              "        vertical-align: top;\n",
              "    }\n",
              "\n",
              "    .dataframe thead th {\n",
              "        text-align: right;\n",
              "    }\n",
              "</style>\n",
              "<table border=\"1\" class=\"dataframe\">\n",
              "  <thead>\n",
              "    <tr style=\"text-align: right;\">\n",
              "      <th></th>\n",
              "      <th>InstanceID</th>\n",
              "      <th>patientID</th>\n",
              "      <th>ImageName</th>\n",
              "      <th>cellType</th>\n",
              "      <th>isCancerous</th>\n",
              "    </tr>\n",
              "    <tr>\n",
              "      <th>cellTypeName</th>\n",
              "      <th></th>\n",
              "      <th></th>\n",
              "      <th></th>\n",
              "      <th></th>\n",
              "      <th></th>\n",
              "    </tr>\n",
              "  </thead>\n",
              "  <tbody>\n",
              "    <tr>\n",
              "      <th>epithelial</th>\n",
              "      <td>4079</td>\n",
              "      <td>4079</td>\n",
              "      <td>4079</td>\n",
              "      <td>4079</td>\n",
              "      <td>4079</td>\n",
              "    </tr>\n",
              "    <tr>\n",
              "      <th>fibroblast</th>\n",
              "      <td>1888</td>\n",
              "      <td>1888</td>\n",
              "      <td>1888</td>\n",
              "      <td>1888</td>\n",
              "      <td>1888</td>\n",
              "    </tr>\n",
              "    <tr>\n",
              "      <th>inflammatory</th>\n",
              "      <td>2543</td>\n",
              "      <td>2543</td>\n",
              "      <td>2543</td>\n",
              "      <td>2543</td>\n",
              "      <td>2543</td>\n",
              "    </tr>\n",
              "    <tr>\n",
              "      <th>others</th>\n",
              "      <td>1386</td>\n",
              "      <td>1386</td>\n",
              "      <td>1386</td>\n",
              "      <td>1386</td>\n",
              "      <td>1386</td>\n",
              "    </tr>\n",
              "  </tbody>\n",
              "</table>\n",
              "</div>"
            ],
            "text/plain": [
              "              InstanceID  patientID  ImageName  cellType  isCancerous\n",
              "cellTypeName                                                         \n",
              "epithelial          4079       4079       4079      4079         4079\n",
              "fibroblast          1888       1888       1888      1888         1888\n",
              "inflammatory        2543       2543       2543      2543         2543\n",
              "others              1386       1386       1386      1386         1386"
            ]
          },
          "metadata": {
            "tags": []
          },
          "execution_count": 6
        }
      ]
    },
    {
      "cell_type": "code",
      "metadata": {
        "colab": {
          "base_uri": "https://localhost:8080/",
          "height": 296
        },
        "id": "vOdXFD1V-Pdh",
        "outputId": "491c2fe5-2fbf-4ed3-eeac-a2ca715dff52"
      },
      "source": [
        "sns.barplot(x=data.groupby('cellTypeName').agg('count').index, \n",
        "            y='cellType', \n",
        "            data=data.groupby('cellTypeName').agg('count'))"
      ],
      "execution_count": 7,
      "outputs": [
        {
          "output_type": "execute_result",
          "data": {
            "text/plain": [
              "<matplotlib.axes._subplots.AxesSubplot at 0x7fc0784ac910>"
            ]
          },
          "metadata": {
            "tags": []
          },
          "execution_count": 7
        },
        {
          "output_type": "display_data",
          "data": {
            "image/png": "[encoded data removed]",
            "text/plain": [
              "<Figure size 432x288 with 1 Axes>"
            ]
          },
          "metadata": {
            "tags": [],
            "needs_background": "light"
          }
        }
      ]
    },
    {
      "cell_type": "code",
      "metadata": {
        "colab": {
          "base_uri": "https://localhost:8080/",
          "height": 142
        },
        "id": "lAaRLxjf-PaV",
        "outputId": "49e1308d-f88e-4fd0-a941-5f6e8cca543f"
      },
      "source": [
        "data.groupby('isCancerous').agg('count')"
      ],
      "execution_count": 8,
      "outputs": [
        {
          "output_type": "execute_result",
          "data": {
            "text/html": [
              "<div>\n",
              "<style scoped>\n",
              "    .dataframe tbody tr th:only-of-type {\n",
              "        vertical-align: middle;\n",
              "    }\n",
              "\n",
              "    .dataframe tbody tr th {\n",
              "        vertical-align: top;\n",
              "    }\n",
              "\n",
              "    .dataframe thead th {\n",
              "        text-align: right;\n",
              "    }\n",
              "</style>\n",
              "<table border=\"1\" class=\"dataframe\">\n",
              "  <thead>\n",
              "    <tr style=\"text-align: right;\">\n",
              "      <th></th>\n",
              "      <th>InstanceID</th>\n",
              "      <th>patientID</th>\n",
              "      <th>ImageName</th>\n",
              "      <th>cellTypeName</th>\n",
              "      <th>cellType</th>\n",
              "    </tr>\n",
              "    <tr>\n",
              "      <th>isCancerous</th>\n",
              "      <th></th>\n",
              "      <th></th>\n",
              "      <th></th>\n",
              "      <th></th>\n",
              "      <th></th>\n",
              "    </tr>\n",
              "  </thead>\n",
              "  <tbody>\n",
              "    <tr>\n",
              "      <th>0</th>\n",
              "      <td>5817</td>\n",
              "      <td>5817</td>\n",
              "      <td>5817</td>\n",
              "      <td>5817</td>\n",
              "      <td>5817</td>\n",
              "    </tr>\n",
              "    <tr>\n",
              "      <th>1</th>\n",
              "      <td>4079</td>\n",
              "      <td>4079</td>\n",
              "      <td>4079</td>\n",
              "      <td>4079</td>\n",
              "      <td>4079</td>\n",
              "    </tr>\n",
              "  </tbody>\n",
              "</table>\n",
              "</div>"
            ],
            "text/plain": [
              "             InstanceID  patientID  ImageName  cellTypeName  cellType\n",
              "isCancerous                                                          \n",
              "0                  5817       5817       5817          5817      5817\n",
              "1                  4079       4079       4079          4079      4079"
            ]
          },
          "metadata": {
            "tags": []
          },
          "execution_count": 8
        }
      ]
    },
    {
      "cell_type": "code",
      "metadata": {
        "id": "PXfIxUHB-PXL"
      },
      "source": [
        "sns.barplot(x=mergeData.groupby('isCancerous').agg('count').index, \n",
        "            y='cellType', \n",
        "            data=data.groupby('isCancerous').agg('count'))"
      ],
      "execution_count": null,
      "outputs": []
    },
    {
      "cell_type": "code",
      "metadata": {
        "colab": {
          "base_uri": "https://localhost:8080/",
          "height": 204
        },
        "id": "btxrc-2R-PTV",
        "outputId": "41a51b7a-2cc2-4612-e88f-47451927832e"
      },
      "source": [
        "data.groupby(['cellTypeName', 'isCancerous']).agg('count')"
      ],
      "execution_count": 10,
      "outputs": [
        {
          "output_type": "execute_result",
          "data": {
            "text/html": [
              "<div>\n",
              "<style scoped>\n",
              "    .dataframe tbody tr th:only-of-type {\n",
              "        vertical-align: middle;\n",
              "    }\n",
              "\n",
              "    .dataframe tbody tr th {\n",
              "        vertical-align: top;\n",
              "    }\n",
              "\n",
              "    .dataframe thead th {\n",
              "        text-align: right;\n",
              "    }\n",
              "</style>\n",
              "<table border=\"1\" class=\"dataframe\">\n",
              "  <thead>\n",
              "    <tr style=\"text-align: right;\">\n",
              "      <th></th>\n",
              "      <th></th>\n",
              "      <th>InstanceID</th>\n",
              "      <th>patientID</th>\n",
              "      <th>ImageName</th>\n",
              "      <th>cellType</th>\n",
              "    </tr>\n",
              "    <tr>\n",
              "      <th>cellTypeName</th>\n",
              "      <th>isCancerous</th>\n",
              "      <th></th>\n",
              "      <th></th>\n",
              "      <th></th>\n",
              "      <th></th>\n",
              "    </tr>\n",
              "  </thead>\n",
              "  <tbody>\n",
              "    <tr>\n",
              "      <th>epithelial</th>\n",
              "      <th>1</th>\n",
              "      <td>4079</td>\n",
              "      <td>4079</td>\n",
              "      <td>4079</td>\n",
              "      <td>4079</td>\n",
              "    </tr>\n",
              "    <tr>\n",
              "      <th>fibroblast</th>\n",
              "      <th>0</th>\n",
              "      <td>1888</td>\n",
              "      <td>1888</td>\n",
              "      <td>1888</td>\n",
              "      <td>1888</td>\n",
              "    </tr>\n",
              "    <tr>\n",
              "      <th>inflammatory</th>\n",
              "      <th>0</th>\n",
              "      <td>2543</td>\n",
              "      <td>2543</td>\n",
              "      <td>2543</td>\n",
              "      <td>2543</td>\n",
              "    </tr>\n",
              "    <tr>\n",
              "      <th>others</th>\n",
              "      <th>0</th>\n",
              "      <td>1386</td>\n",
              "      <td>1386</td>\n",
              "      <td>1386</td>\n",
              "      <td>1386</td>\n",
              "    </tr>\n",
              "  </tbody>\n",
              "</table>\n",
              "</div>"
            ],
            "text/plain": [
              "                          InstanceID  patientID  ImageName  cellType\n",
              "cellTypeName isCancerous                                            \n",
              "epithelial   1                  4079       4079       4079      4079\n",
              "fibroblast   0                  1888       1888       1888      1888\n",
              "inflammatory 0                  2543       2543       2543      2543\n",
              "others       0                  1386       1386       1386      1386"
            ]
          },
          "metadata": {
            "tags": []
          },
          "execution_count": 10
        }
      ]
    },
    {
      "cell_type": "code",
      "metadata": {
        "colab": {
          "base_uri": "https://localhost:8080/",
          "height": 265
        },
        "id": "InvRylbg-PQJ",
        "outputId": "68bcb953-49c8-47c7-a2c2-da48718f2c48"
      },
      "source": [
        "data.groupby('cellTypeName').agg('count').cellType.plot.pie(autopct=\"%.1f%%\")"
      ],
      "execution_count": 11,
      "outputs": [
        {
          "output_type": "execute_result",
          "data": {
            "text/plain": [
              "<matplotlib.axes._subplots.AxesSubplot at 0x7fc07757cfd0>"
            ]
          },
          "metadata": {
            "tags": []
          },
          "execution_count": 11
        },
        {
          "output_type": "display_data",
          "data": {
            "image/png": "[encoded data removed]",
            "text/plain": [
              "<Figure size 432x288 with 1 Axes>"
            ]
          },
          "metadata": {
            "tags": []
          }
        }
      ]
    },
    {
      "cell_type": "code",
      "metadata": {
        "colab": {
          "base_uri": "https://localhost:8080/"
        },
        "id": "RR_UOYjt-Ork",
        "outputId": "6ad651d1-7d6d-4930-96db-a8a9dc0434d1"
      },
      "source": [
        "extraData = pd.read_csv('data_labels_extraData.csv')\n",
        "extraData.columns"
      ],
      "execution_count": 11,
      "outputs": [
        {
          "output_type": "execute_result",
          "data": {
            "text/plain": [
              "Index(['InstanceID', 'patientID', 'ImageName', 'isCancerous'], dtype='object')"
            ]
          },
          "metadata": {
            "tags": []
          },
          "execution_count": 11
        }
      ]
    },
    {
      "cell_type": "code",
      "metadata": {
        "id": "IwROVETCD4Ke"
      },
      "source": [
        "mergedData = pd.concat([data[[\"InstanceID\", \"patientID\", \"ImageName\", \"isCancerous\"]], extraData])"
      ],
      "execution_count": 14,
      "outputs": []
    },
    {
      "cell_type": "code",
      "metadata": {
        "id": "9hZlKcaMFnfg",
        "colab": {
          "base_uri": "https://localhost:8080/"
        },
        "outputId": "cb52a138-dc64-438b-bfb9-138b16ce68d7"
      },
      "source": [
        "OUTPUT_CLASSES = 2\n",
        "\n",
        "train_data, test_data = train_test_split(mergedData, test_size=0.2, random_state=42)\n",
        "train_data, val_data = train_test_split(train_data, test_size=0.25, random_state=42)\n",
        "\n",
        "print(\"Train data : {}, Val Data: {}, Test Data: {}\".format(train_data.shape[0], val_data.shape[0], test_data.shape[0]))"
      ],
      "execution_count": 15,
      "outputs": [
        {
          "output_type": "stream",
          "text": [
            "Train data : 12168, Val Data: 4056, Test Data: 4056\n"
          ],
          "name": "stdout"
        }
      ]
    },
    {
      "cell_type": "code",
      "metadata": {
        "id": "bz0rL4fVFnjI",
        "colab": {
          "base_uri": "https://localhost:8080/"
        },
        "outputId": "a80d40b1-937d-4a3d-afc3-913ffc0ba409"
      },
      "source": [
        "train_data['Class'] = train_data['isCancerous'].astype('str')\n",
        "val_data['Class'] = val_data['isCancerous'].astype('str')\n",
        "\n",
        "from tensorflow.keras.preprocessing.image import ImageDataGenerator\n",
        "\n",
        "train_datagen = ImageDataGenerator(rescale=1./255, data_format='channels_last',\n",
        "                                   rotation_range=15, width_shift_range=0.2,\n",
        "                                   height_shift_range=0.2, brightness_range=[0.5,1.5])\n",
        "val_datagen = ImageDataGenerator(rescale=1./255, data_format='channels_last')\n",
        "\n",
        "batch_size = 27\n",
        "\n",
        "train_generator = train_datagen.flow_from_dataframe(\n",
        "        dataframe=train_data,\n",
        "        directory='./patch_images',\n",
        "        x_col=\"ImageName\",\n",
        "        y_col=\"Class\",\n",
        "        target_size=(27, 27),\n",
        "        batch_size=batch_size,\n",
        "        class_mode='categorical')\n",
        "\n",
        "validation_generator = val_datagen.flow_from_dataframe(\n",
        "        dataframe=val_data,\n",
        "        directory='./patch_images',\n",
        "        x_col=\"ImageName\",\n",
        "        y_col=\"Class\",\n",
        "        target_size=(27, 27),\n",
        "        batch_size=batch_size,\n",
        "        class_mode='categorical')"
      ],
      "execution_count": 21,
      "outputs": [
        {
          "output_type": "stream",
          "text": [
            "Found 12168 validated image filenames belonging to 2 classes.\n",
            "Found 4056 validated image filenames belonging to 2 classes.\n"
          ],
          "name": "stdout"
        }
      ]
    },
    {
      "cell_type": "code",
      "metadata": {
        "id": "mfNxeHBdFnnM"
      },
      "source": [
        "\n",
        "reg_lambda = 0.0001\n",
        "modelCancerous = tf.keras.Sequential([\n",
        "    #VGG block 1\n",
        "    tf.keras.layers.Conv2D(27, (3, 3), activation='relu', padding='same', \n",
        "                           kernel_regularizer=tf.keras.regularizers.l2(reg_lambda), input_shape=(27, 27, 3)),\n",
        "    tf.keras.layers.Conv2D(27, (3, 3), activation='relu', padding='same', \n",
        "                           kernel_regularizer=tf.keras.regularizers.l2(reg_lambda)),\n",
        "    tf.keras.layers.MaxPooling2D((2, 2)),\n",
        "    \n",
        "    #VGG block 2\n",
        "    tf.keras.layers.Conv2D(54, (3, 3), activation='relu', padding='same', \n",
        "                           kernel_regularizer=tf.keras.regularizers.l2(reg_lambda)),\n",
        "    tf.keras.layers.Conv2D(54, (3, 3), activation='relu', padding='same', \n",
        "                           kernel_regularizer=tf.keras.regularizers.l2(reg_lambda)),\n",
        "    tf.keras.layers.MaxPooling2D((2, 2)),\n",
        "    \n",
        "    #VGG block 3\n",
        "    tf.keras.layers.Conv2D(108, (3, 3), activation='relu', padding='same', \n",
        "                           kernel_regularizer=tf.keras.regularizers.l2(reg_lambda)),\n",
        "    tf.keras.layers.Conv2D(108, (3, 3), activation='relu', padding='same', \n",
        "                           kernel_regularizer=tf.keras.regularizers.l2(reg_lambda)),\n",
        "    tf.keras.layers.MaxPooling2D((2, 2)),\n",
        "    \n",
        "    tf.keras.layers.Flatten(),\n",
        "    tf.keras.layers.Dense(54, activation='relu'),\n",
        "    tf.keras.layers.Dropout(.2),\n",
        "    tf.keras.layers.Dense(OUTPUT_CLASSES,activation='softmax'),\n",
        "])"
      ],
      "execution_count": 72,
      "outputs": []
    },
    {
      "cell_type": "code",
      "metadata": {
        "id": "PCOddIG2P-H1"
      },
      "source": [
        "import matplotlib.pyplot as plt\n",
        "def plot_learning_curve(train_loss, val_loss, train_metric, val_metric, metric_name='Accuracy'):\n",
        "    plt.figure(figsize=(10,5))\n",
        "    \n",
        "    plt.subplot(1,2,1)\n",
        "    plt.plot(train_loss, 'r--')\n",
        "    plt.plot(val_loss, 'b--')\n",
        "    plt.xlabel(\"epochs\")\n",
        "    plt.ylabel(\"Loss\")\n",
        "    plt.legend(['train', 'val'], loc='upper left')\n",
        "    plt.ylim([0, 1])\n",
        "    plt.subplot(1,2,2)\n",
        "    plt.plot(train_metric, 'r--')\n",
        "    plt.plot(val_metric, 'b--')\n",
        "    plt.xlabel(\"epochs\")\n",
        "    plt.ylabel(metric_name)\n",
        "    plt.legend(['train', 'val'], loc='upper left')\n",
        "    plt.ylim([0, 1])\n",
        "    plt.show()"
      ],
      "execution_count": 16,
      "outputs": []
    },
    {
      "cell_type": "code",
      "metadata": {
        "id": "KkZfoX0suj4x"
      },
      "source": [
        "early_stopping = tf.keras.callbacks.EarlyStopping(\n",
        " monitor='val_categorical_accuracy', \n",
        " verbose=1,\n",
        " patience=20,\n",
        " mode='max',\n",
        " restore_best_weights=True)"
      ],
      "execution_count": 17,
      "outputs": []
    },
    {
      "cell_type": "code",
      "metadata": {
        "id": "ytSUWFEIJCQj"
      },
      "source": [
        "modelCancerous.compile(tf.keras.optimizers.Adam(learning_rate=0.0001,name=\"Adam\"),\n",
        "              loss=tf.keras.losses.CategoricalCrossentropy(from_logits=False),\n",
        "              metrics=['categorical_accuracy'])\n"
      ],
      "execution_count": 43,
      "outputs": []
    },
    {
      "cell_type": "code",
      "metadata": {
        "id": "6EnYCWycJCS7"
      },
      "source": [
        "historyCancerous = modelCancerous.fit(train_generator, validation_data = validation_generator,callbacks= [early_stopping], epochs=50)"
      ],
      "execution_count": null,
      "outputs": []
    },
    {
      "cell_type": "code",
      "metadata": {
        "id": "zwZlqzBJJCWr",
        "colab": {
          "base_uri": "https://localhost:8080/",
          "height": 338
        },
        "outputId": "ef303a1e-190e-4e30-faad-7bcd9896aeef"
      },
      "source": [
        "plot_learning_curve(historyCancerous.history['loss'], historyCancerous.history['val_loss'], \n",
        "                    historyCancerous.history['categorical_accuracy'], historyCancerous.history['val_categorical_accuracy'], \n",
        "                    metric_name='Accuracy')"
      ],
      "execution_count": 37,
      "outputs": [
        {
          "output_type": "display_data",
          "data": {
            "image/png": "[encoded data removed]",
            "text/plain": [
              "<Figure size 720x360 with 2 Axes>"
            ]
          },
          "metadata": {
            "tags": [],
            "needs_background": "light"
          }
        }
      ]
    },
    {
      "cell_type": "code",
      "metadata": {
        "id": "m8Ijzn0hmxEf"
      },
      "source": [
        "reg_lambda = 0.00001\n",
        "\n",
        "modelCancerous = tf.keras.Sequential([\n",
        "    #VGG block 1\n",
        "    tf.keras.layers.Conv2D(27, (3, 3), activation='relu', padding='same', \n",
        "                           kernel_regularizer=tf.keras.regularizers.l2(reg_lambda), input_shape=(27, 27, 3)),\n",
        "    tf.keras.layers.Conv2D(27, (3, 3), activation='relu', padding='same', \n",
        "                           kernel_regularizer=tf.keras.regularizers.l2(reg_lambda)),\n",
        "    tf.keras.layers.MaxPooling2D((2, 2)),\n",
        "    \n",
        "    #VGG block 2\n",
        "    tf.keras.layers.Conv2D(54, (3, 3), activation='relu', padding='same', \n",
        "                           kernel_regularizer=tf.keras.regularizers.l2(reg_lambda)),\n",
        "    tf.keras.layers.Conv2D(54, (3, 3), activation='relu', padding='same', \n",
        "                           kernel_regularizer=tf.keras.regularizers.l2(reg_lambda)),\n",
        "    tf.keras.layers.MaxPooling2D((2, 2)),\n",
        "    \n",
        "    #VGG block 3\n",
        "    tf.keras.layers.Conv2D(108, (3, 3), activation='relu', padding='same', \n",
        "                           kernel_regularizer=tf.keras.regularizers.l2(reg_lambda)),\n",
        "    tf.keras.layers.Conv2D(108, (3, 3), activation='relu', padding='same', \n",
        "                           kernel_regularizer=tf.keras.regularizers.l2(reg_lambda)),\n",
        "    tf.keras.layers.MaxPooling2D((2, 2)),\n",
        "    \n",
        "    tf.keras.layers.Flatten(),\n",
        "    tf.keras.layers.Dense(108, activation='relu'),\n",
        "    tf.keras.layers.Dropout(.2),\n",
        "    tf.keras.layers.Dense(OUTPUT_CLASSES,activation='softmax'),\n",
        "])"
      ],
      "execution_count": 18,
      "outputs": []
    },
    {
      "cell_type": "code",
      "metadata": {
        "id": "Av7bAXpUmxHQ"
      },
      "source": [
        "modelCancerous.compile(tf.keras.optimizers.Adam(learning_rate=0.00001,name=\"Adam\"),\n",
        "              loss=tf.keras.losses.CategoricalCrossentropy(from_logits=False),\n",
        "              metrics=['categorical_accuracy'])"
      ],
      "execution_count": 19,
      "outputs": []
    },
    {
      "cell_type": "code",
      "metadata": {
        "colab": {
          "base_uri": "https://localhost:8080/"
        },
        "id": "wuW5BGcQmxKR",
        "outputId": "fde0f984-cd7c-40d2-b4ee-d2c9b996723e"
      },
      "source": [
        "historyCancerous = modelCancerous.fit(train_generator, validation_data = validation_generator,callbacks=[early_stopping], epochs=50)"
      ],
      "execution_count": 22,
      "outputs": [
        {
          "output_type": "stream",
          "text": [
            "Epoch 1/50\n",
            "451/451 [==============================] - 78s 170ms/step - loss: 0.6355 - categorical_accuracy: 0.6510 - val_loss: 0.6133 - val_categorical_accuracy: 0.6573\n",
            "Epoch 2/50\n",
            "451/451 [==============================] - 76s 169ms/step - loss: 0.5720 - categorical_accuracy: 0.7083 - val_loss: 0.5539 - val_categorical_accuracy: 0.7014\n",
            "Epoch 3/50\n",
            "451/451 [==============================] - 77s 170ms/step - loss: 0.5074 - categorical_accuracy: 0.7684 - val_loss: 0.5182 - val_categorical_accuracy: 0.7394\n",
            "Epoch 4/50\n",
            "451/451 [==============================] - 76s 168ms/step - loss: 0.4707 - categorical_accuracy: 0.7867 - val_loss: 0.5178 - val_categorical_accuracy: 0.7396\n",
            "Epoch 5/50\n",
            "451/451 [==============================] - 76s 169ms/step - loss: 0.4531 - categorical_accuracy: 0.7959 - val_loss: 0.4339 - val_categorical_accuracy: 0.7894\n",
            "Epoch 6/50\n",
            "451/451 [==============================] - 76s 169ms/step - loss: 0.4357 - categorical_accuracy: 0.8010 - val_loss: 0.4758 - val_categorical_accuracy: 0.7643\n",
            "Epoch 7/50\n",
            "451/451 [==============================] - 76s 169ms/step - loss: 0.4254 - categorical_accuracy: 0.8055 - val_loss: 0.4580 - val_categorical_accuracy: 0.7737\n",
            "Epoch 8/50\n",
            "451/451 [==============================] - 77s 170ms/step - loss: 0.4222 - categorical_accuracy: 0.8034 - val_loss: 0.4025 - val_categorical_accuracy: 0.8104\n",
            "Epoch 9/50\n",
            "451/451 [==============================] - 77s 170ms/step - loss: 0.4149 - categorical_accuracy: 0.8122 - val_loss: 0.3925 - val_categorical_accuracy: 0.8198\n",
            "Epoch 10/50\n",
            "451/451 [==============================] - 77s 171ms/step - loss: 0.4150 - categorical_accuracy: 0.8111 - val_loss: 0.3883 - val_categorical_accuracy: 0.8195\n",
            "Epoch 11/50\n",
            "451/451 [==============================] - 78s 173ms/step - loss: 0.4054 - categorical_accuracy: 0.8160 - val_loss: 0.3851 - val_categorical_accuracy: 0.8343\n",
            "Epoch 12/50\n",
            "451/451 [==============================] - 78s 173ms/step - loss: 0.3999 - categorical_accuracy: 0.8213 - val_loss: 0.3869 - val_categorical_accuracy: 0.8208\n",
            "Epoch 13/50\n",
            "451/451 [==============================] - 77s 172ms/step - loss: 0.4002 - categorical_accuracy: 0.8222 - val_loss: 0.3706 - val_categorical_accuracy: 0.8331\n",
            "Epoch 14/50\n",
            "451/451 [==============================] - 77s 171ms/step - loss: 0.3905 - categorical_accuracy: 0.8263 - val_loss: 0.3706 - val_categorical_accuracy: 0.8415\n",
            "Epoch 15/50\n",
            "451/451 [==============================] - 77s 171ms/step - loss: 0.3889 - categorical_accuracy: 0.8266 - val_loss: 0.3815 - val_categorical_accuracy: 0.8274\n",
            "Epoch 16/50\n",
            "451/451 [==============================] - 78s 172ms/step - loss: 0.3903 - categorical_accuracy: 0.8290 - val_loss: 0.3628 - val_categorical_accuracy: 0.8442\n",
            "Epoch 17/50\n",
            "451/451 [==============================] - 78s 174ms/step - loss: 0.3844 - categorical_accuracy: 0.8295 - val_loss: 0.3642 - val_categorical_accuracy: 0.8343\n",
            "Epoch 18/50\n",
            "451/451 [==============================] - 78s 173ms/step - loss: 0.3822 - categorical_accuracy: 0.8310 - val_loss: 0.3784 - val_categorical_accuracy: 0.8286\n",
            "Epoch 19/50\n",
            "451/451 [==============================] - 78s 173ms/step - loss: 0.3808 - categorical_accuracy: 0.8323 - val_loss: 0.3597 - val_categorical_accuracy: 0.8380\n",
            "Epoch 20/50\n",
            "451/451 [==============================] - 78s 173ms/step - loss: 0.3792 - categorical_accuracy: 0.8342 - val_loss: 0.3614 - val_categorical_accuracy: 0.8365\n",
            "Epoch 21/50\n",
            "451/451 [==============================] - 78s 174ms/step - loss: 0.3787 - categorical_accuracy: 0.8360 - val_loss: 0.3602 - val_categorical_accuracy: 0.8375\n",
            "Epoch 22/50\n",
            "451/451 [==============================] - 79s 175ms/step - loss: 0.3787 - categorical_accuracy: 0.8356 - val_loss: 0.3600 - val_categorical_accuracy: 0.8447\n",
            "Epoch 23/50\n",
            "451/451 [==============================] - 78s 173ms/step - loss: 0.3758 - categorical_accuracy: 0.8369 - val_loss: 0.3525 - val_categorical_accuracy: 0.8437\n",
            "Epoch 24/50\n",
            "451/451 [==============================] - 78s 173ms/step - loss: 0.3734 - categorical_accuracy: 0.8382 - val_loss: 0.3520 - val_categorical_accuracy: 0.8481\n",
            "Epoch 25/50\n",
            "451/451 [==============================] - 76s 169ms/step - loss: 0.3783 - categorical_accuracy: 0.8374 - val_loss: 0.3509 - val_categorical_accuracy: 0.8466\n",
            "Epoch 26/50\n",
            "451/451 [==============================] - 77s 171ms/step - loss: 0.3791 - categorical_accuracy: 0.8381 - val_loss: 0.3584 - val_categorical_accuracy: 0.8407\n",
            "Epoch 27/50\n",
            "451/451 [==============================] - 78s 172ms/step - loss: 0.3708 - categorical_accuracy: 0.8427 - val_loss: 0.3793 - val_categorical_accuracy: 0.8284\n",
            "Epoch 28/50\n",
            "451/451 [==============================] - 78s 173ms/step - loss: 0.3696 - categorical_accuracy: 0.8386 - val_loss: 0.3503 - val_categorical_accuracy: 0.8491\n",
            "Epoch 29/50\n",
            "451/451 [==============================] - 79s 175ms/step - loss: 0.3710 - categorical_accuracy: 0.8390 - val_loss: 0.3490 - val_categorical_accuracy: 0.8496\n",
            "Epoch 30/50\n",
            "451/451 [==============================] - 79s 174ms/step - loss: 0.3671 - categorical_accuracy: 0.8397 - val_loss: 0.3461 - val_categorical_accuracy: 0.8494\n",
            "Epoch 31/50\n",
            "451/451 [==============================] - 78s 173ms/step - loss: 0.3692 - categorical_accuracy: 0.8397 - val_loss: 0.3460 - val_categorical_accuracy: 0.8518\n",
            "Epoch 32/50\n",
            "451/451 [==============================] - 78s 172ms/step - loss: 0.3706 - categorical_accuracy: 0.8412 - val_loss: 0.3536 - val_categorical_accuracy: 0.8452\n",
            "Epoch 33/50\n",
            "451/451 [==============================] - 78s 172ms/step - loss: 0.3655 - categorical_accuracy: 0.8420 - val_loss: 0.3559 - val_categorical_accuracy: 0.8471\n",
            "Epoch 34/50\n",
            "451/451 [==============================] - 78s 173ms/step - loss: 0.3630 - categorical_accuracy: 0.8440 - val_loss: 0.3449 - val_categorical_accuracy: 0.8513\n",
            "Epoch 35/50\n",
            "451/451 [==============================] - 78s 173ms/step - loss: 0.3624 - categorical_accuracy: 0.8465 - val_loss: 0.3433 - val_categorical_accuracy: 0.8545\n",
            "Epoch 36/50\n",
            "451/451 [==============================] - 77s 172ms/step - loss: 0.3600 - categorical_accuracy: 0.8457 - val_loss: 0.3670 - val_categorical_accuracy: 0.8373\n",
            "Epoch 37/50\n",
            "451/451 [==============================] - 77s 171ms/step - loss: 0.3601 - categorical_accuracy: 0.8476 - val_loss: 0.3416 - val_categorical_accuracy: 0.8536\n",
            "Epoch 38/50\n",
            "451/451 [==============================] - 79s 174ms/step - loss: 0.3586 - categorical_accuracy: 0.8452 - val_loss: 0.3397 - val_categorical_accuracy: 0.8545\n",
            "Epoch 39/50\n",
            "451/451 [==============================] - 79s 175ms/step - loss: 0.3611 - categorical_accuracy: 0.8494 - val_loss: 0.3374 - val_categorical_accuracy: 0.8553\n",
            "Epoch 40/50\n",
            "451/451 [==============================] - 79s 175ms/step - loss: 0.3566 - categorical_accuracy: 0.8489 - val_loss: 0.3515 - val_categorical_accuracy: 0.8447\n",
            "Epoch 41/50\n",
            "451/451 [==============================] - 78s 172ms/step - loss: 0.3539 - categorical_accuracy: 0.8476 - val_loss: 0.3384 - val_categorical_accuracy: 0.8543\n",
            "Epoch 42/50\n",
            "451/451 [==============================] - 77s 172ms/step - loss: 0.3541 - categorical_accuracy: 0.8489 - val_loss: 0.3368 - val_categorical_accuracy: 0.8550\n",
            "Epoch 43/50\n",
            "451/451 [==============================] - 77s 171ms/step - loss: 0.3517 - categorical_accuracy: 0.8531 - val_loss: 0.3370 - val_categorical_accuracy: 0.8555\n",
            "Epoch 44/50\n",
            "451/451 [==============================] - 78s 174ms/step - loss: 0.3548 - categorical_accuracy: 0.8511 - val_loss: 0.3579 - val_categorical_accuracy: 0.8432\n",
            "Epoch 45/50\n",
            "451/451 [==============================] - 78s 172ms/step - loss: 0.3513 - categorical_accuracy: 0.8503 - val_loss: 0.3562 - val_categorical_accuracy: 0.8429\n",
            "Epoch 46/50\n",
            "451/451 [==============================] - 79s 174ms/step - loss: 0.3491 - categorical_accuracy: 0.8512 - val_loss: 0.3462 - val_categorical_accuracy: 0.8491\n",
            "Epoch 47/50\n",
            "451/451 [==============================] - 78s 172ms/step - loss: 0.3483 - categorical_accuracy: 0.8529 - val_loss: 0.3932 - val_categorical_accuracy: 0.8168\n",
            "Epoch 48/50\n",
            "451/451 [==============================] - 79s 175ms/step - loss: 0.3450 - categorical_accuracy: 0.8552 - val_loss: 0.4065 - val_categorical_accuracy: 0.8193\n",
            "Epoch 49/50\n",
            "451/451 [==============================] - 78s 173ms/step - loss: 0.3451 - categorical_accuracy: 0.8546 - val_loss: 0.3325 - val_categorical_accuracy: 0.8577\n",
            "Epoch 50/50\n",
            "451/451 [==============================] - 77s 172ms/step - loss: 0.3463 - categorical_accuracy: 0.8556 - val_loss: 0.3304 - val_categorical_accuracy: 0.8558\n"
          ],
          "name": "stdout"
        }
      ]
    },
    {
      "cell_type": "code",
      "metadata": {
        "colab": {
          "base_uri": "https://localhost:8080/",
          "height": 338
        },
        "id": "MDBULvK2rzY_",
        "outputId": "a136bb30-f26a-450c-9468-2c7a0abb0a5a"
      },
      "source": [
        "plot_learning_curve(historyCancerous.history['loss'], historyCancerous.history['val_loss'], \n",
        "                    historyCancerous.history['categorical_accuracy'], historyCancerous.history['val_categorical_accuracy'], \n",
        "                    metric_name='Accuracy')"
      ],
      "execution_count": 23,
      "outputs": [
        {
          "output_type": "display_data",
          "data": {
            "image/png": "[encoded data removed]",
            "text/plain": [
              "<Figure size 720x360 with 2 Axes>"
            ]
          },
          "metadata": {
            "tags": [],
            "needs_background": "light"
          }
        }
      ]
    },
    {
      "cell_type": "code",
      "metadata": {
        "id": "Ovt2wG7DJqCa"
      },
      "source": [
        "# setup data some placeholders\n",
        "batch_size_ = 1\n",
        "y_hat_all = list()\n",
        "y_all = list()\n",
        "filenames = validation_generator.filenames\n",
        "N_images = len(filenames)\n",
        "batches = 1\n",
        "\n",
        "# iterate through the data generator and predict for each batch\n",
        "# hold the predictions and labels\n",
        "for x,y in validation_generator:\n",
        "        y_hat = model_VGG_3.predict(x, verbose=0)\n",
        "        y_hat = np.argmax(y_hat, axis = 1)\n",
        "        y = np.argmax(y, axis = 1)\n",
        "        y_hat_all = y_hat_all + y_hat.tolist()\n",
        "        y_all = y_all + y.tolist()\n",
        "\n",
        "        batches += 1\n",
        "        if batches >= N_images / batch_size_:\n",
        "            break\n",
        "\n",
        "# now you have made the predictions you can use any performance metric\n",
        "# you wish: either in sklearn or some function you have written\n",
        "\n",
        "from sklearn.metrics import classification_report\n",
        "from sklearn.metrics import confusion_matrix, accuracy_score, f1_score\n",
        "\n",
        "print(\"Accuracy score: \", accuracy_score(y_all, y_hat_all))\n",
        "print(\"F1 score: \", f1_score(y_all, y_hat_all, average='macro'))\n",
        "print(confusion_matrix(y_all, y_hat_all))"
      ],
      "execution_count": null,
      "outputs": []
    },
    {
      "cell_type": "code",
      "metadata": {
        "id": "2rl6d_KmJqFU",
        "colab": {
          "base_uri": "https://localhost:8080/"
        },
        "outputId": "ed2d23ed-b50b-4024-b212-e063511d7c6c"
      },
      "source": [
        "modelCancerous.save(\"modelCancerous\")\n",
        "!cp -R ./modelCancerous/content/drive/'Colab Notebooks'"
      ],
      "execution_count": 24,
      "outputs": [
        {
          "output_type": "stream",
          "text": [
            "INFO:tensorflow:Assets written to: modelCancerous/assets\n",
            "cp: missing destination file operand after './modelCancerous/content/drive/Colab Notebooks'\n",
            "Try 'cp --help' for more information.\n"
          ],
          "name": "stdout"
        }
      ]
    },
    {
      "cell_type": "code",
      "metadata": {
        "id": "CPza7BWjQq4P",
        "colab": {
          "base_uri": "https://localhost:8080/"
        },
        "outputId": "5515469a-edad-4f93-eba7-6f2c59635c62"
      },
      "source": [
        "modelCancerous.summary()"
      ],
      "execution_count": 48,
      "outputs": [
        {
          "output_type": "stream",
          "text": [
            "Model: \"sequential\"\n",
            "_________________________________________________________________\n",
            "Layer (type)                 Output Shape              Param #   \n",
            "=================================================================\n",
            "conv2d (Conv2D)              (None, 27, 27, 27)        756       \n",
            "_________________________________________________________________\n",
            "conv2d_1 (Conv2D)            (None, 27, 27, 27)        6588      \n",
            "_________________________________________________________________\n",
            "max_pooling2d (MaxPooling2D) (None, 13, 13, 27)        0         \n",
            "_________________________________________________________________\n",
            "conv2d_2 (Conv2D)            (None, 13, 13, 54)        13176     \n",
            "_________________________________________________________________\n",
            "conv2d_3 (Conv2D)            (None, 13, 13, 54)        26298     \n",
            "_________________________________________________________________\n",
            "max_pooling2d_1 (MaxPooling2 (None, 6, 6, 54)          0         \n",
            "_________________________________________________________________\n",
            "conv2d_4 (Conv2D)            (None, 6, 6, 108)         52596     \n",
            "_________________________________________________________________\n",
            "conv2d_5 (Conv2D)            (None, 6, 6, 108)         105084    \n",
            "_________________________________________________________________\n",
            "max_pooling2d_2 (MaxPooling2 (None, 3, 3, 108)         0         \n",
            "_________________________________________________________________\n",
            "flatten (Flatten)            (None, 972)               0         \n",
            "_________________________________________________________________\n",
            "dense (Dense)                (None, 108)               105084    \n",
            "_________________________________________________________________\n",
            "dropout (Dropout)            (None, 108)               0         \n",
            "_________________________________________________________________\n",
            "dense_3 (Dense)              (None, 4)                 436       \n",
            "=================================================================\n",
            "Total params: 310,018\n",
            "Trainable params: 310,018\n",
            "Non-trainable params: 0\n",
            "_________________________________________________________________\n"
          ],
          "name": "stdout"
        }
      ]
    },
    {
      "cell_type": "code",
      "metadata": {
        "id": "HoSG0D9tQq4u"
      },
      "source": [
        "modelCancerous.pop()"
      ],
      "execution_count": 46,
      "outputs": []
    },
    {
      "cell_type": "code",
      "metadata": {
        "id": "fzGbK8liQq4v"
      },
      "source": [
        "modelCancerous.summary()"
      ],
      "execution_count": null,
      "outputs": []
    },
    {
      "cell_type": "code",
      "metadata": {
        "id": "zYpe4hdfQq4w"
      },
      "source": [
        "modelCancerous.add(Dense(4, activation='softmax'))"
      ],
      "execution_count": 47,
      "outputs": []
    },
    {
      "cell_type": "code",
      "metadata": {
        "id": "6s8u_WaRQmr7"
      },
      "source": [
        "from tensorflow import keras\n",
        "modelCelltype = keras.models.load_model('/content/modelCancerous')"
      ],
      "execution_count": 49,
      "outputs": []
    },
    {
      "cell_type": "code",
      "metadata": {
        "id": "rMrjtHRllyni"
      },
      "source": [
        ""
      ],
      "execution_count": 29,
      "outputs": []
    },
    {
      "cell_type": "code",
      "metadata": {
        "id": "IV0V_lsBlyq2"
      },
      "source": [
        "modelCelltype = modelCancerous"
      ],
      "execution_count": 74,
      "outputs": []
    },
    {
      "cell_type": "code",
      "metadata": {
        "id": "6_Vd3tlBQBdE",
        "colab": {
          "base_uri": "https://localhost:8080/"
        },
        "outputId": "da8f1e1c-3df7-4af0-c01e-ef08eee17c16"
      },
      "source": [
        "import numpy as np\n",
        "from sklearn.model_selection import train_test_split\n",
        "import pandas as pd\n",
        "\n",
        "data = pd.read_csv('./data_labels_mainData.csv')\n",
        "\n",
        "OUTPUT_CLASSES = 4\n",
        "\n",
        "train_data, test_data = train_test_split(data, test_size=0.2, random_state=42)\n",
        "train_data, val_data = train_test_split(train_data, test_size=0.25, random_state=42)\n",
        "\n",
        "print(\"Train data : {}, Val Data: {}, Test Data: {}\".format(train_data.shape[0], val_data.shape[0], test_data.shape[0]))"
      ],
      "execution_count": 75,
      "outputs": [
        {
          "output_type": "stream",
          "text": [
            "Train data : 5937, Val Data: 1979, Test Data: 1980\n"
          ],
          "name": "stdout"
        }
      ]
    },
    {
      "cell_type": "code",
      "metadata": {
        "id": "4niIpiRbQBgB",
        "colab": {
          "base_uri": "https://localhost:8080/"
        },
        "outputId": "b7be45e1-61ed-42a2-e65d-e392ad6c2dae"
      },
      "source": [
        "train_data['Class'] = train_data['cellType'].astype('str')\n",
        "val_data['Class'] = val_data['cellType'].astype('str')\n",
        "\n",
        "from tensorflow.keras.preprocessing.image import ImageDataGenerator\n",
        "\n",
        "train_datagen = ImageDataGenerator(rescale=1./255, data_format='channels_last',\n",
        "                                   rotation_range=15, width_shift_range=0.2,\n",
        "     \n",
        "     \n",
        "                                   height_shift_range=0.2, brightness_range=[0.5,1.5])\n",
        "val_datagen = ImageDataGenerator(rescale=1./255, data_format='channels_last')\n",
        "\n",
        "batch_size = 27\n",
        "\n",
        "train_generator = train_datagen.flow_from_dataframe(\n",
        "        dataframe=train_data,\n",
        "        directory='./patch_images',\n",
        "        x_col=\"ImageName\",\n",
        "        y_col=\"Class\",\n",
        "        target_size=(27, 27),\n",
        "        batch_size=batch_size,\n",
        "        class_mode='sparse')\n",
        "\n",
        "validation_generator = val_datagen.flow_from_dataframe(\n",
        "        dataframe=val_data,\n",
        "        directory='./patch_images',\n",
        "        x_col=\"ImageName\",\n",
        "        y_col=\"Class\",\n",
        "        target_size=(27, 27),\n",
        "        batch_size=batch_size,\n",
        "        class_mode='sparse')"
      ],
      "execution_count": 76,
      "outputs": [
        {
          "output_type": "stream",
          "text": [
            "Found 5937 validated image filenames belonging to 4 classes.\n",
            "Found 1979 validated image filenames belonging to 4 classes.\n"
          ],
          "name": "stdout"
        }
      ]
    },
    {
      "cell_type": "code",
      "metadata": {
        "id": "DwHMwHq3O1LP"
      },
      "source": [
        "modelCelltype.summary()"
      ],
      "execution_count": null,
      "outputs": []
    },
    {
      "cell_type": "code",
      "metadata": {
        "id": "xlnDf2ZtRuX4"
      },
      "source": [
        "modelCelltype.compile(tf.keras.optimizers.Adam(learning_rate=0.0001,name=\"Adam\"),\n",
        "              loss=tf.keras.losses.SparseCategoricalCrossentropy(from_logits=False),\n",
        "              metrics=['sparse_categorical_accuracy'])"
      ],
      "execution_count": 77,
      "outputs": []
    },
    {
      "cell_type": "code",
      "metadata": {
        "id": "Li5iCvJ44w13"
      },
      "source": [
        "early_stopping = tf.keras.callbacks.EarlyStopping(\n",
        " monitor='val_sparse_categorical_accuracy', \n",
        " verbose=1,\n",
        " patience=20,\n",
        " mode='max',\n",
        " restore_best_weights=True)"
      ],
      "execution_count": 78,
      "outputs": []
    },
    {
      "cell_type": "code",
      "metadata": {
        "id": "UD_9KEWZ6A2R"
      },
      "source": [
        "class_weight = {0: 1.,1: 2.,2: 2., 3: 1.}"
      ],
      "execution_count": 66,
      "outputs": []
    },
    {
      "cell_type": "code",
      "metadata": {
        "id": "HSdDOBgk58XC"
      },
      "source": [
        "class_weights={\"class_1\": 1, \"class_2\": 10}"
      ],
      "execution_count": null,
      "outputs": []
    },
    {
      "cell_type": "code",
      "metadata": {
        "colab": {
          "base_uri": "https://localhost:8080/"
        },
        "id": "h3JMOY6ZK4HV",
        "outputId": "87064f8c-4715-4eb2-a4be-4118abc8c9b6"
      },
      "source": [
        "historyCancerous = modelCelltype.fit(train_generator, validation_data = validation_generator, callbacks=[early_stopping], epochs=50)"
      ],
      "execution_count": null,
      "outputs": [
        {
          "output_type": "stream",
          "text": [
            "Epoch 1/50\n",
            "220/220 [==============================] - 37s 167ms/step - loss: 0.3628 - sparse_categorical_accuracy: 0.8745 - val_loss: 0.7741 - val_sparse_categorical_accuracy: 0.7408\n",
            "Epoch 2/50\n",
            "  5/220 [..............................] - ETA: 34s - loss: 0.3131 - sparse_categorical_accuracy: 0.8741"
          ],
          "name": "stdout"
        }
      ]
    },
    {
      "cell_type": "code",
      "metadata": {
        "id": "tUkDDpPTRpAo",
        "colab": {
          "base_uri": "https://localhost:8080/",
          "height": 338
        },
        "outputId": "21df4c23-aafc-4299-b77b-4e97ae39582f"
      },
      "source": [
        "plot_learning_curve(historyCancerous.history['loss'], historyCancerous.history['val_loss'], \n",
        "                    historyCancerous.history['sparse_categorical_accuracy'], historyCancerous.history['val_sparse_categorical_accuracy'], \n",
        "                    metric_name='Accuracy')"
      ],
      "execution_count": 68,
      "outputs": [
        {
          "output_type": "display_data",
          "data": {
            "image/png": "[encoded data removed]",
            "text/plain": [
              "<Figure size 720x360 with 2 Axes>"
            ]
          },
          "metadata": {
            "tags": [],
            "needs_background": "light"
          }
        }
      ]
    },
    {
      "cell_type": "code",
      "metadata": {
        "id": "yDZnbtbZRpEC"
      },
      "source": [
        ""
      ],
      "execution_count": null,
      "outputs": []
    },
    {
      "cell_type": "code",
      "metadata": {
        "id": "OO2ghrT0QBlO"
      },
      "source": [
        ""
      ],
      "execution_count": null,
      "outputs": []
    },
    {
      "cell_type": "code",
      "metadata": {
        "id": "9Q_ACy_gQBov"
      },
      "source": [
        ""
      ],
      "execution_count": null,
      "outputs": []
    },
    {
      "cell_type": "code",
      "metadata": {
        "colab": {
          "base_uri": "https://localhost:8080/"
        },
        "id": "yUy1w9iubmzi",
        "outputId": "06b9a933-a9ff-43c4-e789-a3029fa5e186"
      },
      "source": [
        "test_data['Class'] = test_data['cellType'].astype('str')\n",
        "\n",
        "test_datagen = ImageDataGenerator(rescale=1./255, data_format='channels_last')\n",
        "\n",
        "batch_size = 1\n",
        "\n",
        "test_generator = test_datagen.flow_from_dataframe(\n",
        "        dataframe=test_data,\n",
        "        directory='./patch_images',\n",
        "        x_col=\"ImageName\",\n",
        "        y_col=\"Class\",\n",
        "        target_size=(27, 27),\n",
        "        batch_size=batch_size,\n",
        "        class_mode='sparse')"
      ],
      "execution_count": null,
      "outputs": [
        {
          "output_type": "stream",
          "text": [
            "Found 1980 validated image filenames belonging to 4 classes.\n"
          ],
          "name": "stdout"
        },
        {
          "output_type": "stream",
          "text": [
            "/usr/local/lib/python3.7/dist-packages/ipykernel_launcher.py:1: SettingWithCopyWarning: \n",
            "A value is trying to be set on a copy of a slice from a DataFrame.\n",
            "Try using .loc[row_indexer,col_indexer] = value instead\n",
            "\n",
            "See the caveats in the documentation: https://pandas.pydata.org/pandas-docs/stable/user_guide/indexing.html#returning-a-view-versus-a-copy\n",
            "  \"\"\"Entry point for launching an IPython kernel.\n"
          ],
          "name": "stderr"
        }
      ]
    },
    {
      "cell_type": "code",
      "metadata": {
        "colab": {
          "base_uri": "https://localhost:8080/"
        },
        "id": "jskuJCJcbmzj",
        "outputId": "0504b8f6-e103-4a33-d926-f0ecf51c417e"
      },
      "source": [
        "model_VGG_2.evaluate(test_generator)"
      ],
      "execution_count": null,
      "outputs": [
        {
          "output_type": "stream",
          "text": [
            "1980/1980 [==============================] - 9s 4ms/step - loss: 1.5789 - sparse_categorical_accuracy: 0.7283\n"
          ],
          "name": "stdout"
        },
        {
          "output_type": "execute_result",
          "data": {
            "text/plain": [
              "[1.578864574432373, 0.7282828092575073]"
            ]
          },
          "metadata": {
            "tags": []
          },
          "execution_count": 20
        }
      ]
    },
    {
      "cell_type": "code",
      "metadata": {
        "id": "qiDRcWMlxnrY"
      },
      "source": [
        "model_VGG_3.optimizer.get_config()"
      ],
      "execution_count": null,
      "outputs": []
    },
    {
      "cell_type": "code",
      "metadata": {
        "colab": {
          "base_uri": "https://localhost:8080/"
        },
        "id": "8Hyls8Kui95q",
        "outputId": "3abb814e-bfd6-470b-a88c-065c7f96ef17"
      },
      "source": [
        "# setup data some placeholders\n",
        "batch_size_ = 1\n",
        "y_hat_all = list()\n",
        "y_all = list()\n",
        "filenames = validation_generator.filenames\n",
        "N_images = len(filenames)\n",
        "batches = 1\n",
        "\n",
        "# iterate through the data generator and predict for each batch\n",
        "# hold the predictions and labels\n",
        "for x,y in validation_generator:\n",
        "        y_hat = model_VGG_3.predict(x, verbose=0)\n",
        "        y_hat = np.argmax(y_hat, axis = 1)\n",
        "        y = np.argmax(y, axis = 1)\n",
        "        y_hat_all = y_hat_all + y_hat.tolist()\n",
        "        y_all = y_all + y.tolist()\n",
        "\n",
        "        batches += 1\n",
        "        if batches >= N_images / batch_size_:\n",
        "            break\n",
        "\n",
        "# now you have made the predictions you can use any performance metric\n",
        "# you wish: either in sklearn or some function you have written\n",
        "\n",
        "from sklearn.metrics import classification_report\n",
        "from sklearn.metrics import confusion_matrix, accuracy_score, f1_score\n",
        "\n",
        "print(\"Accuracy score: \", accuracy_score(y_all, y_hat_all))\n",
        "print(\"F1 score: \", f1_score(y_all, y_hat_all, average='macro'))\n",
        "print(confusion_matrix(y_all, y_hat_all))"
      ],
      "execution_count": null,
      "outputs": [
        {
          "output_type": "stream",
          "text": [
            "Accuracy score:  0.9137693078479194\n",
            "F1 score:  0.9092785580010481\n",
            "[[30050  1201]\n",
            " [ 3360 18282]]\n"
          ],
          "name": "stdout"
        }
      ]
    }
  ]
}