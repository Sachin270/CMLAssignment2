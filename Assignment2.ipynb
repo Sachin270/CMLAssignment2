{
  "nbformat": 4,
  "nbformat_minor": 0,
  "metadata": {
    "kernelspec": {
      "display_name": "Python 3",
      "language": "python",
      "name": "python3"
    },
    "colab": {
      "name": "Untitled8.ipynb",
      "provenance": [],
      "collapsed_sections": [],
      "include_colab_link": true
    },
    "accelerator": "GPU"
  },
  "cells": [
    {
      "cell_type": "markdown",
      "metadata": {
        "id": "view-in-github",
        "colab_type": "text"
      },
      "source": [
        "<a href=\"https://colab.research.google.com/github/Sachin270/CMLAssignment2/blob/main/Assignment2.ipynb\" target=\"_parent\"><img src=\"https://colab.research.google.com/assets/colab-badge.svg\" alt=\"Open In Colab\"/></a>"
      ]
    },
    {
      "cell_type": "code",
      "metadata": {
        "colab": {
          "base_uri": "https://localhost:8080/"
        },
        "id": "z1qAHC3MjyS6",
        "outputId": "2a8b33ea-1205-4006-9b51-85c9c4513bdf"
      },
      "source": [
        "from google.colab import drive\n",
        "drive.mount('/content/drive/')"
      ],
      "execution_count": 2,
      "outputs": [
        {
          "output_type": "stream",
          "text": [
            "Mounted at /content/drive/\n"
          ],
          "name": "stdout"
        }
      ]
    },
    {
      "cell_type": "code",
      "metadata": {
        "colab": {
          "base_uri": "https://localhost:8080/"
        },
        "id": "6nd7cdo3k-vl",
        "outputId": "72f2f36c-524b-45c3-8071-985c38c4be14"
      },
      "source": [
        "!ls /content/drive/'MyDrive'/'Colab Notebooks'/"
      ],
      "execution_count": 3,
      "outputs": [
        {
          "output_type": "stream",
          "text": [
            " data_labels_extraData.csv\t      patch_images      Untitled1.ipynb\n",
            " data_labels_mainData.csv\t      Untitled\t       'Untitled8 (1).ipynb'\n",
            "'Image_classification_data (1).zip'   Untitled0.ipynb   Untitled8.ipynb\n"
          ],
          "name": "stdout"
        }
      ]
    },
    {
      "cell_type": "code",
      "metadata": {
        "colab": {
          "base_uri": "https://localhost:8080/"
        },
        "id": "0bMKIqgLlnuO",
        "outputId": "ece636e9-1d23-40cd-cdb1-354ea4a3874f"
      },
      "source": [
        "!cp /content/drive/'MyDrive'/'Colab Notebooks'/'Image_classification_data (1).zip' .\n",
        "!unzip -q -o 'Image_classification_data (1).zip'\n",
        "!rm 'Image_classification_data (1).zip'\n",
        "!ls"
      ],
      "execution_count": 4,
      "outputs": [
        {
          "output_type": "stream",
          "text": [
            "data_labels_extraData.csv  drive     patch_images\n",
            "data_labels_mainData.csv   __MACOSX  sample_data\n"
          ],
          "name": "stdout"
        }
      ]
    },
    {
      "cell_type": "code",
      "metadata": {
        "colab": {
          "base_uri": "https://localhost:8080/"
        },
        "id": "z-imWSl7kEf3",
        "outputId": "860fbdd5-d5bc-470c-b40f-f6c934c6351f"
      },
      "source": [
        "import tensorflow\n",
        "print(tensorflow.__version__)"
      ],
      "execution_count": 5,
      "outputs": [
        {
          "output_type": "stream",
          "text": [
            "2.5.0\n"
          ],
          "name": "stdout"
        }
      ]
    },
    {
      "cell_type": "code",
      "metadata": {
        "colab": {
          "base_uri": "https://localhost:8080/"
        },
        "id": "-Et8H9SabmzV",
        "outputId": "f3f8b9f3-c992-4ab1-b8c5-b301a20d7026"
      },
      "source": [
        "#Uncomment if on loca machine or AWS\n",
        "# import zipfile\n",
        "# with zipfile.ZipFile('./Image_classification_data (1).zip', 'r') as zip_ref:\n",
        "#     zip_ref.extractall('./')\n",
        "import numpy as np\n",
        "from sklearn.model_selection import train_test_split\n",
        "import pandas as pd\n",
        "\n",
        "data = pd.read_csv('./data_labels_mainData.csv')\n",
        "\n",
        "OUTPUT_CLASSES = 4\n",
        "\n",
        "\n",
        "# Uncomment the following line to do two class classification with\n",
        "# a subset of data\n",
        "# data = data[(data['Class'] == 3) | (data['Class'] == 5)]\n",
        "# OUTPUT_CLASSES = 2\n",
        "\n",
        "train_data, test_data = train_test_split(data, test_size=0.2, random_state=42)\n",
        "train_data, val_data = train_test_split(train_data, test_size=0.25, random_state=42)\n",
        "\n",
        "print(\"Train data : {}, Val Data: {}, Test Data: {}\".format(train_data.shape[0], val_data.shape[0], test_data.shape[0]))"
      ],
      "execution_count": 26,
      "outputs": [
        {
          "output_type": "stream",
          "text": [
            "Train data : 5937, Val Data: 1979, Test Data: 1980\n"
          ],
          "name": "stdout"
        }
      ]
    },
    {
      "cell_type": "code",
      "metadata": {
        "colab": {
          "base_uri": "https://localhost:8080/"
        },
        "id": "o0B93O-sbmzZ",
        "outputId": "73199e34-e139-4423-ec4d-7833c785cad8"
      },
      "source": [
        "train_data['Class'] = train_data['cellType'].astype('str')\n",
        "val_data['Class'] = val_data['cellType'].astype('str')\n",
        "\n",
        "from tensorflow.keras.preprocessing.image import ImageDataGenerator\n",
        "\n",
        "train_datagen = ImageDataGenerator(rescale=1./255, data_format='channels_last')\n",
        "val_datagen = ImageDataGenerator(rescale=1./255, data_format='channels_last')\n",
        "\n",
        "batch_size = 50\n",
        "\n",
        "train_generator = train_datagen.flow_from_dataframe(\n",
        "        dataframe=train_data,\n",
        "        directory='./patch_images',\n",
        "        x_col=\"ImageName\",\n",
        "        y_col=\"Class\",\n",
        "        target_size=(27, 27),\n",
        "        batch_size=batch_size,\n",
        "        class_mode='sparse')\n",
        "\n",
        "validation_generator = val_datagen.flow_from_dataframe(\n",
        "        dataframe=val_data,\n",
        "        directory='./patch_images',\n",
        "        x_col=\"ImageName\",\n",
        "        y_col=\"Class\",\n",
        "        target_size=(27, 27),\n",
        "        batch_size=batch_size,\n",
        "        class_mode='sparse')"
      ],
      "execution_count": 7,
      "outputs": [
        {
          "output_type": "stream",
          "text": [
            "Found 5937 validated image filenames belonging to 4 classes.\n",
            "Found 1979 validated image filenames belonging to 4 classes.\n"
          ],
          "name": "stdout"
        }
      ]
    },
    {
      "cell_type": "code",
      "metadata": {
        "id": "T7XgoneObmza"
      },
      "source": [
        "import matplotlib.pyplot as plt\n",
        "def plot_learning_curve(train_loss, val_loss, train_metric, val_metric, metric_name='Accuracy'):\n",
        "    plt.figure(figsize=(10,5))\n",
        "    \n",
        "    plt.subplot(1,2,1)\n",
        "    plt.plot(train_loss, 'r--')\n",
        "    plt.plot(val_loss, 'b--')\n",
        "    plt.xlabel(\"epochs\")\n",
        "    plt.ylabel(\"Loss\")\n",
        "    plt.legend(['train', 'val'], loc='upper left')\n",
        "\n",
        "    plt.subplot(1,2,2)\n",
        "    plt.plot(train_metric, 'r--')\n",
        "    plt.plot(val_metric, 'b--')\n",
        "    plt.xlabel(\"epochs\")\n",
        "    plt.ylabel(metric_name)\n",
        "    plt.legend(['train', 'val'], loc='upper left')\n",
        "\n",
        "    plt.show()"
      ],
      "execution_count": 8,
      "outputs": []
    },
    {
      "cell_type": "code",
      "metadata": {
        "id": "BOnJT90Jbmzb"
      },
      "source": [
        "import tensorflow as tf\n",
        "\n",
        "\n",
        "model_VGG_1 = tf.keras.Sequential([\n",
        "    #VGG block 1\n",
        "    tf.keras.layers.Conv2D(32, (3, 3), activation='relu', padding='same', input_shape=(27, 27, 3)),\n",
        "    tf.keras.layers.Conv2D(32, (3, 3), activation='relu', padding='same'),\n",
        "    tf.keras.layers.MaxPooling2D((2, 2)),\n",
        "    \n",
        "    #VGG block 2\n",
        "    tf.keras.layers.Conv2D(64, (3, 3), activation='relu', padding='same'),\n",
        "    tf.keras.layers.Conv2D(64, (3, 3), activation='relu', padding='same'),\n",
        "    tf.keras.layers.MaxPooling2D((2, 2)),\n",
        "    \n",
        "    #VGG block 3\n",
        "    tf.keras.layers.Conv2D(128, (3, 3), activation='relu', padding='same'),\n",
        "    tf.keras.layers.Conv2D(128, (3, 3), activation='relu', padding='same'),\n",
        "    tf.keras.layers.MaxPooling2D((2, 2)),\n",
        "    \n",
        "    tf.keras.layers.Flatten(),\n",
        "    tf.keras.layers.Dense(128, activation='relu'),\n",
        "    tf.keras.layers.Dense(OUTPUT_CLASSES),\n",
        "])"
      ],
      "execution_count": 9,
      "outputs": []
    },
    {
      "cell_type": "code",
      "metadata": {
        "id": "dp7vG6xNEr7_"
      },
      "source": [
        "import keras.backend as K\n",
        "def get_f1(y_true, y_pred): #taken from old keras source code\n",
        "    true_positives = K.sum(K.round(K.clip(y_true * y_pred, 0, 1)))\n",
        "    possible_positives = K.sum(K.round(K.clip(y_true, 0, 1)))\n",
        "    predicted_positives = K.sum(K.round(K.clip(y_pred, 0, 1)))\n",
        "    precision = true_positives / (predicted_positives + K.epsilon())\n",
        "    recall = true_positives / (possible_positives + K.epsilon())\n",
        "    f1_val = 2*(precision*recall)/(precision+recall+K.epsilon())\n",
        "    return f1_val"
      ],
      "execution_count": 10,
      "outputs": []
    },
    {
      "cell_type": "code",
      "metadata": {
        "id": "eMl6xplCGpGq"
      },
      "source": [
        "from tensorflow.python.keras.metrics import Metric"
      ],
      "execution_count": 53,
      "outputs": []
    },
    {
      "cell_type": "code",
      "metadata": {
        "id": "5rV_w1JDbmzc"
      },
      "source": [
        "model_VGG_1.compile(optimizer='adam',\n",
        "              loss=tf.keras.losses.SparseCategoricalCrossentropy(from_logits=True),\n",
        "              metrics=['sparse_categorical_accuracy',get_f1])"
      ],
      "execution_count": 11,
      "outputs": []
    },
    {
      "cell_type": "code",
      "metadata": {
        "collapsed": true,
        "colab": {
          "base_uri": "https://localhost:8080/"
        },
        "id": "i-LJPz5ebmzd",
        "outputId": "f3cb8de6-49c1-4bd6-fe48-3ac57104d089"
      },
      "source": [
        "history_VGG_1 = model_VGG_1.fit(train_generator, validation_data = validation_generator, epochs=25)"
      ],
      "execution_count": 12,
      "outputs": [
        {
          "output_type": "stream",
          "text": [
            "119/119 [==============================] - 34s 35ms/step - loss: 1.1581 - sparse_categorical_accuracy: 0.4886 - get_f1: 1.2176 - val_loss: 0.9793 - val_sparse_categorical_accuracy: 0.5766 - val_get_f1: 1.1997\n",
            "Epoch 2/25\n",
            "119/119 [==============================] - 4s 29ms/step - loss: 0.8393 - sparse_categorical_accuracy: 0.6742 - get_f1: 1.1341 - val_loss: 0.8086 - val_sparse_categorical_accuracy: 0.6842 - val_get_f1: 1.1500\n",
            "Epoch 3/25\n",
            "119/119 [==============================] - 4s 30ms/step - loss: 0.7652 - sparse_categorical_accuracy: 0.7014 - get_f1: 1.1659 - val_loss: 0.7491 - val_sparse_categorical_accuracy: 0.6993 - val_get_f1: 1.0959\n",
            "Epoch 4/25\n",
            "119/119 [==============================] - 4s 30ms/step - loss: 0.7293 - sparse_categorical_accuracy: 0.7118 - get_f1: 1.1488 - val_loss: 0.8516 - val_sparse_categorical_accuracy: 0.6478 - val_get_f1: 1.2007\n",
            "Epoch 5/25\n",
            "119/119 [==============================] - 4s 30ms/step - loss: 0.7017 - sparse_categorical_accuracy: 0.7229 - get_f1: 1.1615 - val_loss: 0.6832 - val_sparse_categorical_accuracy: 0.7266 - val_get_f1: 1.1074\n",
            "Epoch 6/25\n",
            "119/119 [==============================] - 4s 30ms/step - loss: 0.6716 - sparse_categorical_accuracy: 0.7369 - get_f1: 1.1461 - val_loss: 0.6470 - val_sparse_categorical_accuracy: 0.7468 - val_get_f1: 1.1636\n",
            "Epoch 7/25\n",
            "119/119 [==============================] - 4s 31ms/step - loss: 0.6466 - sparse_categorical_accuracy: 0.7561 - get_f1: 1.1507 - val_loss: 0.6546 - val_sparse_categorical_accuracy: 0.7499 - val_get_f1: 1.1236\n",
            "Epoch 8/25\n",
            "119/119 [==============================] - 4s 31ms/step - loss: 0.6369 - sparse_categorical_accuracy: 0.7504 - get_f1: 1.1402 - val_loss: 0.6742 - val_sparse_categorical_accuracy: 0.7362 - val_get_f1: 1.1059\n",
            "Epoch 9/25\n",
            "119/119 [==============================] - 4s 30ms/step - loss: 0.5989 - sparse_categorical_accuracy: 0.7706 - get_f1: 1.1418 - val_loss: 0.6775 - val_sparse_categorical_accuracy: 0.7191 - val_get_f1: 1.1104\n",
            "Epoch 10/25\n",
            "119/119 [==============================] - 4s 30ms/step - loss: 0.5604 - sparse_categorical_accuracy: 0.7863 - get_f1: 1.1348 - val_loss: 0.6382 - val_sparse_categorical_accuracy: 0.7544 - val_get_f1: 1.1083\n",
            "Epoch 11/25\n",
            "119/119 [==============================] - 4s 30ms/step - loss: 0.5548 - sparse_categorical_accuracy: 0.7861 - get_f1: 1.1220 - val_loss: 0.6355 - val_sparse_categorical_accuracy: 0.7479 - val_get_f1: 1.1206\n",
            "Epoch 12/25\n",
            "119/119 [==============================] - 4s 30ms/step - loss: 0.5156 - sparse_categorical_accuracy: 0.7991 - get_f1: 1.1184 - val_loss: 0.7348 - val_sparse_categorical_accuracy: 0.7393 - val_get_f1: 1.1171\n",
            "Epoch 13/25\n",
            "119/119 [==============================] - 4s 30ms/step - loss: 0.4697 - sparse_categorical_accuracy: 0.8253 - get_f1: 1.1269 - val_loss: 0.7057 - val_sparse_categorical_accuracy: 0.7458 - val_get_f1: 1.1062\n",
            "Epoch 14/25\n",
            "119/119 [==============================] - 4s 30ms/step - loss: 0.4259 - sparse_categorical_accuracy: 0.8393 - get_f1: 1.1201 - val_loss: 0.7934 - val_sparse_categorical_accuracy: 0.7317 - val_get_f1: 1.0853\n",
            "Epoch 15/25\n",
            "119/119 [==============================] - 4s 30ms/step - loss: 0.3885 - sparse_categorical_accuracy: 0.8541 - get_f1: 1.1070 - val_loss: 0.6750 - val_sparse_categorical_accuracy: 0.7494 - val_get_f1: 1.1203\n",
            "Epoch 16/25\n",
            "119/119 [==============================] - 4s 30ms/step - loss: 0.3471 - sparse_categorical_accuracy: 0.8705 - get_f1: 1.1153 - val_loss: 0.7312 - val_sparse_categorical_accuracy: 0.7676 - val_get_f1: 1.1177\n",
            "Epoch 17/25\n",
            "119/119 [==============================] - 4s 30ms/step - loss: 0.3072 - sparse_categorical_accuracy: 0.8892 - get_f1: 1.1112 - val_loss: 0.8013 - val_sparse_categorical_accuracy: 0.7665 - val_get_f1: 1.0994\n",
            "Epoch 18/25\n",
            "119/119 [==============================] - 4s 30ms/step - loss: 0.2503 - sparse_categorical_accuracy: 0.9070 - get_f1: 1.1047 - val_loss: 0.8663 - val_sparse_categorical_accuracy: 0.7297 - val_get_f1: 1.1327\n",
            "Epoch 19/25\n",
            "119/119 [==============================] - 4s 30ms/step - loss: 0.2198 - sparse_categorical_accuracy: 0.9197 - get_f1: 1.1023 - val_loss: 0.9658 - val_sparse_categorical_accuracy: 0.7408 - val_get_f1: 1.1498\n",
            "Epoch 20/25\n",
            "119/119 [==============================] - 4s 30ms/step - loss: 0.2062 - sparse_categorical_accuracy: 0.9252 - get_f1: 1.1056 - val_loss: 0.8381 - val_sparse_categorical_accuracy: 0.7539 - val_get_f1: 1.1286\n",
            "Epoch 21/25\n",
            "119/119 [==============================] - 4s 30ms/step - loss: 0.1389 - sparse_categorical_accuracy: 0.9498 - get_f1: 1.0884 - val_loss: 1.0688 - val_sparse_categorical_accuracy: 0.7337 - val_get_f1: 1.1195\n",
            "Epoch 22/25\n",
            "119/119 [==============================] - 4s 30ms/step - loss: 0.1436 - sparse_categorical_accuracy: 0.9483 - get_f1: 1.0783 - val_loss: 0.9860 - val_sparse_categorical_accuracy: 0.7423 - val_get_f1: 1.1176\n",
            "Epoch 23/25\n",
            "119/119 [==============================] - 4s 31ms/step - loss: 0.1687 - sparse_categorical_accuracy: 0.9390 - get_f1: 1.0803 - val_loss: 1.1848 - val_sparse_categorical_accuracy: 0.7226 - val_get_f1: 1.1233\n",
            "Epoch 24/25\n",
            "119/119 [==============================] - 4s 31ms/step - loss: 0.0898 - sparse_categorical_accuracy: 0.9682 - get_f1: 1.0776 - val_loss: 1.4304 - val_sparse_categorical_accuracy: 0.7110 - val_get_f1: 1.1050\n",
            "Epoch 25/25\n",
            "119/119 [==============================] - 4s 29ms/step - loss: 0.0664 - sparse_categorical_accuracy: 0.9771 - get_f1: 1.0716 - val_loss: 1.3895 - val_sparse_categorical_accuracy: 0.7372 - val_get_f1: 1.1196\n"
          ],
          "name": "stdout"
        }
      ]
    },
    {
      "cell_type": "code",
      "metadata": {
        "collapsed": true,
        "colab": {
          "base_uri": "https://localhost:8080/",
          "height": 337
        },
        "id": "lqSSl9nqbmzd",
        "outputId": "7c8ff8eb-faab-4846-db71-b183a5e3666a"
      },
      "source": [
        "plot_learning_curve(history_VGG_1.history['loss'], history_VGG_1.history['val_loss'], \n",
        "                    history_VGG_1.history['sparse_categorical_accuracy'], history_VGG_1.history['val_sparse_categorical_accuracy'], \n",
        "                    metric_name='Accuracy')"
      ],
      "execution_count": 13,
      "outputs": [
        {
          "output_type": "display_data",
          "data": {
            "image/png": "[encoded data removed]",
            "text/plain": [
              "<Figure size 720x360 with 2 Axes>"
            ]
          },
          "metadata": {
            "tags": [],
            "needs_background": "light"
          }
        }
      ]
    },
    {
      "cell_type": "code",
      "metadata": {
        "id": "rpzgYttJbmzf"
      },
      "source": [
        "reg_lambda = 0.001\n",
        "\n",
        "model_VGG_2 = tf.keras.Sequential([\n",
        "    #VGG block 1\n",
        "    tf.keras.layers.Conv2D(27, (3, 3), activation='relu', padding='same', \n",
        "                           kernel_regularizer=tf.keras.regularizers.l2(reg_lambda), input_shape=(27, 27, 3)),\n",
        "    tf.keras.layers.Conv2D(27, (3, 3), activation='relu', padding='same', \n",
        "                           kernel_regularizer=tf.keras.regularizers.l2(reg_lambda)),\n",
        "    tf.keras.layers.MaxPooling2D((2, 2)),\n",
        "    \n",
        "    #VGG block 2\n",
        "    tf.keras.layers.Conv2D(54, (3, 3), activation='relu', padding='same', \n",
        "                           kernel_regularizer=tf.keras.regularizers.l2(reg_lambda)),\n",
        "    tf.keras.layers.Conv2D(54, (3, 3), activation='relu', padding='same', \n",
        "                           kernel_regularizer=tf.keras.regularizers.l2(reg_lambda)),\n",
        "    tf.keras.layers.MaxPooling2D((2, 2)),\n",
        "    \n",
        "    #VGG block 3\n",
        "    tf.keras.layers.Conv2D(108, (3, 3), activation='relu', padding='same', \n",
        "                           kernel_regularizer=tf.keras.regularizers.l2(reg_lambda)),\n",
        "    tf.keras.layers.Conv2D(108, (3, 3), activation='relu', padding='same', \n",
        "                           kernel_regularizer=tf.keras.regularizers.l2(reg_lambda)),\n",
        "    tf.keras.layers.MaxPooling2D((2, 2)),\n",
        "    \n",
        "    tf.keras.layers.Flatten(),\n",
        "    tf.keras.layers.Dense(108, activation='relu'),\n",
        "    tf.keras.layers.Dropout(.2),\n",
        "    tf.keras.layers.Dense(OUTPUT_CLASSES,activation='softmax'),\n",
        "])"
      ],
      "execution_count": 15,
      "outputs": []
    },
    {
      "cell_type": "code",
      "metadata": {
        "id": "o9Rpr8Rhbmzg"
      },
      "source": [
        "model_VGG_2.compile(optimizer='adam',\n",
        "              loss=tf.keras.losses.SparseCategoricalCrossentropy(from_logits=True),\n",
        "              metrics=['sparse_categorical_accuracy'])"
      ],
      "execution_count": 16,
      "outputs": []
    },
    {
      "cell_type": "code",
      "metadata": {
        "id": "sBLx_289bmzh"
      },
      "source": [
        "history_VGG_2 = model_VGG_2.fit(train_generator, validation_data = validation_generator, epochs=100)\n",
        "plot_learning_curve(history_VGG_2.history['loss'], history_VGG_2.history['val_loss'], \n",
        "                    history_VGG_2.history['sparse_categorical_accuracy'], history_VGG_2.history['val_sparse_categorical_accuracy'], \n",
        "                    metric_name='Accuracy')"
      ],
      "execution_count": null,
      "outputs": []
    },
    {
      "cell_type": "code",
      "metadata": {
        "colab": {
          "base_uri": "https://localhost:8080/"
        },
        "id": "e7jcn5E_bmzi",
        "outputId": "644e7bd1-b5dc-4204-a03b-7a1a028b2caf"
      },
      "source": [
        "model_VGG_2.evaluate(validation_generator)"
      ],
      "execution_count": 18,
      "outputs": [
        {
          "output_type": "stream",
          "text": [
            "40/40 [==============================] - 1s 19ms/step - loss: 1.4398 - sparse_categorical_accuracy: 0.7458\n"
          ],
          "name": "stdout"
        },
        {
          "output_type": "execute_result",
          "data": {
            "text/plain": [
              "[1.4398329257965088, 0.7458312511444092]"
            ]
          },
          "metadata": {
            "tags": []
          },
          "execution_count": 18
        }
      ]
    },
    {
      "cell_type": "code",
      "metadata": {
        "colab": {
          "base_uri": "https://localhost:8080/"
        },
        "id": "yUy1w9iubmzi",
        "outputId": "abda6240-eb7e-49d1-cbda-8785a1d0ccc6"
      },
      "source": [
        "test_data['Class'] = test_data['cellType'].astype('str')\n",
        "\n",
        "test_datagen = ImageDataGenerator(rescale=1./255, data_format='channels_last')\n",
        "\n",
        "batch_size = 1\n",
        "\n",
        "test_generator = test_datagen.flow_from_dataframe(\n",
        "        dataframe=test_data,\n",
        "        directory='./patch_images',\n",
        "        x_col=\"ImageName\",\n",
        "        y_col=\"Class\",\n",
        "        target_size=(27, 27),\n",
        "        batch_size=batch_size,\n",
        "        class_mode='sparse')"
      ],
      "execution_count": 19,
      "outputs": [
        {
          "output_type": "stream",
          "text": [
            "Found 1980 validated image filenames belonging to 4 classes.\n"
          ],
          "name": "stdout"
        },
        {
          "output_type": "stream",
          "text": [
            "/usr/local/lib/python3.7/dist-packages/ipykernel_launcher.py:1: SettingWithCopyWarning: \n",
            "A value is trying to be set on a copy of a slice from a DataFrame.\n",
            "Try using .loc[row_indexer,col_indexer] = value instead\n",
            "\n",
            "See the caveats in the documentation: https://pandas.pydata.org/pandas-docs/stable/user_guide/indexing.html#returning-a-view-versus-a-copy\n",
            "  \"\"\"Entry point for launching an IPython kernel.\n"
          ],
          "name": "stderr"
        }
      ]
    },
    {
      "cell_type": "code",
      "metadata": {
        "colab": {
          "base_uri": "https://localhost:8080/"
        },
        "id": "jskuJCJcbmzj",
        "outputId": "0504b8f6-e103-4a33-d926-f0ecf51c417e"
      },
      "source": [
        "model_VGG_2.evaluate(test_generator)"
      ],
      "execution_count": 20,
      "outputs": [
        {
          "output_type": "stream",
          "text": [
            "1980/1980 [==============================] - 9s 4ms/step - loss: 1.5789 - sparse_categorical_accuracy: 0.7283\n"
          ],
          "name": "stdout"
        },
        {
          "output_type": "execute_result",
          "data": {
            "text/plain": [
              "[1.578864574432373, 0.7282828092575073]"
            ]
          },
          "metadata": {
            "tags": []
          },
          "execution_count": 20
        }
      ]
    },
    {
      "cell_type": "code",
      "metadata": {
        "colab": {
          "base_uri": "https://localhost:8080/"
        },
        "id": "G2T24Helbmzj",
        "outputId": "b32cf96d-9bd9-4823-c89f-a493d750f898"
      },
      "source": [
        "train_data['Class'] = train_data['cellType'].astype('str')\n",
        "val_data['Class'] = val_data['cellType'].astype('str')\n",
        "\n",
        "from tensorflow.keras.preprocessing.image import ImageDataGenerator\n",
        "\n",
        "train_datagen = ImageDataGenerator(rescale=1./255, data_format='channels_last',\n",
        "                                   rotation_range=15, width_shift_range=0.2,\n",
        "                                   height_shift_range=0.2, brightness_range=[0.5,1.5])\n",
        "val_datagen = ImageDataGenerator(rescale=1./255, data_format='channels_last')\n",
        "\n",
        "batch_size = 27\n",
        "\n",
        "train_generator = train_datagen.flow_from_dataframe(\n",
        "        dataframe=train_data,\n",
        "        directory='./patch_images',\n",
        "        x_col=\"ImageName\",\n",
        "        y_col=\"Class\",\n",
        "        target_size=(27, 27),\n",
        "        batch_size=batch_size,\n",
        "        class_mode='sparse')\n",
        "\n",
        "validation_generator = val_datagen.flow_from_dataframe(\n",
        "        dataframe=val_data,\n",
        "        directory='./patch_images',\n",
        "        x_col=\"ImageName\",\n",
        "        y_col=\"Class\",\n",
        "        target_size=(27, 27),\n",
        "        batch_size=batch_size,\n",
        "        class_mode='sparse')"
      ],
      "execution_count": 32,
      "outputs": [
        {
          "output_type": "stream",
          "text": [
            "Found 5937 validated image filenames belonging to 4 classes.\n",
            "Found 1979 validated image filenames belonging to 4 classes.\n"
          ],
          "name": "stdout"
        }
      ]
    },
    {
      "cell_type": "code",
      "metadata": {
        "id": "XQiA8cP6zqSd"
      },
      "source": [
        "reg_lambda = 0.001\n",
        "\n",
        "model_VGG_3 = tf.keras.Sequential([\n",
        "    #VGG block 1\n",
        "    tf.keras.layers.Conv2D(27, (3, 3), activation='relu', padding='same', \n",
        "                           kernel_regularizer=tf.keras.regularizers.l2(reg_lambda), input_shape=(27, 27, 3)),\n",
        "    tf.keras.layers.Conv2D(27, (3, 3), activation='relu', padding='same', \n",
        "                           kernel_regularizer=tf.keras.regularizers.l2(reg_lambda)),\n",
        "    tf.keras.layers.MaxPooling2D((2, 2)),\n",
        "    \n",
        "    #VGG block 2\n",
        "    tf.keras.layers.Conv2D(54, (3, 3), activation='relu', padding='same', \n",
        "                           kernel_regularizer=tf.keras.regularizers.l2(reg_lambda)),\n",
        "    tf.keras.layers.Conv2D(54, (3, 3), activation='relu', padding='same', \n",
        "                           kernel_regularizer=tf.keras.regularizers.l2(reg_lambda)),\n",
        "    tf.keras.layers.MaxPooling2D((2, 2)),\n",
        "    \n",
        "    #VGG block 3\n",
        "    tf.keras.layers.Conv2D(108, (3, 3), activation='relu', padding='same', \n",
        "                           kernel_regularizer=tf.keras.regularizers.l2(reg_lambda)),\n",
        "    tf.keras.layers.Conv2D(108, (3, 3), activation='relu', padding='same', \n",
        "                           kernel_regularizer=tf.keras.regularizers.l2(reg_lambda)),\n",
        "    tf.keras.layers.MaxPooling2D((2, 2)),\n",
        "    \n",
        "    tf.keras.layers.Flatten(),\n",
        "    tf.keras.layers.Dense(108, activation='relu'),\n",
        "    tf.keras.layers.Dropout(.2),\n",
        "    tf.keras.layers.Dense(OUTPUT_CLASSES,activation='softmax'),\n",
        "])"
      ],
      "execution_count": 33,
      "outputs": []
    },
    {
      "cell_type": "code",
      "metadata": {
        "id": "roIOfBW-zqU3"
      },
      "source": [
        "model_VGG_3.compile(optimizer='adam',\n",
        "              loss=tf.keras.losses.SparseCategoricalCrossentropy(from_logits=True),\n",
        "              metrics=['sparse_categorical_accuracy'])"
      ],
      "execution_count": 34,
      "outputs": []
    },
    {
      "cell_type": "code",
      "metadata": {
        "colab": {
          "base_uri": "https://localhost:8080/",
          "height": 1000
        },
        "id": "2A00fC7izqYv",
        "outputId": "3c3215e4-8de3-408e-b23f-55d39c322c89"
      },
      "source": [
        "history_VGG_3 = model_VGG_3.fit(train_generator, validation_data = validation_generator, epochs=100)\n",
        "\n",
        "plot_learning_curve(history_VGG_3.history['loss'], history_VGG_3.history['val_loss'], \n",
        "                    history_VGG_3.history['sparse_categorical_accuracy'], history_VGG_3.history['val_sparse_categorical_accuracy'], \n",
        "                    metric_name='Accuracy')"
      ],
      "execution_count": 35,
      "outputs": [
        {
          "output_type": "stream",
          "text": [
            "Epoch 1/100\n"
          ],
          "name": "stdout"
        },
        {
          "output_type": "stream",
          "text": [
            "/usr/local/lib/python3.7/dist-packages/tensorflow/python/keras/backend.py:4930: UserWarning: \"`sparse_categorical_crossentropy` received `from_logits=True`, but the `output` argument was produced by a sigmoid or softmax activation and thus does not represent logits. Was this intended?\"\n",
            "  '\"`sparse_categorical_crossentropy` received `from_logits=True`, but '\n"
          ],
          "name": "stderr"
        },
        {
          "output_type": "stream",
          "text": [
            "220/220 [==============================] - 10s 43ms/step - loss: 1.3195 - sparse_categorical_accuracy: 0.4566 - val_loss: 1.2103 - val_sparse_categorical_accuracy: 0.4603\n",
            "Epoch 2/100\n",
            "220/220 [==============================] - 9s 40ms/step - loss: 1.0724 - sparse_categorical_accuracy: 0.5636 - val_loss: 1.0624 - val_sparse_categorical_accuracy: 0.5902\n",
            "Epoch 3/100\n",
            "220/220 [==============================] - 9s 40ms/step - loss: 1.0257 - sparse_categorical_accuracy: 0.6010 - val_loss: 1.1752 - val_sparse_categorical_accuracy: 0.5659\n",
            "Epoch 4/100\n",
            "220/220 [==============================] - 9s 40ms/step - loss: 0.9094 - sparse_categorical_accuracy: 0.6625 - val_loss: 0.8582 - val_sparse_categorical_accuracy: 0.6806\n",
            "Epoch 5/100\n",
            "220/220 [==============================] - 9s 40ms/step - loss: 0.8763 - sparse_categorical_accuracy: 0.6790 - val_loss: 0.8352 - val_sparse_categorical_accuracy: 0.6756\n",
            "Epoch 6/100\n",
            "220/220 [==============================] - 9s 40ms/step - loss: 0.8570 - sparse_categorical_accuracy: 0.6763 - val_loss: 0.8168 - val_sparse_categorical_accuracy: 0.6887\n",
            "Epoch 7/100\n",
            "220/220 [==============================] - 9s 40ms/step - loss: 0.8031 - sparse_categorical_accuracy: 0.7089 - val_loss: 0.9510 - val_sparse_categorical_accuracy: 0.6306\n",
            "Epoch 8/100\n",
            "220/220 [==============================] - 9s 40ms/step - loss: 0.8342 - sparse_categorical_accuracy: 0.6904 - val_loss: 0.8094 - val_sparse_categorical_accuracy: 0.7069\n",
            "Epoch 9/100\n",
            "220/220 [==============================] - 9s 40ms/step - loss: 0.7936 - sparse_categorical_accuracy: 0.7093 - val_loss: 0.7742 - val_sparse_categorical_accuracy: 0.7140\n",
            "Epoch 10/100\n",
            "220/220 [==============================] - 9s 40ms/step - loss: 0.7898 - sparse_categorical_accuracy: 0.7086 - val_loss: 0.7231 - val_sparse_categorical_accuracy: 0.7418\n",
            "Epoch 11/100\n",
            "220/220 [==============================] - 9s 40ms/step - loss: 0.7844 - sparse_categorical_accuracy: 0.7143 - val_loss: 1.1126 - val_sparse_categorical_accuracy: 0.5973\n",
            "Epoch 12/100\n",
            "220/220 [==============================] - 9s 40ms/step - loss: 0.7690 - sparse_categorical_accuracy: 0.7162 - val_loss: 0.7963 - val_sparse_categorical_accuracy: 0.6993\n",
            "Epoch 13/100\n",
            "220/220 [==============================] - 9s 40ms/step - loss: 0.7788 - sparse_categorical_accuracy: 0.7160 - val_loss: 0.9338 - val_sparse_categorical_accuracy: 0.6453\n",
            "Epoch 14/100\n",
            "220/220 [==============================] - 9s 40ms/step - loss: 0.7743 - sparse_categorical_accuracy: 0.7192 - val_loss: 0.8986 - val_sparse_categorical_accuracy: 0.6569\n",
            "Epoch 15/100\n",
            "220/220 [==============================] - 9s 40ms/step - loss: 0.7736 - sparse_categorical_accuracy: 0.7212 - val_loss: 0.8124 - val_sparse_categorical_accuracy: 0.7029\n",
            "Epoch 16/100\n",
            "220/220 [==============================] - 9s 40ms/step - loss: 0.7565 - sparse_categorical_accuracy: 0.7236 - val_loss: 1.1318 - val_sparse_categorical_accuracy: 0.5927\n",
            "Epoch 17/100\n",
            "220/220 [==============================] - 9s 41ms/step - loss: 0.7723 - sparse_categorical_accuracy: 0.7219 - val_loss: 0.9998 - val_sparse_categorical_accuracy: 0.6064\n",
            "Epoch 18/100\n",
            "220/220 [==============================] - 9s 41ms/step - loss: 0.7769 - sparse_categorical_accuracy: 0.7196 - val_loss: 0.7843 - val_sparse_categorical_accuracy: 0.7135\n",
            "Epoch 19/100\n",
            "220/220 [==============================] - 9s 40ms/step - loss: 0.7625 - sparse_categorical_accuracy: 0.7228 - val_loss: 0.7958 - val_sparse_categorical_accuracy: 0.6963\n",
            "Epoch 20/100\n",
            "220/220 [==============================] - 9s 40ms/step - loss: 0.7393 - sparse_categorical_accuracy: 0.7352 - val_loss: 1.1691 - val_sparse_categorical_accuracy: 0.5735\n",
            "Epoch 21/100\n",
            "220/220 [==============================] - 9s 41ms/step - loss: 0.7579 - sparse_categorical_accuracy: 0.7266 - val_loss: 0.8888 - val_sparse_categorical_accuracy: 0.6564\n",
            "Epoch 22/100\n",
            "220/220 [==============================] - 9s 40ms/step - loss: 0.7434 - sparse_categorical_accuracy: 0.7356 - val_loss: 0.6912 - val_sparse_categorical_accuracy: 0.7479\n",
            "Epoch 23/100\n",
            "220/220 [==============================] - 9s 40ms/step - loss: 0.7425 - sparse_categorical_accuracy: 0.7339 - val_loss: 0.7118 - val_sparse_categorical_accuracy: 0.7297\n",
            "Epoch 24/100\n",
            "220/220 [==============================] - 9s 40ms/step - loss: 0.7376 - sparse_categorical_accuracy: 0.7297 - val_loss: 0.8475 - val_sparse_categorical_accuracy: 0.6741\n",
            "Epoch 25/100\n",
            "220/220 [==============================] - 9s 40ms/step - loss: 0.7333 - sparse_categorical_accuracy: 0.7337 - val_loss: 0.8129 - val_sparse_categorical_accuracy: 0.6988\n",
            "Epoch 26/100\n",
            "220/220 [==============================] - 9s 41ms/step - loss: 0.7349 - sparse_categorical_accuracy: 0.7322 - val_loss: 0.8663 - val_sparse_categorical_accuracy: 0.6786\n",
            "Epoch 27/100\n",
            "220/220 [==============================] - 9s 40ms/step - loss: 0.7328 - sparse_categorical_accuracy: 0.7332 - val_loss: 0.7627 - val_sparse_categorical_accuracy: 0.7236\n",
            "Epoch 28/100\n",
            "220/220 [==============================] - 9s 41ms/step - loss: 0.7311 - sparse_categorical_accuracy: 0.7372 - val_loss: 0.6671 - val_sparse_categorical_accuracy: 0.7514\n",
            "Epoch 29/100\n",
            "220/220 [==============================] - 9s 40ms/step - loss: 0.7412 - sparse_categorical_accuracy: 0.7347 - val_loss: 0.7924 - val_sparse_categorical_accuracy: 0.7059\n",
            "Epoch 30/100\n",
            "220/220 [==============================] - 9s 40ms/step - loss: 0.7479 - sparse_categorical_accuracy: 0.7256 - val_loss: 0.8272 - val_sparse_categorical_accuracy: 0.6791\n",
            "Epoch 31/100\n",
            "220/220 [==============================] - 9s 41ms/step - loss: 0.7151 - sparse_categorical_accuracy: 0.7450 - val_loss: 0.7448 - val_sparse_categorical_accuracy: 0.7271\n",
            "Epoch 32/100\n",
            "220/220 [==============================] - 9s 40ms/step - loss: 0.7206 - sparse_categorical_accuracy: 0.7340 - val_loss: 0.7366 - val_sparse_categorical_accuracy: 0.7297\n",
            "Epoch 33/100\n",
            "220/220 [==============================] - 9s 40ms/step - loss: 0.7210 - sparse_categorical_accuracy: 0.7435 - val_loss: 0.6929 - val_sparse_categorical_accuracy: 0.7468\n",
            "Epoch 34/100\n",
            "220/220 [==============================] - 9s 40ms/step - loss: 0.7091 - sparse_categorical_accuracy: 0.7507 - val_loss: 0.8484 - val_sparse_categorical_accuracy: 0.6751\n",
            "Epoch 35/100\n",
            "220/220 [==============================] - 9s 40ms/step - loss: 0.7108 - sparse_categorical_accuracy: 0.7477 - val_loss: 0.8163 - val_sparse_categorical_accuracy: 0.6973\n",
            "Epoch 36/100\n",
            "220/220 [==============================] - 9s 40ms/step - loss: 0.7183 - sparse_categorical_accuracy: 0.7448 - val_loss: 0.7418 - val_sparse_categorical_accuracy: 0.7185\n",
            "Epoch 37/100\n",
            "220/220 [==============================] - 9s 40ms/step - loss: 0.7055 - sparse_categorical_accuracy: 0.7472 - val_loss: 0.7160 - val_sparse_categorical_accuracy: 0.7413\n",
            "Epoch 38/100\n",
            "220/220 [==============================] - 9s 41ms/step - loss: 0.7205 - sparse_categorical_accuracy: 0.7453 - val_loss: 0.7797 - val_sparse_categorical_accuracy: 0.7059\n",
            "Epoch 39/100\n",
            "220/220 [==============================] - 9s 40ms/step - loss: 0.7130 - sparse_categorical_accuracy: 0.7421 - val_loss: 1.0062 - val_sparse_categorical_accuracy: 0.6251\n",
            "Epoch 40/100\n",
            "220/220 [==============================] - 9s 41ms/step - loss: 0.7050 - sparse_categorical_accuracy: 0.7514 - val_loss: 0.8739 - val_sparse_categorical_accuracy: 0.6700\n",
            "Epoch 41/100\n",
            "220/220 [==============================] - 9s 41ms/step - loss: 0.7087 - sparse_categorical_accuracy: 0.7494 - val_loss: 0.7096 - val_sparse_categorical_accuracy: 0.7377\n",
            "Epoch 42/100\n",
            "220/220 [==============================] - 9s 41ms/step - loss: 0.7050 - sparse_categorical_accuracy: 0.7580 - val_loss: 0.6787 - val_sparse_categorical_accuracy: 0.7499\n",
            "Epoch 43/100\n",
            "220/220 [==============================] - 9s 40ms/step - loss: 0.7293 - sparse_categorical_accuracy: 0.7371 - val_loss: 0.7459 - val_sparse_categorical_accuracy: 0.7312\n",
            "Epoch 44/100\n",
            "220/220 [==============================] - 9s 41ms/step - loss: 0.7023 - sparse_categorical_accuracy: 0.7532 - val_loss: 0.8455 - val_sparse_categorical_accuracy: 0.6943\n",
            "Epoch 45/100\n",
            "220/220 [==============================] - 9s 41ms/step - loss: 0.6973 - sparse_categorical_accuracy: 0.7524 - val_loss: 0.8324 - val_sparse_categorical_accuracy: 0.6877\n",
            "Epoch 46/100\n",
            "220/220 [==============================] - 9s 40ms/step - loss: 0.6962 - sparse_categorical_accuracy: 0.7504 - val_loss: 0.7668 - val_sparse_categorical_accuracy: 0.7241\n",
            "Epoch 47/100\n",
            "220/220 [==============================] - 9s 40ms/step - loss: 0.6969 - sparse_categorical_accuracy: 0.7546 - val_loss: 0.6673 - val_sparse_categorical_accuracy: 0.7620\n",
            "Epoch 48/100\n",
            "220/220 [==============================] - 9s 41ms/step - loss: 0.7148 - sparse_categorical_accuracy: 0.7438 - val_loss: 0.6736 - val_sparse_categorical_accuracy: 0.7544\n",
            "Epoch 49/100\n",
            "220/220 [==============================] - 9s 41ms/step - loss: 0.7019 - sparse_categorical_accuracy: 0.7532 - val_loss: 0.8420 - val_sparse_categorical_accuracy: 0.6892\n",
            "Epoch 50/100\n",
            "220/220 [==============================] - 9s 41ms/step - loss: 0.6883 - sparse_categorical_accuracy: 0.7603 - val_loss: 0.7663 - val_sparse_categorical_accuracy: 0.7266\n",
            "Epoch 51/100\n",
            "220/220 [==============================] - 9s 41ms/step - loss: 0.6725 - sparse_categorical_accuracy: 0.7657 - val_loss: 0.6741 - val_sparse_categorical_accuracy: 0.7630\n",
            "Epoch 52/100\n",
            "220/220 [==============================] - 9s 41ms/step - loss: 0.6850 - sparse_categorical_accuracy: 0.7578 - val_loss: 0.7809 - val_sparse_categorical_accuracy: 0.7115\n",
            "Epoch 53/100\n",
            "220/220 [==============================] - 9s 40ms/step - loss: 0.6791 - sparse_categorical_accuracy: 0.7620 - val_loss: 0.7524 - val_sparse_categorical_accuracy: 0.7302\n",
            "Epoch 54/100\n",
            "220/220 [==============================] - 9s 41ms/step - loss: 0.6986 - sparse_categorical_accuracy: 0.7505 - val_loss: 0.7509 - val_sparse_categorical_accuracy: 0.7211\n",
            "Epoch 55/100\n",
            "220/220 [==============================] - 9s 41ms/step - loss: 0.6866 - sparse_categorical_accuracy: 0.7573 - val_loss: 0.8820 - val_sparse_categorical_accuracy: 0.6968\n",
            "Epoch 56/100\n",
            "220/220 [==============================] - 9s 41ms/step - loss: 0.6833 - sparse_categorical_accuracy: 0.7564 - val_loss: 0.7408 - val_sparse_categorical_accuracy: 0.7347\n",
            "Epoch 57/100\n",
            "220/220 [==============================] - 9s 40ms/step - loss: 0.6899 - sparse_categorical_accuracy: 0.7623 - val_loss: 0.6949 - val_sparse_categorical_accuracy: 0.7529\n",
            "Epoch 58/100\n",
            "220/220 [==============================] - 9s 41ms/step - loss: 0.6952 - sparse_categorical_accuracy: 0.7558 - val_loss: 0.9442 - val_sparse_categorical_accuracy: 0.6685\n",
            "Epoch 59/100\n",
            "220/220 [==============================] - 9s 41ms/step - loss: 0.6769 - sparse_categorical_accuracy: 0.7644 - val_loss: 0.6803 - val_sparse_categorical_accuracy: 0.7600\n",
            "Epoch 60/100\n",
            "220/220 [==============================] - 9s 41ms/step - loss: 0.6719 - sparse_categorical_accuracy: 0.7637 - val_loss: 0.7517 - val_sparse_categorical_accuracy: 0.7251\n",
            "Epoch 61/100\n",
            "220/220 [==============================] - 9s 41ms/step - loss: 0.6689 - sparse_categorical_accuracy: 0.7704 - val_loss: 0.7803 - val_sparse_categorical_accuracy: 0.7155\n",
            "Epoch 62/100\n",
            "220/220 [==============================] - 9s 41ms/step - loss: 0.6744 - sparse_categorical_accuracy: 0.7696 - val_loss: 0.6919 - val_sparse_categorical_accuracy: 0.7635\n",
            "Epoch 63/100\n",
            "220/220 [==============================] - 9s 41ms/step - loss: 0.6927 - sparse_categorical_accuracy: 0.7548 - val_loss: 0.7405 - val_sparse_categorical_accuracy: 0.7468\n",
            "Epoch 64/100\n",
            "220/220 [==============================] - 9s 41ms/step - loss: 0.6781 - sparse_categorical_accuracy: 0.7630 - val_loss: 0.6988 - val_sparse_categorical_accuracy: 0.7489\n",
            "Epoch 65/100\n",
            "220/220 [==============================] - 9s 41ms/step - loss: 0.6729 - sparse_categorical_accuracy: 0.7665 - val_loss: 0.7901 - val_sparse_categorical_accuracy: 0.7226\n",
            "Epoch 66/100\n",
            "220/220 [==============================] - 9s 41ms/step - loss: 0.6741 - sparse_categorical_accuracy: 0.7645 - val_loss: 0.8698 - val_sparse_categorical_accuracy: 0.6892\n",
            "Epoch 67/100\n",
            "220/220 [==============================] - 9s 41ms/step - loss: 0.6747 - sparse_categorical_accuracy: 0.7667 - val_loss: 0.8083 - val_sparse_categorical_accuracy: 0.7160\n",
            "Epoch 68/100\n",
            "220/220 [==============================] - 9s 42ms/step - loss: 0.6584 - sparse_categorical_accuracy: 0.7671 - val_loss: 0.8223 - val_sparse_categorical_accuracy: 0.7094\n",
            "Epoch 69/100\n",
            "220/220 [==============================] - 9s 41ms/step - loss: 0.6600 - sparse_categorical_accuracy: 0.7763 - val_loss: 0.7400 - val_sparse_categorical_accuracy: 0.7332\n",
            "Epoch 70/100\n",
            "220/220 [==============================] - 9s 41ms/step - loss: 0.6631 - sparse_categorical_accuracy: 0.7681 - val_loss: 0.6848 - val_sparse_categorical_accuracy: 0.7564\n",
            "Epoch 71/100\n",
            "220/220 [==============================] - 9s 41ms/step - loss: 0.6606 - sparse_categorical_accuracy: 0.7768 - val_loss: 0.6919 - val_sparse_categorical_accuracy: 0.7499\n",
            "Epoch 72/100\n",
            "220/220 [==============================] - 9s 41ms/step - loss: 0.6426 - sparse_categorical_accuracy: 0.7820 - val_loss: 0.7593 - val_sparse_categorical_accuracy: 0.7479\n",
            "Epoch 73/100\n",
            "220/220 [==============================] - 9s 41ms/step - loss: 0.6727 - sparse_categorical_accuracy: 0.7623 - val_loss: 0.9134 - val_sparse_categorical_accuracy: 0.6806\n",
            "Epoch 74/100\n",
            "220/220 [==============================] - 9s 41ms/step - loss: 0.6597 - sparse_categorical_accuracy: 0.7733 - val_loss: 0.7231 - val_sparse_categorical_accuracy: 0.7499\n",
            "Epoch 75/100\n",
            "220/220 [==============================] - 9s 41ms/step - loss: 0.6541 - sparse_categorical_accuracy: 0.7706 - val_loss: 0.6972 - val_sparse_categorical_accuracy: 0.7509\n",
            "Epoch 76/100\n",
            "220/220 [==============================] - 9s 41ms/step - loss: 0.6424 - sparse_categorical_accuracy: 0.7802 - val_loss: 0.7347 - val_sparse_categorical_accuracy: 0.7332\n",
            "Epoch 77/100\n",
            "220/220 [==============================] - 9s 41ms/step - loss: 0.6658 - sparse_categorical_accuracy: 0.7704 - val_loss: 0.7311 - val_sparse_categorical_accuracy: 0.7312\n",
            "Epoch 78/100\n",
            "220/220 [==============================] - 9s 41ms/step - loss: 0.6333 - sparse_categorical_accuracy: 0.7820 - val_loss: 0.7369 - val_sparse_categorical_accuracy: 0.7357\n",
            "Epoch 79/100\n",
            "220/220 [==============================] - 9s 41ms/step - loss: 0.6454 - sparse_categorical_accuracy: 0.7826 - val_loss: 0.9302 - val_sparse_categorical_accuracy: 0.6594\n",
            "Epoch 80/100\n",
            "220/220 [==============================] - 9s 41ms/step - loss: 0.6613 - sparse_categorical_accuracy: 0.7687 - val_loss: 0.6672 - val_sparse_categorical_accuracy: 0.7640\n",
            "Epoch 81/100\n",
            "220/220 [==============================] - 9s 42ms/step - loss: 0.6514 - sparse_categorical_accuracy: 0.7701 - val_loss: 0.7300 - val_sparse_categorical_accuracy: 0.7393\n",
            "Epoch 82/100\n",
            "220/220 [==============================] - 9s 42ms/step - loss: 0.6402 - sparse_categorical_accuracy: 0.7772 - val_loss: 0.8744 - val_sparse_categorical_accuracy: 0.6978\n",
            "Epoch 83/100\n",
            "220/220 [==============================] - 9s 41ms/step - loss: 0.6423 - sparse_categorical_accuracy: 0.7807 - val_loss: 0.7612 - val_sparse_categorical_accuracy: 0.7276\n",
            "Epoch 84/100\n",
            "220/220 [==============================] - 9s 41ms/step - loss: 0.6340 - sparse_categorical_accuracy: 0.7812 - val_loss: 0.8021 - val_sparse_categorical_accuracy: 0.7009\n",
            "Epoch 85/100\n",
            "220/220 [==============================] - 9s 42ms/step - loss: 0.6492 - sparse_categorical_accuracy: 0.7783 - val_loss: 0.6205 - val_sparse_categorical_accuracy: 0.7837\n",
            "Epoch 86/100\n",
            "220/220 [==============================] - 9s 42ms/step - loss: 0.6352 - sparse_categorical_accuracy: 0.7834 - val_loss: 0.8358 - val_sparse_categorical_accuracy: 0.6928\n",
            "Epoch 87/100\n",
            "220/220 [==============================] - 9s 41ms/step - loss: 0.6478 - sparse_categorical_accuracy: 0.7729 - val_loss: 0.7874 - val_sparse_categorical_accuracy: 0.7297\n",
            "Epoch 88/100\n",
            "220/220 [==============================] - 9s 41ms/step - loss: 0.6472 - sparse_categorical_accuracy: 0.7795 - val_loss: 0.8123 - val_sparse_categorical_accuracy: 0.7185\n",
            "Epoch 89/100\n",
            "220/220 [==============================] - 9s 41ms/step - loss: 0.6362 - sparse_categorical_accuracy: 0.7849 - val_loss: 0.7169 - val_sparse_categorical_accuracy: 0.7418\n",
            "Epoch 90/100\n",
            "220/220 [==============================] - 9s 41ms/step - loss: 0.6317 - sparse_categorical_accuracy: 0.7842 - val_loss: 0.6620 - val_sparse_categorical_accuracy: 0.7721\n",
            "Epoch 91/100\n",
            "220/220 [==============================] - 9s 41ms/step - loss: 0.6394 - sparse_categorical_accuracy: 0.7812 - val_loss: 0.7249 - val_sparse_categorical_accuracy: 0.7433\n",
            "Epoch 92/100\n",
            "220/220 [==============================] - 9s 41ms/step - loss: 0.6278 - sparse_categorical_accuracy: 0.7890 - val_loss: 0.7511 - val_sparse_categorical_accuracy: 0.7271\n",
            "Epoch 93/100\n",
            "220/220 [==============================] - 9s 41ms/step - loss: 0.6199 - sparse_categorical_accuracy: 0.7930 - val_loss: 0.7416 - val_sparse_categorical_accuracy: 0.7367\n",
            "Epoch 94/100\n",
            "220/220 [==============================] - 9s 41ms/step - loss: 0.6427 - sparse_categorical_accuracy: 0.7831 - val_loss: 0.7694 - val_sparse_categorical_accuracy: 0.7231\n",
            "Epoch 95/100\n",
            "220/220 [==============================] - 9s 41ms/step - loss: 0.6225 - sparse_categorical_accuracy: 0.7916 - val_loss: 0.7198 - val_sparse_categorical_accuracy: 0.7519\n",
            "Epoch 96/100\n",
            "220/220 [==============================] - 9s 41ms/step - loss: 0.6362 - sparse_categorical_accuracy: 0.7869 - val_loss: 0.7901 - val_sparse_categorical_accuracy: 0.7362\n",
            "Epoch 97/100\n",
            "220/220 [==============================] - 9s 41ms/step - loss: 0.6197 - sparse_categorical_accuracy: 0.7906 - val_loss: 0.7035 - val_sparse_categorical_accuracy: 0.7539\n",
            "Epoch 98/100\n",
            "220/220 [==============================] - 9s 41ms/step - loss: 0.6337 - sparse_categorical_accuracy: 0.7824 - val_loss: 0.8025 - val_sparse_categorical_accuracy: 0.7110\n",
            "Epoch 99/100\n",
            "220/220 [==============================] - 9s 41ms/step - loss: 0.6296 - sparse_categorical_accuracy: 0.7911 - val_loss: 0.7211 - val_sparse_categorical_accuracy: 0.7479\n",
            "Epoch 100/100\n",
            "220/220 [==============================] - 9s 41ms/step - loss: 0.6291 - sparse_categorical_accuracy: 0.7883 - val_loss: 0.7381 - val_sparse_categorical_accuracy: 0.7433\n"
          ],
          "name": "stdout"
        },
        {
          "output_type": "display_data",
          "data": {
            "image/png": "[encoded data removed]",
            "text/plain": [
              "<Figure size 720x360 with 2 Axes>"
            ]
          },
          "metadata": {
            "tags": [],
            "needs_background": "light"
          }
        }
      ]
    },
    {
      "cell_type": "code",
      "metadata": {
        "colab": {
          "base_uri": "https://localhost:8080/"
        },
        "id": "SzxwmN100DPt",
        "outputId": "18f49134-3eb2-458f-adfe-66455359ebae"
      },
      "source": [
        "model_VGG_3.evaluate(validation_generator)"
      ],
      "execution_count": 36,
      "outputs": [
        {
          "output_type": "stream",
          "text": [
            "74/74 [==============================] - 1s 11ms/step - loss: 0.7381 - sparse_categorical_accuracy: 0.7433\n"
          ],
          "name": "stdout"
        },
        {
          "output_type": "execute_result",
          "data": {
            "text/plain": [
              "[0.7381166815757751, 0.7433046698570251]"
            ]
          },
          "metadata": {
            "tags": []
          },
          "execution_count": 36
        }
      ]
    }
  ]
}